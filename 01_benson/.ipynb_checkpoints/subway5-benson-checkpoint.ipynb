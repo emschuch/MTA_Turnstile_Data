{
 "cells": [
  {
   "cell_type": "markdown",
   "metadata": {},
   "source": [
    "# MTA Data - Metis 01 Project Benson"
   ]
  },
  {
   "cell_type": "code",
   "execution_count": 1,
   "metadata": {
    "collapsed": true
   },
   "outputs": [],
   "source": [
    "%matplotlib inline\n",
    "from __future__ import division\n",
    "import csv\n",
    "import calendar\n",
    "import datetime\n",
    "import matplotlib.pyplot as plt\n",
    "from collections import Counter"
   ]
  },
  {
   "cell_type": "markdown",
   "metadata": {},
   "source": [
    "## Objective\n",
    "I was curious about where people are going at off-peak times. The goal for this project is to find the areas of New York with the most active nightlife. As a baseline, we will compare weekends to weeknights.\n",
    "\n",
    "First, read in the data. Then create a dictionary in which the keys are station identifiers and the values are everything else."
   ]
  },
  {
   "cell_type": "code",
   "execution_count": 1,
   "metadata": {
    "collapsed": false
   },
   "outputs": [],
   "source": [
    "#!curl -O http://web.mta.info/developers/data/nyct/turnstile/turnstile_150404.txt"
   ]
  },
  {
   "cell_type": "code",
   "execution_count": 2,
   "metadata": {
    "collapsed": false
   },
   "outputs": [],
   "source": [
    "def read_file(filename):\n",
    "    with open(filename) as f:\n",
    "        reader = csv.reader(f)\n",
    "        rows = [[cell.strip() for cell in row] for row in reader]\n",
    "        return rows\n",
    "    \n",
    "rows1 = read_file('turnstile_150627.txt')\n",
    "rows2 = read_file('turnstile_150620.txt')\n",
    "rows3 = read_file('turnstile_150613.txt')\n",
    "rows4 = read_file('turnstile_150606.txt')\n",
    "# rows5 = read_file('turnstile_150530.txt')\n",
    "# rows6 = read_file('turnstile_150523.txt')\n",
    "# rows7 = read_file('turnstile_150516.txt')\n",
    "# rows8 = read_file('turnstile_150509.txt')\n",
    "# rows9 = read_file('turnstile_150502.txt')\n",
    "# rows10 = read_file('turnstile_150425.txt')\n",
    "# rows11 = read_file('turnstile_150418.txt')\n",
    "# rows12 = read_file('turnstile_150411.txt')\n",
    "# rows13 = read_file('turnstile_150404.txt')\n"
   ]
  },
  {
   "cell_type": "code",
   "execution_count": 3,
   "metadata": {
    "collapsed": true
   },
   "outputs": [],
   "source": [
    "#### IMPORTANT! don't forget to pop(0) for new files\n",
    "\n",
    "assert rows1.pop(0) and rows2.pop(0) and rows3.pop(0) and rows4.pop(0) == [\n",
    "    'C/A', 'UNIT', 'SCP', 'STATION', 'LINENAME',\n",
    "    'DIVISION', 'DATE', 'TIME', 'DESC', 'ENTRIES',\n",
    "    'EXITS']"
   ]
  },
  {
   "cell_type": "code",
   "execution_count": 4,
   "metadata": {
    "collapsed": true
   },
   "outputs": [],
   "source": [
    "def concatenate_rows(*row_files):\n",
    "    all_rows = sum(row_files, [])\n",
    "    return all_rows\n",
    "    \n",
    "rows = concatenate_rows(rows4, rows3, rows2, rows1)"
   ]
  },
  {
   "cell_type": "code",
   "execution_count": 5,
   "metadata": {
    "collapsed": false,
    "scrolled": true
   },
   "outputs": [
    {
     "data": {
      "text/plain": [
       "768580"
      ]
     },
     "execution_count": 5,
     "metadata": {},
     "output_type": "execute_result"
    }
   ],
   "source": [
    "len(rows)"
   ]
  },
  {
   "cell_type": "code",
   "execution_count": 6,
   "metadata": {
    "collapsed": false
   },
   "outputs": [
    {
     "data": {
      "text/plain": [
       "193257"
      ]
     },
     "execution_count": 6,
     "metadata": {},
     "output_type": "execute_result"
    }
   ],
   "source": [
    "len(rows2)"
   ]
  },
  {
   "cell_type": "code",
   "execution_count": 7,
   "metadata": {
    "collapsed": false
   },
   "outputs": [],
   "source": [
    "def read_rows(raw_rows):\n",
    "    dct = {}\n",
    "    for row in raw_rows:\n",
    "        dct.setdefault(tuple(row[:4]), []).append(tuple(row[4:]))\n",
    "    return dct    \n",
    "\n",
    "raw_readings = read_rows(rows)"
   ]
  },
  {
   "cell_type": "code",
   "execution_count": 8,
   "metadata": {
    "collapsed": false
   },
   "outputs": [],
   "source": [
    "# raw_readings.items()[0]"
   ]
  },
  {
   "cell_type": "markdown",
   "metadata": {},
   "source": [
    "## Time Series\n",
    "Extract time information and count numbers from dictionary values for turnstile exits.\n",
    "\n",
    "Filter out values that are negative or seem unreasonably large."
   ]
  },
  {
   "cell_type": "code",
   "execution_count": 9,
   "metadata": {
    "collapsed": false
   },
   "outputs": [],
   "source": [
    "def accum_by_datetime(dct):\n",
    "    d = {turnstile: [(datetime.datetime.strptime(date + time,\n",
    "                                        '%m/%d/%Y%X'),\n",
    "                                        int(out_cumulative))\n",
    "                                       for _, _, date, time,\n",
    "                                           _, _, out_cumulative in rows]\n",
    "                           for turnstile, rows in dct.items()}\n",
    "    return d\n",
    "\n",
    "datetime_cumulative = accum_by_datetime(raw_readings)"
   ]
  },
  {
   "cell_type": "code",
   "execution_count": 10,
   "metadata": {
    "collapsed": false
   },
   "outputs": [],
   "source": [
    "#datetime_cumulative.items()[0]"
   ]
  },
  {
   "cell_type": "code",
   "execution_count": 11,
   "metadata": {
    "collapsed": true
   },
   "outputs": [],
   "source": [
    "def count_by_datetime(dct):\n",
    "    d = {turnstile: [[rows[i][0],\n",
    "                     rows[i+1][1] - rows[i][1],\n",
    "                     rows[i+1][0] - rows[i][0]]\n",
    "                    for i in range(len(rows) - 1)]\n",
    "        for turnstile, rows in dct.items()}\n",
    "    return d\n",
    "\n",
    "datetime_count_times = count_by_datetime(datetime_cumulative)"
   ]
  },
  {
   "cell_type": "code",
   "execution_count": 12,
   "metadata": {
    "collapsed": false
   },
   "outputs": [],
   "source": [
    "#datetime_count_times.items()[0]"
   ]
  },
  {
   "cell_type": "code",
   "execution_count": 13,
   "metadata": {
    "collapsed": false
   },
   "outputs": [
    {
     "name": "stdout",
     "output_type": "stream",
     "text": [
      "[3825, 3840, 3841, 3893, 3910, 3912, 3942, 3964, 3994, 4006, 4027, 4031, 4036, 4056, 4111, 4150, 4150, 4154, 4166, 4169, 4182, 4207, 4239, 4263, 4299, 4319, 4336, 4438, 4515, 4519, 4634, 4840, 9431, 9949, 39544, 46022, 83050, 95375, 95456, 472911, 806802, 1532357, 3536743, 3544724, 3549211, 14090235, 16776289, 33470491, 725286840, 818491749]\n"
     ]
    }
   ],
   "source": [
    "all_counts = [count for rows in datetime_count_times.values() for _, count, _ in rows]\n",
    "all_counts.sort()\n",
    "print all_counts[-50:]"
   ]
  },
  {
   "cell_type": "code",
   "execution_count": 14,
   "metadata": {
    "collapsed": false
   },
   "outputs": [
    {
     "name": "stdout",
     "output_type": "stream",
     "text": [
      "[-1376238516, -985959134, -14090237, -7645885, -7231960, -5465194, -5008747, -4331551, -4202565, -4018906, -3549171, -3544654, -3536673, -2131420, -1617237, -1540092, -1532280, -1334500, -1103455, -1102179, -1089287, -810880, -806775, -634318, -606800, -472898, -463855, -431451, -388964, -386223, -344975, -292581, -150410, -143022, -128511, -120829, -120242, -95375, -95343, -89593, -59656, -46018, -39895, -39541, -37635, -32891, -31925, -23139, -13125, -9406]\n"
     ]
    }
   ],
   "source": [
    "print all_counts[:50]"
   ]
  },
  {
   "cell_type": "code",
   "execution_count": 15,
   "metadata": {
    "collapsed": false
   },
   "outputs": [
    {
     "name": "stdout",
     "output_type": "stream",
     "text": [
      "[(4.0, 704540), (4.2, 42775), (8.0, 859), (4.433333333333334, 708), (0.02222222222222222, 193), (0.022500000000000003, 111), (0.02277777777777778, 106), (0.018333333333333333, 83), (0.017777777777777778, 57), (0.03611111111111111, 50)]\n"
     ]
    }
   ],
   "source": [
    "all_times = [duration.total_seconds() / 60 / 60\n",
    "             for rows in datetime_count_times.values()\n",
    "             for _, _, duration in rows]\n",
    "print Counter(all_times).most_common(10)"
   ]
  },
  {
   "cell_type": "code",
   "execution_count": 16,
   "metadata": {
    "collapsed": true
   },
   "outputs": [],
   "source": [
    "def filter_outliers(dct):\n",
    "    d = {turnstile: [(time, count)\n",
    "                   for (time, count, _) in rows\n",
    "                   if 0 <= count <= 5000]\n",
    "       for turnstile, rows in dct.items()}\n",
    "    return d\n",
    "    \n",
    "datetime_counts = filter_outliers(datetime_count_times)"
   ]
  },
  {
   "cell_type": "code",
   "execution_count": 17,
   "metadata": {
    "collapsed": false,
    "scrolled": true
   },
   "outputs": [],
   "source": [
    "# datetime_counts.items()[0]"
   ]
  },
  {
   "cell_type": "code",
   "execution_count": 18,
   "metadata": {
    "collapsed": false
   },
   "outputs": [
    {
     "name": "stdout",
     "output_type": "stream",
     "text": [
      "0.995396687238\n"
     ]
    }
   ],
   "source": [
    "all_good_counts = [count for rows in datetime_counts.values() for _, count in rows]\n",
    "print len(all_good_counts) / len(all_counts)"
   ]
  },
  {
   "cell_type": "code",
   "execution_count": 19,
   "metadata": {
    "collapsed": false
   },
   "outputs": [
    {
     "name": "stdout",
     "output_type": "stream",
     "text": [
      "[4438, 4515, 4519, 4634, 4840]\n"
     ]
    }
   ],
   "source": [
    "all_good_counts.sort()\n",
    "print all_good_counts[-5:]"
   ]
  },
  {
   "cell_type": "code",
   "execution_count": 20,
   "metadata": {
    "collapsed": false
   },
   "outputs": [
    {
     "name": "stdout",
     "output_type": "stream",
     "text": [
      "[0, 0, 0, 0, 0]\n"
     ]
    }
   ],
   "source": [
    "print all_good_counts[:5]"
   ]
  },
  {
   "cell_type": "markdown",
   "metadata": {},
   "source": [
    "## Separate by Weeknights and Weekends\n",
    "Instead of daily entries, we want nighttime/latenight counts (8pm-4am) for weeknight (Mon-Wed) and weekend (Fri-Sat). \n",
    "\n",
    "We questioned whether Thursday should be considered weeknight or weekend. Many New Yorkers go out on Thursday nights and treat it like a weekend, but we would still be capturing commuters, as well, so this number feels like it could go either way. We decided to exclude it for this comparison.\n",
    "\n",
    "We excluded Sunday because we felt it would throw off the baseline."
   ]
  },
  {
   "cell_type": "code",
   "execution_count": 21,
   "metadata": {
    "collapsed": true
   },
   "outputs": [],
   "source": [
    "# datetime_counts.items()[0]"
   ]
  },
  {
   "cell_type": "code",
   "execution_count": 22,
   "metadata": {
    "collapsed": false
   },
   "outputs": [
    {
     "data": {
      "text/plain": [
       "datetime.datetime(2015, 4, 30, 3, 0)"
      ]
     },
     "execution_count": 22,
     "metadata": {},
     "output_type": "execute_result"
    }
   ],
   "source": [
    "# experimenting with datetime objects\n",
    "\n",
    "time = datetime.datetime(2015, 5, 1, 3, 0)\n",
    "time.year, time.month, time.day, time.hour, time.minute\n",
    "\n",
    "if 0 <= time.hour <=4:\n",
    "    time = time - datetime.timedelta(days=1)\n",
    "    \n",
    "time"
   ]
  },
  {
   "cell_type": "code",
   "execution_count": 23,
   "metadata": {
    "collapsed": true
   },
   "outputs": [],
   "source": [
    "def filter_for_night(dct):\n",
    "    d = {turnstile: [(time, count)\n",
    "                     for (time, count) in rows\n",
    "                     if time.hour <= 4 or time.hour >= 20]\n",
    "         for turnstile, rows in dct.items()}\n",
    "    return d\n",
    "\n",
    "nighttime_counts = filter_for_night(datetime_counts)"
   ]
  },
  {
   "cell_type": "code",
   "execution_count": 24,
   "metadata": {
    "collapsed": true
   },
   "outputs": [],
   "source": [
    "# nighttime_counts.items()[0]"
   ]
  },
  {
   "cell_type": "code",
   "execution_count": 25,
   "metadata": {
    "collapsed": true
   },
   "outputs": [],
   "source": [
    "def filter_weeknight(dct):\n",
    "    d = {turnstile: [(time, count)\n",
    "                     for (time, count) in rows\n",
    "                     if (time.weekday() == 0 and time.hour >= 20)\n",
    "                     or 0 < time.weekday() < 3\n",
    "                     or (time.weekday() == 3 and time.hour <=4)]\n",
    "         for turnstile, rows in dct.items()}\n",
    "    return d\n",
    "\n",
    "weeknight_counts = filter_weeknight(nighttime_counts)"
   ]
  },
  {
   "cell_type": "code",
   "execution_count": 26,
   "metadata": {
    "collapsed": true
   },
   "outputs": [],
   "source": [
    "# weeknight_counts.items()[0]"
   ]
  },
  {
   "cell_type": "code",
   "execution_count": 27,
   "metadata": {
    "collapsed": true
   },
   "outputs": [],
   "source": [
    "def filter_weekend(dct):\n",
    "    d = {turnstile: [(time, count)\n",
    "                     for (time, count) in rows\n",
    "                     if (time.weekday() == 4 and time.hour >= 20)\n",
    "                     or time.weekday() == 5\n",
    "                     or (time.weekday() == 6 and time.hour <=4)]\n",
    "         for turnstile, rows in dct.items()}\n",
    "    return d\n",
    "\n",
    "weekend_counts = filter_weekend(nighttime_counts)"
   ]
  },
  {
   "cell_type": "code",
   "execution_count": 28,
   "metadata": {
    "collapsed": true
   },
   "outputs": [],
   "source": [
    "# weekend_counts.items()[0]"
   ]
  },
  {
   "cell_type": "code",
   "execution_count": 29,
   "metadata": {
    "collapsed": false
   },
   "outputs": [],
   "source": [
    "def reassign_latenight_days(dct):\n",
    "    d = {}\n",
    "    for turnstile, rows in dct.items():\n",
    "        d.setdefault(turnstile, [])\n",
    "        for time, count in rows:\n",
    "            if time.hour <= 4:\n",
    "                d[turnstile].append((time - datetime.timedelta(days = 1), count))\n",
    "            else:\n",
    "                d[turnstile].append((time, count))\n",
    "    return d\n",
    "\n",
    "new_weekend_counts = reassign_latenight_days(weekend_counts)\n",
    "new_weeknight_counts = reassign_latenight_days(weeknight_counts)"
   ]
  },
  {
   "cell_type": "code",
   "execution_count": 30,
   "metadata": {
    "collapsed": false
   },
   "outputs": [],
   "source": [
    "# new_weeknight_counts.items()[0]"
   ]
  },
  {
   "cell_type": "code",
   "execution_count": 31,
   "metadata": {
    "collapsed": false
   },
   "outputs": [],
   "source": [
    "# new_weekend_counts.items()[0]"
   ]
  },
  {
   "cell_type": "markdown",
   "metadata": {},
   "source": [
    "##Daily Exits\n",
    "Accumulate exit counts for each day."
   ]
  },
  {
   "cell_type": "code",
   "execution_count": 32,
   "metadata": {
    "collapsed": true
   },
   "outputs": [],
   "source": [
    "def count_by_day(dct):\n",
    "    d = {}\n",
    "    for turnstile, rows in dct.items():\n",
    "        by_day = {}\n",
    "        for time, count in rows:\n",
    "            day = time.date()\n",
    "            by_day[day] = by_day.get(day, 0) + count\n",
    "        d[turnstile] = sorted(by_day.items())\n",
    "    return d\n",
    "        \n",
    "daily_weekend_counts = count_by_day(new_weekend_counts)\n",
    "daily_weeknight_counts = count_by_day(new_weeknight_counts)"
   ]
  },
  {
   "cell_type": "code",
   "execution_count": 33,
   "metadata": {
    "collapsed": false
   },
   "outputs": [
    {
     "data": {
      "text/plain": [
       "(('R162', 'R166', '00-06-00', '79 ST'),\n",
       " [(datetime.date(2015, 5, 29), 10),\n",
       "  (datetime.date(2015, 5, 30), 69),\n",
       "  (datetime.date(2015, 6, 5), 122),\n",
       "  (datetime.date(2015, 6, 6), 112),\n",
       "  (datetime.date(2015, 6, 12), 58),\n",
       "  (datetime.date(2015, 6, 13), 86),\n",
       "  (datetime.date(2015, 6, 19), 84),\n",
       "  (datetime.date(2015, 6, 20), 78)])"
      ]
     },
     "execution_count": 33,
     "metadata": {},
     "output_type": "execute_result"
    }
   ],
   "source": [
    "daily_weekend_counts.items()[200]"
   ]
  },
  {
   "cell_type": "code",
   "execution_count": 34,
   "metadata": {
    "collapsed": false
   },
   "outputs": [
    {
     "data": {
      "text/plain": [
       "(('R162', 'R166', '00-06-00', '79 ST'),\n",
       " [(datetime.date(2015, 6, 1), 85),\n",
       "  (datetime.date(2015, 6, 2), 74),\n",
       "  (datetime.date(2015, 6, 3), 73),\n",
       "  (datetime.date(2015, 6, 8), 89),\n",
       "  (datetime.date(2015, 6, 9), 64),\n",
       "  (datetime.date(2015, 6, 10), 69),\n",
       "  (datetime.date(2015, 6, 15), 57),\n",
       "  (datetime.date(2015, 6, 16), 78),\n",
       "  (datetime.date(2015, 6, 17), 67),\n",
       "  (datetime.date(2015, 6, 22), 77),\n",
       "  (datetime.date(2015, 6, 23), 46),\n",
       "  (datetime.date(2015, 6, 24), 24)])"
      ]
     },
     "execution_count": 34,
     "metadata": {},
     "output_type": "execute_result"
    }
   ],
   "source": [
    "daily_weeknight_counts.items()[200]"
   ]
  },
  {
   "cell_type": "markdown",
   "metadata": {},
   "source": [
    "## Accumulate Counts by Station Area\n",
    "\n",
    "So far we've been operating on a single turnstile level. Next we'll combine turnstiles in the same ControlArea/Unit/Station combo. There are some ControlArea/Unit/Station groups that have a single turnstile, but most have multiple turnstiles-- same value for the C/A, UNIT and STATION columns, different values for the SCP column.\n",
    "\n",
    "We will combine the numbers together for each ControlArea/UNIT/STATION combo, for each day, to get a count by station area."
   ]
  },
  {
   "cell_type": "code",
   "execution_count": 35,
   "metadata": {
    "collapsed": false
   },
   "outputs": [],
   "source": [
    "def count_by_stationarea(dct):\n",
    "    d = {}\n",
    "    for turnstile, rows in dct.items():\n",
    "        station = (turnstile[:2]) + (turnstile[3],) \n",
    "        for day, count in rows:\n",
    "            d[(station, day)] = d.get((station, day), 0) + count\n",
    "    return d\n",
    "            \n",
    "weekend_by_stationarea = count_by_stationarea(daily_weekend_counts)\n",
    "weeknight_by_stationarea = count_by_stationarea(daily_weeknight_counts)"
   ]
  },
  {
   "cell_type": "code",
   "execution_count": 36,
   "metadata": {
    "collapsed": false
   },
   "outputs": [],
   "source": [
    "def count_by_stationarea_again(dct):\n",
    "    d = {}\n",
    "    for station_day, count in dct.items():\n",
    "        station, day = station_day\n",
    "        d.setdefault(station, []).append((day, count))\n",
    "    for counts in d.values():\n",
    "        counts.sort()\n",
    "    return d\n",
    "    \n",
    "weekend_stationarea_counts = count_by_stationarea_again(weekend_by_stationarea)\n",
    "weeknight_stationarea_counts = count_by_stationarea_again(weeknight_by_stationarea)"
   ]
  },
  {
   "cell_type": "code",
   "execution_count": 37,
   "metadata": {
    "collapsed": false
   },
   "outputs": [],
   "source": [
    "# for key, val in weeknight_stationarea_counts.items():\n",
    "#     if key[2] == 'BOWLING GREEN':\n",
    "#         print val"
   ]
  },
  {
   "cell_type": "markdown",
   "metadata": {},
   "source": [
    "The station counts for PENN STA seemed off, since it is 0 for Sat, Sun, but this is the station area, not total by station. One explanation is that this particular entrance was closed on the weekend, as some entrances and exits are only open on weekdays.\n",
    "\n",
    "There are entries for PENN STA after aggregating in the next step."
   ]
  },
  {
   "cell_type": "code",
   "execution_count": 38,
   "metadata": {
    "collapsed": false
   },
   "outputs": [],
   "source": [
    "# weeknight_stationarea_counts.items()[:50]"
   ]
  },
  {
   "cell_type": "markdown",
   "metadata": {
    "collapsed": true
   },
   "source": [
    "## Counts by Station\n",
    "\n",
    "Combine everything in each station, and come up with a time series for each STATION, by adding up all the turnstiles in a station."
   ]
  },
  {
   "cell_type": "code",
   "execution_count": 39,
   "metadata": {
    "collapsed": false
   },
   "outputs": [
    {
     "data": {
      "text/plain": [
       "(726, 725)"
      ]
     },
     "execution_count": 39,
     "metadata": {},
     "output_type": "execute_result"
    }
   ],
   "source": [
    "len(weekend_stationarea_counts.items()), len(weeknight_stationarea_counts.items())"
   ]
  },
  {
   "cell_type": "code",
   "execution_count": 109,
   "metadata": {
    "collapsed": true
   },
   "outputs": [],
   "source": [
    "def count_by_station(dct):\n",
    "    d = {}\n",
    "    for station_area, rows in dct.items():\n",
    "        station = (station_area[-1],)\n",
    "        for day, count in rows:\n",
    "            d[(station, day)] = d.get((station, day), 0) + count\n",
    "    return d\n",
    "            \n",
    "weekend_by_station = count_by_station(weekend_stationarea_counts)\n",
    "weeknight_by_station = count_by_station(weeknight_stationarea_counts)"
   ]
  },
  {
   "cell_type": "code",
   "execution_count": 110,
   "metadata": {
    "collapsed": true
   },
   "outputs": [],
   "source": [
    "def count_by_station_again(dct):\n",
    "    d = {}\n",
    "    for station_day, count in dct.items():\n",
    "        station, day = station_day\n",
    "        d.setdefault(station, []).append((day, count))\n",
    "    for counts in d.values():\n",
    "        counts.sort()\n",
    "    return d\n",
    "        \n",
    "weekend_station_counts = count_by_station_again(weekend_by_station)\n",
    "weeknight_station_counts = count_by_station_again(weeknight_by_station)"
   ]
  },
  {
   "cell_type": "code",
   "execution_count": 111,
   "metadata": {
    "collapsed": false,
    "scrolled": true
   },
   "outputs": [
    {
     "data": {
      "text/plain": [
       "[(datetime.date(2015, 5, 29), 1521),\n",
       " (datetime.date(2015, 5, 30), 2601),\n",
       " (datetime.date(2015, 6, 5), 3427),\n",
       " (datetime.date(2015, 6, 6), 2861),\n",
       " (datetime.date(2015, 6, 12), 3397),\n",
       " (datetime.date(2015, 6, 13), 2658),\n",
       " (datetime.date(2015, 6, 19), 3699),\n",
       " (datetime.date(2015, 6, 20), 2548)]"
      ]
     },
     "execution_count": 111,
     "metadata": {},
     "output_type": "execute_result"
    }
   ],
   "source": [
    "weekend_station_counts[('BOWLING GREEN',)]"
   ]
  },
  {
   "cell_type": "markdown",
   "metadata": {},
   "source": [
    "## Means by Day of the Week\n",
    "\n",
    "Accumulate the counts by each day of the week and find their mean."
   ]
  },
  {
   "cell_type": "code",
   "execution_count": 42,
   "metadata": {
    "collapsed": true
   },
   "outputs": [],
   "source": [
    "### pop off leading and trailing values that don't match up first\n",
    "\n"
   ]
  },
  {
   "cell_type": "code",
   "execution_count": 178,
   "metadata": {
    "collapsed": true
   },
   "outputs": [],
   "source": [
    "def dayofweek_station_counts(dct):\n",
    "    d = {}\n",
    "    t = []\n",
    "    for station, rows in dct.items():\n",
    "        for day, count in rows:\n",
    "            t.append((station + (day.weekday(), )))\n",
    "            d[(station + (day.weekday(), ))] = d.get((station, day.weekday()), 0) + count\n",
    "    counter = Counter(t)\n",
    "    f = {}\n",
    "    for station_day, count in d.items():\n",
    "        f[station_day] = count / counter.get(station_day, None)\n",
    "    return d, f\n",
    "\n",
    "weekend_dayofweek_counts, weekend_dayofweek_means = dayofweek_station_counts(weekend_station_counts)\n",
    "weeknight_dayofweek_counts, weeknight_dayofweek_means = dayofweek_station_counts(weeknight_station_counts)"
   ]
  },
  {
   "cell_type": "code",
   "execution_count": 175,
   "metadata": {
    "collapsed": false
   },
   "outputs": [
    {
     "data": {
      "text/plain": [
       "[(('79 ST', 5), 338.25),\n",
       " (('HOYT ST', 4), 206.75),\n",
       " (('AQUEDUCT-N CNDT', 4), 97.25),\n",
       " (('155 ST', 5), 239.0),\n",
       " (('7 AV-PARK SLOPE', 4), 86.25),\n",
       " (('AVE U', 5), 154.25),\n",
       " (('HOYT/SCHERMER', 5), 285.25),\n",
       " (('GRAND-30 AVE', 4), 1105.75),\n",
       " (('MOSHOLU PARKWAY', 5), 93.5),\n",
       " (('15 ST-PROSPECT', 4), 198.5),\n",
       " (('KOSCIUSZKO ST', 5), 155.25),\n",
       " (('FAR ROCKAWAY', 5), 320.0),\n",
       " (('AVE P', 4), 99.0),\n",
       " (('66 ST-LINCOLN', 5), 352.25),\n",
       " (('KINGS HIGHWAY', 4), 1167.25),\n",
       " (('NEW LOTS AVE', 5), 501.0),\n",
       " (('SPRING ST', 5), 480.0),\n",
       " (('RALPH AVE', 5), 139.5),\n",
       " (('7 AVE', 5), 267.75),\n",
       " (('METROPOLITAN AV', 5), 541.5)]"
      ]
     },
     "execution_count": 175,
     "metadata": {},
     "output_type": "execute_result"
    }
   ],
   "source": [
    "weekend_dayofweek_means.items()[:20]"
   ]
  },
  {
   "cell_type": "markdown",
   "metadata": {},
   "source": [
    "## Means for Weekend and Weeknight"
   ]
  },
  {
   "cell_type": "code",
   "execution_count": 207,
   "metadata": {
    "collapsed": false
   },
   "outputs": [],
   "source": [
    "def weekpart_station_counts(dct, n):\n",
    "    d = {}    \n",
    "    for station_day, count in dct.items():\n",
    "        station = station_day[0]\n",
    "        d[station] = d.get(station, 0) + count\n",
    "    f = {}\n",
    "    for station, count in d.items():\n",
    "        f[station] = d.get(station) / n\n",
    "    return d, f\n",
    "\n",
    "weekend_totals, weekend_means = weekpart_station_counts(weekend_dayofweek_means, 2)\n",
    "weeknight_totals, weeknight_means = weekpart_station_counts(weeknight_dayofweek_means, 3)"
   ]
  },
  {
   "cell_type": "code",
   "execution_count": 208,
   "metadata": {
    "collapsed": true
   },
   "outputs": [],
   "source": [
    "def sort_by_value(dct):\n",
    "    dlist = sorted(dct.items(), key=lambda tup: tup[-1], reverse=True)\n",
    "    return dlist"
   ]
  },
  {
   "cell_type": "code",
   "execution_count": 210,
   "metadata": {
    "collapsed": false,
    "scrolled": true
   },
   "outputs": [
    {
     "data": {
      "text/plain": [
       "([('34 ST-PENN STA', 9532.0),\n",
       "  ('34 ST-HERALD SQ', 8171.75),\n",
       "  ('42 ST-TIMES SQ', 7918.75),\n",
       "  ('86 ST', 6915.5),\n",
       "  ('125 ST', 6534.0),\n",
       "  ('42 ST-PA BUS TE', 6145.0),\n",
       "  ('42 ST-GRD CNTRL', 6105.75),\n",
       "  ('MAIN ST', 5979.75),\n",
       "  ('ROOSEVELT AVE', 5593.0),\n",
       "  ('14 ST-UNION SQ', 5182.0)],\n",
       " [('34 ST-PENN STA', 4766.0),\n",
       "  ('34 ST-HERALD SQ', 4085.875),\n",
       "  ('42 ST-TIMES SQ', 3959.375),\n",
       "  ('86 ST', 3457.75),\n",
       "  ('125 ST', 3267.0),\n",
       "  ('42 ST-PA BUS TE', 3072.5),\n",
       "  ('42 ST-GRD CNTRL', 3052.875),\n",
       "  ('MAIN ST', 2989.875),\n",
       "  ('ROOSEVELT AVE', 2796.5),\n",
       "  ('14 ST-UNION SQ', 2591.0)],\n",
       " [('BOYD-88 ST', 40.625),\n",
       "  ('NEWKIRK PLAZA', 621.75),\n",
       "  ('PATH WTC', 522.375),\n",
       "  ('TREMONT AVE', 295.875),\n",
       "  ('22 AVE-BAY PKY', 19.0),\n",
       "  ('57 ST-7 AVE', 296.25),\n",
       "  ('52 ST-LINCOLN', 310.0),\n",
       "  ('NASSAU AV', 285.5),\n",
       "  ('NOSTRAND AVE', 1215.0),\n",
       "  ('BROAD ST', 22.625)])"
      ]
     },
     "execution_count": 210,
     "metadata": {},
     "output_type": "execute_result"
    }
   ],
   "source": [
    "sort_by_value(weekend_totals)[:10], sort_by_value(weekend_means)[:10], weekend_means.items()[:10]"
   ]
  },
  {
   "cell_type": "markdown",
   "metadata": {},
   "source": [
    "## Make Comparison\n",
    "In order to make a comparison between stations, we looked at the proportion of weekend to weeknight traffic. To control for low traffic stations, I looked at stations with at least a mean of 500 exits on weekends."
   ]
  },
  {
   "cell_type": "code",
   "execution_count": 233,
   "metadata": {
    "collapsed": false
   },
   "outputs": [],
   "source": [
    "def make_comparison(dct1, dct2):\n",
    "    d = {}\n",
    "    for station2, means2 in dct2.items():\n",
    "        if means2 > 0:\n",
    "            means1 = dct1.get(station2)\n",
    "            if means1 > 500:\n",
    "                d[station2] = means1 / (means1 + means2)\n",
    "    return d\n",
    "\n",
    "proportions = make_comparison(weekend_means, weeknight_means)"
   ]
  },
  {
   "cell_type": "code",
   "execution_count": 234,
   "metadata": {
    "collapsed": false
   },
   "outputs": [
    {
     "data": {
      "text/plain": [
       "[('JUNCTION BLVD', 0.6495955071204118),\n",
       " ('36 ST', 0.6464050017367141),\n",
       " ('ASTOR PLACE', 0.6404295143335631),\n",
       " ('14 ST-UNION SQ', 0.6177750402352521),\n",
       " ('BROADWAY/LAFAY', 0.6174124014370362),\n",
       " ('W 4 ST-WASH SQ', 0.6154068716094033),\n",
       " ('61 ST/WOODSIDE', 0.6080651783977699),\n",
       " ('STILLWELL AVE', 0.5814299531284876),\n",
       " ('28 ST', 0.5793177737881507),\n",
       " ('E 177 ST-PARKCH', 0.5703622063022895),\n",
       " ('NEWKIRK PLAZA', 0.5677218079439963),\n",
       " ('3 AVE', 0.5598267233040334),\n",
       " ('8 AVE', 0.5579977970872598),\n",
       " ('METROPOLITAN AV', 0.5452166988965987),\n",
       " ('CITY / BUS', 0.5421346552048691),\n",
       " (\"8 ST-B'WAY NYU\", 0.5419909873002867),\n",
       " ('116 ST', 0.539178266726538),\n",
       " ('UTICA AVE', 0.5328648757690886),\n",
       " ('BEDFORD AVE', 0.5306023090833218),\n",
       " ('14 ST', 0.5267063154913623)]"
      ]
     },
     "execution_count": 234,
     "metadata": {},
     "output_type": "execute_result"
    }
   ],
   "source": [
    "sort_by_value(proportions)[:20]"
   ]
  },
  {
   "cell_type": "code",
   "execution_count": null,
   "metadata": {
    "collapsed": true
   },
   "outputs": [],
   "source": []
  }
 ],
 "metadata": {
  "kernelspec": {
   "display_name": "Python 2",
   "language": "python",
   "name": "python2"
  },
  "language_info": {
   "codemirror_mode": {
    "name": "ipython",
    "version": 2
   },
   "file_extension": ".py",
   "mimetype": "text/x-python",
   "name": "python",
   "nbconvert_exporter": "python",
   "pygments_lexer": "ipython2",
   "version": "2.7.9"
  }
 },
 "nbformat": 4,
 "nbformat_minor": 0
}
