{
 "cells": [
  {
   "cell_type": "markdown",
   "metadata": {},
   "source": [
    "# MTA Data - Metis 01 Project Benson"
   ]
  },
  {
   "cell_type": "code",
   "execution_count": 1,
   "metadata": {
    "collapsed": true
   },
   "outputs": [],
   "source": [
    "%matplotlib inline\n",
    "from __future__ import division\n",
    "import csv\n",
    "import os\n",
    "import calendar\n",
    "import datetime\n",
    "import matplotlib.pyplot as plt\n",
    "from collections import Counter\n",
    "import numpy as np"
   ]
  },
  {
   "cell_type": "markdown",
   "metadata": {},
   "source": [
    "## Objective\n",
    "I was curious about where people are going at off-peak times. The goal for this project is to find the areas of New York with the most active nightlife. As a baseline, we will compare weekends to weeknights.\n",
    "\n",
    "First, read in the data. Then create a dictionary in which the keys are station identifiers and the values are everything else."
   ]
  },
  {
   "cell_type": "code",
   "execution_count": 2,
   "metadata": {
    "collapsed": false
   },
   "outputs": [],
   "source": [
    "#!curl -O http://web.mta.info/developers/data/nyct/turnstile/turnstile_150404.txt"
   ]
  },
  {
   "cell_type": "code",
   "execution_count": 3,
   "metadata": {
    "collapsed": false
   },
   "outputs": [
    {
     "name": "stdout",
     "output_type": "stream",
     "text": [
      "./mta_data/turnstile_150404.txt imported successfully\n",
      "./mta_data/turnstile_150411.txt imported successfully\n",
      "./mta_data/turnstile_150418.txt imported successfully\n",
      "./mta_data/turnstile_150425.txt imported successfully\n",
      "./mta_data/turnstile_150502.txt imported successfully\n",
      "./mta_data/turnstile_150509.txt imported successfully\n",
      "./mta_data/turnstile_150516.txt imported successfully\n",
      "./mta_data/turnstile_150523.txt imported successfully\n",
      "./mta_data/turnstile_150530.txt imported successfully\n",
      "./mta_data/turnstile_150606.txt imported successfully\n",
      "./mta_data/turnstile_150613.txt imported successfully\n",
      "./mta_data/turnstile_150620.txt imported successfully\n",
      "./mta_data/turnstile_150627.txt imported successfully\n"
     ]
    }
   ],
   "source": [
    "mta_dict = {}\n",
    "\n",
    "filedir = './mta_data/'\n",
    "filenames = sorted(next(os.walk(filedir))[2])\n",
    "\n",
    "for nextfile in filenames:\n",
    "    with open(filedir + nextfile, mode='r') as infile:\n",
    "        reader = csv.reader(infile)\n",
    "        readrows = [[cell.strip() for cell in row] for row in reader]\n",
    "\n",
    "    assert readrows.pop(0) == ['C/A', 'UNIT', 'SCP', 'STATION', 'LINENAME',\n",
    "                           'DIVISION', 'DATE', 'TIME', 'DESC', 'ENTRIES',\n",
    "                           'EXITS']\n",
    "\n",
    "    for row in readrows:\n",
    "        mta_dict.setdefault(tuple(row[:4]),[]).append(tuple(row[4:]))\n",
    "    \n",
    "    print filedir + nextfile + ' imported successfully'"
   ]
  },
  {
   "cell_type": "code",
   "execution_count": 4,
   "metadata": {
    "collapsed": false
   },
   "outputs": [
    {
     "data": {
      "text/plain": [
       "4583"
      ]
     },
     "execution_count": 4,
     "metadata": {},
     "output_type": "execute_result"
    }
   ],
   "source": [
    "len(mta_dict.items())"
   ]
  },
  {
   "cell_type": "code",
   "execution_count": 5,
   "metadata": {
    "collapsed": false
   },
   "outputs": [],
   "source": [
    "# mta_dict.items()[0]"
   ]
  },
  {
   "cell_type": "markdown",
   "metadata": {},
   "source": [
    "## Time Series\n",
    "Extract time information and count numbers from dictionary values for turnstile exits.\n",
    "\n",
    "Filter out values that are negative or seem unreasonably large."
   ]
  },
  {
   "cell_type": "code",
   "execution_count": 6,
   "metadata": {
    "collapsed": false
   },
   "outputs": [],
   "source": [
    "def accum_by_datetime(dct):\n",
    "    d = {turnstile: [(datetime.datetime.strptime(date + time,\n",
    "                                        '%m/%d/%Y%X'),\n",
    "                                        int(out_cumulative))\n",
    "                                       for _, _, date, time,\n",
    "                                           _, _, out_cumulative in rows]\n",
    "                           for turnstile, rows in dct.items()}\n",
    "    return d\n",
    "\n",
    "datetime_cumulative = accum_by_datetime(mta_dict)"
   ]
  },
  {
   "cell_type": "code",
   "execution_count": 7,
   "metadata": {
    "collapsed": false
   },
   "outputs": [],
   "source": [
    "#datetime_cumulative.items()[0]"
   ]
  },
  {
   "cell_type": "code",
   "execution_count": 8,
   "metadata": {
    "collapsed": true
   },
   "outputs": [],
   "source": [
    "def count_by_datetime(dct):\n",
    "    d = {turnstile: [[rows[i][0],\n",
    "                     rows[i][1] - rows[i-1][1],\n",
    "                     rows[i][0] - rows[i-1][0]]\n",
    "                    for i in range(1, len(rows))]\n",
    "        for turnstile, rows in dct.items()}\n",
    "    return d\n",
    "\n",
    "datetime_count_times = count_by_datetime(datetime_cumulative)"
   ]
  },
  {
   "cell_type": "code",
   "execution_count": 9,
   "metadata": {
    "collapsed": false
   },
   "outputs": [
    {
     "name": "stdout",
     "output_type": "stream",
     "text": [
      "4583\n"
     ]
    }
   ],
   "source": [
    "print len(datetime_count_times.items())\n",
    "# datetime_count_times.items()[0]"
   ]
  },
  {
   "cell_type": "code",
   "execution_count": 10,
   "metadata": {
    "collapsed": false
   },
   "outputs": [],
   "source": [
    "# a reusable function to investigate highest volume\n",
    "\n",
    "def sort_by_value(dct):\n",
    "    dlist = sorted(dct.items(), key=lambda tup: tup[-1], reverse=True)\n",
    "    return dlist"
   ]
  },
  {
   "cell_type": "code",
   "execution_count": 11,
   "metadata": {
    "collapsed": false,
    "scrolled": true
   },
   "outputs": [
    {
     "name": "stdout",
     "output_type": "stream",
     "text": [
      "[4281, 4292, 4299, 4319, 4333, 4336, 4363, 4386, 4426, 4438, 4477, 4504, 4515, 4519, 4530, 4540, 4550, 4634, 4776, 4791, 4802, 4840, 5219, 5391, 5439, 5497, 5918, 6156, 6696, 6814, 7332, 8059, 9431, 9574, 9949, 10189, 11763, 15051, 39544, 46022, 65261, 75636, 79906, 80097, 80123, 80229, 80396, 83050, 95375, 95456, 137504, 137512, 137627, 195187, 195187, 312439, 322327, 323893, 472911, 806802, 1041725, 1042020, 1042180, 1042206, 1042233, 1532357, 3536743, 3544724, 3549211, 3967206, 4324482, 4504610, 14090235, 16754688, 16754944, 16776289, 33193788, 33470491, 33553606, 33554404, 83583227, 233913726, 233940414, 267407949, 334268900, 367693176, 451209355, 534764204, 551527548, 724262500, 725286840, 735253875, 818491749, 996474307, 1056964608, 1092607555, 1240969327, 1397903646, 1437197589, 2088517586]\n"
     ]
    }
   ],
   "source": [
    "all_counts = [count for rows in datetime_count_times.values() for _, count, _ in rows]\n",
    "all_counts.sort()\n",
    "\n",
    "print all_counts[-100:]"
   ]
  },
  {
   "cell_type": "code",
   "execution_count": 12,
   "metadata": {
    "collapsed": false
   },
   "outputs": [],
   "source": [
    "## investigate high values\n",
    "\n",
    "# for key, rows in datetime_count_times.items():\n",
    "#     for _, count, _ in rows:\n",
    "#         if count >= 39544:\n",
    "#             print count, key"
   ]
  },
  {
   "cell_type": "code",
   "execution_count": 13,
   "metadata": {
    "collapsed": false
   },
   "outputs": [
    {
     "name": "stdout",
     "output_type": "stream",
     "text": [
      "[-2080392237, -1376238516, -1056964595, -985959134, -250683223, -83930712, -33568330, -16754739, -16754517, -14090237, -11113480, -8172201, -8126408, -7645885, -7231960, -7136820, -6188433, -6119245, -5748960, -5713849, -5465194, -5179240, -5008747, -4331551, -4202565, -4018906, -3967127, -3549171, -3544654, -3536673, -3003243, -2962971, -2698086, -2533024, -2377006, -2376873, -2131420, -2112369, -1669794, -1617237, -1540092, -1532280, -1473817, -1393821, -1334500, -1212364, -1103455, -1102179, -1089287, -1078401]\n"
     ]
    }
   ],
   "source": [
    "print all_counts[:50]"
   ]
  },
  {
   "cell_type": "code",
   "execution_count": 14,
   "metadata": {
    "collapsed": false
   },
   "outputs": [
    {
     "name": "stdout",
     "output_type": "stream",
     "text": [
      "[(4.0, 2299978), (4.2, 140012), (8.0, 2780), (4.433333333333334, 2217), (0.02222222222222222, 1391), (0.022500000000000003, 719), (0.23333333333333334, 264), (0.02277777777777778, 231), (4.199722222222222, 153), (3.999722222222222, 131)]\n"
     ]
    }
   ],
   "source": [
    "all_times = [duration.total_seconds() / 60 / 60\n",
    "             for rows in datetime_count_times.values()\n",
    "             for _, _, duration in rows]\n",
    "print Counter(all_times).most_common(10)"
   ]
  },
  {
   "cell_type": "code",
   "execution_count": 15,
   "metadata": {
    "collapsed": true
   },
   "outputs": [],
   "source": [
    "def filter_outliers(dct):\n",
    "    d = {turnstile: [(time, count)\n",
    "                   for (time, count, _) in rows\n",
    "                   if 0 <= count <= 7000]\n",
    "       for turnstile, rows in dct.items()}\n",
    "    return d\n",
    "    \n",
    "datetime_counts = filter_outliers(datetime_count_times)"
   ]
  },
  {
   "cell_type": "code",
   "execution_count": 16,
   "metadata": {
    "collapsed": false,
    "scrolled": true
   },
   "outputs": [],
   "source": [
    "#datetime_counts.items()[0]"
   ]
  },
  {
   "cell_type": "code",
   "execution_count": 17,
   "metadata": {
    "collapsed": false
   },
   "outputs": [
    {
     "name": "stdout",
     "output_type": "stream",
     "text": [
      "0.995574944165\n"
     ]
    }
   ],
   "source": [
    "all_good_counts = [count for rows in datetime_counts.values() for _, count in rows]\n",
    "print len(all_good_counts) / len(all_counts)"
   ]
  },
  {
   "cell_type": "code",
   "execution_count": 18,
   "metadata": {
    "collapsed": false
   },
   "outputs": [
    {
     "name": "stdout",
     "output_type": "stream",
     "text": [
      "[5497, 5918, 6156, 6696, 6814]\n"
     ]
    }
   ],
   "source": [
    "all_good_counts.sort()\n",
    "print all_good_counts[-5:]"
   ]
  },
  {
   "cell_type": "code",
   "execution_count": 19,
   "metadata": {
    "collapsed": false
   },
   "outputs": [
    {
     "name": "stdout",
     "output_type": "stream",
     "text": [
      "[0, 0, 0, 0, 0]\n"
     ]
    }
   ],
   "source": [
    "print all_good_counts[:5]"
   ]
  },
  {
   "cell_type": "markdown",
   "metadata": {},
   "source": [
    "## Separate by Weeknights and Weekends\n",
    "Instead of daily entries, we want nighttime/latenight counts (8pm-4am) for weeknight (Mon-Wed) and weekend (Fri-Sat). \n",
    "\n",
    "We questioned whether Thursday should be considered weeknight or weekend. Many New Yorkers go out on Thursday nights and treat it like a weekend, but we would still be capturing commuters, as well, so this number feels like it could go either way. We decided to exclude it for this comparison.\n",
    "\n",
    "We excluded Sunday because we felt it would throw off the baseline.\n",
    "\n",
    "In order to capture the counts from midnight to 4am, we reassigned the day for all counts during those times."
   ]
  },
  {
   "cell_type": "code",
   "execution_count": 20,
   "metadata": {
    "collapsed": true
   },
   "outputs": [],
   "source": [
    "# datetime_counts.items()[0]"
   ]
  },
  {
   "cell_type": "code",
   "execution_count": 21,
   "metadata": {
    "collapsed": false
   },
   "outputs": [
    {
     "data": {
      "text/plain": [
       "datetime.datetime(2015, 4, 30, 3, 0)"
      ]
     },
     "execution_count": 21,
     "metadata": {},
     "output_type": "execute_result"
    }
   ],
   "source": [
    "# experimenting with datetime objects\n",
    "\n",
    "time = datetime.datetime(2015, 5, 1, 3, 0)\n",
    "time.year, time.month, time.day, time.hour, time.minute\n",
    "\n",
    "if 0 <= time.hour <=4:\n",
    "    time = time - datetime.timedelta(days=1)\n",
    "    \n",
    "time"
   ]
  },
  {
   "cell_type": "code",
   "execution_count": 22,
   "metadata": {
    "collapsed": true
   },
   "outputs": [],
   "source": [
    "# change day of midnight to 4am counts so that it is included in the previous day\n",
    "\n",
    "def reassign_latenight_days(dct):\n",
    "    d = {}\n",
    "    for turnstile, rows in dct.items():\n",
    "        d.setdefault(turnstile, [])\n",
    "        for time, count in rows:\n",
    "            if time.hour <= 4:\n",
    "                d[turnstile].append((time - datetime.timedelta(days = 1), count))\n",
    "            else:\n",
    "                d[turnstile].append((time, count))\n",
    "    return d\n",
    "\n",
    "reassigned_day_counts = reassign_latenight_days(datetime_counts)"
   ]
  },
  {
   "cell_type": "code",
   "execution_count": 23,
   "metadata": {
    "collapsed": false
   },
   "outputs": [],
   "source": [
    "def filter_for_night(dct):\n",
    "    d = {turnstile: [(time, count)\n",
    "                     for (time, count) in rows\n",
    "                     if time.hour <= 4 or time.hour > 20]\n",
    "         for turnstile, rows in dct.items()}\n",
    "    return d\n",
    "\n",
    "nighttime_counts = filter_for_night(reassigned_day_counts)"
   ]
  },
  {
   "cell_type": "code",
   "execution_count": 24,
   "metadata": {
    "collapsed": true
   },
   "outputs": [],
   "source": [
    "# nighttime_counts.items()[0]"
   ]
  },
  {
   "cell_type": "code",
   "execution_count": 25,
   "metadata": {
    "collapsed": true
   },
   "outputs": [],
   "source": [
    "def filter_weeknight(dct):\n",
    "    d = {turnstile: [(time, count)\n",
    "                     for (time, count) in rows\n",
    "                     if 0 <= time.weekday() < 3]\n",
    "         for turnstile, rows in dct.items()}\n",
    "    return d\n",
    "\n",
    "weeknight_counts = filter_weeknight(nighttime_counts)"
   ]
  },
  {
   "cell_type": "code",
   "execution_count": 26,
   "metadata": {
    "collapsed": true
   },
   "outputs": [],
   "source": [
    "# weeknight_counts.items()[0]"
   ]
  },
  {
   "cell_type": "code",
   "execution_count": 27,
   "metadata": {
    "collapsed": false
   },
   "outputs": [],
   "source": [
    "def filter_weekend(dct):\n",
    "    d = {turnstile: [(time, count)\n",
    "                     for (time, count) in rows\n",
    "                     if time.weekday() == 4 or time.weekday() == 5]\n",
    "         for turnstile, rows in dct.items()}\n",
    "    return d\n",
    "\n",
    "weekend_counts = filter_weekend(nighttime_counts)"
   ]
  },
  {
   "cell_type": "code",
   "execution_count": 28,
   "metadata": {
    "collapsed": true
   },
   "outputs": [],
   "source": [
    "# weekend_counts.items()[0]"
   ]
  },
  {
   "cell_type": "code",
   "execution_count": 29,
   "metadata": {
    "collapsed": false
   },
   "outputs": [],
   "source": [
    "# new_weeknight_counts.items()[0]"
   ]
  },
  {
   "cell_type": "code",
   "execution_count": 30,
   "metadata": {
    "collapsed": false
   },
   "outputs": [
    {
     "data": {
      "text/plain": [
       "(('A030', 'R083', '01-06-00', '23 ST-5 AVE'),\n",
       " [(datetime.datetime(2015, 3, 27, 4, 0), 12),\n",
       "  (datetime.datetime(2015, 3, 28, 0, 0), 79),\n",
       "  (datetime.datetime(2015, 3, 28, 4, 0), 23),\n",
       "  (datetime.datetime(2015, 4, 3, 0, 0), 75),\n",
       "  (datetime.datetime(2015, 4, 3, 4, 0), 16),\n",
       "  (datetime.datetime(2015, 4, 4, 0, 0), 69),\n",
       "  (datetime.datetime(2015, 4, 4, 4, 0), 12),\n",
       "  (datetime.datetime(2015, 4, 10, 0, 0), 73),\n",
       "  (datetime.datetime(2015, 4, 10, 4, 0), 15),\n",
       "  (datetime.datetime(2015, 4, 11, 0, 0), 88),\n",
       "  (datetime.datetime(2015, 4, 11, 4, 0), 6),\n",
       "  (datetime.datetime(2015, 4, 17, 0, 0), 100),\n",
       "  (datetime.datetime(2015, 4, 17, 4, 0), 22),\n",
       "  (datetime.datetime(2015, 4, 18, 0, 0), 102),\n",
       "  (datetime.datetime(2015, 4, 18, 4, 0), 28),\n",
       "  (datetime.datetime(2015, 4, 24, 0, 0), 94),\n",
       "  (datetime.datetime(2015, 4, 24, 4, 0), 9),\n",
       "  (datetime.datetime(2015, 4, 25, 0, 0), 83),\n",
       "  (datetime.datetime(2015, 4, 25, 4, 0), 25),\n",
       "  (datetime.datetime(2015, 5, 1, 0, 0), 83),\n",
       "  (datetime.datetime(2015, 5, 1, 4, 0), 15),\n",
       "  (datetime.datetime(2015, 5, 2, 0, 0), 93),\n",
       "  (datetime.datetime(2015, 5, 2, 4, 0), 24),\n",
       "  (datetime.datetime(2015, 5, 8, 0, 0), 237),\n",
       "  (datetime.datetime(2015, 5, 8, 4, 0), 63),\n",
       "  (datetime.datetime(2015, 5, 9, 0, 0), 207),\n",
       "  (datetime.datetime(2015, 5, 9, 4, 0), 50),\n",
       "  (datetime.datetime(2015, 5, 15, 0, 0), 100),\n",
       "  (datetime.datetime(2015, 5, 15, 4, 0), 9),\n",
       "  (datetime.datetime(2015, 5, 16, 0, 0), 95),\n",
       "  (datetime.datetime(2015, 5, 16, 4, 0), 17),\n",
       "  (datetime.datetime(2015, 5, 22, 0, 0), 94),\n",
       "  (datetime.datetime(2015, 5, 22, 4, 0), 12),\n",
       "  (datetime.datetime(2015, 5, 23, 0, 0), 72),\n",
       "  (datetime.datetime(2015, 5, 23, 4, 0), 12),\n",
       "  (datetime.datetime(2015, 5, 29, 0, 0), 79),\n",
       "  (datetime.datetime(2015, 5, 29, 4, 0), 22),\n",
       "  (datetime.datetime(2015, 5, 30, 0, 0), 100),\n",
       "  (datetime.datetime(2015, 5, 30, 4, 0), 16),\n",
       "  (datetime.datetime(2015, 6, 5, 0, 0), 83),\n",
       "  (datetime.datetime(2015, 6, 5, 4, 0), 16),\n",
       "  (datetime.datetime(2015, 6, 6, 0, 0), 82),\n",
       "  (datetime.datetime(2015, 6, 6, 4, 0), 10),\n",
       "  (datetime.datetime(2015, 6, 12, 0, 0), 120),\n",
       "  (datetime.datetime(2015, 6, 12, 4, 0), 9),\n",
       "  (datetime.datetime(2015, 6, 13, 0, 0), 113),\n",
       "  (datetime.datetime(2015, 6, 13, 4, 0), 15),\n",
       "  (datetime.datetime(2015, 6, 19, 0, 0), 127),\n",
       "  (datetime.datetime(2015, 6, 19, 4, 0), 13),\n",
       "  (datetime.datetime(2015, 6, 20, 0, 0), 44),\n",
       "  (datetime.datetime(2015, 6, 20, 4, 0), 9)])"
      ]
     },
     "execution_count": 30,
     "metadata": {},
     "output_type": "execute_result"
    }
   ],
   "source": [
    "# look at first entry\n",
    "\n",
    "weekend_counts.items()[0]"
   ]
  },
  {
   "cell_type": "markdown",
   "metadata": {},
   "source": [
    "##Daily Exits\n",
    "Accumulate exit counts for each day."
   ]
  },
  {
   "cell_type": "code",
   "execution_count": 31,
   "metadata": {
    "collapsed": true
   },
   "outputs": [],
   "source": [
    "# reusable function for accumulating values by key\n",
    "\n",
    "def accumulate_by_day(dct):\n",
    "    d = {}\n",
    "    for key, vals in dct.items():\n",
    "        by_day = {}\n",
    "        for day, count in vals:\n",
    "            by_day[day] = by_day.get(day, 0) + count\n",
    "        d[key] = sorted(by_day.items())\n",
    "    return d"
   ]
  },
  {
   "cell_type": "code",
   "execution_count": 32,
   "metadata": {
    "collapsed": false
   },
   "outputs": [],
   "source": [
    "def combine_by_day(dct):\n",
    "    d = {}\n",
    "    for turnstile, rows in dct.items():\n",
    "        by_day = {}\n",
    "        d[turnstile] = d.get(turnstile, [])\n",
    "        for time, count in rows:\n",
    "            day = time.date()\n",
    "            by_day[day] = by_day.get(day, 0) + count\n",
    "        for item in by_day.items():\n",
    "            d[turnstile].append(item)\n",
    "        d[turnstile] = sorted(d[turnstile])\n",
    "    return d\n",
    "        \n",
    "daily_weekend_counts = combine_by_day(weekend_counts)\n",
    "daily_weeknight_counts = combine_by_day(weeknight_counts)"
   ]
  },
  {
   "cell_type": "code",
   "execution_count": 33,
   "metadata": {
    "collapsed": false
   },
   "outputs": [
    {
     "data": {
      "text/plain": [
       "[(datetime.date(2015, 3, 27), 14),\n",
       " (datetime.date(2015, 3, 28), 54),\n",
       " (datetime.date(2015, 4, 3), 83),\n",
       " (datetime.date(2015, 4, 4), 56),\n",
       " (datetime.date(2015, 4, 10), 89),\n",
       " (datetime.date(2015, 4, 11), 81),\n",
       " (datetime.date(2015, 4, 17), 83),\n",
       " (datetime.date(2015, 4, 18), 68),\n",
       " (datetime.date(2015, 4, 24), 78),\n",
       " (datetime.date(2015, 4, 25), 68),\n",
       " (datetime.date(2015, 5, 1), 96),\n",
       " (datetime.date(2015, 5, 2), 74),\n",
       " (datetime.date(2015, 5, 8), 62),\n",
       " (datetime.date(2015, 5, 9), 10),\n",
       " (datetime.date(2015, 5, 15), 65),\n",
       " (datetime.date(2015, 5, 16), 74),\n",
       " (datetime.date(2015, 5, 22), 84),\n",
       " (datetime.date(2015, 5, 23), 51),\n",
       " (datetime.date(2015, 5, 29), 100),\n",
       " (datetime.date(2015, 5, 30), 72),\n",
       " (datetime.date(2015, 6, 5), 75),\n",
       " (datetime.date(2015, 6, 6), 80),\n",
       " (datetime.date(2015, 6, 12), 85),\n",
       " (datetime.date(2015, 6, 13), 89),\n",
       " (datetime.date(2015, 6, 19), 101),\n",
       " (datetime.date(2015, 6, 20), 64)]"
      ]
     },
     "execution_count": 33,
     "metadata": {},
     "output_type": "execute_result"
    }
   ],
   "source": [
    "# look at a random turnstile at Bowling Green\n",
    "\n",
    "daily_weekend_counts[('R200A', 'R041', '01-00-00', 'BOWLING GREEN')]"
   ]
  },
  {
   "cell_type": "code",
   "execution_count": 34,
   "metadata": {
    "collapsed": false
   },
   "outputs": [
    {
     "data": {
      "text/plain": [
       "[(datetime.date(2015, 3, 27), 4),\n",
       " (datetime.date(2015, 3, 28), 15),\n",
       " (datetime.date(2015, 4, 3), 13),\n",
       " (datetime.date(2015, 4, 4), 18),\n",
       " (datetime.date(2015, 4, 10), 23),\n",
       " (datetime.date(2015, 4, 11), 16),\n",
       " (datetime.date(2015, 4, 17), 18),\n",
       " (datetime.date(2015, 4, 18), 30),\n",
       " (datetime.date(2015, 4, 24), 20),\n",
       " (datetime.date(2015, 4, 25), 8),\n",
       " (datetime.date(2015, 5, 1), 16),\n",
       " (datetime.date(2015, 5, 2), 9),\n",
       " (datetime.date(2015, 5, 8), 10),\n",
       " (datetime.date(2015, 5, 9), 2),\n",
       " (datetime.date(2015, 5, 15), 6),\n",
       " (datetime.date(2015, 5, 16), 16),\n",
       " (datetime.date(2015, 5, 22), 22),\n",
       " (datetime.date(2015, 5, 23), 14),\n",
       " (datetime.date(2015, 5, 29), 24),\n",
       " (datetime.date(2015, 5, 30), 14),\n",
       " (datetime.date(2015, 6, 5), 15),\n",
       " (datetime.date(2015, 6, 6), 16),\n",
       " (datetime.date(2015, 6, 12), 15),\n",
       " (datetime.date(2015, 6, 13), 35),\n",
       " (datetime.date(2015, 6, 19), 22),\n",
       " (datetime.date(2015, 6, 20), 18)]"
      ]
     },
     "execution_count": 34,
     "metadata": {},
     "output_type": "execute_result"
    }
   ],
   "source": [
    "# look at another turnstile at Bowling Green\n",
    "\n",
    "daily_weekend_counts[('R200A', 'R041', '01-00-04', 'BOWLING GREEN')]"
   ]
  },
  {
   "cell_type": "markdown",
   "metadata": {},
   "source": [
    "## Accumulate Counts by Station Area\n",
    "\n",
    "So far we've been operating on a single turnstile level. Next we'll combine turnstiles in the same ControlArea/Unit/Station combo. There are some ControlArea/Unit/Station groups that have a single turnstile, but most have multiple turnstiles-- same value for the C/A, UNIT and STATION columns, different values for the SCP column.\n",
    "\n",
    "We will combine the numbers together for each ControlArea/UNIT/STATION combo, for each day, to get a count by station area."
   ]
  },
  {
   "cell_type": "code",
   "execution_count": 35,
   "metadata": {
    "collapsed": false
   },
   "outputs": [],
   "source": [
    "# append all daily counts to a single station area\n",
    "\n",
    "def combine_by_stationarea(dct):\n",
    "    d = {}\n",
    "    for turnstile, rows in dct.items():\n",
    "        by_day = {}\n",
    "        station = (turnstile[:2]) + (turnstile[3],)\n",
    "        d[station] = d.get(station, [])\n",
    "        for day, count in rows:\n",
    "            by_day[day] = by_day.get(day, 0) + count\n",
    "        for item in by_day.items():\n",
    "            d[station].append(item)\n",
    "        d[station] = sorted(d[station])\n",
    "    return d\n",
    "\n",
    "weekend_by_stationarea = combine_by_stationarea(daily_weekend_counts)\n",
    "weeknight_by_stationarea = combine_by_stationarea(daily_weeknight_counts)"
   ]
  },
  {
   "cell_type": "code",
   "execution_count": 36,
   "metadata": {
    "collapsed": false
   },
   "outputs": [],
   "source": [
    "weekend_stationarea_counts = accumulate_by_day(weekend_by_stationarea)\n",
    "weeknight_stationarea_counts = accumulate_by_day(weeknight_by_stationarea)"
   ]
  },
  {
   "cell_type": "code",
   "execution_count": 37,
   "metadata": {
    "collapsed": false
   },
   "outputs": [
    {
     "data": {
      "text/plain": [
       "[(datetime.date(2015, 3, 27), 71),\n",
       " (datetime.date(2015, 3, 28), 315),\n",
       " (datetime.date(2015, 4, 3), 376),\n",
       " (datetime.date(2015, 4, 4), 322),\n",
       " (datetime.date(2015, 4, 10), 399),\n",
       " (datetime.date(2015, 4, 11), 380),\n",
       " (datetime.date(2015, 4, 17), 443),\n",
       " (datetime.date(2015, 4, 18), 360),\n",
       " (datetime.date(2015, 4, 24), 370),\n",
       " (datetime.date(2015, 4, 25), 306),\n",
       " (datetime.date(2015, 5, 1), 469),\n",
       " (datetime.date(2015, 5, 2), 328),\n",
       " (datetime.date(2015, 5, 8), 331),\n",
       " (datetime.date(2015, 5, 9), 72),\n",
       " (datetime.date(2015, 5, 15), 338),\n",
       " (datetime.date(2015, 5, 16), 276),\n",
       " (datetime.date(2015, 5, 22), 384),\n",
       " (datetime.date(2015, 5, 23), 326),\n",
       " (datetime.date(2015, 5, 29), 407),\n",
       " (datetime.date(2015, 5, 30), 344),\n",
       " (datetime.date(2015, 6, 5), 357),\n",
       " (datetime.date(2015, 6, 6), 343),\n",
       " (datetime.date(2015, 6, 12), 388),\n",
       " (datetime.date(2015, 6, 13), 418),\n",
       " (datetime.date(2015, 6, 19), 403),\n",
       " (datetime.date(2015, 6, 20), 317)]"
      ]
     },
     "execution_count": 37,
     "metadata": {},
     "output_type": "execute_result"
    }
   ],
   "source": [
    "# look at a station area (a group of turnstiles) at Bowling Green\n",
    "\n",
    "weekend_stationarea_counts[('R200A', 'R041', 'BOWLING GREEN')]"
   ]
  },
  {
   "cell_type": "code",
   "execution_count": 38,
   "metadata": {
    "collapsed": false
   },
   "outputs": [],
   "source": [
    "# for key, val in weekend_by_stationarea.items():\n",
    "#     if key[2] == 'BOYD-88 ST':\n",
    "#         print sorted(val)\n",
    "# print len(weekend_by_stationarea.values()[0])"
   ]
  },
  {
   "cell_type": "markdown",
   "metadata": {
    "collapsed": true
   },
   "source": [
    "## Counts by Station\n",
    "\n",
    "Combine everything in each station, and come up with a time series for each STATION, by adding up all the turnstiles in a station."
   ]
  },
  {
   "cell_type": "code",
   "execution_count": 39,
   "metadata": {
    "collapsed": false
   },
   "outputs": [
    {
     "data": {
      "text/plain": [
       "(729, 729)"
      ]
     },
     "execution_count": 39,
     "metadata": {},
     "output_type": "execute_result"
    }
   ],
   "source": [
    "len(weekend_stationarea_counts.items()), len(weeknight_stationarea_counts.items())"
   ]
  },
  {
   "cell_type": "code",
   "execution_count": 40,
   "metadata": {
    "collapsed": false
   },
   "outputs": [],
   "source": [
    "# combine all of the counts at a station in a list\n",
    "\n",
    "def combine_by_station(dct):\n",
    "    d = {}\n",
    "    for stationarea, rows in dct.items():\n",
    "        by_day = {}\n",
    "        station = (stationarea[-1],)\n",
    "        d[station] = d.get(station, [])\n",
    "        for day, count in rows:\n",
    "            by_day[day] = by_day.get(day, 0) + count\n",
    "        for item in by_day.items():\n",
    "            d[station].append(item)\n",
    "        d[station] = sorted(d[station])\n",
    "    return d\n",
    "            \n",
    "weekend_by_station = combine_by_station(weekend_stationarea_counts)\n",
    "weeknight_by_station = combine_by_station(weeknight_stationarea_counts)"
   ]
  },
  {
   "cell_type": "code",
   "execution_count": 41,
   "metadata": {
    "collapsed": false
   },
   "outputs": [],
   "source": [
    "# look at all station areas at Bowling Green. \n",
    "# There appear to be 3 sets of turnstiles since each day repeats 3 times.\n",
    "\n",
    "# weeknight_by_station[('34 ST-PENN STA',)]"
   ]
  },
  {
   "cell_type": "code",
   "execution_count": 42,
   "metadata": {
    "collapsed": true
   },
   "outputs": [],
   "source": [
    "# total the counts for a single station\n",
    "\n",
    "weekend_station_counts = accumulate_by_day(weekend_by_station)\n",
    "weeknight_station_counts = accumulate_by_day(weeknight_by_station)"
   ]
  },
  {
   "cell_type": "code",
   "execution_count": 43,
   "metadata": {
    "collapsed": false
   },
   "outputs": [
    {
     "data": {
      "text/plain": [
       "([(datetime.date(2015, 3, 27), 1825),\n",
       "  (datetime.date(2015, 3, 28), 18423),\n",
       "  (datetime.date(2015, 4, 3), 19807),\n",
       "  (datetime.date(2015, 4, 4), 17411),\n",
       "  (datetime.date(2015, 4, 10), 24281),\n",
       "  (datetime.date(2015, 4, 11), 18848),\n",
       "  (datetime.date(2015, 4, 17), 23450),\n",
       "  (datetime.date(2015, 4, 18), 18721),\n",
       "  (datetime.date(2015, 4, 24), 25711),\n",
       "  (datetime.date(2015, 4, 25), 18609),\n",
       "  (datetime.date(2015, 5, 1), 25257),\n",
       "  (datetime.date(2015, 5, 2), 17578),\n",
       "  (datetime.date(2015, 5, 8), 24317),\n",
       "  (datetime.date(2015, 5, 9), 16069),\n",
       "  (datetime.date(2015, 5, 15), 23460),\n",
       "  (datetime.date(2015, 5, 16), 18398),\n",
       "  (datetime.date(2015, 5, 22), 20524),\n",
       "  (datetime.date(2015, 5, 23), 17218),\n",
       "  (datetime.date(2015, 5, 29), 25823),\n",
       "  (datetime.date(2015, 5, 30), 18002),\n",
       "  (datetime.date(2015, 6, 5), 24593),\n",
       "  (datetime.date(2015, 6, 6), 19034),\n",
       "  (datetime.date(2015, 6, 12), 53509),\n",
       "  (datetime.date(2015, 6, 13), 18892),\n",
       "  (datetime.date(2015, 6, 19), 25389),\n",
       "  (datetime.date(2015, 6, 20), 17246),\n",
       "  (datetime.date(2015, 6, 26), 7953)],)"
      ]
     },
     "execution_count": 43,
     "metadata": {},
     "output_type": "execute_result"
    }
   ],
   "source": [
    "# look at daily totals for Penn Station\n",
    "\n",
    "weekend_station_counts[('34 ST-PENN STA',)],"
   ]
  },
  {
   "cell_type": "markdown",
   "metadata": {},
   "source": [
    "## Means by Day of the Week\n",
    "\n",
    "Accumulate the counts by each day of the week and find their mean."
   ]
  },
  {
   "cell_type": "code",
   "execution_count": 44,
   "metadata": {
    "collapsed": false
   },
   "outputs": [],
   "source": [
    "# create the total station counts for each day of the week and take the mean\n",
    "\n",
    "def means_dayofweek(dct):\n",
    "    d = {}\n",
    "    f = []\n",
    "    # find day of week totals\n",
    "    for station, rows in dct.items():\n",
    "        by_dayofweek = {}\n",
    "        d[station] = d.get(station, [])\n",
    "        for day, count in rows:\n",
    "            by_dayofweek[day.weekday()] = by_dayofweek.get(day.weekday(), 0) + count\n",
    "            f.append(station + (day.weekday(), ))\n",
    "        d[station] = sorted(by_dayofweek.items())\n",
    "    # find day of week means\n",
    "    counter = Counter(f)\n",
    "    e = {}\n",
    "    for station, rows in d.items():\n",
    "        e[station] = e.get(station, [])\n",
    "        for weekday, total in rows:\n",
    "            day_mean = total / counter[station + (weekday,)]\n",
    "            e[station].append((weekday, total, day_mean))\n",
    "    return e, counter\n",
    "\n",
    "weekend_dayofweek_means, counter = means_dayofweek(weekend_station_counts)\n",
    "weekday_dayofweek_means, counter = means_dayofweek(weeknight_station_counts)"
   ]
  },
  {
   "cell_type": "code",
   "execution_count": 45,
   "metadata": {
    "collapsed": false
   },
   "outputs": [
    {
     "name": "stdout",
     "output_type": "stream",
     "text": [
      "[(4, 325899, 23278.5), (5, 234449, 18034.53846153846)]\n",
      "[(0, 247152, 19011.69230769231), (1, 281821, 21678.53846153846), (2, 298635, 22971.923076923078)]\n"
     ]
    }
   ],
   "source": [
    "# look at day of week total and means for Penn Station\n",
    "\n",
    "print weekend_dayofweek_means[('34 ST-PENN STA',)]\n",
    "print weekday_dayofweek_means[('34 ST-PENN STA',)]"
   ]
  },
  {
   "cell_type": "code",
   "execution_count": 46,
   "metadata": {
    "collapsed": false
   },
   "outputs": [
    {
     "data": {
      "text/plain": [
       "[(('14 ST-UNION SQ',),\n",
       "  [(4, 432793, 33291.769230769234), (5, 359714, 27670.30769230769)]),\n",
       " (('34 ST-PENN STA',), [(4, 325899, 23278.5), (5, 234449, 18034.53846153846)]),\n",
       " (('42 ST-GRD CNTRL',),\n",
       "  [(4, 291440, 20817.14285714286), (5, 207206, 15938.923076923076)]),\n",
       " (('W 4 ST-WASH SQ',),\n",
       "  [(4, 238898, 18376.76923076923), (5, 192565, 14812.692307692309)]),\n",
       " (('125 ST',),\n",
       "  [(4, 234928, 16780.571428571428), (5, 201675, 15513.461538461539)]),\n",
       " (('96 ST',),\n",
       "  [(4, 234776, 16769.714285714286), (5, 198535, 15271.923076923076)]),\n",
       " (('86 ST',),\n",
       "  [(4, 230682, 16477.285714285714), (5, 194731, 14979.307692307691)]),\n",
       " (('42 ST-PA BUS TE',),\n",
       "  [(4, 227414, 16243.857142857143), (5, 214780, 16521.53846153846)]),\n",
       " (('72 ST',), [(4, 171322, 12237.285714285714), (5, 141596, 10892.0)]),\n",
       " (('34 ST-HERALD SQ',),\n",
       "  [(4, 161141, 12395.461538461539), (5, 144880, 11144.615384615385)])]"
      ]
     },
     "execution_count": 46,
     "metadata": {},
     "output_type": "execute_result"
    }
   ],
   "source": [
    "# look at highest traffic stations on weekends\n",
    "\n",
    "sort_by_value(weekend_dayofweek_means)[:10]"
   ]
  },
  {
   "cell_type": "markdown",
   "metadata": {},
   "source": [
    "## Means for Weekend and Weeknight"
   ]
  },
  {
   "cell_type": "code",
   "execution_count": 47,
   "metadata": {
    "collapsed": false
   },
   "outputs": [],
   "source": [
    "# find means for each weekpart (weekend or weekday)\n",
    "\n",
    "def weekpart_station_counts(dct):\n",
    "    d = {}    \n",
    "    for station, rows in dct.items():\n",
    "        count = 0\n",
    "        for _, _, day_mean in rows:\n",
    "            count += day_mean\n",
    "        weekpart_mean = count / len(rows)\n",
    "        d[station] = weekpart_mean\n",
    "    return d\n",
    "        \n",
    "weekend_means = weekpart_station_counts(weekend_dayofweek_means)\n",
    "weeknight_means = weekpart_station_counts(weekday_dayofweek_means)"
   ]
  },
  {
   "cell_type": "code",
   "execution_count": 48,
   "metadata": {
    "collapsed": false,
    "scrolled": true
   },
   "outputs": [
    {
     "name": "stdout",
     "output_type": "stream",
     "text": [
      "WEEKNIGHT: [(('14 ST-UNION SQ',), 29295.512820512824), (('42 ST-GRD CNTRL',), 21952.897435897437), (('34 ST-PENN STA',), 21220.71794871795), (('96 ST',), 20035.333333333332), (('86 ST',), 17728.02564102564), (('125 ST',), 16115.717948717947), (('W 4 ST-WASH SQ',), 15014.461538461537), (('72 ST',), 14892.948717948719), (('42 ST-PA BUS TE',), 14450.02564102564), (('77 ST',), 11887.384615384615)]\n",
      "\n",
      "WEEKEND: [(('14 ST-UNION SQ',), 30481.03846153846), (('34 ST-PENN STA',), 20656.51923076923), (('42 ST-GRD CNTRL',), 18378.032967032967), (('W 4 ST-WASH SQ',), 16594.73076923077), (('42 ST-PA BUS TE',), 16382.697802197803), (('125 ST',), 16147.016483516483), (('96 ST',), 16020.81868131868), (('86 ST',), 15728.296703296703), (('42 ST-TIMES SQ',), 12479.653846153846), (('34 ST-HERALD SQ',), 11770.038461538461)]\n"
     ]
    }
   ],
   "source": [
    "# look at highest traffic stations for weeknight/weekend\n",
    "\n",
    "print 'WEEKNIGHT:', sort_by_value(weeknight_means)[:10]\n",
    "print '\\nWEEKEND:', sort_by_value(weekend_means)[:10]"
   ]
  },
  {
   "cell_type": "code",
   "execution_count": 49,
   "metadata": {
    "collapsed": false
   },
   "outputs": [
    {
     "data": {
      "image/png": "[encoded data removed]",
      "text/plain": [
       "<matplotlib.figure.Figure at 0x106228250>"
      ]
     },
     "metadata": {},
     "output_type": "display_data"
    }
   ],
   "source": [
    "data1 = [count for station, count in sort_by_value(weeknight_means)[:5]]\n",
    "data2 = [count for station, count in sort_by_value(weekend_means)[:5]]\n",
    "\n",
    "stations = []\n",
    "\n",
    "for station, count in sort_by_value(weekend_means)[:5]:\n",
    "    stations.append(station)\n",
    "    stations.append('')\n",
    "\n",
    "\n",
    "plt.bar(np.arange(5) * 2, data1, color = '#ff0080')\n",
    "plt.bar(np.arange(5) * 2 + 1, data2, color = '#ff0080', alpha= 0.3)\n",
    "plt.xticks(np.arange(len(stations)), stations, rotation = 45)\n",
    "plt.savefig('mtabar.png')"
   ]
  },
  {
   "cell_type": "markdown",
   "metadata": {},
   "source": [
    "## Make Comparison\n",
    "In order to make a comparison between stations, we looked at the proportion of weekend to weeknight traffic. To control for low traffic stations, I looked at stations with at least a mean of 500 exits on weekends."
   ]
  },
  {
   "cell_type": "code",
   "execution_count": 50,
   "metadata": {
    "collapsed": false
   },
   "outputs": [],
   "source": [
    "# proportion of traffic on weekend vs. weeknight\n",
    "\n",
    "def make_comparison(dct1, dct2):\n",
    "    d = {}\n",
    "    for station2, means2 in dct2.items():\n",
    "        means1 = dct1.get(station2)\n",
    "        if means1 > 500 and means2 > 500:\n",
    "            d[station2] = means1 / means2\n",
    "    return d\n",
    "\n",
    "proportions = make_comparison(weekend_means, weeknight_means)"
   ]
  },
  {
   "cell_type": "code",
   "execution_count": 51,
   "metadata": {
    "collapsed": false
   },
   "outputs": [
    {
     "data": {
      "text/plain": [
       "[(('51 ST',), 3.0908517230716805),\n",
       " (('EAST BROADWAY',), 2.285542745119732),\n",
       " (('THIRTY THIRD ST',), 1.9159123007840784),\n",
       " (('14TH STREET',), 1.879772492527627),\n",
       " (('BROOKLYN BRIDGE',), 1.8128785309365762),\n",
       " ((\"8 ST-B'WAY NYU\",), 1.6767627685995035),\n",
       " ((\"PRINCE ST-B'WAY\",), 1.581461738283364),\n",
       " (('28 ST-BROADWAY',), 1.547058036908264),\n",
       " (('42 ST-BRYANT PK',), 1.5465345315770036),\n",
       " (('42 ST-TIMES SQ',), 1.5426073424212938)]"
      ]
     },
     "execution_count": 51,
     "metadata": {},
     "output_type": "execute_result"
    }
   ],
   "source": [
    "# look at stations with largest proportional weeknight traffic\n",
    "\n",
    "sort_by_value(proportions)[:10]"
   ]
  },
  {
   "cell_type": "code",
   "execution_count": 52,
   "metadata": {
    "collapsed": false
   },
   "outputs": [
    {
     "name": "stdout",
     "output_type": "stream",
     "text": [
      "('51 ST',): (1354.418803, 4186.307692)\n",
      "('EAST BROADWAY',): (1271.184343, 2905.346154)\n",
      "('THIRTY THIRD ST',): (1532.794872, 2936.700549)\n",
      "('14TH STREET',): (1202.230769, 2259.920330)\n",
      "('14 ST-UNION SQ',): (29295.512821, 30481.038462)\n",
      "('34 ST-PENN STA',): (21220.717949, 20656.519231)\n",
      "('42 ST-GRD CNTRL',): (21952.897436, 18378.032967)\n",
      "('W 4 ST-WASH SQ',): (15014.461538, 16594.730769)\n"
     ]
    },
    {
     "data": {
      "image/png": "[encoded data removed]",
      "text/plain": [
       "<matplotlib.figure.Figure at 0x1a9e04190>"
      ]
     },
     "metadata": {},
     "output_type": "display_data"
    }
   ],
   "source": [
    "# plot weekend mean by weeknight mean\n",
    "\n",
    "y = [y[1] for y in sorted(weekend_means.items())]\n",
    "x = [x[1] for x in sorted(weeknight_means.items())]\n",
    "\n",
    "stations = [sta[0] for sta in sort_by_value(proportions)[:4]]\n",
    "\n",
    "plt.figure(figsize=(6,6))\n",
    "\n",
    "for station in stations:\n",
    "    xcord = weeknight_means[station]\n",
    "    ycord = weekend_means[station]\n",
    "    print \"%s: (%f, %f)\" % (station, xcord, ycord)\n",
    "    plt.annotate(station, (xcord, ycord))\n",
    "    \n",
    "stations2 = [sta[0] for sta in sort_by_value(weekend_means)[:4]]\n",
    "\n",
    "for station in stations2:\n",
    "    xcord = weeknight_means[station]\n",
    "    ycord = weekend_means[station]\n",
    "    print \"%s: (%f, %f)\" % (station, xcord, ycord)\n",
    "    plt.annotate(station, (xcord, ycord))\n",
    "\n",
    "plt.scatter(x, y, facecolors=\"#ff0080\",\n",
    "            alpha = 0.5)\n",
    "\n",
    "plt.plot([0, 0], [35000, 35000])\n",
    "\n",
    "plt.xlabel('Weeknight Mean Exits')\n",
    "plt.ylabel('Weekend Mean Exits')\n",
    "\n",
    "plt.savefig('mtascatter.png')"
   ]
  },
  {
   "cell_type": "code",
   "execution_count": 144,
   "metadata": {
    "collapsed": false
   },
   "outputs": [],
   "source": [
    "def find_delta(dct1, dct2):\n",
    "    stations = []\n",
    "    diffs = []\n",
    "    for station, _ in dct1.items():\n",
    "        diffs.append(dct1[station] - dct2[station])\n",
    "        diffs = sorted(diffs, reverse=True)\n",
    "    for station, _ in dct1.items():\n",
    "        if (dct1[station] - dct2[station]) in diffs[:6]:\n",
    "            stations.append(station)\n",
    "    return stations\n",
    "\n",
    "\n",
    "stations = find_delta(weekend_means, weeknight_means)"
   ]
  },
  {
   "cell_type": "code",
   "execution_count": 145,
   "metadata": {
    "collapsed": false
   },
   "outputs": [
    {
     "data": {
      "text/plain": [
       "[('EAST BROADWAY',),\n",
       " ('W 4 ST-WASH SQ',),\n",
       " ('42 ST-PA BUS TE',),\n",
       " ('51 ST',),\n",
       " ('34 ST-HERALD SQ',),\n",
       " ('42 ST-TIMES SQ',)]"
      ]
     },
     "execution_count": 145,
     "metadata": {},
     "output_type": "execute_result"
    }
   ],
   "source": [
    "stations"
   ]
  },
  {
   "cell_type": "code",
   "execution_count": 140,
   "metadata": {
    "collapsed": true
   },
   "outputs": [],
   "source": [
    "\n",
    "# stations = [sta[0] for sta in sort_by_value(proportions)[:4]]\n",
    "# xcords = []\n",
    "# ycords = []\n",
    "\n",
    "# def get_coordinates(dct1, dct2, stations):\n",
    "#     for station in stations:\n",
    "#         xcords.append(np.mean([dct1[station], dct2[station]]))\n",
    "#         ycords.append(dct1[station] - dct2[station])\n",
    "                      \n",
    "# get_coordinates(weekend_means, weeknight_means, stations)\n",
    "\n",
    "# print stations\n",
    "# print xcords\n",
    "# print ycords\n",
    "\n",
    "# for station in stations:\n",
    "#     xcord = (weekend_means[station] + weeknight_means[station]) / 2\n",
    "#     ycord = weekend_means[station] - weeknight_means[station]\n",
    "#     print station, xcord, ycord\n",
    "#     plt.annotate(station, xcord, ycord)\n",
    "\n",
    "# for i in range(len(stations)):\n",
    "#     plt.annotate(stations[i][0], (xcords[i], ycords[i]))"
   ]
  },
  {
   "cell_type": "code",
   "execution_count": 153,
   "metadata": {
    "collapsed": false
   },
   "outputs": [
    {
     "data": {
      "image/png": "[encoded data removed]",
      "text/plain": [
       "<matplotlib.figure.Figure at 0x1b248b090>"
      ]
     },
     "metadata": {},
     "output_type": "display_data"
    }
   ],
   "source": [
    "# stations = [sta[0] for sta in sort_by_value(proportions)[:4]]\n",
    "\n",
    "def bland_altman_plot(data1, data2, *args, **kwargs):\n",
    "    data1     = np.asarray(data1)\n",
    "    data2     = np.asarray(data2)\n",
    "    mean      = np.mean([data1, data2], axis=0)\n",
    "    diff      = data1 - data2                   # Difference between data1 and data2\n",
    "    md        = np.mean(diff)                   # Mean of the difference\n",
    "    sd        = np.std(diff, axis=0)            # Standard deviation of the difference\n",
    "             \n",
    "    plt.axhline(md,        color='gray', linestyle='--')\n",
    "    plt.axhline(md + 2*sd, color='gray', linestyle='--')\n",
    "    plt.axhline(md - 2*sd, color='gray', linestyle='--')\n",
    "    plt.scatter(mean, diff, *args, **kwargs)\n",
    "    plt.xlabel('Mean of Weekend and Weeknight Exits')\n",
    "    plt.ylabel('Difference of Means')\n",
    "    \n",
    "y = [y[1] for y in sorted(weeknight_means.items())]\n",
    "x = [x[1] for x in sorted(weekend_means.items())]\n",
    "\n",
    "plt.figure(figsize=(10,5))\n",
    "plt.title('EXITS MEAN DIFFERENCE')\n",
    "\n",
    "bland_altman_plot(x, y, facecolors=\"#ff0080\", alpha = 0.5)\n",
    "\n",
    "stations.append(('14 ST-UNION SQ',))\n",
    "xcords = []\n",
    "ycords = []\n",
    "\n",
    "def get_coordinates(dct1, dct2, stations):\n",
    "    for station in stations:\n",
    "        xcords.append(np.mean([dct1[station], dct2[station]]))\n",
    "        ycords.append(dct1[station] - dct2[station])\n",
    "                      \n",
    "get_coordinates(weekend_means, weeknight_means, stations)\n",
    "\n",
    "for i in range(len(stations)):\n",
    "    plt.annotate(stations[i][0], (xcords[i], ycords[i]))"
   ]
  },
  {
   "cell_type": "code",
   "execution_count": null,
   "metadata": {
    "collapsed": true
   },
   "outputs": [],
   "source": []
  }
 ],
 "metadata": {
  "kernelspec": {
   "display_name": "Python 2",
   "language": "python",
   "name": "python2"
  },
  "language_info": {
   "codemirror_mode": {
    "name": "ipython",
    "version": 2
   },
   "file_extension": ".py",
   "mimetype": "text/x-python",
   "name": "python",
   "nbconvert_exporter": "python",
   "pygments_lexer": "ipython2",
   "version": "2.7.9"
  }
 },
 "nbformat": 4,
 "nbformat_minor": 0
}
