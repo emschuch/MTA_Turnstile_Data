{
 "cells": [
  {
   "cell_type": "markdown",
   "metadata": {},
   "source": [
    "# MTA Data - Metis 01 Project Benson"
   ]
  },
  {
   "cell_type": "code",
   "execution_count": 1,
   "metadata": {
    "collapsed": true
   },
   "outputs": [],
   "source": [
    "%matplotlib inline\n",
    "from __future__ import division\n",
    "import csv\n",
    "import calendar\n",
    "import datetime\n",
    "import matplotlib.pyplot as plt\n",
    "from collections import Counter"
   ]
  },
  {
   "cell_type": "markdown",
   "metadata": {},
   "source": [
    "## Objective\n",
    "I was curious about where people are going at off-peak times. The goal for this project is to find the areas of New York with the most active nightlife. As a baseline, we will compare weekends to weeknights.\n",
    "\n",
    "First, read in the data. Then create a dictionary in which the keys are station identifiers and the values are everything else."
   ]
  },
  {
   "cell_type": "code",
   "execution_count": 2,
   "metadata": {
    "collapsed": false
   },
   "outputs": [],
   "source": [
    "#!curl -O http://web.mta.info/developers/data/nyct/turnstile/turnstile_150404.txt"
   ]
  },
  {
   "cell_type": "code",
   "execution_count": 2,
   "metadata": {
    "collapsed": false
   },
   "outputs": [],
   "source": [
    "def read_file(filename):\n",
    "    with open(filename) as f:\n",
    "        reader = csv.reader(f)\n",
    "        rows = [[cell.strip() for cell in row] for row in reader]\n",
    "        return rows\n",
    "    \n",
    "rows1 = read_file('turnstile_150627.txt')\n",
    "rows2 = read_file('turnstile_150620.txt')\n",
    "rows3 = read_file('turnstile_150613.txt')\n",
    "rows4 = read_file('turnstile_150606.txt')\n",
    "rows5 = read_file('turnstile_150530.txt')\n",
    "rows6 = read_file('turnstile_150523.txt')\n",
    "rows7 = read_file('turnstile_150516.txt')\n",
    "rows8 = read_file('turnstile_150509.txt')\n",
    "rows9 = read_file('turnstile_150502.txt')\n",
    "rows10 = read_file('turnstile_150425.txt')\n",
    "rows11 = read_file('turnstile_150418.txt')\n",
    "rows12 = read_file('turnstile_150411.txt')\n",
    "rows13 = read_file('turnstile_150404.txt')\n"
   ]
  },
  {
   "cell_type": "code",
   "execution_count": 3,
   "metadata": {
    "collapsed": true
   },
   "outputs": [
    {
     "data": {
      "text/plain": [
       "['C/A',\n",
       " 'UNIT',\n",
       " 'SCP',\n",
       " 'STATION',\n",
       " 'LINENAME',\n",
       " 'DIVISION',\n",
       " 'DATE',\n",
       " 'TIME',\n",
       " 'DESC',\n",
       " 'ENTRIES',\n",
       " 'EXITS']"
      ]
     },
     "execution_count": 3,
     "metadata": {},
     "output_type": "execute_result"
    }
   ],
   "source": [
    "rows1.pop(0)\n",
    "rows2.pop(0)\n",
    "rows3.pop(0)\n",
    "rows4.pop(0)\n",
    "rows5.pop(0)\n",
    "rows6.pop(0)\n",
    "rows7.pop(0)\n",
    "rows8.pop(0)\n",
    "rows9.pop(0)\n",
    "rows10.pop(0)\n",
    "rows11.pop(0)\n",
    "rows12.pop(0)\n",
    "rows13.pop(0)"
   ]
  },
  {
   "cell_type": "code",
   "execution_count": 4,
   "metadata": {
    "collapsed": true
   },
   "outputs": [],
   "source": [
    "def concatenate_rows(*row_files):\n",
    "    all_rows = sum(row_files, [])\n",
    "    return all_rows\n",
    "    \n",
    "rows = concatenate_rows(rows13, rows12, rows11, rows10, rows9, rows8, rows7, rows6, rows5, rows4, rows3, rows2, rows1)"
   ]
  },
  {
   "cell_type": "code",
   "execution_count": 5,
   "metadata": {
    "collapsed": false,
    "scrolled": true
   },
   "outputs": [
    {
     "data": {
      "text/plain": [
       "2495851"
      ]
     },
     "execution_count": 5,
     "metadata": {},
     "output_type": "execute_result"
    }
   ],
   "source": [
    "len(rows)"
   ]
  },
  {
   "cell_type": "code",
   "execution_count": 6,
   "metadata": {
    "collapsed": false
   },
   "outputs": [
    {
     "data": {
      "text/plain": [
       "193257"
      ]
     },
     "execution_count": 6,
     "metadata": {},
     "output_type": "execute_result"
    }
   ],
   "source": [
    "len(rows2)"
   ]
  },
  {
   "cell_type": "code",
   "execution_count": 7,
   "metadata": {
    "collapsed": false
   },
   "outputs": [],
   "source": [
    "def read_rows(raw_rows):\n",
    "    dct = {}\n",
    "    for row in raw_rows:\n",
    "        dct.setdefault(tuple(row[:4]), []).append(tuple(row[4:]))\n",
    "    return dct    \n",
    "\n",
    "raw_readings = read_rows(rows)"
   ]
  },
  {
   "cell_type": "code",
   "execution_count": 9,
   "metadata": {
    "collapsed": false
   },
   "outputs": [],
   "source": [
    "# raw_readings.items()[0]"
   ]
  },
  {
   "cell_type": "markdown",
   "metadata": {},
   "source": [
    "## Time Series\n",
    "Extract time information and count numbers from dictionary values for turnstile exits.\n",
    "\n",
    "Filter out values that are negative or seem unreasonably large."
   ]
  },
  {
   "cell_type": "code",
   "execution_count": 8,
   "metadata": {
    "collapsed": false
   },
   "outputs": [],
   "source": [
    "def accum_by_datetime(dct):\n",
    "    d = {turnstile: [(datetime.datetime.strptime(date + time,\n",
    "                                        '%m/%d/%Y%X'),\n",
    "                                        int(out_cumulative))\n",
    "                                       for _, _, date, time,\n",
    "                                           _, _, out_cumulative in rows]\n",
    "                           for turnstile, rows in dct.items()}\n",
    "    return d\n",
    "\n",
    "datetime_cumulative = accum_by_datetime(raw_readings)"
   ]
  },
  {
   "cell_type": "code",
   "execution_count": 9,
   "metadata": {
    "collapsed": false
   },
   "outputs": [],
   "source": [
    "#datetime_cumulative.items()[0]"
   ]
  },
  {
   "cell_type": "code",
   "execution_count": 10,
   "metadata": {
    "collapsed": true
   },
   "outputs": [],
   "source": [
    "def count_by_datetime(dct):\n",
    "    d = {turnstile: [[rows[i][0],\n",
    "                     rows[i+1][1] - rows[i][1],\n",
    "                     rows[i+1][0] - rows[i][0]]\n",
    "                    for i in range(len(rows) - 1)]\n",
    "        for turnstile, rows in dct.items()}\n",
    "    return d\n",
    "\n",
    "datetime_count_times = count_by_datetime(datetime_cumulative)"
   ]
  },
  {
   "cell_type": "code",
   "execution_count": 11,
   "metadata": {
    "collapsed": false
   },
   "outputs": [],
   "source": [
    "#datetime_count_times.items()[0]"
   ]
  },
  {
   "cell_type": "code",
   "execution_count": 17,
   "metadata": {
    "collapsed": false
   },
   "outputs": [],
   "source": [
    "def sort_by_value(dct):\n",
    "    dlist = sorted(dct.items(), key=lambda tup: tup[-1], reverse=True)\n",
    "    return dlist"
   ]
  },
  {
   "cell_type": "code",
   "execution_count": 13,
   "metadata": {
    "collapsed": false,
    "scrolled": true
   },
   "outputs": [
    {
     "name": "stdout",
     "output_type": "stream",
     "text": [
      "[3678, 3680, 3680, 3683, 3690, 3695, 3695, 3697, 3699, 3708, 3714, 3715, 3723, 3725, 3728, 3730, 3735, 3751, 3751, 3752, 3753, 3754, 3755, 3761, 3764, 3775, 3780, 3782, 3787, 3804, 3806, 3825, 3832, 3833, 3834, 3838, 3840, 3840, 3841, 3856, 3864, 3888, 3893, 3910, 3912, 3914, 3927, 3939, 3942, 3953, 3964, 3964, 3966, 3968, 3993, 3994, 4000, 4004, 4006, 4017, 4021, 4026, 4027, 4029, 4031, 4033, 4036, 4044, 4044, 4056, 4062, 4064, 4084, 4090, 4104, 4110, 4111, 4118, 4122, 4123, 4128, 4140, 4147, 4148, 4150, 4150, 4154, 4154, 4166, 4169, 4182, 4182, 4204, 4206, 4206, 4207, 4209, 4217, 4239, 4263, 4281, 4292, 4299, 4319, 4333, 4336, 4363, 4386, 4426, 4438, 4477, 4504, 4515, 4519, 4530, 4540, 4550, 4634, 4776, 4791, 4802, 4840, 5219, 5391, 5439, 5497, 5918, 6156, 6696, 6814, 7332, 8059, 9431, 9574, 9949, 10189, 11763, 15051, 39544, 46022, 65261, 75636, 79906, 80097, 80123, 80229, 80396, 83050, 95375, 95456, 137504, 137512, 137627, 195187, 195187, 312439, 322327, 323893, 472911, 806802, 1041725, 1042020, 1042180, 1042206, 1042233, 1532357, 3536743, 3544724, 3549211, 3967206, 4324482, 4504610, 14090235, 16754688, 16754944, 16776289, 33193788, 33470491, 33553606, 33554404, 83583227, 233913726, 233940414, 267407949, 334268900, 367693176, 451209355, 534764204, 551527548, 724262500, 725286840, 735253875, 818491749, 996474307, 1056964608, 1092607555, 1240969327, 1397903646, 1437197589, 2088517586]\n"
     ]
    }
   ],
   "source": [
    "all_counts = [count for rows in datetime_count_times.values() for _, count, _ in rows]\n",
    "all_counts.sort()\n",
    "\n",
    "print all_counts[-200:]"
   ]
  },
  {
   "cell_type": "code",
   "execution_count": 30,
   "metadata": {
    "collapsed": false
   },
   "outputs": [],
   "source": [
    "# for key, rows in datetime_count_times.items():\n",
    "#     for _, count, _ in rows:\n",
    "#         if count >= 39544:\n",
    "#             print count, key"
   ]
  },
  {
   "cell_type": "code",
   "execution_count": 27,
   "metadata": {
    "collapsed": false
   },
   "outputs": [
    {
     "name": "stdout",
     "output_type": "stream",
     "text": [
      "[-2080392237, -1376238516, -1056964595, -985959134, -250683223, -83930712, -33568330, -16754739, -16754517, -14090237, -11113480, -8172201, -8126408, -7645885, -7231960, -7136820, -6188433, -6119245, -5748960, -5713849, -5465194, -5179240, -5008747, -4331551, -4202565, -4018906, -3967127, -3549171, -3544654, -3536673, -3003243, -2962971, -2698086, -2533024, -2377006, -2376873, -2131420, -2112369, -1669794, -1617237, -1540092, -1532280, -1473817, -1393821, -1334500, -1212364, -1103455, -1102179, -1089287, -1078401]\n"
     ]
    }
   ],
   "source": [
    "print all_counts[:50]"
   ]
  },
  {
   "cell_type": "code",
   "execution_count": 28,
   "metadata": {
    "collapsed": false
   },
   "outputs": [
    {
     "name": "stdout",
     "output_type": "stream",
     "text": [
      "[(4.0, 2299978), (4.2, 140012), (8.0, 2780), (4.433333333333334, 2217), (0.02222222222222222, 1391), (0.022500000000000003, 719), (0.23333333333333334, 264), (0.02277777777777778, 231), (4.199722222222222, 153), (3.999722222222222, 131)]\n"
     ]
    }
   ],
   "source": [
    "all_times = [duration.total_seconds() / 60 / 60\n",
    "             for rows in datetime_count_times.values()\n",
    "             for _, _, duration in rows]\n",
    "print Counter(all_times).most_common(10)"
   ]
  },
  {
   "cell_type": "code",
   "execution_count": 74,
   "metadata": {
    "collapsed": true
   },
   "outputs": [],
   "source": [
    "def filter_outliers(dct):\n",
    "    d = {turnstile: [(time, count)\n",
    "                   for (time, count, _) in rows\n",
    "                   if 0 <= count <= 80000]\n",
    "       for turnstile, rows in dct.items()}\n",
    "    return d\n",
    "    \n",
    "datetime_counts = filter_outliers(datetime_count_times)"
   ]
  },
  {
   "cell_type": "code",
   "execution_count": 75,
   "metadata": {
    "collapsed": false,
    "scrolled": true
   },
   "outputs": [],
   "source": [
    "# datetime_counts.items()[0]"
   ]
  },
  {
   "cell_type": "code",
   "execution_count": 76,
   "metadata": {
    "collapsed": false
   },
   "outputs": [
    {
     "name": "stdout",
     "output_type": "stream",
     "text": [
      "0.995580162391\n"
     ]
    }
   ],
   "source": [
    "all_good_counts = [count for rows in datetime_counts.values() for _, count in rows]\n",
    "print len(all_good_counts) / len(all_counts)"
   ]
  },
  {
   "cell_type": "code",
   "execution_count": 77,
   "metadata": {
    "collapsed": false
   },
   "outputs": [
    {
     "name": "stdout",
     "output_type": "stream",
     "text": [
      "[39544, 46022, 65261, 75636, 79906]\n"
     ]
    }
   ],
   "source": [
    "all_good_counts.sort()\n",
    "print all_good_counts[-5:]"
   ]
  },
  {
   "cell_type": "code",
   "execution_count": 78,
   "metadata": {
    "collapsed": false
   },
   "outputs": [
    {
     "name": "stdout",
     "output_type": "stream",
     "text": [
      "[0, 0, 0, 0, 0]\n"
     ]
    }
   ],
   "source": [
    "print all_good_counts[:5]"
   ]
  },
  {
   "cell_type": "markdown",
   "metadata": {},
   "source": [
    "## Separate by Weeknights and Weekends\n",
    "Instead of daily entries, we want nighttime/latenight counts (8pm-4am) for weeknight (Mon-Wed) and weekend (Fri-Sat). \n",
    "\n",
    "We questioned whether Thursday should be considered weeknight or weekend. Many New Yorkers go out on Thursday nights and treat it like a weekend, but we would still be capturing commuters, as well, so this number feels like it could go either way. We decided to exclude it for this comparison.\n",
    "\n",
    "We excluded Sunday because we felt it would throw off the baseline."
   ]
  },
  {
   "cell_type": "code",
   "execution_count": 79,
   "metadata": {
    "collapsed": true
   },
   "outputs": [],
   "source": [
    "# datetime_counts.items()[0]"
   ]
  },
  {
   "cell_type": "code",
   "execution_count": 80,
   "metadata": {
    "collapsed": false
   },
   "outputs": [
    {
     "data": {
      "text/plain": [
       "datetime.datetime(2015, 4, 30, 3, 0)"
      ]
     },
     "execution_count": 80,
     "metadata": {},
     "output_type": "execute_result"
    }
   ],
   "source": [
    "# experimenting with datetime objects\n",
    "\n",
    "time = datetime.datetime(2015, 5, 1, 3, 0)\n",
    "time.year, time.month, time.day, time.hour, time.minute\n",
    "\n",
    "if 0 <= time.hour <=4:\n",
    "    time = time - datetime.timedelta(days=1)\n",
    "    \n",
    "time"
   ]
  },
  {
   "cell_type": "code",
   "execution_count": 81,
   "metadata": {
    "collapsed": true
   },
   "outputs": [],
   "source": [
    "def filter_for_night(dct):\n",
    "    d = {turnstile: [(time, count)\n",
    "                     for (time, count) in rows\n",
    "                     if time.hour <= 4 or time.hour >= 20]\n",
    "         for turnstile, rows in dct.items()}\n",
    "    return d\n",
    "\n",
    "nighttime_counts = filter_for_night(datetime_counts)"
   ]
  },
  {
   "cell_type": "code",
   "execution_count": 82,
   "metadata": {
    "collapsed": true
   },
   "outputs": [],
   "source": [
    "# nighttime_counts.items()[0]"
   ]
  },
  {
   "cell_type": "code",
   "execution_count": 83,
   "metadata": {
    "collapsed": true
   },
   "outputs": [],
   "source": [
    "def filter_weeknight(dct):\n",
    "    d = {turnstile: [(time, count)\n",
    "                     for (time, count) in rows\n",
    "                     if (time.weekday() == 0 and time.hour >= 20)\n",
    "                     or 0 < time.weekday() < 3\n",
    "                     or (time.weekday() == 3 and time.hour <=4)]\n",
    "         for turnstile, rows in dct.items()}\n",
    "    return d\n",
    "\n",
    "weeknight_counts = filter_weeknight(nighttime_counts)"
   ]
  },
  {
   "cell_type": "code",
   "execution_count": 84,
   "metadata": {
    "collapsed": true
   },
   "outputs": [],
   "source": [
    "# weeknight_counts.items()[0]"
   ]
  },
  {
   "cell_type": "code",
   "execution_count": 85,
   "metadata": {
    "collapsed": true
   },
   "outputs": [],
   "source": [
    "def filter_weekend(dct):\n",
    "    d = {turnstile: [(time, count)\n",
    "                     for (time, count) in rows\n",
    "                     if (time.weekday() == 4 and time.hour >= 20)\n",
    "                     or time.weekday() == 5\n",
    "                     or (time.weekday() == 6 and time.hour <=4)]\n",
    "         for turnstile, rows in dct.items()}\n",
    "    return d\n",
    "\n",
    "weekend_counts = filter_weekend(nighttime_counts)"
   ]
  },
  {
   "cell_type": "code",
   "execution_count": 86,
   "metadata": {
    "collapsed": true
   },
   "outputs": [],
   "source": [
    "# weekend_counts.items()[0]"
   ]
  },
  {
   "cell_type": "code",
   "execution_count": 87,
   "metadata": {
    "collapsed": false
   },
   "outputs": [],
   "source": [
    "def reassign_latenight_days(dct):\n",
    "    d = {}\n",
    "    for turnstile, rows in dct.items():\n",
    "        d.setdefault(turnstile, [])\n",
    "        for time, count in rows:\n",
    "            if time.hour <= 4:\n",
    "                d[turnstile].append((time - datetime.timedelta(days = 1), count))\n",
    "            else:\n",
    "                d[turnstile].append((time, count))\n",
    "    return d\n",
    "\n",
    "new_weekend_counts = reassign_latenight_days(weekend_counts)\n",
    "new_weeknight_counts = reassign_latenight_days(weeknight_counts)"
   ]
  },
  {
   "cell_type": "code",
   "execution_count": 88,
   "metadata": {
    "collapsed": false
   },
   "outputs": [],
   "source": [
    "# new_weeknight_counts.items()[0]"
   ]
  },
  {
   "cell_type": "code",
   "execution_count": 89,
   "metadata": {
    "collapsed": false
   },
   "outputs": [],
   "source": [
    "# new_weekend_counts.items()[0]"
   ]
  },
  {
   "cell_type": "markdown",
   "metadata": {},
   "source": [
    "##Daily Exits\n",
    "Accumulate exit counts for each day."
   ]
  },
  {
   "cell_type": "code",
   "execution_count": 90,
   "metadata": {
    "collapsed": true
   },
   "outputs": [],
   "source": [
    "def count_by_day(dct):\n",
    "    d = {}\n",
    "    for turnstile, rows in dct.items():\n",
    "        by_day = {}\n",
    "        for time, count in rows:\n",
    "            day = time.date()\n",
    "            by_day[day] = by_day.get(day, 0) + count\n",
    "        d[turnstile] = sorted(by_day.items())\n",
    "    return d\n",
    "        \n",
    "daily_weekend_counts = count_by_day(new_weekend_counts)\n",
    "daily_weeknight_counts = count_by_day(new_weeknight_counts)"
   ]
  },
  {
   "cell_type": "code",
   "execution_count": 91,
   "metadata": {
    "collapsed": false
   },
   "outputs": [],
   "source": [
    "# daily_weekend_counts.items()[200]"
   ]
  },
  {
   "cell_type": "code",
   "execution_count": 92,
   "metadata": {
    "collapsed": false
   },
   "outputs": [],
   "source": [
    "# daily_weeknight_counts.items()[200]"
   ]
  },
  {
   "cell_type": "markdown",
   "metadata": {},
   "source": [
    "## Accumulate Counts by Station Area\n",
    "\n",
    "So far we've been operating on a single turnstile level. Next we'll combine turnstiles in the same ControlArea/Unit/Station combo. There are some ControlArea/Unit/Station groups that have a single turnstile, but most have multiple turnstiles-- same value for the C/A, UNIT and STATION columns, different values for the SCP column.\n",
    "\n",
    "We will combine the numbers together for each ControlArea/UNIT/STATION combo, for each day, to get a count by station area."
   ]
  },
  {
   "cell_type": "code",
   "execution_count": 93,
   "metadata": {
    "collapsed": false
   },
   "outputs": [],
   "source": [
    "def count_by_stationarea(dct):\n",
    "    d = {}\n",
    "    for turnstile, rows in dct.items():\n",
    "        station = (turnstile[:2]) + (turnstile[3],) \n",
    "        for day, count in rows:\n",
    "            d[(station, day)] = d.get((station, day), 0) + count\n",
    "    return d\n",
    "            \n",
    "weekend_by_stationarea = count_by_stationarea(daily_weekend_counts)\n",
    "weeknight_by_stationarea = count_by_stationarea(daily_weeknight_counts)"
   ]
  },
  {
   "cell_type": "code",
   "execution_count": 94,
   "metadata": {
    "collapsed": false
   },
   "outputs": [],
   "source": [
    "def count_by_stationarea_again(dct):\n",
    "    d = {}\n",
    "    for station_day, count in dct.items():\n",
    "        station, day = station_day\n",
    "        d.setdefault(station, []).append((day, count))\n",
    "    for counts in d.values():\n",
    "        counts.sort()\n",
    "    return d\n",
    "    \n",
    "weekend_stationarea_counts = count_by_stationarea_again(weekend_by_stationarea)\n",
    "weeknight_stationarea_counts = count_by_stationarea_again(weeknight_by_stationarea)"
   ]
  },
  {
   "cell_type": "code",
   "execution_count": 95,
   "metadata": {
    "collapsed": false
   },
   "outputs": [],
   "source": [
    "# for key, val in weeknight_stationarea_counts.items():\n",
    "#     if key[2] == 'BOWLING GREEN':\n",
    "#         print val"
   ]
  },
  {
   "cell_type": "markdown",
   "metadata": {},
   "source": [
    "The station counts for PENN STA seemed off, since it is 0 for Sat, Sun, but this is the station area, not total by station. One explanation is that this particular entrance was closed on the weekend, as some entrances and exits are only open on weekdays.\n",
    "\n",
    "There are entries for PENN STA after aggregating in the next step."
   ]
  },
  {
   "cell_type": "code",
   "execution_count": 96,
   "metadata": {
    "collapsed": false
   },
   "outputs": [],
   "source": [
    "# weeknight_stationarea_counts.items()[:50]"
   ]
  },
  {
   "cell_type": "markdown",
   "metadata": {
    "collapsed": true
   },
   "source": [
    "## Counts by Station\n",
    "\n",
    "Combine everything in each station, and come up with a time series for each STATION, by adding up all the turnstiles in a station."
   ]
  },
  {
   "cell_type": "code",
   "execution_count": 97,
   "metadata": {
    "collapsed": false
   },
   "outputs": [
    {
     "data": {
      "text/plain": [
       "(729, 729)"
      ]
     },
     "execution_count": 97,
     "metadata": {},
     "output_type": "execute_result"
    }
   ],
   "source": [
    "len(weekend_stationarea_counts.items()), len(weeknight_stationarea_counts.items())"
   ]
  },
  {
   "cell_type": "code",
   "execution_count": 98,
   "metadata": {
    "collapsed": true
   },
   "outputs": [],
   "source": [
    "def count_by_station(dct):\n",
    "    d = {}\n",
    "    for station_area, rows in dct.items():\n",
    "        station = (station_area[-1],)\n",
    "        for day, count in rows:\n",
    "            d[(station, day)] = d.get((station, day), 0) + count\n",
    "    return d\n",
    "            \n",
    "weekend_by_station = count_by_station(weekend_stationarea_counts)\n",
    "weeknight_by_station = count_by_station(weeknight_stationarea_counts)"
   ]
  },
  {
   "cell_type": "code",
   "execution_count": 99,
   "metadata": {
    "collapsed": true
   },
   "outputs": [],
   "source": [
    "def count_by_station_again(dct):\n",
    "    d = {}\n",
    "    for station_day, count in dct.items():\n",
    "        station, day = station_day\n",
    "        d.setdefault(station, []).append((day, count))\n",
    "    for counts in d.values():\n",
    "        counts.sort()\n",
    "    return d\n",
    "        \n",
    "weekend_station_counts = count_by_station_again(weekend_by_station)\n",
    "weeknight_station_counts = count_by_station_again(weeknight_by_station)"
   ]
  },
  {
   "cell_type": "code",
   "execution_count": 100,
   "metadata": {
    "collapsed": false,
    "scrolled": true
   },
   "outputs": [],
   "source": [
    "# weekend_station_counts[('BOWLING GREEN',)]"
   ]
  },
  {
   "cell_type": "markdown",
   "metadata": {},
   "source": [
    "## Means by Day of the Week\n",
    "\n",
    "Accumulate the counts by each day of the week and find their mean."
   ]
  },
  {
   "cell_type": "code",
   "execution_count": 101,
   "metadata": {
    "collapsed": true
   },
   "outputs": [],
   "source": [
    "### pop off leading and trailing values that don't match up first\n",
    "\n"
   ]
  },
  {
   "cell_type": "code",
   "execution_count": 102,
   "metadata": {
    "collapsed": true
   },
   "outputs": [],
   "source": [
    "def dayofweek_station_counts(dct):\n",
    "    d = {}\n",
    "    t = []\n",
    "    for station, rows in dct.items():\n",
    "        for day, count in rows:\n",
    "            t.append((station + (day.weekday(), )))\n",
    "            d[(station + (day.weekday(), ))] = d.get((station, day.weekday()), 0) + count\n",
    "    counter = Counter(t)\n",
    "    f = {}\n",
    "    for station_day, count in d.items():\n",
    "        f[station_day] = count / counter.get(station_day, None)\n",
    "    return d, f\n",
    "\n",
    "weekend_dayofweek_counts, weekend_dayofweek_means = dayofweek_station_counts(weekend_station_counts)\n",
    "weeknight_dayofweek_counts, weeknight_dayofweek_means = dayofweek_station_counts(weeknight_station_counts)"
   ]
  },
  {
   "cell_type": "code",
   "execution_count": 103,
   "metadata": {
    "collapsed": false
   },
   "outputs": [],
   "source": [
    "# sort_by_value(weekend_dayofweek_means)[:10]"
   ]
  },
  {
   "cell_type": "markdown",
   "metadata": {},
   "source": [
    "## Means for Weekend and Weeknight"
   ]
  },
  {
   "cell_type": "code",
   "execution_count": 104,
   "metadata": {
    "collapsed": false
   },
   "outputs": [],
   "source": [
    "def weekpart_station_counts(dct, n):\n",
    "    d = {}    \n",
    "    for station_day, count in dct.items():\n",
    "        station = station_day[0]\n",
    "        d[station] = d.get(station, 0) + count\n",
    "    f = {}\n",
    "    for station, count in d.items():\n",
    "        f[station] = d.get(station) / n\n",
    "    return d, f\n",
    "\n",
    "weekend_totals, weekend_means = weekpart_station_counts(weekend_dayofweek_means, 2)\n",
    "weeknight_totals, weeknight_means = weekpart_station_counts(weeknight_dayofweek_means, 3)"
   ]
  },
  {
   "cell_type": "code",
   "execution_count": 105,
   "metadata": {
    "collapsed": false,
    "scrolled": true
   },
   "outputs": [
    {
     "name": "stdout",
     "output_type": "stream",
     "text": [
      "WEEKNIGHT: [('34 ST-PENN STA', 1729.6923076923076), ('34 ST-HERALD SQ', 1571.128205128205), ('86 ST', 1440.076923076923), ('42 ST-GRD CNTRL', 1373.820512820513), ('42 ST-TIMES SQ', 1338.5128205128203), ('MAIN ST', 1076.2307692307693), ('125 ST', 1036.4871794871794), ('47-50 ST-ROCK', 925.2564102564102), ('59 ST', 915.6153846153846), ('42 ST-PA BUS TE', 914.0512820512821)]\n",
      "\n",
      "WEEKEND: [('34 ST-PENN STA', 1466.4615384615386), ('34 ST-HERALD SQ', 1257.1923076923076), ('42 ST-TIMES SQ', 1218.2692307692307), ('86 ST', 1063.923076923077), ('125 ST', 1005.2307692307693), ('42 ST-PA BUS TE', 945.3846153846155), ('42 ST-GRD CNTRL', 939.3461538461538), ('MAIN ST', 919.9615384615385), ('ROOSEVELT AVE', 860.4615384615385), ('14 ST-UNION SQ', 797.2307692307693)]\n"
     ]
    }
   ],
   "source": [
    "print 'WEEKNIGHT:', sort_by_value(weeknight_means)[:10]\n",
    "print '\\nWEEKEND:', sort_by_value(weekend_means)[:10]"
   ]
  },
  {
   "cell_type": "markdown",
   "metadata": {},
   "source": [
    "## Make Comparison\n",
    "In order to make a comparison between stations, we looked at the proportion of weekend to weeknight traffic. To control for low traffic stations, I looked at stations with at least a mean of 500 exits on weekends."
   ]
  },
  {
   "cell_type": "code",
   "execution_count": 106,
   "metadata": {
    "collapsed": false
   },
   "outputs": [],
   "source": [
    "def make_comparison(dct1, dct2):\n",
    "    d = {}\n",
    "    for station2, means2 in dct2.items():\n",
    "        if means2 > 0:\n",
    "            means1 = dct1.get(station2)\n",
    "            if means1 > 500:\n",
    "                d[station2] = means1 / means2\n",
    "    return d\n",
    "\n",
    "proportions = make_comparison(weekend_means, weeknight_means)"
   ]
  },
  {
   "cell_type": "code",
   "execution_count": 107,
   "metadata": {
    "collapsed": false
   },
   "outputs": [
    {
     "data": {
      "text/plain": [
       "[('JUNCTION BLVD', 1.853844686128601),\n",
       " ('14 ST-UNION SQ', 1.6162603316525448),\n",
       " ('BEDFORD AVE', 1.1303896873610904),\n",
       " ('CHURCH AVE', 1.051796949064897),\n",
       " ('42 ST-PA BUS TE', 1.0342796229802513),\n",
       " ('145 ST', 0.9747418998766314),\n",
       " ('125 ST', 0.9698439007495734),\n",
       " ('96 ST', 0.947987939232286),\n",
       " ('1 AVE', 0.9442011212333565),\n",
       " ('ROOSEVELT AVE', 0.9434620034299531),\n",
       " ('BARCLAYS CENTER', 0.9379326553286043),\n",
       " ('42 ST-TIMES SQ', 0.9101662771541321),\n",
       " ('MAIN ST', 0.8547995139732685),\n",
       " ('34 ST-PENN STA', 0.8478164191052211),\n",
       " ('34 ST-HERALD SQ', 0.8001844175343539),\n",
       " ('JAMAICA CENTER', 0.7901896551724138),\n",
       " ('86 ST', 0.7387960044869398),\n",
       " ('42 ST-GRD CNTRL', 0.6837473637059295),\n",
       " ('59 ST-COLUMBUS', 0.6595037724898433),\n",
       " ('59 ST', 0.6420650256237924)]"
      ]
     },
     "execution_count": 107,
     "metadata": {},
     "output_type": "execute_result"
    }
   ],
   "source": [
    "sort_by_value(proportions)[:20]"
   ]
  },
  {
   "cell_type": "code",
   "execution_count": null,
   "metadata": {
    "collapsed": true
   },
   "outputs": [],
   "source": []
  }
 ],
 "metadata": {
  "kernelspec": {
   "display_name": "Python 2",
   "language": "python",
   "name": "python2"
  },
  "language_info": {
   "codemirror_mode": {
    "name": "ipython",
    "version": 2
   },
   "file_extension": ".py",
   "mimetype": "text/x-python",
   "name": "python",
   "nbconvert_exporter": "python",
   "pygments_lexer": "ipython2",
   "version": "2.7.9"
  }
 },
 "nbformat": 4,
 "nbformat_minor": 0
}
