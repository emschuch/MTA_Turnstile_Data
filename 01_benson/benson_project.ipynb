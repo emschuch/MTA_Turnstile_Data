{
 "cells": [
  {
   "cell_type": "markdown",
   "metadata": {},
   "source": [
    "# MTA Data - Metis 01 Project Benson"
   ]
  },
  {
   "cell_type": "code",
   "execution_count": 1,
   "metadata": {
    "collapsed": true
   },
   "outputs": [],
   "source": [
    "%matplotlib inline\n",
    "from __future__ import division\n",
    "import csv\n",
    "import calendar\n",
    "import datetime\n",
    "import matplotlib.pyplot as plt\n",
    "from collections import Counter"
   ]
  },
  {
   "cell_type": "markdown",
   "metadata": {},
   "source": [
    "## Objective\n",
    "I was curious about where people are going at off-peak times. The goal for this project is to find the areas of New York with the most active nightlife. As a baseline, we will compare weekends to weeknights.\n",
    "\n",
    "First, read in the data. Then create a dictionary in which the keys are station identifiers and the values are everything else."
   ]
  },
  {
   "cell_type": "code",
   "execution_count": 2,
   "metadata": {
    "collapsed": false
   },
   "outputs": [],
   "source": [
    "#!curl -O http://web.mta.info/developers/data/nyct/turnstile/turnstile_150404.txt"
   ]
  },
  {
   "cell_type": "code",
   "execution_count": 2,
   "metadata": {
    "collapsed": false
   },
   "outputs": [],
   "source": [
    "def read_file(filename):\n",
    "    with open(filename) as f:\n",
    "        reader = csv.reader(f)\n",
    "        rows = [[cell.strip() for cell in row] for row in reader]\n",
    "        return rows\n",
    "    \n",
    "rows1 = read_file('turnstile_150627.txt')\n",
    "rows2 = read_file('turnstile_150620.txt')\n",
    "rows3 = read_file('turnstile_150613.txt')\n",
    "rows4 = read_file('turnstile_150606.txt')\n",
    "rows5 = read_file('turnstile_150530.txt')\n",
    "rows6 = read_file('turnstile_150523.txt')\n",
    "rows7 = read_file('turnstile_150516.txt')\n",
    "rows8 = read_file('turnstile_150509.txt')\n",
    "rows9 = read_file('turnstile_150502.txt')\n",
    "rows10 = read_file('turnstile_150425.txt')\n",
    "rows11 = read_file('turnstile_150418.txt')\n",
    "rows12 = read_file('turnstile_150411.txt')\n",
    "rows13 = read_file('turnstile_150404.txt')\n"
   ]
  },
  {
   "cell_type": "code",
   "execution_count": 3,
   "metadata": {
    "collapsed": false
   },
   "outputs": [
    {
     "data": {
      "text/plain": [
       "['C/A',\n",
       " 'UNIT',\n",
       " 'SCP',\n",
       " 'STATION',\n",
       " 'LINENAME',\n",
       " 'DIVISION',\n",
       " 'DATE',\n",
       " 'TIME',\n",
       " 'DESC',\n",
       " 'ENTRIES',\n",
       " 'EXITS']"
      ]
     },
     "execution_count": 3,
     "metadata": {},
     "output_type": "execute_result"
    }
   ],
   "source": [
    "rows1.pop(0)\n",
    "rows2.pop(0)\n",
    "rows3.pop(0)\n",
    "rows4.pop(0)\n",
    "rows5.pop(0)\n",
    "rows6.pop(0)\n",
    "rows7.pop(0)\n",
    "rows8.pop(0)\n",
    "rows9.pop(0)\n",
    "rows10.pop(0)\n",
    "rows11.pop(0)\n",
    "rows12.pop(0)\n",
    "rows13.pop(0)"
   ]
  },
  {
   "cell_type": "code",
   "execution_count": 4,
   "metadata": {
    "collapsed": true
   },
   "outputs": [],
   "source": [
    "def concatenate_rows(*row_files):\n",
    "    all_rows = sum(row_files, [])\n",
    "    return all_rows\n",
    "    \n",
    "rows = concatenate_rows(rows13, rows12, rows11, rows10, rows9, rows8, rows7, rows6, rows5, rows4, rows3, rows2, rows1)"
   ]
  },
  {
   "cell_type": "code",
   "execution_count": 5,
   "metadata": {
    "collapsed": false,
    "scrolled": true
   },
   "outputs": [
    {
     "data": {
      "text/plain": [
       "2495851"
      ]
     },
     "execution_count": 5,
     "metadata": {},
     "output_type": "execute_result"
    }
   ],
   "source": [
    "len(rows)"
   ]
  },
  {
   "cell_type": "code",
   "execution_count": 6,
   "metadata": {
    "collapsed": false
   },
   "outputs": [
    {
     "data": {
      "text/plain": [
       "193257"
      ]
     },
     "execution_count": 6,
     "metadata": {},
     "output_type": "execute_result"
    }
   ],
   "source": [
    "len(rows2)"
   ]
  },
  {
   "cell_type": "code",
   "execution_count": 7,
   "metadata": {
    "collapsed": false
   },
   "outputs": [],
   "source": [
    "def read_rows(raw_rows):\n",
    "    dct = {}\n",
    "    for row in raw_rows:\n",
    "        dct.setdefault(tuple(row[:4]), []).append(tuple(row[4:]))\n",
    "    return dct    \n",
    "\n",
    "raw_readings = read_rows(rows)"
   ]
  },
  {
   "cell_type": "code",
   "execution_count": 8,
   "metadata": {
    "collapsed": false
   },
   "outputs": [
    {
     "data": {
      "text/plain": [
       "4583"
      ]
     },
     "execution_count": 8,
     "metadata": {},
     "output_type": "execute_result"
    }
   ],
   "source": [
    "len(raw_readings.items())"
   ]
  },
  {
   "cell_type": "code",
   "execution_count": 9,
   "metadata": {
    "collapsed": false
   },
   "outputs": [],
   "source": [
    "# raw_readings.items()[0]"
   ]
  },
  {
   "cell_type": "markdown",
   "metadata": {},
   "source": [
    "## Time Series\n",
    "Extract time information and count numbers from dictionary values for turnstile exits.\n",
    "\n",
    "Filter out values that are negative or seem unreasonably large."
   ]
  },
  {
   "cell_type": "code",
   "execution_count": 9,
   "metadata": {
    "collapsed": false
   },
   "outputs": [],
   "source": [
    "def accum_by_datetime(dct):\n",
    "    d = {turnstile: [(datetime.datetime.strptime(date + time,\n",
    "                                        '%m/%d/%Y%X'),\n",
    "                                        int(out_cumulative))\n",
    "                                       for _, _, date, time,\n",
    "                                           _, _, out_cumulative in rows]\n",
    "                           for turnstile, rows in dct.items()}\n",
    "    return d\n",
    "\n",
    "datetime_cumulative = accum_by_datetime(raw_readings)"
   ]
  },
  {
   "cell_type": "code",
   "execution_count": 10,
   "metadata": {
    "collapsed": false
   },
   "outputs": [],
   "source": [
    "#datetime_cumulative.items()[0]"
   ]
  },
  {
   "cell_type": "code",
   "execution_count": 11,
   "metadata": {
    "collapsed": true
   },
   "outputs": [],
   "source": [
    "def count_by_datetime(dct):\n",
    "    d = {turnstile: [[rows[i][0],\n",
    "                     rows[i+1][1] - rows[i][1],\n",
    "                     rows[i+1][0] - rows[i][0]]\n",
    "                    for i in range(len(rows) - 1)]\n",
    "        for turnstile, rows in dct.items()}\n",
    "    return d\n",
    "\n",
    "datetime_count_times = count_by_datetime(datetime_cumulative)"
   ]
  },
  {
   "cell_type": "code",
   "execution_count": 12,
   "metadata": {
    "collapsed": false
   },
   "outputs": [
    {
     "name": "stdout",
     "output_type": "stream",
     "text": [
      "4583\n"
     ]
    },
    {
     "data": {
      "text/plain": [
       "(('A030', 'R083', '01-06-00', '23 ST-5 AVE'),\n",
       " [[datetime.datetime(2015, 3, 28, 0, 0), 12, datetime.timedelta(0, 14400)],\n",
       "  [datetime.datetime(2015, 3, 28, 4, 0), 32, datetime.timedelta(0, 14400)],\n",
       "  [datetime.datetime(2015, 3, 28, 8, 0), 169, datetime.timedelta(0, 14400)],\n",
       "  [datetime.datetime(2015, 3, 28, 12, 0), 225, datetime.timedelta(0, 14400)],\n",
       "  [datetime.datetime(2015, 3, 28, 16, 0), 237, datetime.timedelta(0, 14400)],\n",
       "  [datetime.datetime(2015, 3, 28, 20, 0), 79, datetime.timedelta(0, 14400)],\n",
       "  [datetime.datetime(2015, 3, 29, 0, 0), 23, datetime.timedelta(0, 14400)],\n",
       "  [datetime.datetime(2015, 3, 29, 4, 0), 12, datetime.timedelta(0, 14400)],\n",
       "  [datetime.datetime(2015, 3, 29, 8, 0), 90, datetime.timedelta(0, 14400)],\n",
       "  [datetime.datetime(2015, 3, 29, 12, 0), 203, datetime.timedelta(0, 14400)],\n",
       "  [datetime.datetime(2015, 3, 29, 16, 0), 147, datetime.timedelta(0, 14400)],\n",
       "  [datetime.datetime(2015, 3, 29, 20, 0), 32, datetime.timedelta(0, 14400)],\n",
       "  [datetime.datetime(2015, 3, 30, 0, 0), 1, datetime.timedelta(0, 14400)],\n",
       "  [datetime.datetime(2015, 3, 30, 4, 0), 71, datetime.timedelta(0, 14400)],\n",
       "  [datetime.datetime(2015, 3, 30, 8, 0), 280, datetime.timedelta(0, 14400)],\n",
       "  [datetime.datetime(2015, 3, 30, 12, 0), 242, datetime.timedelta(0, 14400)],\n",
       "  [datetime.datetime(2015, 3, 30, 16, 0), 266, datetime.timedelta(0, 14400)],\n",
       "  [datetime.datetime(2015, 3, 30, 20, 0), 50, datetime.timedelta(0, 14400)],\n",
       "  [datetime.datetime(2015, 3, 31, 0, 0), 4, datetime.timedelta(0, 14400)],\n",
       "  [datetime.datetime(2015, 3, 31, 4, 0), 67, datetime.timedelta(0, 14400)],\n",
       "  [datetime.datetime(2015, 3, 31, 8, 0), 395, datetime.timedelta(0, 14400)],\n",
       "  [datetime.datetime(2015, 3, 31, 12, 0), 330, datetime.timedelta(0, 14400)],\n",
       "  [datetime.datetime(2015, 3, 31, 16, 0), 315, datetime.timedelta(0, 14400)],\n",
       "  [datetime.datetime(2015, 3, 31, 20, 0), 48, datetime.timedelta(0, 14400)],\n",
       "  [datetime.datetime(2015, 4, 1, 0, 0), 0, datetime.timedelta(0, 14400)],\n",
       "  [datetime.datetime(2015, 4, 1, 4, 0), 60, datetime.timedelta(0, 14400)],\n",
       "  [datetime.datetime(2015, 4, 1, 8, 0), 396, datetime.timedelta(0, 14400)],\n",
       "  [datetime.datetime(2015, 4, 1, 12, 0), 271, datetime.timedelta(0, 14400)],\n",
       "  [datetime.datetime(2015, 4, 1, 16, 0), 276, datetime.timedelta(0, 14400)],\n",
       "  [datetime.datetime(2015, 4, 1, 20, 0), 62, datetime.timedelta(0, 14400)],\n",
       "  [datetime.datetime(2015, 4, 2, 0, 0), 4, datetime.timedelta(0, 14400)],\n",
       "  [datetime.datetime(2015, 4, 2, 4, 0), 47, datetime.timedelta(0, 14400)],\n",
       "  [datetime.datetime(2015, 4, 2, 8, 0), 398, datetime.timedelta(0, 14400)],\n",
       "  [datetime.datetime(2015, 4, 2, 12, 0), 338, datetime.timedelta(0, 14400)],\n",
       "  [datetime.datetime(2015, 4, 2, 16, 0), 324, datetime.timedelta(0, 14400)],\n",
       "  [datetime.datetime(2015, 4, 2, 20, 0), 64, datetime.timedelta(0, 14400)],\n",
       "  [datetime.datetime(2015, 4, 3, 0, 0), 11, datetime.timedelta(0, 14400)],\n",
       "  [datetime.datetime(2015, 4, 3, 4, 0), 57, datetime.timedelta(0, 14400)],\n",
       "  [datetime.datetime(2015, 4, 3, 8, 0), 318, datetime.timedelta(0, 14400)],\n",
       "  [datetime.datetime(2015, 4, 3, 12, 0), 327, datetime.timedelta(0, 14400)],\n",
       "  [datetime.datetime(2015, 4, 3, 16, 0), 266, datetime.timedelta(0, 14400)],\n",
       "  [datetime.datetime(2015, 4, 3, 20, 0), 75, datetime.timedelta(0, 14400)],\n",
       "  [datetime.datetime(2015, 4, 4, 0, 0), 16, datetime.timedelta(0, 14400)],\n",
       "  [datetime.datetime(2015, 4, 4, 4, 0), 31, datetime.timedelta(0, 14400)],\n",
       "  [datetime.datetime(2015, 4, 4, 8, 0), 169, datetime.timedelta(0, 14400)],\n",
       "  [datetime.datetime(2015, 4, 4, 12, 0), 269, datetime.timedelta(0, 14400)],\n",
       "  [datetime.datetime(2015, 4, 4, 16, 0), 229, datetime.timedelta(0, 14400)],\n",
       "  [datetime.datetime(2015, 4, 4, 20, 0), 69, datetime.timedelta(0, 14400)],\n",
       "  [datetime.datetime(2015, 4, 5, 0, 0), 12, datetime.timedelta(0, 14400)],\n",
       "  [datetime.datetime(2015, 4, 5, 4, 0), 17, datetime.timedelta(0, 14400)],\n",
       "  [datetime.datetime(2015, 4, 5, 8, 0), 95, datetime.timedelta(0, 14400)],\n",
       "  [datetime.datetime(2015, 4, 5, 12, 0), 188, datetime.timedelta(0, 14400)],\n",
       "  [datetime.datetime(2015, 4, 5, 16, 0), 118, datetime.timedelta(0, 14400)],\n",
       "  [datetime.datetime(2015, 4, 5, 20, 0), 29, datetime.timedelta(0, 14400)],\n",
       "  [datetime.datetime(2015, 4, 6, 0, 0), 1, datetime.timedelta(0, 14400)],\n",
       "  [datetime.datetime(2015, 4, 6, 4, 0), 61, datetime.timedelta(0, 14400)],\n",
       "  [datetime.datetime(2015, 4, 6, 8, 0), 299, datetime.timedelta(0, 14400)],\n",
       "  [datetime.datetime(2015, 4, 6, 12, 0), 269, datetime.timedelta(0, 14400)],\n",
       "  [datetime.datetime(2015, 4, 6, 16, 0), 281, datetime.timedelta(0, 14400)],\n",
       "  [datetime.datetime(2015, 4, 6, 20, 0), 43, datetime.timedelta(0, 14400)],\n",
       "  [datetime.datetime(2015, 4, 7, 0, 0), 2, datetime.timedelta(0, 14400)],\n",
       "  [datetime.datetime(2015, 4, 7, 4, 0), 64, datetime.timedelta(0, 14400)],\n",
       "  [datetime.datetime(2015, 4, 7, 8, 0), 372, datetime.timedelta(0, 14400)],\n",
       "  [datetime.datetime(2015, 4, 7, 12, 0), 291, datetime.timedelta(0, 14400)],\n",
       "  [datetime.datetime(2015, 4, 7, 16, 0), 231, datetime.timedelta(0, 14400)],\n",
       "  [datetime.datetime(2015, 4, 7, 20, 0), 63, datetime.timedelta(0, 14400)],\n",
       "  [datetime.datetime(2015, 4, 8, 0, 0), 4, datetime.timedelta(0, 14400)],\n",
       "  [datetime.datetime(2015, 4, 8, 4, 0), 64, datetime.timedelta(0, 14400)],\n",
       "  [datetime.datetime(2015, 4, 8, 8, 0), 394, datetime.timedelta(0, 14400)],\n",
       "  [datetime.datetime(2015, 4, 8, 12, 0), 321, datetime.timedelta(0, 14400)],\n",
       "  [datetime.datetime(2015, 4, 8, 16, 0), 265, datetime.timedelta(0, 14400)],\n",
       "  [datetime.datetime(2015, 4, 8, 20, 0), 60, datetime.timedelta(0, 14400)],\n",
       "  [datetime.datetime(2015, 4, 9, 0, 0), 6, datetime.timedelta(0, 14400)],\n",
       "  [datetime.datetime(2015, 4, 9, 4, 0), 55, datetime.timedelta(0, 14400)],\n",
       "  [datetime.datetime(2015, 4, 9, 8, 0), 372, datetime.timedelta(0, 14400)],\n",
       "  [datetime.datetime(2015, 4, 9, 12, 0), 307, datetime.timedelta(0, 14400)],\n",
       "  [datetime.datetime(2015, 4, 9, 16, 0), 296, datetime.timedelta(0, 14400)],\n",
       "  [datetime.datetime(2015, 4, 9, 20, 0), 65, datetime.timedelta(0, 14400)],\n",
       "  [datetime.datetime(2015, 4, 10, 0, 0), 1, datetime.timedelta(0, 14400)],\n",
       "  [datetime.datetime(2015, 4, 10, 4, 0), 55, datetime.timedelta(0, 14400)],\n",
       "  [datetime.datetime(2015, 4, 10, 8, 0), 369, datetime.timedelta(0, 14400)],\n",
       "  [datetime.datetime(2015, 4, 10, 12, 0), 295, datetime.timedelta(0, 14400)],\n",
       "  [datetime.datetime(2015, 4, 10, 16, 0), 317, datetime.timedelta(0, 14400)],\n",
       "  [datetime.datetime(2015, 4, 10, 20, 0), 73, datetime.timedelta(0, 14400)],\n",
       "  [datetime.datetime(2015, 4, 11, 0, 0), 15, datetime.timedelta(0, 14400)],\n",
       "  [datetime.datetime(2015, 4, 11, 4, 0), 22, datetime.timedelta(0, 14400)],\n",
       "  [datetime.datetime(2015, 4, 11, 8, 0), 133, datetime.timedelta(0, 14400)],\n",
       "  [datetime.datetime(2015, 4, 11, 12, 0), 228, datetime.timedelta(0, 14400)],\n",
       "  [datetime.datetime(2015, 4, 11, 16, 0), 198, datetime.timedelta(0, 14400)],\n",
       "  [datetime.datetime(2015, 4, 11, 20, 0), 88, datetime.timedelta(0, 14400)],\n",
       "  [datetime.datetime(2015, 4, 12, 0, 0), 6, datetime.timedelta(0, 14400)],\n",
       "  [datetime.datetime(2015, 4, 12, 4, 0), 11, datetime.timedelta(0, 14400)],\n",
       "  [datetime.datetime(2015, 4, 12, 8, 0), 113, datetime.timedelta(0, 14400)],\n",
       "  [datetime.datetime(2015, 4, 12, 12, 0), 185, datetime.timedelta(0, 14400)],\n",
       "  [datetime.datetime(2015, 4, 12, 16, 0), 173, datetime.timedelta(0, 14400)],\n",
       "  [datetime.datetime(2015, 4, 12, 20, 0), 29, datetime.timedelta(0, 14400)],\n",
       "  [datetime.datetime(2015, 4, 13, 0, 0), 6, datetime.timedelta(0, 14400)],\n",
       "  [datetime.datetime(2015, 4, 13, 4, 0), 67, datetime.timedelta(0, 14400)],\n",
       "  [datetime.datetime(2015, 4, 13, 8, 0), 332, datetime.timedelta(0, 14400)],\n",
       "  [datetime.datetime(2015, 4, 13, 12, 0), 250, datetime.timedelta(0, 14400)],\n",
       "  [datetime.datetime(2015, 4, 13, 16, 0), 245, datetime.timedelta(0, 14400)],\n",
       "  [datetime.datetime(2015, 4, 13, 20, 0), 53, datetime.timedelta(0, 14400)],\n",
       "  [datetime.datetime(2015, 4, 14, 0, 0), 2, datetime.timedelta(0, 14400)],\n",
       "  [datetime.datetime(2015, 4, 14, 4, 0), 59, datetime.timedelta(0, 14400)],\n",
       "  [datetime.datetime(2015, 4, 14, 8, 0), 387, datetime.timedelta(0, 14400)],\n",
       "  [datetime.datetime(2015, 4, 14, 12, 0), 247, datetime.timedelta(0, 14400)],\n",
       "  [datetime.datetime(2015, 4, 14, 16, 0), 313, datetime.timedelta(0, 14400)],\n",
       "  [datetime.datetime(2015, 4, 14, 20, 0), 55, datetime.timedelta(0, 14400)],\n",
       "  [datetime.datetime(2015, 4, 15, 0, 0), 2, datetime.timedelta(0, 14400)],\n",
       "  [datetime.datetime(2015, 4, 15, 4, 0), 65, datetime.timedelta(0, 14400)],\n",
       "  [datetime.datetime(2015, 4, 15, 8, 0), 379, datetime.timedelta(0, 14400)],\n",
       "  [datetime.datetime(2015, 4, 15, 12, 0), 325, datetime.timedelta(0, 14400)],\n",
       "  [datetime.datetime(2015, 4, 15, 16, 0), 308, datetime.timedelta(0, 14400)],\n",
       "  [datetime.datetime(2015, 4, 15, 20, 0), 47, datetime.timedelta(0, 14400)],\n",
       "  [datetime.datetime(2015, 4, 16, 0, 0), 9, datetime.timedelta(0, 14400)],\n",
       "  [datetime.datetime(2015, 4, 16, 4, 0), 49, datetime.timedelta(0, 14400)],\n",
       "  [datetime.datetime(2015, 4, 16, 8, 0), 390, datetime.timedelta(0, 14400)],\n",
       "  [datetime.datetime(2015, 4, 16, 12, 0), 661, datetime.timedelta(0, 28800)],\n",
       "  [datetime.datetime(2015, 4, 16, 20, 0), 68, datetime.timedelta(0, 14400)],\n",
       "  [datetime.datetime(2015, 4, 17, 0, 0), 4, datetime.timedelta(0, 14400)],\n",
       "  [datetime.datetime(2015, 4, 17, 4, 0), 62, datetime.timedelta(0, 14400)],\n",
       "  [datetime.datetime(2015, 4, 17, 8, 0), 375, datetime.timedelta(0, 14400)],\n",
       "  [datetime.datetime(2015, 4, 17, 12, 0), 294, datetime.timedelta(0, 14400)],\n",
       "  [datetime.datetime(2015, 4, 17, 16, 0), 269, datetime.timedelta(0, 14400)],\n",
       "  [datetime.datetime(2015, 4, 17, 20, 0), 100, datetime.timedelta(0, 14400)],\n",
       "  [datetime.datetime(2015, 4, 18, 0, 0), 22, datetime.timedelta(0, 14400)],\n",
       "  [datetime.datetime(2015, 4, 18, 4, 0), 35, datetime.timedelta(0, 14400)],\n",
       "  [datetime.datetime(2015, 4, 18, 8, 0), 165, datetime.timedelta(0, 14400)],\n",
       "  [datetime.datetime(2015, 4, 18, 12, 0), 263, datetime.timedelta(0, 14400)],\n",
       "  [datetime.datetime(2015, 4, 18, 16, 0), 295, datetime.timedelta(0, 14400)],\n",
       "  [datetime.datetime(2015, 4, 18, 20, 0), 102, datetime.timedelta(0, 14400)],\n",
       "  [datetime.datetime(2015, 4, 19, 0, 0), 28, datetime.timedelta(0, 14400)],\n",
       "  [datetime.datetime(2015, 4, 19, 4, 0), 12, datetime.timedelta(0, 14400)],\n",
       "  [datetime.datetime(2015, 4, 19, 8, 0), 122, datetime.timedelta(0, 14400)],\n",
       "  [datetime.datetime(2015, 4, 19, 12, 0), 272, datetime.timedelta(0, 14400)],\n",
       "  [datetime.datetime(2015, 4, 19, 16, 0), 227, datetime.timedelta(0, 14400)],\n",
       "  [datetime.datetime(2015, 4, 19, 20, 0), 55, datetime.timedelta(0, 14400)],\n",
       "  [datetime.datetime(2015, 4, 20, 0, 0), 1, datetime.timedelta(0, 14400)],\n",
       "  [datetime.datetime(2015, 4, 20, 4, 0), 61, datetime.timedelta(0, 14400)],\n",
       "  [datetime.datetime(2015, 4, 20, 8, 0), 414, datetime.timedelta(0, 14400)],\n",
       "  [datetime.datetime(2015, 4, 20, 12, 0), 231, datetime.timedelta(0, 14400)],\n",
       "  [datetime.datetime(2015, 4, 20, 16, 0), 261, datetime.timedelta(0, 14400)],\n",
       "  [datetime.datetime(2015, 4, 20, 20, 0), 64, datetime.timedelta(0, 14400)],\n",
       "  [datetime.datetime(2015, 4, 21, 0, 0), 3, datetime.timedelta(0, 14400)],\n",
       "  [datetime.datetime(2015, 4, 21, 4, 0), 49, datetime.timedelta(0, 14400)],\n",
       "  [datetime.datetime(2015, 4, 21, 8, 0), 453, datetime.timedelta(0, 14400)],\n",
       "  [datetime.datetime(2015, 4, 21, 12, 0), 319, datetime.timedelta(0, 14400)],\n",
       "  [datetime.datetime(2015, 4, 21, 16, 0), 261, datetime.timedelta(0, 14400)],\n",
       "  [datetime.datetime(2015, 4, 21, 20, 0), 60, datetime.timedelta(0, 14400)],\n",
       "  [datetime.datetime(2015, 4, 22, 0, 0), 4, datetime.timedelta(0, 14400)],\n",
       "  [datetime.datetime(2015, 4, 22, 4, 0), 51, datetime.timedelta(0, 14400)],\n",
       "  [datetime.datetime(2015, 4, 22, 8, 0), 403, datetime.timedelta(0, 14400)],\n",
       "  [datetime.datetime(2015, 4, 22, 12, 0), 297, datetime.timedelta(0, 14400)],\n",
       "  [datetime.datetime(2015, 4, 22, 16, 0), 282, datetime.timedelta(0, 14400)],\n",
       "  [datetime.datetime(2015, 4, 22, 20, 0), 54, datetime.timedelta(0, 14400)],\n",
       "  [datetime.datetime(2015, 4, 23, 0, 0), 7, datetime.timedelta(0, 14400)],\n",
       "  [datetime.datetime(2015, 4, 23, 4, 0), 62, datetime.timedelta(0, 14400)],\n",
       "  [datetime.datetime(2015, 4, 23, 8, 0), 395, datetime.timedelta(0, 14400)],\n",
       "  [datetime.datetime(2015, 4, 23, 12, 0), 99, datetime.timedelta(0, 7223)],\n",
       "  [datetime.datetime(2015, 4, 23, 14, 0, 23),\n",
       "   172,\n",
       "   datetime.timedelta(0, 7177)],\n",
       "  [datetime.datetime(2015, 4, 23, 16, 0), 328, datetime.timedelta(0, 14400)],\n",
       "  [datetime.datetime(2015, 4, 23, 20, 0), 67, datetime.timedelta(0, 14400)],\n",
       "  [datetime.datetime(2015, 4, 24, 0, 0), 6, datetime.timedelta(0, 14400)],\n",
       "  [datetime.datetime(2015, 4, 24, 4, 0), 65, datetime.timedelta(0, 14400)],\n",
       "  [datetime.datetime(2015, 4, 24, 8, 0), 554, datetime.timedelta(0, 28800)],\n",
       "  [datetime.datetime(2015, 4, 24, 16, 0), 291, datetime.timedelta(0, 14400)],\n",
       "  [datetime.datetime(2015, 4, 24, 20, 0), 94, datetime.timedelta(0, 14400)],\n",
       "  [datetime.datetime(2015, 4, 25, 0, 0), 9, datetime.timedelta(0, 14400)],\n",
       "  [datetime.datetime(2015, 4, 25, 4, 0), 28, datetime.timedelta(0, 14400)],\n",
       "  [datetime.datetime(2015, 4, 25, 8, 0), 177, datetime.timedelta(0, 14400)],\n",
       "  [datetime.datetime(2015, 4, 25, 12, 0), 219, datetime.timedelta(0, 14400)],\n",
       "  [datetime.datetime(2015, 4, 25, 16, 0), 240, datetime.timedelta(0, 14400)],\n",
       "  [datetime.datetime(2015, 4, 25, 20, 0), 83, datetime.timedelta(0, 14400)],\n",
       "  [datetime.datetime(2015, 4, 26, 0, 0), 25, datetime.timedelta(0, 14400)],\n",
       "  [datetime.datetime(2015, 4, 26, 4, 0), 10, datetime.timedelta(0, 14400)],\n",
       "  [datetime.datetime(2015, 4, 26, 8, 0), 108, datetime.timedelta(0, 14400)],\n",
       "  [datetime.datetime(2015, 4, 26, 12, 0), 190, datetime.timedelta(0, 14400)],\n",
       "  [datetime.datetime(2015, 4, 26, 16, 0), 185, datetime.timedelta(0, 14400)],\n",
       "  [datetime.datetime(2015, 4, 26, 20, 0), 35, datetime.timedelta(0, 14400)],\n",
       "  [datetime.datetime(2015, 4, 27, 0, 0), 1, datetime.timedelta(0, 14400)],\n",
       "  [datetime.datetime(2015, 4, 27, 4, 0), 62, datetime.timedelta(0, 14400)],\n",
       "  [datetime.datetime(2015, 4, 27, 8, 0), 352, datetime.timedelta(0, 14400)],\n",
       "  [datetime.datetime(2015, 4, 27, 12, 0), 221, datetime.timedelta(0, 14400)],\n",
       "  [datetime.datetime(2015, 4, 27, 16, 0), 287, datetime.timedelta(0, 14400)],\n",
       "  [datetime.datetime(2015, 4, 27, 20, 0), 57, datetime.timedelta(0, 14400)],\n",
       "  [datetime.datetime(2015, 4, 28, 0, 0), 2, datetime.timedelta(0, 14400)],\n",
       "  [datetime.datetime(2015, 4, 28, 4, 0), 68, datetime.timedelta(0, 14400)],\n",
       "  [datetime.datetime(2015, 4, 28, 8, 0), 407, datetime.timedelta(0, 14400)],\n",
       "  [datetime.datetime(2015, 4, 28, 12, 0), 277, datetime.timedelta(0, 14400)],\n",
       "  [datetime.datetime(2015, 4, 28, 16, 0), 227, datetime.timedelta(0, 14400)],\n",
       "  [datetime.datetime(2015, 4, 28, 20, 0), 53, datetime.timedelta(0, 14400)],\n",
       "  [datetime.datetime(2015, 4, 29, 0, 0), 3, datetime.timedelta(0, 14400)],\n",
       "  [datetime.datetime(2015, 4, 29, 4, 0), 68, datetime.timedelta(0, 14400)],\n",
       "  [datetime.datetime(2015, 4, 29, 8, 0), 360, datetime.timedelta(0, 14400)],\n",
       "  [datetime.datetime(2015, 4, 29, 12, 0), 311, datetime.timedelta(0, 14400)],\n",
       "  [datetime.datetime(2015, 4, 29, 16, 0), 297, datetime.timedelta(0, 14400)],\n",
       "  [datetime.datetime(2015, 4, 29, 20, 0), 69, datetime.timedelta(0, 14400)],\n",
       "  [datetime.datetime(2015, 4, 30, 0, 0), 10, datetime.timedelta(0, 14400)],\n",
       "  [datetime.datetime(2015, 4, 30, 4, 0), 70, datetime.timedelta(0, 14400)],\n",
       "  [datetime.datetime(2015, 4, 30, 8, 0), 400, datetime.timedelta(0, 14400)],\n",
       "  [datetime.datetime(2015, 4, 30, 12, 0), 255, datetime.timedelta(0, 14400)],\n",
       "  [datetime.datetime(2015, 4, 30, 16, 0), 329, datetime.timedelta(0, 14400)],\n",
       "  [datetime.datetime(2015, 4, 30, 20, 0), 68, datetime.timedelta(0, 14400)],\n",
       "  [datetime.datetime(2015, 5, 1, 0, 0), 6, datetime.timedelta(0, 14400)],\n",
       "  [datetime.datetime(2015, 5, 1, 4, 0), 61, datetime.timedelta(0, 14400)],\n",
       "  [datetime.datetime(2015, 5, 1, 8, 0), 360, datetime.timedelta(0, 14400)],\n",
       "  [datetime.datetime(2015, 5, 1, 12, 0), 288, datetime.timedelta(0, 14400)],\n",
       "  [datetime.datetime(2015, 5, 1, 16, 0), 333, datetime.timedelta(0, 14400)],\n",
       "  [datetime.datetime(2015, 5, 1, 20, 0), 83, datetime.timedelta(0, 14400)],\n",
       "  [datetime.datetime(2015, 5, 2, 0, 0), 15, datetime.timedelta(0, 14400)],\n",
       "  [datetime.datetime(2015, 5, 2, 4, 0), 26, datetime.timedelta(0, 14400)],\n",
       "  [datetime.datetime(2015, 5, 2, 8, 0), 191, datetime.timedelta(0, 14400)],\n",
       "  [datetime.datetime(2015, 5, 2, 12, 0), 280, datetime.timedelta(0, 14400)],\n",
       "  [datetime.datetime(2015, 5, 2, 16, 0), 277, datetime.timedelta(0, 14400)],\n",
       "  [datetime.datetime(2015, 5, 2, 20, 0), 93, datetime.timedelta(0, 14400)],\n",
       "  [datetime.datetime(2015, 5, 3, 0, 0), 24, datetime.timedelta(0, 14400)],\n",
       "  [datetime.datetime(2015, 5, 3, 4, 0), 17, datetime.timedelta(0, 14400)],\n",
       "  [datetime.datetime(2015, 5, 3, 8, 0), 117, datetime.timedelta(0, 14400)],\n",
       "  [datetime.datetime(2015, 5, 3, 12, 0), 229, datetime.timedelta(0, 14400)],\n",
       "  [datetime.datetime(2015, 5, 3, 16, 0), 140, datetime.timedelta(0, 14400)],\n",
       "  [datetime.datetime(2015, 5, 3, 20, 0), 79, datetime.timedelta(0, 14400)],\n",
       "  [datetime.datetime(2015, 5, 4, 0, 0), 3, datetime.timedelta(0, 14400)],\n",
       "  [datetime.datetime(2015, 5, 4, 4, 0), 64, datetime.timedelta(0, 14400)],\n",
       "  [datetime.datetime(2015, 5, 4, 8, 0), 361, datetime.timedelta(0, 14400)],\n",
       "  [datetime.datetime(2015, 5, 4, 12, 0), 245, datetime.timedelta(0, 14400)],\n",
       "  [datetime.datetime(2015, 5, 4, 16, 0), 285, datetime.timedelta(0, 14400)],\n",
       "  [datetime.datetime(2015, 5, 4, 20, 0), 67, datetime.timedelta(0, 14400)],\n",
       "  [datetime.datetime(2015, 5, 5, 0, 0), 4, datetime.timedelta(0, 14400)],\n",
       "  [datetime.datetime(2015, 5, 5, 4, 0), 91, datetime.timedelta(0, 14400)],\n",
       "  [datetime.datetime(2015, 5, 5, 8, 0), 364, datetime.timedelta(0, 14400)],\n",
       "  [datetime.datetime(2015, 5, 5, 12, 0), 267, datetime.timedelta(0, 14400)],\n",
       "  [datetime.datetime(2015, 5, 5, 16, 0), 371, datetime.timedelta(0, 14400)],\n",
       "  [datetime.datetime(2015, 5, 5, 20, 0), 62, datetime.timedelta(0, 14400)],\n",
       "  [datetime.datetime(2015, 5, 6, 0, 0), 9, datetime.timedelta(0, 14400)],\n",
       "  [datetime.datetime(2015, 5, 6, 4, 0), 76, datetime.timedelta(0, 14400)],\n",
       "  [datetime.datetime(2015, 5, 6, 8, 0), 347, datetime.timedelta(0, 14400)],\n",
       "  [datetime.datetime(2015, 5, 6, 12, 0), 278, datetime.timedelta(0, 14400)],\n",
       "  [datetime.datetime(2015, 5, 6, 16, 0), 273, datetime.timedelta(0, 14400)],\n",
       "  [datetime.datetime(2015, 5, 6, 20, 0), 179, datetime.timedelta(0, 14400)],\n",
       "  [datetime.datetime(2015, 5, 7, 0, 0), 20, datetime.timedelta(0, 14400)],\n",
       "  [datetime.datetime(2015, 5, 7, 4, 0), 180, datetime.timedelta(0, 14400)],\n",
       "  [datetime.datetime(2015, 5, 7, 8, 0), 835, datetime.timedelta(0, 14400)],\n",
       "  [datetime.datetime(2015, 5, 7, 12, 0), 622, datetime.timedelta(0, 14400)],\n",
       "  [datetime.datetime(2015, 5, 7, 16, 0), 701, datetime.timedelta(0, 14400)],\n",
       "  [datetime.datetime(2015, 5, 7, 20, 0), 197, datetime.timedelta(0, 14400)],\n",
       "  [datetime.datetime(2015, 5, 8, 0, 0), 25, datetime.timedelta(0, 14400)],\n",
       "  [datetime.datetime(2015, 5, 8, 4, 0), 208, datetime.timedelta(0, 14400)],\n",
       "  [datetime.datetime(2015, 5, 8, 8, 0), 777, datetime.timedelta(0, 14400)],\n",
       "  [datetime.datetime(2015, 5, 8, 12, 0), 663, datetime.timedelta(0, 14400)],\n",
       "  [datetime.datetime(2015, 5, 8, 16, 0), 729, datetime.timedelta(0, 14400)],\n",
       "  [datetime.datetime(2015, 5, 8, 20, 0), 237, datetime.timedelta(0, 14400)],\n",
       "  [datetime.datetime(2015, 5, 9, 0, 0), 63, datetime.timedelta(0, 14400)],\n",
       "  [datetime.datetime(2015, 5, 9, 4, 0), 65, datetime.timedelta(0, 14400)],\n",
       "  [datetime.datetime(2015, 5, 9, 8, 0), 354, datetime.timedelta(0, 14400)],\n",
       "  [datetime.datetime(2015, 5, 9, 12, 0), 564, datetime.timedelta(0, 14400)],\n",
       "  [datetime.datetime(2015, 5, 9, 16, 0), 519, datetime.timedelta(0, 14400)],\n",
       "  [datetime.datetime(2015, 5, 9, 20, 0), 207, datetime.timedelta(0, 14400)],\n",
       "  [datetime.datetime(2015, 5, 10, 0, 0), 50, datetime.timedelta(0, 14400)],\n",
       "  [datetime.datetime(2015, 5, 10, 4, 0), 35, datetime.timedelta(0, 14400)],\n",
       "  [datetime.datetime(2015, 5, 10, 8, 0), 250, datetime.timedelta(0, 14400)],\n",
       "  [datetime.datetime(2015, 5, 10, 12, 0), 386, datetime.timedelta(0, 14400)],\n",
       "  [datetime.datetime(2015, 5, 10, 16, 0), 444, datetime.timedelta(1, 72000)],\n",
       "  [datetime.datetime(2015, 5, 12, 12, 0), 269, datetime.timedelta(0, 14400)],\n",
       "  [datetime.datetime(2015, 5, 12, 16, 0), 282, datetime.timedelta(0, 14400)],\n",
       "  [datetime.datetime(2015, 5, 12, 20, 0), 83, datetime.timedelta(0, 14400)],\n",
       "  [datetime.datetime(2015, 5, 13, 0, 0), 3, datetime.timedelta(0, 14400)],\n",
       "  [datetime.datetime(2015, 5, 13, 4, 0), 66, datetime.timedelta(0, 14400)],\n",
       "  [datetime.datetime(2015, 5, 13, 8, 0), 354, datetime.timedelta(0, 14400)],\n",
       "  [datetime.datetime(2015, 5, 13, 12, 0), 292, datetime.timedelta(0, 14400)],\n",
       "  [datetime.datetime(2015, 5, 13, 16, 0), 301, datetime.timedelta(0, 14400)],\n",
       "  [datetime.datetime(2015, 5, 13, 20, 0), 66, datetime.timedelta(0, 14400)],\n",
       "  [datetime.datetime(2015, 5, 14, 0, 0), 3, datetime.timedelta(0, 14400)],\n",
       "  [datetime.datetime(2015, 5, 14, 4, 0), 69, datetime.timedelta(0, 14400)],\n",
       "  [datetime.datetime(2015, 5, 14, 8, 0), 315, datetime.timedelta(0, 14400)],\n",
       "  [datetime.datetime(2015, 5, 14, 12, 0), 276, datetime.timedelta(0, 14400)],\n",
       "  [datetime.datetime(2015, 5, 14, 16, 0), 265, datetime.timedelta(0, 14400)],\n",
       "  [datetime.datetime(2015, 5, 14, 20, 0), 80, datetime.timedelta(0, 14400)],\n",
       "  [datetime.datetime(2015, 5, 15, 0, 0), 6, datetime.timedelta(0, 14400)],\n",
       "  [datetime.datetime(2015, 5, 15, 4, 0), 55, datetime.timedelta(0, 14400)],\n",
       "  [datetime.datetime(2015, 5, 15, 8, 0), 343, datetime.timedelta(0, 14400)],\n",
       "  [datetime.datetime(2015, 5, 15, 12, 0), 282, datetime.timedelta(0, 14400)],\n",
       "  [datetime.datetime(2015, 5, 15, 16, 0), 321, datetime.timedelta(0, 14400)],\n",
       "  [datetime.datetime(2015, 5, 15, 20, 0), 100, datetime.timedelta(0, 14400)],\n",
       "  [datetime.datetime(2015, 5, 16, 0, 0), 9, datetime.timedelta(0, 14400)],\n",
       "  [datetime.datetime(2015, 5, 16, 4, 0), 25, datetime.timedelta(0, 14400)],\n",
       "  [datetime.datetime(2015, 5, 16, 8, 0), 137, datetime.timedelta(0, 14400)],\n",
       "  [datetime.datetime(2015, 5, 16, 12, 0), 333, datetime.timedelta(0, 14400)],\n",
       "  [datetime.datetime(2015, 5, 16, 16, 0), 270, datetime.timedelta(0, 14400)],\n",
       "  [datetime.datetime(2015, 5, 16, 20, 0), 95, datetime.timedelta(0, 14400)],\n",
       "  [datetime.datetime(2015, 5, 17, 0, 0), 17, datetime.timedelta(0, 14400)],\n",
       "  [datetime.datetime(2015, 5, 17, 4, 0), 15, datetime.timedelta(0, 14400)],\n",
       "  [datetime.datetime(2015, 5, 17, 8, 0), 97, datetime.timedelta(0, 14400)],\n",
       "  [datetime.datetime(2015, 5, 17, 12, 0), 215, datetime.timedelta(0, 14400)],\n",
       "  [datetime.datetime(2015, 5, 17, 16, 0), 156, datetime.timedelta(0, 14400)],\n",
       "  [datetime.datetime(2015, 5, 17, 20, 0), 54, datetime.timedelta(0, 14400)],\n",
       "  [datetime.datetime(2015, 5, 18, 0, 0), 6, datetime.timedelta(0, 14400)],\n",
       "  [datetime.datetime(2015, 5, 18, 4, 0), 62, datetime.timedelta(0, 14400)],\n",
       "  [datetime.datetime(2015, 5, 18, 8, 0), 361, datetime.timedelta(0, 14400)],\n",
       "  [datetime.datetime(2015, 5, 18, 12, 0), 284, datetime.timedelta(0, 14400)],\n",
       "  [datetime.datetime(2015, 5, 18, 16, 0), 311, datetime.timedelta(0, 14400)],\n",
       "  [datetime.datetime(2015, 5, 18, 20, 0), 66, datetime.timedelta(0, 14400)],\n",
       "  [datetime.datetime(2015, 5, 19, 0, 0), 5, datetime.timedelta(0, 14400)],\n",
       "  [datetime.datetime(2015, 5, 19, 4, 0), 64, datetime.timedelta(0, 14400)],\n",
       "  [datetime.datetime(2015, 5, 19, 8, 0), 394, datetime.timedelta(0, 14400)],\n",
       "  [datetime.datetime(2015, 5, 19, 12, 0), 271, datetime.timedelta(0, 14400)],\n",
       "  [datetime.datetime(2015, 5, 19, 16, 0), 300, datetime.timedelta(0, 14400)],\n",
       "  [datetime.datetime(2015, 5, 19, 20, 0), 62, datetime.timedelta(0, 14400)],\n",
       "  [datetime.datetime(2015, 5, 20, 0, 0), 5, datetime.timedelta(0, 14400)],\n",
       "  [datetime.datetime(2015, 5, 20, 4, 0), 64, datetime.timedelta(0, 14400)],\n",
       "  [datetime.datetime(2015, 5, 20, 8, 0), 333, datetime.timedelta(0, 14400)],\n",
       "  [datetime.datetime(2015, 5, 20, 12, 0), 275, datetime.timedelta(0, 14400)],\n",
       "  [datetime.datetime(2015, 5, 20, 16, 0), 265, datetime.timedelta(0, 14400)],\n",
       "  [datetime.datetime(2015, 5, 20, 20, 0), 73, datetime.timedelta(0, 14400)],\n",
       "  [datetime.datetime(2015, 5, 21, 0, 0), 6, datetime.timedelta(0, 14400)],\n",
       "  [datetime.datetime(2015, 5, 21, 4, 0), 69, datetime.timedelta(0, 14400)],\n",
       "  [datetime.datetime(2015, 5, 21, 8, 0), 314, datetime.timedelta(0, 14400)],\n",
       "  [datetime.datetime(2015, 5, 21, 12, 0), 302, datetime.timedelta(0, 14400)],\n",
       "  [datetime.datetime(2015, 5, 21, 16, 0), 324, datetime.timedelta(0, 14400)],\n",
       "  [datetime.datetime(2015, 5, 21, 20, 0), 72, datetime.timedelta(0, 14400)],\n",
       "  [datetime.datetime(2015, 5, 22, 0, 0), 5, datetime.timedelta(0, 14400)],\n",
       "  [datetime.datetime(2015, 5, 22, 4, 0), 68, datetime.timedelta(0, 14400)],\n",
       "  [datetime.datetime(2015, 5, 22, 8, 0), 292, datetime.timedelta(0, 14400)],\n",
       "  [datetime.datetime(2015, 5, 22, 12, 0), 305, datetime.timedelta(0, 14400)],\n",
       "  [datetime.datetime(2015, 5, 22, 16, 0), 260, datetime.timedelta(0, 14400)],\n",
       "  [datetime.datetime(2015, 5, 22, 20, 0), 94, datetime.timedelta(0, 14400)],\n",
       "  [datetime.datetime(2015, 5, 23, 0, 0), 12, datetime.timedelta(0, 14400)],\n",
       "  [datetime.datetime(2015, 5, 23, 4, 0), 20, datetime.timedelta(0, 14400)],\n",
       "  [datetime.datetime(2015, 5, 23, 8, 0), 117, datetime.timedelta(0, 14400)],\n",
       "  [datetime.datetime(2015, 5, 23, 12, 0), 198, datetime.timedelta(0, 14400)],\n",
       "  [datetime.datetime(2015, 5, 23, 16, 0), 243, datetime.timedelta(0, 14400)],\n",
       "  [datetime.datetime(2015, 5, 23, 20, 0), 72, datetime.timedelta(0, 14400)],\n",
       "  [datetime.datetime(2015, 5, 24, 0, 0), 12, datetime.timedelta(0, 14400)],\n",
       "  [datetime.datetime(2015, 5, 24, 4, 0), 17, datetime.timedelta(0, 14400)],\n",
       "  [datetime.datetime(2015, 5, 24, 8, 0), 88, datetime.timedelta(0, 14400)],\n",
       "  [datetime.datetime(2015, 5, 24, 12, 0), 156, datetime.timedelta(0, 14400)],\n",
       "  [datetime.datetime(2015, 5, 24, 16, 0), 182, datetime.timedelta(0, 14400)],\n",
       "  [datetime.datetime(2015, 5, 24, 20, 0), 64, datetime.timedelta(0, 14400)],\n",
       "  [datetime.datetime(2015, 5, 25, 0, 0), 10, datetime.timedelta(0, 14400)],\n",
       "  [datetime.datetime(2015, 5, 25, 4, 0), 18, datetime.timedelta(0, 14400)],\n",
       "  [datetime.datetime(2015, 5, 25, 8, 0), 80, datetime.timedelta(0, 14400)],\n",
       "  [datetime.datetime(2015, 5, 25, 12, 0), 213, datetime.timedelta(0, 14400)],\n",
       "  [datetime.datetime(2015, 5, 25, 16, 0), 173, datetime.timedelta(0, 14400)],\n",
       "  [datetime.datetime(2015, 5, 25, 20, 0), 42, datetime.timedelta(0, 14400)],\n",
       "  [datetime.datetime(2015, 5, 26, 0, 0), 1, datetime.timedelta(0, 14400)],\n",
       "  [datetime.datetime(2015, 5, 26, 4, 0), 60, datetime.timedelta(0, 14400)],\n",
       "  [datetime.datetime(2015, 5, 26, 8, 0), 341, datetime.timedelta(0, 14400)],\n",
       "  [datetime.datetime(2015, 5, 26, 12, 0), 245, datetime.timedelta(0, 14400)],\n",
       "  [datetime.datetime(2015, 5, 26, 16, 0), 282, datetime.timedelta(0, 14400)],\n",
       "  [datetime.datetime(2015, 5, 26, 20, 0), 81, datetime.timedelta(0, 14400)],\n",
       "  [datetime.datetime(2015, 5, 27, 0, 0), 8, datetime.timedelta(0, 14400)],\n",
       "  [datetime.datetime(2015, 5, 27, 4, 0), 73, datetime.timedelta(0, 14400)],\n",
       "  [datetime.datetime(2015, 5, 27, 8, 0), 352, datetime.timedelta(0, 14400)],\n",
       "  [datetime.datetime(2015, 5, 27, 12, 0), 310, datetime.timedelta(0, 14400)],\n",
       "  [datetime.datetime(2015, 5, 27, 16, 0), 344, datetime.timedelta(0, 14400)],\n",
       "  [datetime.datetime(2015, 5, 27, 20, 0), 61, datetime.timedelta(0, 14400)],\n",
       "  [datetime.datetime(2015, 5, 28, 0, 0), 7, datetime.timedelta(0, 14400)],\n",
       "  [datetime.datetime(2015, 5, 28, 4, 0), 59, datetime.timedelta(0, 14400)],\n",
       "  [datetime.datetime(2015, 5, 28, 8, 0), 331, datetime.timedelta(0, 14400)],\n",
       "  [datetime.datetime(2015, 5, 28, 12, 0), 283, datetime.timedelta(0, 14400)],\n",
       "  [datetime.datetime(2015, 5, 28, 16, 0), 321, datetime.timedelta(0, 14400)],\n",
       "  [datetime.datetime(2015, 5, 28, 20, 0), 50, datetime.timedelta(0, 14400)],\n",
       "  [datetime.datetime(2015, 5, 29, 0, 0), 12, datetime.timedelta(0, 14400)],\n",
       "  [datetime.datetime(2015, 5, 29, 4, 0), 60, datetime.timedelta(0, 14400)],\n",
       "  [datetime.datetime(2015, 5, 29, 8, 0), 298, datetime.timedelta(0, 14400)],\n",
       "  [datetime.datetime(2015, 5, 29, 12, 0), 331, datetime.timedelta(0, 14400)],\n",
       "  [datetime.datetime(2015, 5, 29, 16, 0), 340, datetime.timedelta(0, 14400)],\n",
       "  [datetime.datetime(2015, 5, 29, 20, 0), 79, datetime.timedelta(0, 14400)],\n",
       "  [datetime.datetime(2015, 5, 30, 0, 0), 22, datetime.timedelta(0, 14400)],\n",
       "  [datetime.datetime(2015, 5, 30, 4, 0), 22, datetime.timedelta(0, 14400)],\n",
       "  [datetime.datetime(2015, 5, 30, 8, 0), 148, datetime.timedelta(0, 14400)],\n",
       "  [datetime.datetime(2015, 5, 30, 12, 0), 276, datetime.timedelta(0, 14400)],\n",
       "  [datetime.datetime(2015, 5, 30, 16, 0), 250, datetime.timedelta(0, 14400)],\n",
       "  [datetime.datetime(2015, 5, 30, 20, 0), 100, datetime.timedelta(0, 14400)],\n",
       "  [datetime.datetime(2015, 5, 31, 0, 0), 16, datetime.timedelta(0, 14400)],\n",
       "  [datetime.datetime(2015, 5, 31, 4, 0), 16, datetime.timedelta(0, 14400)],\n",
       "  [datetime.datetime(2015, 5, 31, 8, 0), 114, datetime.timedelta(0, 14400)],\n",
       "  [datetime.datetime(2015, 5, 31, 12, 0), 210, datetime.timedelta(0, 14400)],\n",
       "  [datetime.datetime(2015, 5, 31, 16, 0), 194, datetime.timedelta(0, 14400)],\n",
       "  [datetime.datetime(2015, 5, 31, 20, 0), 29, datetime.timedelta(0, 14400)],\n",
       "  [datetime.datetime(2015, 6, 1, 0, 0), 2, datetime.timedelta(0, 14400)],\n",
       "  [datetime.datetime(2015, 6, 1, 4, 0), 79, datetime.timedelta(0, 14400)],\n",
       "  [datetime.datetime(2015, 6, 1, 8, 0), 394, datetime.timedelta(0, 14400)],\n",
       "  [datetime.datetime(2015, 6, 1, 12, 0), 266, datetime.timedelta(0, 14400)],\n",
       "  [datetime.datetime(2015, 6, 1, 16, 0), 275, datetime.timedelta(0, 14400)],\n",
       "  [datetime.datetime(2015, 6, 1, 20, 0), 59, datetime.timedelta(0, 14400)],\n",
       "  [datetime.datetime(2015, 6, 2, 0, 0), 7, datetime.timedelta(0, 14400)],\n",
       "  [datetime.datetime(2015, 6, 2, 4, 0), 65, datetime.timedelta(0, 14400)],\n",
       "  [datetime.datetime(2015, 6, 2, 8, 0), 404, datetime.timedelta(0, 14400)],\n",
       "  [datetime.datetime(2015, 6, 2, 12, 0), 332, datetime.timedelta(0, 14400)],\n",
       "  [datetime.datetime(2015, 6, 2, 16, 0), 267, datetime.timedelta(0, 14400)],\n",
       "  [datetime.datetime(2015, 6, 2, 20, 0), 86, datetime.timedelta(0, 14400)],\n",
       "  [datetime.datetime(2015, 6, 3, 0, 0), 21, datetime.timedelta(0, 14400)],\n",
       "  [datetime.datetime(2015, 6, 3, 4, 0), 59, datetime.timedelta(0, 14400)],\n",
       "  [datetime.datetime(2015, 6, 3, 8, 0), 367, datetime.timedelta(0, 14400)],\n",
       "  [datetime.datetime(2015, 6, 3, 12, 0), 271, datetime.timedelta(0, 14400)],\n",
       "  [datetime.datetime(2015, 6, 3, 16, 0), 319, datetime.timedelta(0, 14400)],\n",
       "  [datetime.datetime(2015, 6, 3, 20, 0), 80, datetime.timedelta(0, 14400)],\n",
       "  [datetime.datetime(2015, 6, 4, 0, 0), 17, datetime.timedelta(0, 14400)],\n",
       "  [datetime.datetime(2015, 6, 4, 4, 0), 84, datetime.timedelta(0, 14400)],\n",
       "  [datetime.datetime(2015, 6, 4, 8, 0), 406, datetime.timedelta(0, 14400)],\n",
       "  [datetime.datetime(2015, 6, 4, 12, 0), 246, datetime.timedelta(0, 14400)],\n",
       "  [datetime.datetime(2015, 6, 4, 16, 0), 314, datetime.timedelta(0, 14400)],\n",
       "  [datetime.datetime(2015, 6, 4, 20, 0), 92, datetime.timedelta(0, 14400)],\n",
       "  [datetime.datetime(2015, 6, 5, 0, 0), 3, datetime.timedelta(0, 14400)],\n",
       "  [datetime.datetime(2015, 6, 5, 4, 0), 71, datetime.timedelta(0, 14400)],\n",
       "  [datetime.datetime(2015, 6, 5, 8, 0), 379, datetime.timedelta(0, 14400)],\n",
       "  [datetime.datetime(2015, 6, 5, 12, 0), 314, datetime.timedelta(0, 14400)],\n",
       "  [datetime.datetime(2015, 6, 5, 16, 0), 287, datetime.timedelta(0, 14400)],\n",
       "  [datetime.datetime(2015, 6, 5, 20, 0), 83, datetime.timedelta(0, 14400)],\n",
       "  [datetime.datetime(2015, 6, 6, 0, 0), 16, datetime.timedelta(0, 14400)],\n",
       "  [datetime.datetime(2015, 6, 6, 4, 0), 31, datetime.timedelta(0, 14400)],\n",
       "  [datetime.datetime(2015, 6, 6, 8, 0), 151, datetime.timedelta(0, 14400)],\n",
       "  [datetime.datetime(2015, 6, 6, 12, 0), 211, datetime.timedelta(0, 14400)],\n",
       "  [datetime.datetime(2015, 6, 6, 16, 0), 200, datetime.timedelta(0, 14400)],\n",
       "  [datetime.datetime(2015, 6, 6, 20, 0), 82, datetime.timedelta(0, 14400)],\n",
       "  [datetime.datetime(2015, 6, 7, 0, 0), 10, datetime.timedelta(0, 14400)],\n",
       "  [datetime.datetime(2015, 6, 7, 4, 0), 14, datetime.timedelta(0, 14400)],\n",
       "  [datetime.datetime(2015, 6, 7, 8, 0), 117, datetime.timedelta(0, 14400)],\n",
       "  [datetime.datetime(2015, 6, 7, 12, 0), 282, datetime.timedelta(0, 14400)],\n",
       "  [datetime.datetime(2015, 6, 7, 16, 0), 219, datetime.timedelta(0, 14400)],\n",
       "  [datetime.datetime(2015, 6, 7, 20, 0), 59, datetime.timedelta(0, 14400)],\n",
       "  [datetime.datetime(2015, 6, 8, 0, 0), 8, datetime.timedelta(0, 14400)],\n",
       "  [datetime.datetime(2015, 6, 8, 4, 0), 57, datetime.timedelta(0, 14400)],\n",
       "  [datetime.datetime(2015, 6, 8, 8, 0), 364, datetime.timedelta(0, 14400)],\n",
       "  [datetime.datetime(2015, 6, 8, 12, 0), 297, datetime.timedelta(0, 14400)],\n",
       "  [datetime.datetime(2015, 6, 8, 16, 0), 282, datetime.timedelta(0, 14400)],\n",
       "  [datetime.datetime(2015, 6, 8, 20, 0), 56, datetime.timedelta(0, 14400)],\n",
       "  [datetime.datetime(2015, 6, 9, 0, 0), 3, datetime.timedelta(0, 14400)],\n",
       "  [datetime.datetime(2015, 6, 9, 4, 0), 74, datetime.timedelta(0, 14400)],\n",
       "  [datetime.datetime(2015, 6, 9, 8, 0), 365, datetime.timedelta(0, 14400)],\n",
       "  [datetime.datetime(2015, 6, 9, 12, 0), 275, datetime.timedelta(0, 14400)],\n",
       "  [datetime.datetime(2015, 6, 9, 16, 0), 332, datetime.timedelta(0, 14400)],\n",
       "  [datetime.datetime(2015, 6, 9, 20, 0), 48, datetime.timedelta(0, 14400)],\n",
       "  [datetime.datetime(2015, 6, 10, 0, 0), 1, datetime.timedelta(0, 14400)],\n",
       "  [datetime.datetime(2015, 6, 10, 4, 0), 80, datetime.timedelta(0, 14400)],\n",
       "  [datetime.datetime(2015, 6, 10, 8, 0), 324, datetime.timedelta(0, 14400)],\n",
       "  [datetime.datetime(2015, 6, 10, 12, 0), 301, datetime.timedelta(0, 14400)],\n",
       "  [datetime.datetime(2015, 6, 10, 16, 0), 322, datetime.timedelta(0, 14400)],\n",
       "  [datetime.datetime(2015, 6, 10, 20, 0), 71, datetime.timedelta(0, 14400)],\n",
       "  [datetime.datetime(2015, 6, 11, 0, 0), 7, datetime.timedelta(0, 14400)],\n",
       "  [datetime.datetime(2015, 6, 11, 4, 0), 83, datetime.timedelta(0, 14400)],\n",
       "  [datetime.datetime(2015, 6, 11, 8, 0), 353, datetime.timedelta(0, 14400)],\n",
       "  [datetime.datetime(2015, 6, 11, 12, 0), 294, datetime.timedelta(0, 14400)],\n",
       "  [datetime.datetime(2015, 6, 11, 16, 0), 308, datetime.timedelta(0, 14400)],\n",
       "  [datetime.datetime(2015, 6, 11, 20, 0), 82, datetime.timedelta(0, 14400)],\n",
       "  [datetime.datetime(2015, 6, 12, 0, 0), 4, datetime.timedelta(0, 14400)],\n",
       "  [datetime.datetime(2015, 6, 12, 4, 0), 68, datetime.timedelta(0, 14400)],\n",
       "  [datetime.datetime(2015, 6, 12, 8, 0), 333, datetime.timedelta(0, 14400)],\n",
       "  [datetime.datetime(2015, 6, 12, 12, 0), 279, datetime.timedelta(0, 14400)],\n",
       "  [datetime.datetime(2015, 6, 12, 16, 0), 275, datetime.timedelta(0, 14400)],\n",
       "  [datetime.datetime(2015, 6, 12, 20, 0), 120, datetime.timedelta(0, 14400)],\n",
       "  [datetime.datetime(2015, 6, 13, 0, 0), 9, datetime.timedelta(0, 14400)],\n",
       "  [datetime.datetime(2015, 6, 13, 4, 0), 27, datetime.timedelta(0, 14400)],\n",
       "  [datetime.datetime(2015, 6, 13, 8, 0), 180, datetime.timedelta(0, 14400)],\n",
       "  [datetime.datetime(2015, 6, 13, 12, 0), 343, datetime.timedelta(0, 14400)],\n",
       "  [datetime.datetime(2015, 6, 13, 16, 0), 263, datetime.timedelta(0, 14400)],\n",
       "  [datetime.datetime(2015, 6, 13, 20, 0), 113, datetime.timedelta(0, 14400)],\n",
       "  [datetime.datetime(2015, 6, 14, 0, 0), 15, datetime.timedelta(0, 14400)],\n",
       "  [datetime.datetime(2015, 6, 14, 4, 0), 18, datetime.timedelta(0, 14400)],\n",
       "  [datetime.datetime(2015, 6, 14, 8, 0), 110, datetime.timedelta(0, 14400)],\n",
       "  [datetime.datetime(2015, 6, 14, 12, 0), 280, datetime.timedelta(0, 14400)],\n",
       "  [datetime.datetime(2015, 6, 14, 16, 0), 193, datetime.timedelta(0, 14400)],\n",
       "  [datetime.datetime(2015, 6, 14, 20, 0), 48, datetime.timedelta(0, 14400)],\n",
       "  [datetime.datetime(2015, 6, 15, 0, 0), 3, datetime.timedelta(0, 14400)],\n",
       "  [datetime.datetime(2015, 6, 15, 4, 0), 73, datetime.timedelta(0, 14400)],\n",
       "  [datetime.datetime(2015, 6, 15, 8, 0), 385, datetime.timedelta(0, 14400)],\n",
       "  [datetime.datetime(2015, 6, 15, 12, 0), 303, datetime.timedelta(0, 14400)],\n",
       "  [datetime.datetime(2015, 6, 15, 16, 0), 269, datetime.timedelta(0, 14400)],\n",
       "  [datetime.datetime(2015, 6, 15, 20, 0), 72, datetime.timedelta(0, 14400)],\n",
       "  [datetime.datetime(2015, 6, 16, 0, 0), 4, datetime.timedelta(0, 14400)],\n",
       "  [datetime.datetime(2015, 6, 16, 4, 0), 80, datetime.timedelta(0, 14400)],\n",
       "  [datetime.datetime(2015, 6, 16, 8, 0), 341, datetime.timedelta(0, 14400)],\n",
       "  [datetime.datetime(2015, 6, 16, 12, 0), 295, datetime.timedelta(0, 14400)],\n",
       "  [datetime.datetime(2015, 6, 16, 16, 0), 278, datetime.timedelta(0, 14400)],\n",
       "  [datetime.datetime(2015, 6, 16, 20, 0), 57, datetime.timedelta(0, 14400)],\n",
       "  [datetime.datetime(2015, 6, 17, 0, 0), 4, datetime.timedelta(0, 14400)],\n",
       "  [datetime.datetime(2015, 6, 17, 4, 0), 88, datetime.timedelta(0, 14400)],\n",
       "  [datetime.datetime(2015, 6, 17, 8, 0), 379, datetime.timedelta(0, 14400)],\n",
       "  [datetime.datetime(2015, 6, 17, 12, 0), 245, datetime.timedelta(0, 14400)],\n",
       "  [datetime.datetime(2015, 6, 17, 16, 0), 305, datetime.timedelta(0, 14400)],\n",
       "  [datetime.datetime(2015, 6, 17, 20, 0), 64, datetime.timedelta(0, 14400)],\n",
       "  [datetime.datetime(2015, 6, 18, 0, 0), 5, datetime.timedelta(0, 14400)],\n",
       "  [datetime.datetime(2015, 6, 18, 4, 0), 89, datetime.timedelta(0, 14400)],\n",
       "  [datetime.datetime(2015, 6, 18, 8, 0), 377, datetime.timedelta(0, 14400)],\n",
       "  [datetime.datetime(2015, 6, 18, 12, 0), 278, datetime.timedelta(0, 14400)],\n",
       "  [datetime.datetime(2015, 6, 18, 16, 0), 234, datetime.timedelta(0, 14400)],\n",
       "  [datetime.datetime(2015, 6, 18, 20, 0), 67, datetime.timedelta(0, 14400)],\n",
       "  [datetime.datetime(2015, 6, 19, 0, 0), 6, datetime.timedelta(0, 14400)],\n",
       "  [datetime.datetime(2015, 6, 19, 4, 0), 77, datetime.timedelta(0, 14400)],\n",
       "  [datetime.datetime(2015, 6, 19, 8, 0), 344, datetime.timedelta(0, 14400)],\n",
       "  [datetime.datetime(2015, 6, 19, 12, 0), 313, datetime.timedelta(0, 14400)],\n",
       "  [datetime.datetime(2015, 6, 19, 16, 0), 282, datetime.timedelta(0, 14400)],\n",
       "  [datetime.datetime(2015, 6, 19, 20, 0), 127, datetime.timedelta(0, 14400)],\n",
       "  [datetime.datetime(2015, 6, 20, 0, 0), 13, datetime.timedelta(0, 14400)],\n",
       "  [datetime.datetime(2015, 6, 20, 4, 0), 29, datetime.timedelta(0, 14400)],\n",
       "  [datetime.datetime(2015, 6, 20, 8, 0), 158, datetime.timedelta(0, 14400)],\n",
       "  [datetime.datetime(2015, 6, 20, 12, 0), 216, datetime.timedelta(0, 14400)],\n",
       "  [datetime.datetime(2015, 6, 20, 16, 0), 263, datetime.timedelta(0, 14400)],\n",
       "  [datetime.datetime(2015, 6, 20, 20, 0), 44, datetime.timedelta(0, 14400)],\n",
       "  [datetime.datetime(2015, 6, 21, 0, 0), 9, datetime.timedelta(0, 14400)],\n",
       "  [datetime.datetime(2015, 6, 21, 4, 0), 14, datetime.timedelta(0, 14400)],\n",
       "  [datetime.datetime(2015, 6, 21, 8, 0), 90, datetime.timedelta(0, 14400)],\n",
       "  [datetime.datetime(2015, 6, 21, 12, 0), 169, datetime.timedelta(0, 14400)],\n",
       "  [datetime.datetime(2015, 6, 21, 16, 0), 195, datetime.timedelta(0, 14400)],\n",
       "  [datetime.datetime(2015, 6, 21, 20, 0), 46, datetime.timedelta(0, 14400)],\n",
       "  [datetime.datetime(2015, 6, 22, 0, 0), 3, datetime.timedelta(0, 14400)],\n",
       "  [datetime.datetime(2015, 6, 22, 4, 0), 47, datetime.timedelta(0, 12833)],\n",
       "  [datetime.datetime(2015, 6, 22, 7, 33, 53), 2, datetime.timedelta(0, 76)],\n",
       "  [datetime.datetime(2015, 6, 22, 7, 35, 9), 24, datetime.timedelta(0, 1491)],\n",
       "  [datetime.datetime(2015, 6, 22, 8, 0), 340, datetime.timedelta(0, 14400)],\n",
       "  [datetime.datetime(2015, 6, 22, 12, 0), 290, datetime.timedelta(0, 14400)],\n",
       "  [datetime.datetime(2015, 6, 22, 16, 0), 300, datetime.timedelta(0, 14400)],\n",
       "  [datetime.datetime(2015, 6, 22, 20, 0), 62, datetime.timedelta(0, 14400)],\n",
       "  [datetime.datetime(2015, 6, 23, 0, 0), 4, datetime.timedelta(0, 14400)],\n",
       "  [datetime.datetime(2015, 6, 23, 4, 0), 80, datetime.timedelta(0, 14400)],\n",
       "  [datetime.datetime(2015, 6, 23, 8, 0), 360, datetime.timedelta(0, 14400)],\n",
       "  [datetime.datetime(2015, 6, 23, 12, 0), 266, datetime.timedelta(0, 14400)],\n",
       "  [datetime.datetime(2015, 6, 23, 16, 0), 247, datetime.timedelta(0, 14400)],\n",
       "  [datetime.datetime(2015, 6, 23, 20, 0), 67, datetime.timedelta(0, 14400)],\n",
       "  [datetime.datetime(2015, 6, 24, 0, 0), 7, datetime.timedelta(0, 14400)],\n",
       "  [datetime.datetime(2015, 6, 24, 4, 0), 61, datetime.timedelta(0, 14400)],\n",
       "  [datetime.datetime(2015, 6, 24, 8, 0), 337, datetime.timedelta(0, 14400)],\n",
       "  [datetime.datetime(2015, 6, 24, 12, 0), 302, datetime.timedelta(0, 14400)],\n",
       "  [datetime.datetime(2015, 6, 24, 16, 0), 344, datetime.timedelta(0, 14400)],\n",
       "  [datetime.datetime(2015, 6, 24, 20, 0), 79, datetime.timedelta(0, 14400)],\n",
       "  [datetime.datetime(2015, 6, 25, 0, 0), 0, datetime.timedelta(0, 14400)],\n",
       "  [datetime.datetime(2015, 6, 25, 4, 0), 67, datetime.timedelta(0, 14400)],\n",
       "  [datetime.datetime(2015, 6, 25, 8, 0), 337, datetime.timedelta(0, 14400)],\n",
       "  [datetime.datetime(2015, 6, 25, 12, 0), 282, datetime.timedelta(0, 14400)],\n",
       "  [datetime.datetime(2015, 6, 25, 16, 0), 322, datetime.timedelta(0, 14400)],\n",
       "  [datetime.datetime(2015, 6, 25, 20, 0), 79, datetime.timedelta(0, 14400)],\n",
       "  [datetime.datetime(2015, 6, 26, 0, 0), 4, datetime.timedelta(0, 14400)],\n",
       "  [datetime.datetime(2015, 6, 26, 4, 0), 46, datetime.timedelta(0, 14400)],\n",
       "  [datetime.datetime(2015, 6, 26, 8, 0), 323, datetime.timedelta(0, 14400)],\n",
       "  [datetime.datetime(2015, 6, 26, 12, 0), 277, datetime.timedelta(0, 14400)],\n",
       "  [datetime.datetime(2015, 6, 26, 16, 0), 262, datetime.timedelta(0, 14400)]])"
      ]
     },
     "execution_count": 12,
     "metadata": {},
     "output_type": "execute_result"
    }
   ],
   "source": [
    "print len(datetime_count_times.items())\n",
    "datetime_count_times.items()[0]"
   ]
  },
  {
   "cell_type": "code",
   "execution_count": 13,
   "metadata": {
    "collapsed": false
   },
   "outputs": [],
   "source": [
    "def sort_by_value(dct):\n",
    "    dlist = sorted(dct.items(), key=lambda tup: tup[-1], reverse=True)\n",
    "    return dlist"
   ]
  },
  {
   "cell_type": "code",
   "execution_count": 14,
   "metadata": {
    "collapsed": false,
    "scrolled": true
   },
   "outputs": [
    {
     "name": "stdout",
     "output_type": "stream",
     "text": [
      "[3678, 3680, 3680, 3683, 3690, 3695, 3695, 3697, 3699, 3708, 3714, 3715, 3723, 3725, 3728, 3730, 3735, 3751, 3751, 3752, 3753, 3754, 3755, 3761, 3764, 3775, 3780, 3782, 3787, 3804, 3806, 3825, 3832, 3833, 3834, 3838, 3840, 3840, 3841, 3856, 3864, 3888, 3893, 3910, 3912, 3914, 3927, 3939, 3942, 3953, 3964, 3964, 3966, 3968, 3993, 3994, 4000, 4004, 4006, 4017, 4021, 4026, 4027, 4029, 4031, 4033, 4036, 4044, 4044, 4056, 4062, 4064, 4084, 4090, 4104, 4110, 4111, 4118, 4122, 4123, 4128, 4140, 4147, 4148, 4150, 4150, 4154, 4154, 4166, 4169, 4182, 4182, 4204, 4206, 4206, 4207, 4209, 4217, 4239, 4263, 4281, 4292, 4299, 4319, 4333, 4336, 4363, 4386, 4426, 4438, 4477, 4504, 4515, 4519, 4530, 4540, 4550, 4634, 4776, 4791, 4802, 4840, 5219, 5391, 5439, 5497, 5918, 6156, 6696, 6814, 7332, 8059, 9431, 9574, 9949, 10189, 11763, 15051, 39544, 46022, 65261, 75636, 79906, 80097, 80123, 80229, 80396, 83050, 95375, 95456, 137504, 137512, 137627, 195187, 195187, 312439, 322327, 323893, 472911, 806802, 1041725, 1042020, 1042180, 1042206, 1042233, 1532357, 3536743, 3544724, 3549211, 3967206, 4324482, 4504610, 14090235, 16754688, 16754944, 16776289, 33193788, 33470491, 33553606, 33554404, 83583227, 233913726, 233940414, 267407949, 334268900, 367693176, 451209355, 534764204, 551527548, 724262500, 725286840, 735253875, 818491749, 996474307, 1056964608, 1092607555, 1240969327, 1397903646, 1437197589, 2088517586]\n"
     ]
    }
   ],
   "source": [
    "all_counts = [count for rows in datetime_count_times.values() for _, count, _ in rows]\n",
    "all_counts.sort()\n",
    "\n",
    "print all_counts[-200:]"
   ]
  },
  {
   "cell_type": "code",
   "execution_count": 15,
   "metadata": {
    "collapsed": false
   },
   "outputs": [],
   "source": [
    "# for key, rows in datetime_count_times.items():\n",
    "#     for _, count, _ in rows:\n",
    "#         if count >= 39544:\n",
    "#             print count, key"
   ]
  },
  {
   "cell_type": "code",
   "execution_count": 16,
   "metadata": {
    "collapsed": false
   },
   "outputs": [
    {
     "name": "stdout",
     "output_type": "stream",
     "text": [
      "[-2080392237, -1376238516, -1056964595, -985959134, -250683223, -83930712, -33568330, -16754739, -16754517, -14090237, -11113480, -8172201, -8126408, -7645885, -7231960, -7136820, -6188433, -6119245, -5748960, -5713849, -5465194, -5179240, -5008747, -4331551, -4202565, -4018906, -3967127, -3549171, -3544654, -3536673, -3003243, -2962971, -2698086, -2533024, -2377006, -2376873, -2131420, -2112369, -1669794, -1617237, -1540092, -1532280, -1473817, -1393821, -1334500, -1212364, -1103455, -1102179, -1089287, -1078401]\n"
     ]
    }
   ],
   "source": [
    "print all_counts[:50]"
   ]
  },
  {
   "cell_type": "code",
   "execution_count": 17,
   "metadata": {
    "collapsed": false
   },
   "outputs": [
    {
     "name": "stdout",
     "output_type": "stream",
     "text": [
      "[(4.0, 2299978), (4.2, 140012), (8.0, 2780), (4.433333333333334, 2217), (0.02222222222222222, 1391), (0.022500000000000003, 719), (0.23333333333333334, 264), (0.02277777777777778, 231), (4.199722222222222, 153), (3.999722222222222, 131)]\n"
     ]
    }
   ],
   "source": [
    "all_times = [duration.total_seconds() / 60 / 60\n",
    "             for rows in datetime_count_times.values()\n",
    "             for _, _, duration in rows]\n",
    "print Counter(all_times).most_common(10)"
   ]
  },
  {
   "cell_type": "code",
   "execution_count": 18,
   "metadata": {
    "collapsed": true
   },
   "outputs": [],
   "source": [
    "def filter_outliers(dct):\n",
    "    d = {turnstile: [(time, count)\n",
    "                   for (time, count, _) in rows\n",
    "                   if 0 <= count <= 7000]\n",
    "       for turnstile, rows in dct.items()}\n",
    "    return d\n",
    "    \n",
    "datetime_counts = filter_outliers(datetime_count_times)"
   ]
  },
  {
   "cell_type": "code",
   "execution_count": 19,
   "metadata": {
    "collapsed": false,
    "scrolled": true
   },
   "outputs": [],
   "source": [
    "#datetime_counts.items()[0]"
   ]
  },
  {
   "cell_type": "code",
   "execution_count": 20,
   "metadata": {
    "collapsed": false
   },
   "outputs": [
    {
     "name": "stdout",
     "output_type": "stream",
     "text": [
      "0.995574944165\n"
     ]
    }
   ],
   "source": [
    "all_good_counts = [count for rows in datetime_counts.values() for _, count in rows]\n",
    "print len(all_good_counts) / len(all_counts)"
   ]
  },
  {
   "cell_type": "code",
   "execution_count": 21,
   "metadata": {
    "collapsed": false
   },
   "outputs": [
    {
     "name": "stdout",
     "output_type": "stream",
     "text": [
      "[5497, 5918, 6156, 6696, 6814]\n"
     ]
    }
   ],
   "source": [
    "all_good_counts.sort()\n",
    "print all_good_counts[-5:]"
   ]
  },
  {
   "cell_type": "code",
   "execution_count": 22,
   "metadata": {
    "collapsed": false
   },
   "outputs": [
    {
     "name": "stdout",
     "output_type": "stream",
     "text": [
      "[0, 0, 0, 0, 0]\n"
     ]
    }
   ],
   "source": [
    "print all_good_counts[:5]"
   ]
  },
  {
   "cell_type": "markdown",
   "metadata": {},
   "source": [
    "## Separate by Weeknights and Weekends\n",
    "Instead of daily entries, we want nighttime/latenight counts (8pm-4am) for weeknight (Mon-Wed) and weekend (Fri-Sat). \n",
    "\n",
    "We questioned whether Thursday should be considered weeknight or weekend. Many New Yorkers go out on Thursday nights and treat it like a weekend, but we would still be capturing commuters, as well, so this number feels like it could go either way. We decided to exclude it for this comparison.\n",
    "\n",
    "We excluded Sunday because we felt it would throw off the baseline."
   ]
  },
  {
   "cell_type": "code",
   "execution_count": 23,
   "metadata": {
    "collapsed": true
   },
   "outputs": [],
   "source": [
    "# datetime_counts.items()[0]"
   ]
  },
  {
   "cell_type": "code",
   "execution_count": 24,
   "metadata": {
    "collapsed": false
   },
   "outputs": [
    {
     "data": {
      "text/plain": [
       "datetime.datetime(2015, 4, 30, 3, 0)"
      ]
     },
     "execution_count": 24,
     "metadata": {},
     "output_type": "execute_result"
    }
   ],
   "source": [
    "# experimenting with datetime objects\n",
    "\n",
    "time = datetime.datetime(2015, 5, 1, 3, 0)\n",
    "time.year, time.month, time.day, time.hour, time.minute\n",
    "\n",
    "if 0 <= time.hour <=4:\n",
    "    time = time - datetime.timedelta(days=1)\n",
    "    \n",
    "time"
   ]
  },
  {
   "cell_type": "code",
   "execution_count": 25,
   "metadata": {
    "collapsed": true
   },
   "outputs": [],
   "source": [
    "def filter_for_night(dct):\n",
    "    d = {turnstile: [(time, count)\n",
    "                     for (time, count) in rows\n",
    "                     if time.hour <= 4 or time.hour >= 20]\n",
    "         for turnstile, rows in dct.items()}\n",
    "    return d\n",
    "\n",
    "nighttime_counts = filter_for_night(datetime_counts)"
   ]
  },
  {
   "cell_type": "code",
   "execution_count": 26,
   "metadata": {
    "collapsed": true
   },
   "outputs": [],
   "source": [
    "# nighttime_counts.items()[0]"
   ]
  },
  {
   "cell_type": "code",
   "execution_count": 27,
   "metadata": {
    "collapsed": true
   },
   "outputs": [],
   "source": [
    "def filter_weeknight(dct):\n",
    "    d = {turnstile: [(time, count)\n",
    "                     for (time, count) in rows\n",
    "                     if (time.weekday() == 0 and time.hour >= 20)\n",
    "                     or 0 < time.weekday() < 3\n",
    "                     or (time.weekday() == 3 and time.hour <=4)]\n",
    "         for turnstile, rows in dct.items()}\n",
    "    return d\n",
    "\n",
    "weeknight_counts = filter_weeknight(nighttime_counts)"
   ]
  },
  {
   "cell_type": "code",
   "execution_count": 28,
   "metadata": {
    "collapsed": true
   },
   "outputs": [],
   "source": [
    "# weeknight_counts.items()[0]"
   ]
  },
  {
   "cell_type": "code",
   "execution_count": 29,
   "metadata": {
    "collapsed": true
   },
   "outputs": [],
   "source": [
    "def filter_weekend(dct):\n",
    "    d = {turnstile: [(time, count)\n",
    "                     for (time, count) in rows\n",
    "                     if (time.weekday() == 4 and time.hour >= 20)\n",
    "                     or time.weekday() == 5\n",
    "                     or (time.weekday() == 6 and time.hour <=4)]\n",
    "         for turnstile, rows in dct.items()}\n",
    "    return d\n",
    "\n",
    "weekend_counts = filter_weekend(nighttime_counts)"
   ]
  },
  {
   "cell_type": "code",
   "execution_count": 30,
   "metadata": {
    "collapsed": true
   },
   "outputs": [],
   "source": [
    "# weekend_counts.items()[0]"
   ]
  },
  {
   "cell_type": "code",
   "execution_count": 31,
   "metadata": {
    "collapsed": false
   },
   "outputs": [],
   "source": [
    "def reassign_latenight_days(dct):\n",
    "    d = {}\n",
    "    for turnstile, rows in dct.items():\n",
    "        d.setdefault(turnstile, [])\n",
    "        for time, count in rows:\n",
    "            if time.hour <= 4:\n",
    "                d[turnstile].append((time - datetime.timedelta(days = 1), count))\n",
    "            else:\n",
    "                d[turnstile].append((time, count))\n",
    "    return d\n",
    "\n",
    "new_weekend_counts = reassign_latenight_days(weekend_counts)\n",
    "new_weeknight_counts = reassign_latenight_days(weeknight_counts)"
   ]
  },
  {
   "cell_type": "code",
   "execution_count": 32,
   "metadata": {
    "collapsed": false
   },
   "outputs": [],
   "source": [
    "# new_weeknight_counts.items()[0]"
   ]
  },
  {
   "cell_type": "code",
   "execution_count": 33,
   "metadata": {
    "collapsed": false
   },
   "outputs": [],
   "source": [
    "# new_weekend_counts.items()[0]"
   ]
  },
  {
   "cell_type": "markdown",
   "metadata": {},
   "source": [
    "##Daily Exits\n",
    "Accumulate exit counts for each day."
   ]
  },
  {
   "cell_type": "code",
   "execution_count": 99,
   "metadata": {
    "collapsed": true
   },
   "outputs": [],
   "source": [
    "def count_by_day(dct):\n",
    "    d = {}\n",
    "    for turnstile, rows in dct.items():\n",
    "        by_day = {}\n",
    "        for time, count in rows:\n",
    "            day = time.date()\n",
    "            by_day[day] = by_day.get(day, 0) + count\n",
    "        d[turnstile] = sorted(by_day.items())\n",
    "    return d\n",
    "        \n",
    "daily_weekend_counts = count_by_day(new_weekend_counts)\n",
    "daily_weeknight_counts = count_by_day(new_weeknight_counts)"
   ]
  },
  {
   "cell_type": "code",
   "execution_count": 100,
   "metadata": {
    "collapsed": false
   },
   "outputs": [
    {
     "data": {
      "text/plain": [
       "(('A030', 'R083', '01-06-00', '23 ST-5 AVE'),\n",
       " [(datetime.date(2015, 3, 27), 44),\n",
       "  (datetime.date(2015, 3, 28), 114),\n",
       "  (datetime.date(2015, 4, 3), 122),\n",
       "  (datetime.date(2015, 4, 4), 98),\n",
       "  (datetime.date(2015, 4, 10), 110),\n",
       "  (datetime.date(2015, 4, 11), 105),\n",
       "  (datetime.date(2015, 4, 17), 157),\n",
       "  (datetime.date(2015, 4, 18), 142),\n",
       "  (datetime.date(2015, 4, 24), 131),\n",
       "  (datetime.date(2015, 4, 25), 118),\n",
       "  (datetime.date(2015, 5, 1), 124),\n",
       "  (datetime.date(2015, 5, 2), 134),\n",
       "  (datetime.date(2015, 5, 8), 365),\n",
       "  (datetime.date(2015, 5, 9), 292),\n",
       "  (datetime.date(2015, 5, 15), 134),\n",
       "  (datetime.date(2015, 5, 16), 127),\n",
       "  (datetime.date(2015, 5, 22), 126),\n",
       "  (datetime.date(2015, 5, 23), 101),\n",
       "  (datetime.date(2015, 5, 29), 123),\n",
       "  (datetime.date(2015, 5, 30), 132),\n",
       "  (datetime.date(2015, 6, 5), 130),\n",
       "  (datetime.date(2015, 6, 6), 106),\n",
       "  (datetime.date(2015, 6, 12), 156),\n",
       "  (datetime.date(2015, 6, 13), 146),\n",
       "  (datetime.date(2015, 6, 19), 169),\n",
       "  (datetime.date(2015, 6, 20), 67)])"
      ]
     },
     "execution_count": 100,
     "metadata": {},
     "output_type": "execute_result"
    }
   ],
   "source": [
    "daily_weekend_counts.items()[0]"
   ]
  },
  {
   "cell_type": "code",
   "execution_count": 101,
   "metadata": {
    "collapsed": false
   },
   "outputs": [],
   "source": [
    "# daily_weeknight_counts.items()[200]"
   ]
  },
  {
   "cell_type": "markdown",
   "metadata": {},
   "source": [
    "## Accumulate Counts by Station Area\n",
    "\n",
    "So far we've been operating on a single turnstile level. Next we'll combine turnstiles in the same ControlArea/Unit/Station combo. There are some ControlArea/Unit/Station groups that have a single turnstile, but most have multiple turnstiles-- same value for the C/A, UNIT and STATION columns, different values for the SCP column.\n",
    "\n",
    "We will combine the numbers together for each ControlArea/UNIT/STATION combo, for each day, to get a count by station area."
   ]
  },
  {
   "cell_type": "code",
   "execution_count": 102,
   "metadata": {
    "collapsed": false
   },
   "outputs": [],
   "source": [
    "def combine_by_stationarea(dct):\n",
    "    d = {}\n",
    "    for turnstile, rows in dct.items():\n",
    "        by_day = {}\n",
    "        station = (turnstile[:2]) + (turnstile[3],)\n",
    "        d[station] = d.get(station, [])\n",
    "        for day, count in rows:\n",
    "            by_day[day] = by_day.get(day, 0) + count\n",
    "        for item in by_day.items():\n",
    "            d[station].append(item)\n",
    "        d[station] = sorted(d[station])\n",
    "    return d\n",
    "\n",
    "weekend_by_stationarea = combine_by_stationarea(daily_weekend_counts)\n",
    "weeknight_by_stationarea = combine_by_stationarea(daily_weeknight_counts)"
   ]
  },
  {
   "cell_type": "code",
   "execution_count": 114,
   "metadata": {
    "collapsed": false
   },
   "outputs": [],
   "source": [
    "def accumulate_by_day(dct):\n",
    "    d = {}\n",
    "    for key, vals in dct.items():\n",
    "        by_day = {}\n",
    "        for day, count in vals:\n",
    "            by_day[day] = by_day.get(day, 0) + count\n",
    "        d[key] = sorted(by_day.items())\n",
    "    return d\n",
    "        \n",
    "weekend_stationarea_counts = accumulate_by_day(weekend_by_stationarea)\n",
    "weeknight_stationarea_counts = accumulate_by_day(weeknight_by_stationarea)"
   ]
  },
  {
   "cell_type": "code",
   "execution_count": 115,
   "metadata": {
    "collapsed": true
   },
   "outputs": [
    {
     "data": {
      "text/plain": [
       "[(datetime.date(2015, 3, 27), 329),\n",
       " (datetime.date(2015, 3, 28), 598),\n",
       " (datetime.date(2015, 4, 3), 581),\n",
       " (datetime.date(2015, 4, 4), 546),\n",
       " (datetime.date(2015, 4, 10), 656),\n",
       " (datetime.date(2015, 4, 11), 581),\n",
       " (datetime.date(2015, 4, 17), 782),\n",
       " (datetime.date(2015, 4, 18), 725),\n",
       " (datetime.date(2015, 4, 24), 759),\n",
       " (datetime.date(2015, 4, 25), 669),\n",
       " (datetime.date(2015, 5, 1), 753),\n",
       " (datetime.date(2015, 5, 2), 708),\n",
       " (datetime.date(2015, 5, 8), 929),\n",
       " (datetime.date(2015, 5, 9), 744),\n",
       " (datetime.date(2015, 5, 15), 694),\n",
       " (datetime.date(2015, 5, 16), 606),\n",
       " (datetime.date(2015, 5, 22), 661),\n",
       " (datetime.date(2015, 5, 23), 581),\n",
       " (datetime.date(2015, 5, 29), 737),\n",
       " (datetime.date(2015, 5, 30), 682),\n",
       " (datetime.date(2015, 6, 5), 754),\n",
       " (datetime.date(2015, 6, 6), 651),\n",
       " (datetime.date(2015, 6, 12), 792),\n",
       " (datetime.date(2015, 6, 13), 768),\n",
       " (datetime.date(2015, 6, 19), 804),\n",
       " (datetime.date(2015, 6, 20), 560)]"
      ]
     },
     "execution_count": 115,
     "metadata": {},
     "output_type": "execute_result"
    }
   ],
   "source": [
    "weekend_stationarea_counts[('A030', 'R083', '23 ST-5 AVE')]"
   ]
  },
  {
   "cell_type": "code",
   "execution_count": 116,
   "metadata": {
    "collapsed": true
   },
   "outputs": [
    {
     "name": "stdout",
     "output_type": "stream",
     "text": [
      "[(datetime.date(2015, 3, 27), 1), (datetime.date(2015, 3, 27), 6), (datetime.date(2015, 3, 27), 10), (datetime.date(2015, 3, 28), 7), (datetime.date(2015, 3, 28), 13), (datetime.date(2015, 3, 28), 17), (datetime.date(2015, 4, 3), 16), (datetime.date(2015, 4, 3), 51), (datetime.date(2015, 4, 3), 174), (datetime.date(2015, 4, 4), 16), (datetime.date(2015, 4, 4), 35), (datetime.date(2015, 4, 4), 141), (datetime.date(2015, 4, 10), 10), (datetime.date(2015, 4, 10), 51), (datetime.date(2015, 4, 10), 202), (datetime.date(2015, 4, 11), 22), (datetime.date(2015, 4, 11), 47), (datetime.date(2015, 4, 11), 182), (datetime.date(2015, 4, 17), 6), (datetime.date(2015, 4, 17), 41), (datetime.date(2015, 4, 17), 96), (datetime.date(2015, 4, 18), 5), (datetime.date(2015, 4, 18), 7), (datetime.date(2015, 4, 18), 15), (datetime.date(2015, 4, 24), 15), (datetime.date(2015, 4, 24), 46), (datetime.date(2015, 4, 24), 135), (datetime.date(2015, 4, 25), 7), (datetime.date(2015, 4, 25), 19), (datetime.date(2015, 4, 25), 19), (datetime.date(2015, 5, 1), 25), (datetime.date(2015, 5, 1), 54), (datetime.date(2015, 5, 1), 199), (datetime.date(2015, 5, 2), 13), (datetime.date(2015, 5, 2), 51), (datetime.date(2015, 5, 2), 181), (datetime.date(2015, 5, 8), 20), (datetime.date(2015, 5, 8), 66), (datetime.date(2015, 5, 8), 196), (datetime.date(2015, 5, 9), 18), (datetime.date(2015, 5, 9), 37), (datetime.date(2015, 5, 9), 169), (datetime.date(2015, 5, 15), 25), (datetime.date(2015, 5, 15), 57), (datetime.date(2015, 5, 15), 221), (datetime.date(2015, 5, 16), 13), (datetime.date(2015, 5, 16), 33), (datetime.date(2015, 5, 16), 158), (datetime.date(2015, 5, 22), 22), (datetime.date(2015, 5, 22), 47), (datetime.date(2015, 5, 22), 191), (datetime.date(2015, 5, 23), 15), (datetime.date(2015, 5, 23), 46), (datetime.date(2015, 5, 23), 175), (datetime.date(2015, 5, 29), 14), (datetime.date(2015, 5, 29), 34), (datetime.date(2015, 5, 29), 167), (datetime.date(2015, 5, 30), 4), (datetime.date(2015, 5, 30), 24), (datetime.date(2015, 5, 30), 82), (datetime.date(2015, 6, 5), 18), (datetime.date(2015, 6, 5), 44), (datetime.date(2015, 6, 5), 169), (datetime.date(2015, 6, 6), 13), (datetime.date(2015, 6, 6), 44), (datetime.date(2015, 6, 6), 145), (datetime.date(2015, 6, 12), 23), (datetime.date(2015, 6, 12), 59), (datetime.date(2015, 6, 12), 166), (datetime.date(2015, 6, 13), 12), (datetime.date(2015, 6, 13), 52), (datetime.date(2015, 6, 13), 140), (datetime.date(2015, 6, 19), 16), (datetime.date(2015, 6, 19), 55), (datetime.date(2015, 6, 19), 165), (datetime.date(2015, 6, 20), 3), (datetime.date(2015, 6, 20), 15), (datetime.date(2015, 6, 20), 71)]\n",
      "286\n"
     ]
    }
   ],
   "source": [
    "for key, val in weekend_by_stationarea.items():\n",
    "    if key[2] == 'BOYD-88 ST':\n",
    "        print sorted(val)\n",
    "print len(weekend_by_stationarea.values()[0])"
   ]
  },
  {
   "cell_type": "markdown",
   "metadata": {},
   "source": []
  },
  {
   "cell_type": "markdown",
   "metadata": {
    "collapsed": true
   },
   "source": [
    "## Counts by Station\n",
    "\n",
    "Combine everything in each station, and come up with a time series for each STATION, by adding up all the turnstiles in a station."
   ]
  },
  {
   "cell_type": "code",
   "execution_count": 106,
   "metadata": {
    "collapsed": false
   },
   "outputs": [
    {
     "data": {
      "text/plain": [
       "(729, 729)"
      ]
     },
     "execution_count": 106,
     "metadata": {},
     "output_type": "execute_result"
    }
   ],
   "source": [
    "len(weekend_stationarea_counts.items()), len(weeknight_stationarea_counts.items())"
   ]
  },
  {
   "cell_type": "code",
   "execution_count": 117,
   "metadata": {
    "collapsed": false
   },
   "outputs": [],
   "source": [
    "def combine_by_station(dct):\n",
    "    d = {}\n",
    "    for stationarea, rows in dct.items():\n",
    "        by_day = {}\n",
    "        station = (stationarea[-1],)\n",
    "        d[station] = d.get(station, [])\n",
    "        for day, count in rows:\n",
    "            by_day[day] = by_day.get(day, 0) + count\n",
    "        for item in by_day.items():\n",
    "            d[station].append(item)\n",
    "        d[station] = sorted(d[station])\n",
    "    return d\n",
    "            \n",
    "weekend_by_station = combine_by_station(weekend_stationarea_counts)\n",
    "weeknight_by_station = combine_by_station(weeknight_stationarea_counts)"
   ]
  },
  {
   "cell_type": "code",
   "execution_count": 118,
   "metadata": {
    "collapsed": true
   },
   "outputs": [
    {
     "data": {
      "text/plain": [
       "[(datetime.date(2015, 3, 27), 313),\n",
       " (datetime.date(2015, 3, 27), 329),\n",
       " (datetime.date(2015, 3, 28), 547),\n",
       " (datetime.date(2015, 3, 28), 598),\n",
       " (datetime.date(2015, 4, 3), 581),\n",
       " (datetime.date(2015, 4, 3), 1126),\n",
       " (datetime.date(2015, 4, 4), 478),\n",
       " (datetime.date(2015, 4, 4), 546),\n",
       " (datetime.date(2015, 4, 10), 656),\n",
       " (datetime.date(2015, 4, 10), 738),\n",
       " (datetime.date(2015, 4, 11), 581),\n",
       " (datetime.date(2015, 4, 11), 628),\n",
       " (datetime.date(2015, 4, 17), 742),\n",
       " (datetime.date(2015, 4, 17), 782),\n",
       " (datetime.date(2015, 4, 18), 725),\n",
       " (datetime.date(2015, 4, 18), 740),\n",
       " (datetime.date(2015, 4, 24), 759),\n",
       " (datetime.date(2015, 4, 24), 776),\n",
       " (datetime.date(2015, 4, 25), 669),\n",
       " (datetime.date(2015, 4, 25), 1072),\n",
       " (datetime.date(2015, 5, 1), 727),\n",
       " (datetime.date(2015, 5, 1), 753),\n",
       " (datetime.date(2015, 5, 2), 655),\n",
       " (datetime.date(2015, 5, 2), 708),\n",
       " (datetime.date(2015, 5, 8), 667),\n",
       " (datetime.date(2015, 5, 8), 929),\n",
       " (datetime.date(2015, 5, 9), 540),\n",
       " (datetime.date(2015, 5, 9), 744),\n",
       " (datetime.date(2015, 5, 15), 689),\n",
       " (datetime.date(2015, 5, 15), 694),\n",
       " (datetime.date(2015, 5, 16), 606),\n",
       " (datetime.date(2015, 5, 16), 699),\n",
       " (datetime.date(2015, 5, 22), 661),\n",
       " (datetime.date(2015, 5, 22), 688),\n",
       " (datetime.date(2015, 5, 23), 581),\n",
       " (datetime.date(2015, 5, 23), 657),\n",
       " (datetime.date(2015, 5, 29), 694),\n",
       " (datetime.date(2015, 5, 29), 737),\n",
       " (datetime.date(2015, 5, 30), 605),\n",
       " (datetime.date(2015, 5, 30), 682),\n",
       " (datetime.date(2015, 6, 5), 725),\n",
       " (datetime.date(2015, 6, 5), 754),\n",
       " (datetime.date(2015, 6, 6), 651),\n",
       " (datetime.date(2015, 6, 6), 715),\n",
       " (datetime.date(2015, 6, 12), 726),\n",
       " (datetime.date(2015, 6, 12), 792),\n",
       " (datetime.date(2015, 6, 13), 631),\n",
       " (datetime.date(2015, 6, 13), 768),\n",
       " (datetime.date(2015, 6, 19), 794),\n",
       " (datetime.date(2015, 6, 19), 804),\n",
       " (datetime.date(2015, 6, 20), 560),\n",
       " (datetime.date(2015, 6, 20), 637)]"
      ]
     },
     "execution_count": 118,
     "metadata": {},
     "output_type": "execute_result"
    }
   ],
   "source": [
    "weekend_by_station[('23 ST-5 AVE',)]"
   ]
  },
  {
   "cell_type": "code",
   "execution_count": 119,
   "metadata": {
    "collapsed": true
   },
   "outputs": [],
   "source": [
    "weekend_station_counts = accumulate_by_day(weekend_by_station)\n",
    "weeknight_station_counts = accumulate_by_day(weeknight_by_station)"
   ]
  },
  {
   "cell_type": "code",
   "execution_count": 120,
   "metadata": {
    "collapsed": false
   },
   "outputs": [
    {
     "data": {
      "text/plain": [
       "[(datetime.date(2015, 3, 27), 642),\n",
       " (datetime.date(2015, 3, 28), 1145),\n",
       " (datetime.date(2015, 4, 3), 1707),\n",
       " (datetime.date(2015, 4, 4), 1024),\n",
       " (datetime.date(2015, 4, 10), 1394),\n",
       " (datetime.date(2015, 4, 11), 1209),\n",
       " (datetime.date(2015, 4, 17), 1524),\n",
       " (datetime.date(2015, 4, 18), 1465),\n",
       " (datetime.date(2015, 4, 24), 1535),\n",
       " (datetime.date(2015, 4, 25), 1741),\n",
       " (datetime.date(2015, 5, 1), 1480),\n",
       " (datetime.date(2015, 5, 2), 1363),\n",
       " (datetime.date(2015, 5, 8), 1596),\n",
       " (datetime.date(2015, 5, 9), 1284),\n",
       " (datetime.date(2015, 5, 15), 1383),\n",
       " (datetime.date(2015, 5, 16), 1305),\n",
       " (datetime.date(2015, 5, 22), 1349),\n",
       " (datetime.date(2015, 5, 23), 1238),\n",
       " (datetime.date(2015, 5, 29), 1431),\n",
       " (datetime.date(2015, 5, 30), 1287),\n",
       " (datetime.date(2015, 6, 5), 1479),\n",
       " (datetime.date(2015, 6, 6), 1366),\n",
       " (datetime.date(2015, 6, 12), 1518),\n",
       " (datetime.date(2015, 6, 13), 1399),\n",
       " (datetime.date(2015, 6, 19), 1598),\n",
       " (datetime.date(2015, 6, 20), 1197)]"
      ]
     },
     "execution_count": 120,
     "metadata": {},
     "output_type": "execute_result"
    }
   ],
   "source": [
    "weekend_station_counts[('23 ST-5 AVE',)]"
   ]
  },
  {
   "cell_type": "markdown",
   "metadata": {},
   "source": [
    "## Means by Day of the Week\n",
    "\n",
    "Accumulate the counts by each day of the week and find their mean."
   ]
  },
  {
   "cell_type": "code",
   "execution_count": 101,
   "metadata": {
    "collapsed": true
   },
   "outputs": [],
   "source": [
    "### pop off leading and trailing values that don't match up first\n",
    "\n"
   ]
  },
  {
   "cell_type": "code",
   "execution_count": 170,
   "metadata": {
    "collapsed": false
   },
   "outputs": [],
   "source": [
    "def means_dayofweek(dct):\n",
    "    d = {}\n",
    "    f = []\n",
    "    # find daily totals\n",
    "    for station, rows in dct.items():\n",
    "        by_dayofweek = {}\n",
    "        d[station] = d.get(station, [])\n",
    "        for day, count in rows:\n",
    "            by_dayofweek[day.weekday()] = by_dayofweek.get(day.weekday(), 0) + count\n",
    "            f.append(station + (day.weekday(), ))\n",
    "        d[station] = sorted(by_dayofweek.items())\n",
    "    # find daily averages\n",
    "    counter = Counter(f)\n",
    "    e = {}\n",
    "    for station, rows in d.items():\n",
    "        e[station] = e.get(station, [])\n",
    "        for weekday, total in rows:\n",
    "            day_mean = total / counter[station + (weekday,)]\n",
    "            e[station].append((weekday, total, day_mean))\n",
    "    return e, counter\n",
    "\n",
    "weekend_dayofweek_means, counter = means_dayofweek(weekend_station_counts)\n",
    "weekday_dayofweek_means, counter = means_dayofweek(weeknight_station_counts)"
   ]
  },
  {
   "cell_type": "code",
   "execution_count": 171,
   "metadata": {
    "collapsed": false
   },
   "outputs": [
    {
     "name": "stdout",
     "output_type": "stream",
     "text": [
      "[(4, 18636, 1433.5384615384614), (5, 17023, 1309.4615384615386)]\n",
      "[(0, 29358, 2258.3076923076924), (1, 29973, 2305.6153846153848), (2, 30505, 2346.5384615384614)]\n"
     ]
    }
   ],
   "source": [
    "print weekend_dayofweek_means[('23 ST-5 AVE',)]\n",
    "print weekday_dayofweek_means[('23 ST-5 AVE',)]"
   ]
  },
  {
   "cell_type": "code",
   "execution_count": 172,
   "metadata": {
    "collapsed": false
   },
   "outputs": [
    {
     "data": {
      "text/plain": [
       "[(('34 ST-PENN STA',),\n",
       "  [(4, 244160, 18781.53846153846), (5, 208895, 16068.846153846154)]),\n",
       " (('34 ST-HERALD SQ',),\n",
       "  [(4, 205413, 15801.0), (5, 174454, 13419.538461538461)]),\n",
       " (('86 ST',),\n",
       "  [(4, 198337, 15256.692307692309), (5, 178354, 13719.538461538461)]),\n",
       " (('42 ST-TIMES SQ',),\n",
       "  [(4, 193250, 14865.384615384615), (5, 197879, 15221.461538461539)]),\n",
       " (('MAIN ST',), [(4, 171717, 13209.0), (5, 130181, 10013.923076923076)]),\n",
       " (('42 ST-PA BUS TE',),\n",
       "  [(4, 168604, 12969.538461538461), (5, 150910, 11608.461538461539)]),\n",
       " (('125 ST',), [(4, 158405, 12185.0), (5, 155961, 11997.0)]),\n",
       " (('42 ST-GRD CNTRL',),\n",
       "  [(4, 157107, 12085.153846153846), (5, 142128, 10932.923076923076)]),\n",
       " (('ROOSEVELT AVE',),\n",
       "  [(4, 156770, 12059.23076923077), (5, 146556, 11273.538461538461)]),\n",
       " (('145 ST',),\n",
       "  [(4, 126540, 9733.846153846154), (5, 124203, 9554.076923076924)])]"
      ]
     },
     "execution_count": 172,
     "metadata": {},
     "output_type": "execute_result"
    }
   ],
   "source": [
    "sort_by_value(weekend_dayofweek_means)[:10]"
   ]
  },
  {
   "cell_type": "markdown",
   "metadata": {},
   "source": [
    "## Means for Weekend and Weeknight"
   ]
  },
  {
   "cell_type": "code",
   "execution_count": 184,
   "metadata": {
    "collapsed": false
   },
   "outputs": [],
   "source": [
    "def weekpart_station_counts(dct):\n",
    "    d = {}    \n",
    "    for station, rows in dct.items():\n",
    "        count = 0\n",
    "        for _, _, day_mean in rows:\n",
    "            count += day_mean\n",
    "        weekpart_mean = count / len(rows)\n",
    "        d[station] = weekpart_mean\n",
    "    return d\n",
    "        \n",
    "weekend_means = weekpart_station_counts(weekend_dayofweek_means)\n",
    "weeknight_means = weekpart_station_counts(weekday_dayofweek_means)"
   ]
  },
  {
   "cell_type": "code",
   "execution_count": 185,
   "metadata": {
    "collapsed": false,
    "scrolled": true
   },
   "outputs": [
    {
     "name": "stdout",
     "output_type": "stream",
     "text": [
      "WEEKNIGHT: [(('34 ST-PENN STA',), 21205.564102564105), (('34 ST-HERALD SQ',), 19221.358974358973), (('86 ST',), 18716.82051282051), (('42 ST-GRD CNTRL',), 16989.69230769231), (('42 ST-TIMES SQ',), 16443.564102564105), (('MAIN ST',), 14396.02564102564), (('125 ST',), 13025.256410256408), (('42 ST-PA BUS TE',), 12096.82051282051), (('59 ST',), 11812.79487179487), (('ROOSEVELT AVE',), 11731.564102564103)]\n",
      "\n",
      "WEEKEND: [(('34 ST-PENN STA',), 17425.19230769231), (('42 ST-TIMES SQ',), 15043.423076923078), (('34 ST-HERALD SQ',), 14610.26923076923), (('86 ST',), 14488.115384615385), (('42 ST-PA BUS TE',), 12289.0), (('125 ST',), 12091.0), (('ROOSEVELT AVE',), 11666.384615384615), (('MAIN ST',), 11611.461538461539), (('42 ST-GRD CNTRL',), 11509.038461538461), (('145 ST',), 9643.961538461539)]\n"
     ]
    }
   ],
   "source": [
    "print 'WEEKNIGHT:', sort_by_value(weeknight_means)[:10]\n",
    "print '\\nWEEKEND:', sort_by_value(weekend_means)[:10]"
   ]
  },
  {
   "cell_type": "markdown",
   "metadata": {},
   "source": [
    "## Make Comparison\n",
    "In order to make a comparison between stations, we looked at the proportion of weekend to weeknight traffic. To control for low traffic stations, I looked at stations with at least a mean of 500 exits on weekends."
   ]
  },
  {
   "cell_type": "code",
   "execution_count": 182,
   "metadata": {
    "collapsed": false
   },
   "outputs": [],
   "source": [
    "def make_comparison(dct1, dct2):\n",
    "    d = {}\n",
    "    for station2, means2 in dct2.items():\n",
    "        if means2 > 0:\n",
    "            means1 = dct1.get(station2)\n",
    "            if means1 > 500:\n",
    "                d[station2] = means1 / means2\n",
    "    return d\n",
    "\n",
    "proportions = make_comparison(weekend_means, weeknight_means)"
   ]
  },
  {
   "cell_type": "code",
   "execution_count": 183,
   "metadata": {
    "collapsed": false
   },
   "outputs": [
    {
     "data": {
      "text/plain": [
       "[(('METS-WILLETS PT',), 2.088525415198792),\n",
       " (('BROADWAY/LAFAY',), 1.6945567469385363),\n",
       " (('ASTOR PLACE',), 1.6671098536419333),\n",
       " (('W 4 ST-WASH SQ',), 1.6629219178936858),\n",
       " (('14 ST-UNION SQ',), 1.6301470886726837),\n",
       " (('ESSEX ST',), 1.609049858889934),\n",
       " (('CITY / BUS',), 1.5590961516822326),\n",
       " (('QUEENS PLAZA',), 1.441714114474078),\n",
       " (('DELANCEY ST',), 1.4395981775828997),\n",
       " (('NEW UTRECHT AVE',), 1.4108612385756003),\n",
       " (('HOUSTON ST',), 1.4057795466343659),\n",
       " (('BROADWAY',), 1.3864628820960698),\n",
       " (('36 ST',), 1.3860922623744147),\n",
       " (('INWOOD-207 ST',), 1.3837110395528285),\n",
       " (('8 AVE',), 1.3555091842618272),\n",
       " (('7 AVE-53 ST',), 1.3387600189767537),\n",
       " (('WHITEHALL ST',), 1.3342195024077046),\n",
       " (('28 ST',), 1.330513032685147),\n",
       " (('MARCY AVE',), 1.3226495302040087),\n",
       " (('E 180 ST',), 1.3126671044608096)]"
      ]
     },
     "execution_count": 183,
     "metadata": {},
     "output_type": "execute_result"
    }
   ],
   "source": [
    "sort_by_value(proportions)[:20]"
   ]
  },
  {
   "cell_type": "code",
   "execution_count": null,
   "metadata": {
    "collapsed": true
   },
   "outputs": [],
   "source": []
  }
 ],
 "metadata": {
  "kernelspec": {
   "display_name": "Python 2",
   "language": "python",
   "name": "python2"
  },
  "language_info": {
   "codemirror_mode": {
    "name": "ipython",
    "version": 2
   },
   "file_extension": ".py",
   "mimetype": "text/x-python",
   "name": "python",
   "nbconvert_exporter": "python",
   "pygments_lexer": "ipython2",
   "version": "2.7.9"
  }
 },
 "nbformat": 4,
 "nbformat_minor": 0
}
