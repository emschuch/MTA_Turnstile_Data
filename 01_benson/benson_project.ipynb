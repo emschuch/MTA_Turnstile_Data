{
 "cells": [
  {
   "cell_type": "markdown",
   "metadata": {},
   "source": [
    "# MTA Data - Metis 01 Project Benson"
   ]
  },
  {
   "cell_type": "code",
   "execution_count": 1,
   "metadata": {
    "collapsed": true
   },
   "outputs": [],
   "source": [
    "%matplotlib inline\n",
    "from __future__ import division\n",
    "import csv\n",
    "import os\n",
    "import calendar\n",
    "import datetime\n",
    "import matplotlib.pyplot as plt\n",
    "from collections import Counter"
   ]
  },
  {
   "cell_type": "markdown",
   "metadata": {},
   "source": [
    "## Objective\n",
    "I was curious about where people are going at off-peak times. The goal for this project is to find the areas of New York with the most active nightlife. As a baseline, we will compare weekends to weeknights.\n",
    "\n",
    "First, read in the data. Then create a dictionary in which the keys are station identifiers and the values are everything else."
   ]
  },
  {
   "cell_type": "code",
   "execution_count": 2,
   "metadata": {
    "collapsed": false
   },
   "outputs": [],
   "source": [
    "#!curl -O http://web.mta.info/developers/data/nyct/turnstile/turnstile_150404.txt"
   ]
  },
  {
   "cell_type": "code",
   "execution_count": 3,
   "metadata": {
    "collapsed": false
   },
   "outputs": [
    {
     "name": "stdout",
     "output_type": "stream",
     "text": [
      "./mta_data/turnstile_150404.txt imported successfully\n",
      "./mta_data/turnstile_150411.txt imported successfully\n",
      "./mta_data/turnstile_150418.txt imported successfully\n",
      "./mta_data/turnstile_150425.txt imported successfully\n",
      "./mta_data/turnstile_150502.txt imported successfully\n",
      "./mta_data/turnstile_150509.txt imported successfully\n",
      "./mta_data/turnstile_150516.txt imported successfully\n",
      "./mta_data/turnstile_150523.txt imported successfully\n",
      "./mta_data/turnstile_150530.txt imported successfully\n",
      "./mta_data/turnstile_150606.txt imported successfully\n",
      "./mta_data/turnstile_150613.txt imported successfully\n",
      "./mta_data/turnstile_150620.txt imported successfully\n",
      "./mta_data/turnstile_150627.txt imported successfully\n"
     ]
    }
   ],
   "source": [
    "mta_dict = {}\n",
    "\n",
    "filedir = './mta_data/'\n",
    "filenames = sorted(next(os.walk(filedir))[2])\n",
    "\n",
    "for nextfile in filenames:\n",
    "    with open(filedir + nextfile, mode='r') as infile:\n",
    "        reader = csv.reader(infile)\n",
    "        readrows = [[cell.strip() for cell in row] for row in reader]\n",
    "\n",
    "    assert readrows.pop(0) == ['C/A', 'UNIT', 'SCP', 'STATION', 'LINENAME',\n",
    "                           'DIVISION', 'DATE', 'TIME', 'DESC', 'ENTRIES',\n",
    "                           'EXITS']\n",
    "\n",
    "    for row in readrows:\n",
    "        mta_dict.setdefault(tuple(row[:4]),[]).append(tuple(row[4:]))\n",
    "    \n",
    "    print filedir+nextfile + ' imported successfully'"
   ]
  },
  {
   "cell_type": "code",
   "execution_count": 4,
   "metadata": {
    "collapsed": false
   },
   "outputs": [
    {
     "data": {
      "text/plain": [
       "4583"
      ]
     },
     "execution_count": 4,
     "metadata": {},
     "output_type": "execute_result"
    }
   ],
   "source": [
    "len(mta_dict.items())"
   ]
  },
  {
   "cell_type": "code",
   "execution_count": 5,
   "metadata": {
    "collapsed": false
   },
   "outputs": [],
   "source": [
    "# raw_readings.items()[0]"
   ]
  },
  {
   "cell_type": "markdown",
   "metadata": {},
   "source": [
    "## Time Series\n",
    "Extract time information and count numbers from dictionary values for turnstile exits.\n",
    "\n",
    "Filter out values that are negative or seem unreasonably large."
   ]
  },
  {
   "cell_type": "code",
   "execution_count": 6,
   "metadata": {
    "collapsed": false
   },
   "outputs": [],
   "source": [
    "def accum_by_datetime(dct):\n",
    "    d = {turnstile: [(datetime.datetime.strptime(date + time,\n",
    "                                        '%m/%d/%Y%X'),\n",
    "                                        int(out_cumulative))\n",
    "                                       for _, _, date, time,\n",
    "                                           _, _, out_cumulative in rows]\n",
    "                           for turnstile, rows in dct.items()}\n",
    "    return d\n",
    "\n",
    "datetime_cumulative = accum_by_datetime(mta_dict)"
   ]
  },
  {
   "cell_type": "code",
   "execution_count": 7,
   "metadata": {
    "collapsed": false
   },
   "outputs": [],
   "source": [
    "#datetime_cumulative.items()[0]"
   ]
  },
  {
   "cell_type": "code",
   "execution_count": 8,
   "metadata": {
    "collapsed": true
   },
   "outputs": [],
   "source": [
    "def count_by_datetime(dct):\n",
    "    d = {turnstile: [[rows[i][0],\n",
    "                     rows[i+1][1] - rows[i][1],\n",
    "                     rows[i+1][0] - rows[i][0]]\n",
    "                    for i in range(len(rows) - 1)]\n",
    "        for turnstile, rows in dct.items()}\n",
    "    return d\n",
    "\n",
    "datetime_count_times = count_by_datetime(datetime_cumulative)"
   ]
  },
  {
   "cell_type": "code",
   "execution_count": 9,
   "metadata": {
    "collapsed": false
   },
   "outputs": [
    {
     "name": "stdout",
     "output_type": "stream",
     "text": [
      "4583\n"
     ]
    }
   ],
   "source": [
    "print len(datetime_count_times.items())\n",
    "# datetime_count_times.items()[0]"
   ]
  },
  {
   "cell_type": "code",
   "execution_count": 10,
   "metadata": {
    "collapsed": false
   },
   "outputs": [],
   "source": [
    "def sort_by_value(dct):\n",
    "    dlist = sorted(dct.items(), key=lambda tup: tup[-1], reverse=True)\n",
    "    return dlist"
   ]
  },
  {
   "cell_type": "code",
   "execution_count": 11,
   "metadata": {
    "collapsed": false,
    "scrolled": true
   },
   "outputs": [
    {
     "name": "stdout",
     "output_type": "stream",
     "text": [
      "[3678, 3680, 3680, 3683, 3690, 3695, 3695, 3697, 3699, 3708, 3714, 3715, 3723, 3725, 3728, 3730, 3735, 3751, 3751, 3752, 3753, 3754, 3755, 3761, 3764, 3775, 3780, 3782, 3787, 3804, 3806, 3825, 3832, 3833, 3834, 3838, 3840, 3840, 3841, 3856, 3864, 3888, 3893, 3910, 3912, 3914, 3927, 3939, 3942, 3953, 3964, 3964, 3966, 3968, 3993, 3994, 4000, 4004, 4006, 4017, 4021, 4026, 4027, 4029, 4031, 4033, 4036, 4044, 4044, 4056, 4062, 4064, 4084, 4090, 4104, 4110, 4111, 4118, 4122, 4123, 4128, 4140, 4147, 4148, 4150, 4150, 4154, 4154, 4166, 4169, 4182, 4182, 4204, 4206, 4206, 4207, 4209, 4217, 4239, 4263, 4281, 4292, 4299, 4319, 4333, 4336, 4363, 4386, 4426, 4438, 4477, 4504, 4515, 4519, 4530, 4540, 4550, 4634, 4776, 4791, 4802, 4840, 5219, 5391, 5439, 5497, 5918, 6156, 6696, 6814, 7332, 8059, 9431, 9574, 9949, 10189, 11763, 15051, 39544, 46022, 65261, 75636, 79906, 80097, 80123, 80229, 80396, 83050, 95375, 95456, 137504, 137512, 137627, 195187, 195187, 312439, 322327, 323893, 472911, 806802, 1041725, 1042020, 1042180, 1042206, 1042233, 1532357, 3536743, 3544724, 3549211, 3967206, 4324482, 4504610, 14090235, 16754688, 16754944, 16776289, 33193788, 33470491, 33553606, 33554404, 83583227, 233913726, 233940414, 267407949, 334268900, 367693176, 451209355, 534764204, 551527548, 724262500, 725286840, 735253875, 818491749, 996474307, 1056964608, 1092607555, 1240969327, 1397903646, 1437197589, 2088517586]\n"
     ]
    }
   ],
   "source": [
    "all_counts = [count for rows in datetime_count_times.values() for _, count, _ in rows]\n",
    "all_counts.sort()\n",
    "\n",
    "print all_counts[-200:]"
   ]
  },
  {
   "cell_type": "code",
   "execution_count": 12,
   "metadata": {
    "collapsed": false
   },
   "outputs": [],
   "source": [
    "## investigate high values\n",
    "\n",
    "# for key, rows in datetime_count_times.items():\n",
    "#     for _, count, _ in rows:\n",
    "#         if count >= 39544:\n",
    "#             print count, key"
   ]
  },
  {
   "cell_type": "code",
   "execution_count": 13,
   "metadata": {
    "collapsed": false
   },
   "outputs": [
    {
     "name": "stdout",
     "output_type": "stream",
     "text": [
      "[-2080392237, -1376238516, -1056964595, -985959134, -250683223, -83930712, -33568330, -16754739, -16754517, -14090237, -11113480, -8172201, -8126408, -7645885, -7231960, -7136820, -6188433, -6119245, -5748960, -5713849, -5465194, -5179240, -5008747, -4331551, -4202565, -4018906, -3967127, -3549171, -3544654, -3536673, -3003243, -2962971, -2698086, -2533024, -2377006, -2376873, -2131420, -2112369, -1669794, -1617237, -1540092, -1532280, -1473817, -1393821, -1334500, -1212364, -1103455, -1102179, -1089287, -1078401]\n"
     ]
    }
   ],
   "source": [
    "print all_counts[:50]"
   ]
  },
  {
   "cell_type": "code",
   "execution_count": 14,
   "metadata": {
    "collapsed": false
   },
   "outputs": [
    {
     "name": "stdout",
     "output_type": "stream",
     "text": [
      "[(4.0, 2299978), (4.2, 140012), (8.0, 2780), (4.433333333333334, 2217), (0.02222222222222222, 1391), (0.022500000000000003, 719), (0.23333333333333334, 264), (0.02277777777777778, 231), (4.199722222222222, 153), (3.999722222222222, 131)]\n"
     ]
    }
   ],
   "source": [
    "all_times = [duration.total_seconds() / 60 / 60\n",
    "             for rows in datetime_count_times.values()\n",
    "             for _, _, duration in rows]\n",
    "print Counter(all_times).most_common(10)"
   ]
  },
  {
   "cell_type": "code",
   "execution_count": 15,
   "metadata": {
    "collapsed": true
   },
   "outputs": [],
   "source": [
    "def filter_outliers(dct):\n",
    "    d = {turnstile: [(time, count)\n",
    "                   for (time, count, _) in rows\n",
    "                   if 0 <= count <= 65000]\n",
    "       for turnstile, rows in dct.items()}\n",
    "    return d\n",
    "    \n",
    "datetime_counts = filter_outliers(datetime_count_times)"
   ]
  },
  {
   "cell_type": "code",
   "execution_count": 16,
   "metadata": {
    "collapsed": false,
    "scrolled": true
   },
   "outputs": [],
   "source": [
    "#datetime_counts.items()[0]"
   ]
  },
  {
   "cell_type": "code",
   "execution_count": 17,
   "metadata": {
    "collapsed": false
   },
   "outputs": [
    {
     "name": "stdout",
     "output_type": "stream",
     "text": [
      "0.995578958185\n"
     ]
    }
   ],
   "source": [
    "all_good_counts = [count for rows in datetime_counts.values() for _, count in rows]\n",
    "print len(all_good_counts) / len(all_counts)"
   ]
  },
  {
   "cell_type": "code",
   "execution_count": 18,
   "metadata": {
    "collapsed": false
   },
   "outputs": [
    {
     "name": "stdout",
     "output_type": "stream",
     "text": [
      "[10189, 11763, 15051, 39544, 46022]\n"
     ]
    }
   ],
   "source": [
    "all_good_counts.sort()\n",
    "print all_good_counts[-5:]"
   ]
  },
  {
   "cell_type": "code",
   "execution_count": 19,
   "metadata": {
    "collapsed": false
   },
   "outputs": [
    {
     "name": "stdout",
     "output_type": "stream",
     "text": [
      "[0, 0, 0, 0, 0]\n"
     ]
    }
   ],
   "source": [
    "print all_good_counts[:5]"
   ]
  },
  {
   "cell_type": "markdown",
   "metadata": {},
   "source": [
    "## Separate by Weeknights and Weekends\n",
    "Instead of daily entries, we want nighttime/latenight counts (8pm-4am) for weeknight (Mon-Wed) and weekend (Fri-Sat). \n",
    "\n",
    "We questioned whether Thursday should be considered weeknight or weekend. Many New Yorkers go out on Thursday nights and treat it like a weekend, but we would still be capturing commuters, as well, so this number feels like it could go either way. We decided to exclude it for this comparison.\n",
    "\n",
    "We excluded Sunday because we felt it would throw off the baseline."
   ]
  },
  {
   "cell_type": "code",
   "execution_count": 20,
   "metadata": {
    "collapsed": true
   },
   "outputs": [],
   "source": [
    "# datetime_counts.items()[0]"
   ]
  },
  {
   "cell_type": "code",
   "execution_count": 21,
   "metadata": {
    "collapsed": false
   },
   "outputs": [
    {
     "data": {
      "text/plain": [
       "datetime.datetime(2015, 4, 30, 3, 0)"
      ]
     },
     "execution_count": 21,
     "metadata": {},
     "output_type": "execute_result"
    }
   ],
   "source": [
    "# experimenting with datetime objects\n",
    "\n",
    "time = datetime.datetime(2015, 5, 1, 3, 0)\n",
    "time.year, time.month, time.day, time.hour, time.minute\n",
    "\n",
    "if 0 <= time.hour <=4:\n",
    "    time = time - datetime.timedelta(days=1)\n",
    "    \n",
    "time"
   ]
  },
  {
   "cell_type": "code",
   "execution_count": 22,
   "metadata": {
    "collapsed": true
   },
   "outputs": [],
   "source": [
    "def filter_for_night(dct):\n",
    "    d = {turnstile: [(time, count)\n",
    "                     for (time, count) in rows\n",
    "                     if time.hour <= 4 or time.hour >= 20]\n",
    "         for turnstile, rows in dct.items()}\n",
    "    return d\n",
    "\n",
    "nighttime_counts = filter_for_night(datetime_counts)"
   ]
  },
  {
   "cell_type": "code",
   "execution_count": 23,
   "metadata": {
    "collapsed": true
   },
   "outputs": [],
   "source": [
    "# nighttime_counts.items()[0]"
   ]
  },
  {
   "cell_type": "code",
   "execution_count": 24,
   "metadata": {
    "collapsed": true
   },
   "outputs": [],
   "source": [
    "def filter_weeknight(dct):\n",
    "    d = {turnstile: [(time, count)\n",
    "                     for (time, count) in rows\n",
    "                     if (time.weekday() == 0 and time.hour >= 20)\n",
    "                     or 0 < time.weekday() < 3\n",
    "                     or (time.weekday() == 3 and time.hour <=4)]\n",
    "         for turnstile, rows in dct.items()}\n",
    "    return d\n",
    "\n",
    "weeknight_counts = filter_weeknight(nighttime_counts)"
   ]
  },
  {
   "cell_type": "code",
   "execution_count": 25,
   "metadata": {
    "collapsed": true
   },
   "outputs": [],
   "source": [
    "# weeknight_counts.items()[0]"
   ]
  },
  {
   "cell_type": "code",
   "execution_count": 26,
   "metadata": {
    "collapsed": true
   },
   "outputs": [],
   "source": [
    "def filter_weekend(dct):\n",
    "    d = {turnstile: [(time, count)\n",
    "                     for (time, count) in rows\n",
    "                     if (time.weekday() == 4 and time.hour >= 20)\n",
    "                     or time.weekday() == 5\n",
    "                     or (time.weekday() == 6 and time.hour <=4)]\n",
    "         for turnstile, rows in dct.items()}\n",
    "    return d\n",
    "\n",
    "weekend_counts = filter_weekend(nighttime_counts)"
   ]
  },
  {
   "cell_type": "code",
   "execution_count": 27,
   "metadata": {
    "collapsed": true
   },
   "outputs": [],
   "source": [
    "# weekend_counts.items()[0]"
   ]
  },
  {
   "cell_type": "code",
   "execution_count": 28,
   "metadata": {
    "collapsed": false
   },
   "outputs": [],
   "source": [
    "# change day of midnight to 4am counts so that it is included in the previous day\n",
    "\n",
    "def reassign_latenight_days(dct):\n",
    "    d = {}\n",
    "    for turnstile, rows in dct.items():\n",
    "        d.setdefault(turnstile, [])\n",
    "        for time, count in rows:\n",
    "            if time.hour <= 4:\n",
    "                d[turnstile].append((time - datetime.timedelta(days = 1), count))\n",
    "            else:\n",
    "                d[turnstile].append((time, count))\n",
    "    return d\n",
    "\n",
    "new_weekend_counts = reassign_latenight_days(weekend_counts)\n",
    "new_weeknight_counts = reassign_latenight_days(weeknight_counts)"
   ]
  },
  {
   "cell_type": "code",
   "execution_count": 29,
   "metadata": {
    "collapsed": false
   },
   "outputs": [],
   "source": [
    "# new_weeknight_counts.items()[0]"
   ]
  },
  {
   "cell_type": "code",
   "execution_count": 30,
   "metadata": {
    "collapsed": false
   },
   "outputs": [],
   "source": [
    "# new_weekend_counts.items()[0]"
   ]
  },
  {
   "cell_type": "markdown",
   "metadata": {},
   "source": [
    "##Daily Exits\n",
    "Accumulate exit counts for each day."
   ]
  },
  {
   "cell_type": "code",
   "execution_count": 31,
   "metadata": {
    "collapsed": true
   },
   "outputs": [],
   "source": [
    "def count_by_day(dct):\n",
    "    d = {}\n",
    "    for turnstile, rows in dct.items():\n",
    "        by_day = {}\n",
    "        for time, count in rows:\n",
    "            day = time.date()\n",
    "            by_day[day] = by_day.get(day, 0) + count\n",
    "        d[turnstile] = sorted(by_day.items())\n",
    "    return d\n",
    "        \n",
    "daily_weekend_counts = count_by_day(new_weekend_counts)\n",
    "daily_weeknight_counts = count_by_day(new_weeknight_counts)"
   ]
  },
  {
   "cell_type": "code",
   "execution_count": 32,
   "metadata": {
    "collapsed": false
   },
   "outputs": [
    {
     "data": {
      "text/plain": [
       "[(datetime.date(2015, 3, 27), 67),\n",
       " (datetime.date(2015, 3, 28), 93),\n",
       " (datetime.date(2015, 4, 3), 131),\n",
       " (datetime.date(2015, 4, 4), 93),\n",
       " (datetime.date(2015, 4, 10), 129),\n",
       " (datetime.date(2015, 4, 11), 111),\n",
       " (datetime.date(2015, 4, 17), 143),\n",
       " (datetime.date(2015, 4, 18), 104),\n",
       " (datetime.date(2015, 4, 24), 131),\n",
       " (datetime.date(2015, 4, 25), 107),\n",
       " (datetime.date(2015, 5, 1), 149),\n",
       " (datetime.date(2015, 5, 2), 111),\n",
       " (datetime.date(2015, 5, 8), 75),\n",
       " (datetime.date(2015, 5, 9), 10),\n",
       " (datetime.date(2015, 5, 15), 109),\n",
       " (datetime.date(2015, 5, 16), 104),\n",
       " (datetime.date(2015, 5, 22), 129),\n",
       " (datetime.date(2015, 5, 23), 76),\n",
       " (datetime.date(2015, 5, 29), 157),\n",
       " (datetime.date(2015, 5, 30), 106),\n",
       " (datetime.date(2015, 6, 5), 127),\n",
       " (datetime.date(2015, 6, 6), 120),\n",
       " (datetime.date(2015, 6, 12), 131),\n",
       " (datetime.date(2015, 6, 13), 128),\n",
       " (datetime.date(2015, 6, 19), 146),\n",
       " (datetime.date(2015, 6, 20), 90)]"
      ]
     },
     "execution_count": 32,
     "metadata": {},
     "output_type": "execute_result"
    }
   ],
   "source": [
    "# look at a random turnstile at Bowling Green\n",
    "\n",
    "daily_weekend_counts[('R200A', 'R041', '01-00-00', 'BOWLING GREEN')]"
   ]
  },
  {
   "cell_type": "code",
   "execution_count": 33,
   "metadata": {
    "collapsed": false
   },
   "outputs": [
    {
     "data": {
      "text/plain": [
       "[(datetime.date(2015, 3, 27), 16),\n",
       " (datetime.date(2015, 3, 28), 21),\n",
       " (datetime.date(2015, 4, 3), 22),\n",
       " (datetime.date(2015, 4, 4), 21),\n",
       " (datetime.date(2015, 4, 10), 29),\n",
       " (datetime.date(2015, 4, 11), 19),\n",
       " (datetime.date(2015, 4, 17), 30),\n",
       " (datetime.date(2015, 4, 18), 34),\n",
       " (datetime.date(2015, 4, 24), 36),\n",
       " (datetime.date(2015, 4, 25), 18),\n",
       " (datetime.date(2015, 5, 1), 27),\n",
       " (datetime.date(2015, 5, 2), 13),\n",
       " (datetime.date(2015, 5, 8), 11),\n",
       " (datetime.date(2015, 5, 9), 4),\n",
       " (datetime.date(2015, 5, 15), 31),\n",
       " (datetime.date(2015, 5, 16), 26),\n",
       " (datetime.date(2015, 5, 22), 42),\n",
       " (datetime.date(2015, 5, 23), 16),\n",
       " (datetime.date(2015, 5, 29), 35),\n",
       " (datetime.date(2015, 5, 30), 25),\n",
       " (datetime.date(2015, 6, 5), 36),\n",
       " (datetime.date(2015, 6, 6), 26),\n",
       " (datetime.date(2015, 6, 12), 26),\n",
       " (datetime.date(2015, 6, 13), 43),\n",
       " (datetime.date(2015, 6, 19), 34),\n",
       " (datetime.date(2015, 6, 20), 28)]"
      ]
     },
     "execution_count": 33,
     "metadata": {},
     "output_type": "execute_result"
    }
   ],
   "source": [
    "# look at another turnstile at Bowling Green\n",
    "\n",
    "daily_weekend_counts[('R200A', 'R041', '01-00-04', 'BOWLING GREEN')]"
   ]
  },
  {
   "cell_type": "markdown",
   "metadata": {},
   "source": [
    "## Accumulate Counts by Station Area\n",
    "\n",
    "So far we've been operating on a single turnstile level. Next we'll combine turnstiles in the same ControlArea/Unit/Station combo. There are some ControlArea/Unit/Station groups that have a single turnstile, but most have multiple turnstiles-- same value for the C/A, UNIT and STATION columns, different values for the SCP column.\n",
    "\n",
    "We will combine the numbers together for each ControlArea/UNIT/STATION combo, for each day, to get a count by station area."
   ]
  },
  {
   "cell_type": "code",
   "execution_count": 34,
   "metadata": {
    "collapsed": false
   },
   "outputs": [],
   "source": [
    "# append all daily counts to a single station area\n",
    "\n",
    "def combine_by_stationarea(dct):\n",
    "    d = {}\n",
    "    for turnstile, rows in dct.items():\n",
    "        by_day = {}\n",
    "        station = (turnstile[:2]) + (turnstile[3],)\n",
    "        d[station] = d.get(station, [])\n",
    "        for day, count in rows:\n",
    "            by_day[day] = by_day.get(day, 0) + count\n",
    "        for item in by_day.items():\n",
    "            d[station].append(item)\n",
    "        d[station] = sorted(d[station])\n",
    "    return d\n",
    "\n",
    "weekend_by_stationarea = combine_by_stationarea(daily_weekend_counts)\n",
    "weeknight_by_stationarea = combine_by_stationarea(daily_weeknight_counts)"
   ]
  },
  {
   "cell_type": "code",
   "execution_count": 35,
   "metadata": {
    "collapsed": false
   },
   "outputs": [],
   "source": [
    "# reusable function for accumulating values by key\n",
    "\n",
    "def accumulate_by_day(dct):\n",
    "    d = {}\n",
    "    for key, vals in dct.items():\n",
    "        by_day = {}\n",
    "        for day, count in vals:\n",
    "            by_day[day] = by_day.get(day, 0) + count\n",
    "        d[key] = sorted(by_day.items())\n",
    "    return d\n",
    "        \n",
    "weekend_stationarea_counts = accumulate_by_day(weekend_by_stationarea)\n",
    "weeknight_stationarea_counts = accumulate_by_day(weeknight_by_stationarea)"
   ]
  },
  {
   "cell_type": "code",
   "execution_count": 36,
   "metadata": {
    "collapsed": false
   },
   "outputs": [
    {
     "data": {
      "text/plain": [
       "[(datetime.date(2015, 3, 27), 282),\n",
       " (datetime.date(2015, 3, 28), 463),\n",
       " (datetime.date(2015, 4, 3), 594),\n",
       " (datetime.date(2015, 4, 4), 439),\n",
       " (datetime.date(2015, 4, 10), 586),\n",
       " (datetime.date(2015, 4, 11), 503),\n",
       " (datetime.date(2015, 4, 17), 670),\n",
       " (datetime.date(2015, 4, 18), 499),\n",
       " (datetime.date(2015, 4, 24), 598),\n",
       " (datetime.date(2015, 4, 25), 458),\n",
       " (datetime.date(2015, 5, 1), 747),\n",
       " (datetime.date(2015, 5, 2), 463),\n",
       " (datetime.date(2015, 5, 8), 354),\n",
       " (datetime.date(2015, 5, 9), 98),\n",
       " (datetime.date(2015, 5, 15), 605),\n",
       " (datetime.date(2015, 5, 16), 429),\n",
       " (datetime.date(2015, 5, 22), 634),\n",
       " (datetime.date(2015, 5, 23), 426),\n",
       " (datetime.date(2015, 5, 29), 690),\n",
       " (datetime.date(2015, 5, 30), 527),\n",
       " (datetime.date(2015, 6, 5), 632),\n",
       " (datetime.date(2015, 6, 6), 504),\n",
       " (datetime.date(2015, 6, 12), 620),\n",
       " (datetime.date(2015, 6, 13), 565),\n",
       " (datetime.date(2015, 6, 19), 690),\n",
       " (datetime.date(2015, 6, 20), 450)]"
      ]
     },
     "execution_count": 36,
     "metadata": {},
     "output_type": "execute_result"
    }
   ],
   "source": [
    "# look at a station area (a group of turnstiles) at Bowling Green\n",
    "\n",
    "weekend_stationarea_counts[('R200A', 'R041', 'BOWLING GREEN')]"
   ]
  },
  {
   "cell_type": "code",
   "execution_count": 37,
   "metadata": {
    "collapsed": false
   },
   "outputs": [],
   "source": [
    "# for key, val in weekend_by_stationarea.items():\n",
    "#     if key[2] == 'BOYD-88 ST':\n",
    "#         print sorted(val)\n",
    "# print len(weekend_by_stationarea.values()[0])"
   ]
  },
  {
   "cell_type": "markdown",
   "metadata": {
    "collapsed": true
   },
   "source": [
    "## Counts by Station\n",
    "\n",
    "Combine everything in each station, and come up with a time series for each STATION, by adding up all the turnstiles in a station."
   ]
  },
  {
   "cell_type": "code",
   "execution_count": 38,
   "metadata": {
    "collapsed": false
   },
   "outputs": [
    {
     "data": {
      "text/plain": [
       "(729, 729)"
      ]
     },
     "execution_count": 38,
     "metadata": {},
     "output_type": "execute_result"
    }
   ],
   "source": [
    "len(weekend_stationarea_counts.items()), len(weeknight_stationarea_counts.items())"
   ]
  },
  {
   "cell_type": "code",
   "execution_count": 39,
   "metadata": {
    "collapsed": false
   },
   "outputs": [],
   "source": [
    "# combine all of the counts at a station in a list\n",
    "\n",
    "def combine_by_station(dct):\n",
    "    d = {}\n",
    "    for stationarea, rows in dct.items():\n",
    "        by_day = {}\n",
    "        station = (stationarea[-1],)\n",
    "        d[station] = d.get(station, [])\n",
    "        for day, count in rows:\n",
    "            by_day[day] = by_day.get(day, 0) + count\n",
    "        for item in by_day.items():\n",
    "            d[station].append(item)\n",
    "        d[station] = sorted(d[station])\n",
    "    return d\n",
    "            \n",
    "weekend_by_station = combine_by_station(weekend_stationarea_counts)\n",
    "weeknight_by_station = combine_by_station(weeknight_stationarea_counts)"
   ]
  },
  {
   "cell_type": "code",
   "execution_count": 40,
   "metadata": {
    "collapsed": false
   },
   "outputs": [
    {
     "data": {
      "text/plain": [
       "[(datetime.date(2015, 3, 30), 1427),\n",
       " (datetime.date(2015, 3, 30), 2086),\n",
       " (datetime.date(2015, 3, 30), 2347),\n",
       " (datetime.date(2015, 3, 31), 1422),\n",
       " (datetime.date(2015, 3, 31), 2278),\n",
       " (datetime.date(2015, 3, 31), 2500),\n",
       " (datetime.date(2015, 4, 1), 1476),\n",
       " (datetime.date(2015, 4, 1), 2237),\n",
       " (datetime.date(2015, 4, 1), 2560),\n",
       " (datetime.date(2015, 4, 6), 1371),\n",
       " (datetime.date(2015, 4, 6), 1420),\n",
       " (datetime.date(2015, 4, 6), 2299),\n",
       " (datetime.date(2015, 4, 7), 1327),\n",
       " (datetime.date(2015, 4, 7), 2096),\n",
       " (datetime.date(2015, 4, 7), 2186),\n",
       " (datetime.date(2015, 4, 8), 1502),\n",
       " (datetime.date(2015, 4, 8), 2202),\n",
       " (datetime.date(2015, 4, 8), 3249),\n",
       " (datetime.date(2015, 4, 13), 1465),\n",
       " (datetime.date(2015, 4, 13), 2039),\n",
       " (datetime.date(2015, 4, 13), 2325),\n",
       " (datetime.date(2015, 4, 14), 1448),\n",
       " (datetime.date(2015, 4, 14), 1671),\n",
       " (datetime.date(2015, 4, 14), 2497),\n",
       " (datetime.date(2015, 4, 15), 1477),\n",
       " (datetime.date(2015, 4, 15), 2271),\n",
       " (datetime.date(2015, 4, 15), 2597),\n",
       " (datetime.date(2015, 4, 20), 1355),\n",
       " (datetime.date(2015, 4, 20), 2167),\n",
       " (datetime.date(2015, 4, 20), 2354),\n",
       " (datetime.date(2015, 4, 21), 1442),\n",
       " (datetime.date(2015, 4, 21), 2311),\n",
       " (datetime.date(2015, 4, 21), 2561),\n",
       " (datetime.date(2015, 4, 22), 1334),\n",
       " (datetime.date(2015, 4, 22), 2139),\n",
       " (datetime.date(2015, 4, 22), 2399),\n",
       " (datetime.date(2015, 4, 27), 1433),\n",
       " (datetime.date(2015, 4, 27), 2087),\n",
       " (datetime.date(2015, 4, 27), 2407),\n",
       " (datetime.date(2015, 4, 28), 1470),\n",
       " (datetime.date(2015, 4, 28), 2162),\n",
       " (datetime.date(2015, 4, 28), 2558),\n",
       " (datetime.date(2015, 4, 29), 1346),\n",
       " (datetime.date(2015, 4, 29), 1596),\n",
       " (datetime.date(2015, 4, 29), 2543),\n",
       " (datetime.date(2015, 5, 4), 1371),\n",
       " (datetime.date(2015, 5, 4), 2176),\n",
       " (datetime.date(2015, 5, 4), 2677),\n",
       " (datetime.date(2015, 5, 5), 1255),\n",
       " (datetime.date(2015, 5, 5), 2213),\n",
       " (datetime.date(2015, 5, 5), 2540),\n",
       " (datetime.date(2015, 5, 6), 1393),\n",
       " (datetime.date(2015, 5, 6), 2206),\n",
       " (datetime.date(2015, 5, 6), 2611),\n",
       " (datetime.date(2015, 5, 11), 1316),\n",
       " (datetime.date(2015, 5, 11), 1976),\n",
       " (datetime.date(2015, 5, 11), 2519),\n",
       " (datetime.date(2015, 5, 12), 1291),\n",
       " (datetime.date(2015, 5, 12), 2118),\n",
       " (datetime.date(2015, 5, 12), 2575),\n",
       " (datetime.date(2015, 5, 13), 1368),\n",
       " (datetime.date(2015, 5, 13), 1885),\n",
       " (datetime.date(2015, 5, 13), 2654),\n",
       " (datetime.date(2015, 5, 18), 1251),\n",
       " (datetime.date(2015, 5, 18), 2060),\n",
       " (datetime.date(2015, 5, 18), 2312),\n",
       " (datetime.date(2015, 5, 19), 1302),\n",
       " (datetime.date(2015, 5, 19), 2111),\n",
       " (datetime.date(2015, 5, 19), 2557),\n",
       " (datetime.date(2015, 5, 20), 1147),\n",
       " (datetime.date(2015, 5, 20), 2100),\n",
       " (datetime.date(2015, 5, 20), 2412),\n",
       " (datetime.date(2015, 5, 25), 897),\n",
       " (datetime.date(2015, 5, 25), 1172),\n",
       " (datetime.date(2015, 5, 25), 2217),\n",
       " (datetime.date(2015, 5, 26), 1271),\n",
       " (datetime.date(2015, 5, 26), 2056),\n",
       " (datetime.date(2015, 5, 26), 2635),\n",
       " (datetime.date(2015, 5, 27), 1179),\n",
       " (datetime.date(2015, 5, 27), 2185),\n",
       " (datetime.date(2015, 5, 27), 2622),\n",
       " (datetime.date(2015, 6, 1), 1344),\n",
       " (datetime.date(2015, 6, 1), 2028),\n",
       " (datetime.date(2015, 6, 1), 2371),\n",
       " (datetime.date(2015, 6, 2), 1353),\n",
       " (datetime.date(2015, 6, 2), 2094),\n",
       " (datetime.date(2015, 6, 2), 2472),\n",
       " (datetime.date(2015, 6, 3), 1343),\n",
       " (datetime.date(2015, 6, 3), 2174),\n",
       " (datetime.date(2015, 6, 3), 2982),\n",
       " (datetime.date(2015, 6, 8), 1390),\n",
       " (datetime.date(2015, 6, 8), 2084),\n",
       " (datetime.date(2015, 6, 8), 2570),\n",
       " (datetime.date(2015, 6, 9), 1384),\n",
       " (datetime.date(2015, 6, 9), 2116),\n",
       " (datetime.date(2015, 6, 9), 2981),\n",
       " (datetime.date(2015, 6, 10), 1398),\n",
       " (datetime.date(2015, 6, 10), 2095),\n",
       " (datetime.date(2015, 6, 10), 2749),\n",
       " (datetime.date(2015, 6, 15), 1165),\n",
       " (datetime.date(2015, 6, 15), 2046),\n",
       " (datetime.date(2015, 6, 15), 2516),\n",
       " (datetime.date(2015, 6, 16), 1247),\n",
       " (datetime.date(2015, 6, 16), 2234),\n",
       " (datetime.date(2015, 6, 16), 2750),\n",
       " (datetime.date(2015, 6, 17), 1282),\n",
       " (datetime.date(2015, 6, 17), 2081),\n",
       " (datetime.date(2015, 6, 17), 2998),\n",
       " (datetime.date(2015, 6, 22), 1107),\n",
       " (datetime.date(2015, 6, 22), 2075),\n",
       " (datetime.date(2015, 6, 22), 2846),\n",
       " (datetime.date(2015, 6, 23), 1362),\n",
       " (datetime.date(2015, 6, 23), 2093),\n",
       " (datetime.date(2015, 6, 23), 2759),\n",
       " (datetime.date(2015, 6, 24), 1417),\n",
       " (datetime.date(2015, 6, 24), 1995),\n",
       " (datetime.date(2015, 6, 24), 2827)]"
      ]
     },
     "execution_count": 40,
     "metadata": {},
     "output_type": "execute_result"
    }
   ],
   "source": [
    "# look at all station areas at Bowling Green. \n",
    "# There appear to be 3 sets of turnstiles since each day repeats 3 times.\n",
    "\n",
    "weeknight_by_station[('BOWLING GREEN',)]"
   ]
  },
  {
   "cell_type": "code",
   "execution_count": 41,
   "metadata": {
    "collapsed": true
   },
   "outputs": [],
   "source": [
    "# total the counts for a single station\n",
    "\n",
    "weekend_station_counts = accumulate_by_day(weekend_by_station)\n",
    "weeknight_station_counts = accumulate_by_day(weeknight_by_station)"
   ]
  },
  {
   "cell_type": "code",
   "execution_count": 42,
   "metadata": {
    "collapsed": false
   },
   "outputs": [
    {
     "data": {
      "text/plain": [
       "[(datetime.date(2015, 3, 30), 5860),\n",
       " (datetime.date(2015, 3, 31), 6200),\n",
       " (datetime.date(2015, 4, 1), 6273),\n",
       " (datetime.date(2015, 4, 6), 5090),\n",
       " (datetime.date(2015, 4, 7), 5609),\n",
       " (datetime.date(2015, 4, 8), 6953),\n",
       " (datetime.date(2015, 4, 13), 5829),\n",
       " (datetime.date(2015, 4, 14), 5616),\n",
       " (datetime.date(2015, 4, 15), 6345),\n",
       " (datetime.date(2015, 4, 20), 5876),\n",
       " (datetime.date(2015, 4, 21), 6314),\n",
       " (datetime.date(2015, 4, 22), 5872),\n",
       " (datetime.date(2015, 4, 27), 5927),\n",
       " (datetime.date(2015, 4, 28), 6190),\n",
       " (datetime.date(2015, 4, 29), 5485),\n",
       " (datetime.date(2015, 5, 4), 6224),\n",
       " (datetime.date(2015, 5, 5), 6008),\n",
       " (datetime.date(2015, 5, 6), 6210),\n",
       " (datetime.date(2015, 5, 11), 5811),\n",
       " (datetime.date(2015, 5, 12), 5984),\n",
       " (datetime.date(2015, 5, 13), 5907),\n",
       " (datetime.date(2015, 5, 18), 5623),\n",
       " (datetime.date(2015, 5, 19), 5970),\n",
       " (datetime.date(2015, 5, 20), 5659),\n",
       " (datetime.date(2015, 5, 25), 4286),\n",
       " (datetime.date(2015, 5, 26), 5962),\n",
       " (datetime.date(2015, 5, 27), 5986),\n",
       " (datetime.date(2015, 6, 1), 5743),\n",
       " (datetime.date(2015, 6, 2), 5919),\n",
       " (datetime.date(2015, 6, 3), 6499),\n",
       " (datetime.date(2015, 6, 8), 6044),\n",
       " (datetime.date(2015, 6, 9), 6481),\n",
       " (datetime.date(2015, 6, 10), 6242),\n",
       " (datetime.date(2015, 6, 15), 5727),\n",
       " (datetime.date(2015, 6, 16), 6231),\n",
       " (datetime.date(2015, 6, 17), 6361),\n",
       " (datetime.date(2015, 6, 22), 6028),\n",
       " (datetime.date(2015, 6, 23), 6214),\n",
       " (datetime.date(2015, 6, 24), 6239)]"
      ]
     },
     "execution_count": 42,
     "metadata": {},
     "output_type": "execute_result"
    }
   ],
   "source": [
    "# look at daily totals for Bowling Green\n",
    "\n",
    "weeknight_station_counts[('BOWLING GREEN',)]"
   ]
  },
  {
   "cell_type": "markdown",
   "metadata": {},
   "source": [
    "## Means by Day of the Week\n",
    "\n",
    "Accumulate the counts by each day of the week and find their mean."
   ]
  },
  {
   "cell_type": "code",
   "execution_count": 43,
   "metadata": {
    "collapsed": false
   },
   "outputs": [],
   "source": [
    "# create the total station counts for each day of the week and take the mean\n",
    "\n",
    "def means_dayofweek(dct):\n",
    "    d = {}\n",
    "    f = []\n",
    "    # find day of week totals\n",
    "    for station, rows in dct.items():\n",
    "        by_dayofweek = {}\n",
    "        d[station] = d.get(station, [])\n",
    "        for day, count in rows:\n",
    "            by_dayofweek[day.weekday()] = by_dayofweek.get(day.weekday(), 0) + count\n",
    "            f.append(station + (day.weekday(), ))\n",
    "        d[station] = sorted(by_dayofweek.items())\n",
    "    # find day of week means\n",
    "    counter = Counter(f)\n",
    "    e = {}\n",
    "    for station, rows in d.items():\n",
    "        e[station] = e.get(station, [])\n",
    "        for weekday, total in rows:\n",
    "            day_mean = total / counter[station + (weekday,)]\n",
    "            e[station].append((weekday, total, day_mean))\n",
    "    return e, counter\n",
    "\n",
    "weekend_dayofweek_means, counter = means_dayofweek(weekend_station_counts)\n",
    "weekday_dayofweek_means, counter = means_dayofweek(weeknight_station_counts)"
   ]
  },
  {
   "cell_type": "code",
   "execution_count": 44,
   "metadata": {
    "collapsed": false
   },
   "outputs": [
    {
     "name": "stdout",
     "output_type": "stream",
     "text": [
      "[(4, 39797, 3061.3076923076924), (5, 30640, 2356.923076923077)]\n",
      "[(0, 74068, 5697.538461538462), (1, 78698, 6053.692307692308), (2, 80031, 6156.2307692307695)]\n"
     ]
    }
   ],
   "source": [
    "# look at day of week total and means for Bowling Green\n",
    "\n",
    "print weekend_dayofweek_means[('BOWLING GREEN',)]\n",
    "print weekday_dayofweek_means[('BOWLING GREEN',)]"
   ]
  },
  {
   "cell_type": "code",
   "execution_count": 45,
   "metadata": {
    "collapsed": false
   },
   "outputs": [
    {
     "data": {
      "text/plain": [
       "[(('34 ST-PENN STA',),\n",
       "  [(4, 244160, 18781.53846153846), (5, 208895, 16068.846153846154)]),\n",
       " (('34 ST-HERALD SQ',),\n",
       "  [(4, 205413, 15801.0), (5, 174454, 13419.538461538461)]),\n",
       " (('86 ST',),\n",
       "  [(4, 198337, 15256.692307692309), (5, 178354, 13719.538461538461)]),\n",
       " (('42 ST-TIMES SQ',),\n",
       "  [(4, 193250, 14865.384615384615), (5, 197879, 15221.461538461539)]),\n",
       " (('MAIN ST',), [(4, 171717, 13209.0), (5, 130181, 10013.923076923076)]),\n",
       " (('42 ST-PA BUS TE',),\n",
       "  [(4, 168604, 12969.538461538461), (5, 150910, 11608.461538461539)]),\n",
       " (('125 ST',), [(4, 158405, 12185.0), (5, 155961, 11997.0)]),\n",
       " (('42 ST-GRD CNTRL',),\n",
       "  [(4, 157107, 12085.153846153846), (5, 142128, 10932.923076923076)]),\n",
       " (('ROOSEVELT AVE',),\n",
       "  [(4, 156770, 12059.23076923077), (5, 146556, 11273.538461538461)]),\n",
       " (('145 ST',),\n",
       "  [(4, 126540, 9733.846153846154), (5, 124203, 9554.076923076924)])]"
      ]
     },
     "execution_count": 45,
     "metadata": {},
     "output_type": "execute_result"
    }
   ],
   "source": [
    "# look at highest traffic stations on weekends\n",
    "\n",
    "sort_by_value(weekend_dayofweek_means)[:10]"
   ]
  },
  {
   "cell_type": "markdown",
   "metadata": {},
   "source": [
    "## Means for Weekend and Weeknight"
   ]
  },
  {
   "cell_type": "code",
   "execution_count": 46,
   "metadata": {
    "collapsed": false
   },
   "outputs": [],
   "source": [
    "# find means for each weekpart (weekend or weekday)\n",
    "\n",
    "def weekpart_station_counts(dct):\n",
    "    d = {}    \n",
    "    for station, rows in dct.items():\n",
    "        count = 0\n",
    "        for _, _, day_mean in rows:\n",
    "            count += day_mean\n",
    "        weekpart_mean = count / len(rows)\n",
    "        d[station] = weekpart_mean\n",
    "    return d\n",
    "        \n",
    "weekend_means = weekpart_station_counts(weekend_dayofweek_means)\n",
    "weeknight_means = weekpart_station_counts(weekday_dayofweek_means)"
   ]
  },
  {
   "cell_type": "code",
   "execution_count": 47,
   "metadata": {
    "collapsed": false,
    "scrolled": true
   },
   "outputs": [
    {
     "name": "stdout",
     "output_type": "stream",
     "text": [
      "WEEKNIGHT: [(('34 ST-PENN STA',), 21205.564102564105), (('34 ST-HERALD SQ',), 19221.358974358973), (('86 ST',), 18716.82051282051), (('42 ST-GRD CNTRL',), 16989.69230769231), (('42 ST-TIMES SQ',), 16443.564102564105), (('MAIN ST',), 14396.02564102564), (('125 ST',), 13025.256410256408), (('42 ST-PA BUS TE',), 12096.82051282051), (('59 ST',), 11812.79487179487), (('ROOSEVELT AVE',), 11731.564102564103)]\n",
      "\n",
      "WEEKEND: [(('34 ST-PENN STA',), 17425.19230769231), (('42 ST-TIMES SQ',), 15043.423076923078), (('34 ST-HERALD SQ',), 14610.26923076923), (('86 ST',), 14488.115384615385), (('42 ST-PA BUS TE',), 12289.0), (('125 ST',), 12091.0), (('ROOSEVELT AVE',), 11666.384615384615), (('MAIN ST',), 11611.461538461539), (('42 ST-GRD CNTRL',), 11509.038461538461), (('145 ST',), 9643.961538461539)]\n"
     ]
    }
   ],
   "source": [
    "# look at highest traffic stations for weeknight/weekend\n",
    "\n",
    "print 'WEEKNIGHT:', sort_by_value(weeknight_means)[:10]\n",
    "print '\\nWEEKEND:', sort_by_value(weekend_means)[:10]"
   ]
  },
  {
   "cell_type": "markdown",
   "metadata": {},
   "source": [
    "## Make Comparison\n",
    "In order to make a comparison between stations, we looked at the proportion of weekend to weeknight traffic. To control for low traffic stations, I looked at stations with at least a mean of 500 exits on weekends."
   ]
  },
  {
   "cell_type": "code",
   "execution_count": 48,
   "metadata": {
    "collapsed": false
   },
   "outputs": [],
   "source": [
    "# proportion of traffic on weekend vs. weeknight\n",
    "\n",
    "def make_comparison(dct1, dct2):\n",
    "    d = {}\n",
    "    for station2, means2 in dct2.items():\n",
    "        if means2 > 0:\n",
    "            means1 = dct1.get(station2)\n",
    "            if means1 > 500:\n",
    "                d[station2] = means1 / means2\n",
    "    return d\n",
    "\n",
    "proportions = make_comparison(weekend_means, weeknight_means)"
   ]
  },
  {
   "cell_type": "code",
   "execution_count": 49,
   "metadata": {
    "collapsed": false
   },
   "outputs": [
    {
     "data": {
      "text/plain": [
       "[(('METS-WILLETS PT',), 2.088525415198792),\n",
       " (('BROADWAY/LAFAY',), 1.6945567469385363),\n",
       " (('ASTOR PLACE',), 1.6671098536419333),\n",
       " (('W 4 ST-WASH SQ',), 1.6629219178936858),\n",
       " (('14 ST-UNION SQ',), 1.6301470886726837),\n",
       " (('ESSEX ST',), 1.609049858889934),\n",
       " (('CITY / BUS',), 1.5590961516822326),\n",
       " (('QUEENS PLAZA',), 1.441714114474078),\n",
       " (('DELANCEY ST',), 1.4395981775828997),\n",
       " (('NEW UTRECHT AVE',), 1.4108612385756003)]"
      ]
     },
     "execution_count": 49,
     "metadata": {},
     "output_type": "execute_result"
    }
   ],
   "source": [
    "# look at stations with largest proportional weeknight traffic\n",
    "\n",
    "sort_by_value(proportions)[:10]"
   ]
  },
  {
   "cell_type": "code",
   "execution_count": 50,
   "metadata": {
    "collapsed": false
   },
   "outputs": [
    {
     "name": "stdout",
     "output_type": "stream",
     "text": [
      "('METS-WILLETS PT',): (532.038462, 254.743590)\n",
      "('BROADWAY/LAFAY',): (2224.692308, 1312.846154)\n",
      "('ASTOR PLACE',): (2009.423077, 1205.333333)\n",
      "('W 4 ST-WASH SQ',): (5467.346154, 3287.794872)\n",
      "('14 ST-UNION SQ',): (9266.884615, 5684.692308)\n"
     ]
    },
    {
     "data": {
      "image/png": "[encoded data removed]",
      "text/plain": [
       "<matplotlib.figure.Figure at 0x106cb9990>"
      ]
     },
     "metadata": {},
     "output_type": "display_data"
    }
   ],
   "source": [
    "# plot weekend mean by weeknight mean\n",
    "\n",
    "x = [x[1] for x in sorted(weekend_means.items())]\n",
    "y = [y[1] for y in sorted(weeknight_means.items())]\n",
    "\n",
    "plt.scatter(x, y, facecolors=\"white\",\n",
    "            edgecolors=\"red\")\n",
    "\n",
    "stations = [sta[0] for sta in sort_by_value(proportions)[:5]]\n",
    "\n",
    "# station = ('METS-WILLETS PT',)\n",
    "for station in stations:\n",
    "    xcord = weekend_means[station]\n",
    "    ycord = weeknight_means[station]\n",
    "    print \"%s: (%f, %f)\" % (station, xcord, ycord)\n",
    "    plt.annotate(station, (xcord, ycord))"
   ]
  },
  {
   "cell_type": "code",
   "execution_count": null,
   "metadata": {
    "collapsed": false
   },
   "outputs": [],
   "source": []
  },
  {
   "cell_type": "code",
   "execution_count": null,
   "metadata": {
    "collapsed": true
   },
   "outputs": [],
   "source": []
  }
 ],
 "metadata": {
  "kernelspec": {
   "display_name": "Python 2",
   "language": "python",
   "name": "python2"
  },
  "language_info": {
   "codemirror_mode": {
    "name": "ipython",
    "version": 2
   },
   "file_extension": ".py",
   "mimetype": "text/x-python",
   "name": "python",
   "nbconvert_exporter": "python",
   "pygments_lexer": "ipython2",
   "version": "2.7.9"
  }
 },
 "nbformat": 4,
 "nbformat_minor": 0
}
