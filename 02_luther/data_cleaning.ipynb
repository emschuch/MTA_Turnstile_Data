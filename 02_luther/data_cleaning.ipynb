{
 "cells": [
  {
   "cell_type": "code",
   "execution_count": 1,
   "metadata": {
    "collapsed": true
   },
   "outputs": [],
   "source": [
    "%matplotlib inline\n",
    "import pickle\n",
    "from __future__ import division\n",
    "import pandas as pd\n",
    "import numpy as np"
   ]
  },
  {
   "cell_type": "code",
   "execution_count": 2,
   "metadata": {
    "collapsed": true
   },
   "outputs": [],
   "source": [
    "with open(\"my_data_2000_2014.pkl\", 'r') as picklefile: \n",
    "    raw_data1 = pickle.load(picklefile)"
   ]
  },
  {
   "cell_type": "code",
   "execution_count": 3,
   "metadata": {
    "collapsed": false,
    "scrolled": true
   },
   "outputs": [],
   "source": [
    "raw_data = {item[0] : item[1]\n",
    "           for item in raw_data1}"
   ]
  },
  {
   "cell_type": "code",
   "execution_count": 4,
   "metadata": {
    "collapsed": false
   },
   "outputs": [],
   "source": [
    "data = pd.DataFrame(raw_data)\n",
    "data = pd.DataFrame.transpose(data)"
   ]
  },
  {
   "cell_type": "code",
   "execution_count": 5,
   "metadata": {
    "collapsed": false
   },
   "outputs": [
    {
     "data": {
      "text/plain": [
       "4415"
      ]
     },
     "execution_count": 5,
     "metadata": {},
     "output_type": "execute_result"
    }
   ],
   "source": [
    "len(data)"
   ]
  },
  {
   "cell_type": "code",
   "execution_count": 6,
   "metadata": {
    "collapsed": false
   },
   "outputs": [
    {
     "data": {
      "text/html": [
       "<div>\n",
       "<table border=\"1\" class=\"dataframe\">\n",
       "  <thead>\n",
       "    <tr style=\"text-align: right;\">\n",
       "      <th></th>\n",
       "      <th>duration</th>\n",
       "      <th>genres</th>\n",
       "      <th>gross</th>\n",
       "      <th>metacritic</th>\n",
       "      <th>opening</th>\n",
       "      <th>rating</th>\n",
       "      <th>release</th>\n",
       "      <th>studio</th>\n",
       "      <th>title</th>\n",
       "    </tr>\n",
       "  </thead>\n",
       "  <tbody>\n",
       "    <tr>\n",
       "      <th>/title/tt0035423/</th>\n",
       "      <td>PT118M</td>\n",
       "      <td>[Comedy, Fantasy, Romance]</td>\n",
       "      <td>$47,095,453</td>\n",
       "      <td>44/100</td>\n",
       "      <td>$2,562,448        \\n\\n      (USA)</td>\n",
       "      <td>PG-13</td>\n",
       "      <td>2001-12-25</td>\n",
       "      <td>Konrad Pictures</td>\n",
       "      <td>Kate &amp; Leopold</td>\n",
       "    </tr>\n",
       "    <tr>\n",
       "      <th>/title/tt0116282/</th>\n",
       "      <td>PT98M</td>\n",
       "      <td>[Crime, Drama, Thriller]</td>\n",
       "      <td>$24,611,975</td>\n",
       "      <td>85/100</td>\n",
       "      <td>$137,301        \\n\\n      (USA)</td>\n",
       "      <td>R</td>\n",
       "      <td>1996-04-05</td>\n",
       "      <td>PolyGram Filmed Entertainment</td>\n",
       "      <td>Fargo</td>\n",
       "    </tr>\n",
       "    <tr>\n",
       "      <th>/title/tt0118589/</th>\n",
       "      <td>PT104M</td>\n",
       "      <td>[Drama, Music, Romance]</td>\n",
       "      <td>$4,273,372</td>\n",
       "      <td>14/100</td>\n",
       "      <td>$2,414,596        \\n\\n      (USA)</td>\n",
       "      <td>PG-13</td>\n",
       "      <td>2001-09-21</td>\n",
       "      <td>Twentieth Century Fox Film Corporation</td>\n",
       "      <td>Glitter</td>\n",
       "    </tr>\n",
       "    <tr>\n",
       "      <th>/title/tt0118694/</th>\n",
       "      <td>PT98M</td>\n",
       "      <td>[Drama, Romance]</td>\n",
       "      <td>$2,734,044</td>\n",
       "      <td>85/100</td>\n",
       "      <td>£92,227        \\n\\n      (UK)</td>\n",
       "      <td>PG</td>\n",
       "      <td>2001-03-09</td>\n",
       "      <td>Block 2 Pictures</td>\n",
       "      <td>In the Mood for Love</td>\n",
       "    </tr>\n",
       "    <tr>\n",
       "      <th>/title/tt0118926/</th>\n",
       "      <td>PT132M</td>\n",
       "      <td>[Drama, Thriller, Crime]</td>\n",
       "      <td>$2,377,348</td>\n",
       "      <td>64/100</td>\n",
       "      <td>£61,622        \\n\\n      (UK)</td>\n",
       "      <td>R</td>\n",
       "      <td>2003-05-23</td>\n",
       "      <td>Fox Searchlight Pictures</td>\n",
       "      <td>The Dancer Upstairs</td>\n",
       "    </tr>\n",
       "  </tbody>\n",
       "</table>\n",
       "</div>"
      ],
      "text/plain": [
       "                  duration                      genres        gross  \\\n",
       "/title/tt0035423/   PT118M  [Comedy, Fantasy, Romance]  $47,095,453   \n",
       "/title/tt0116282/    PT98M    [Crime, Drama, Thriller]  $24,611,975   \n",
       "/title/tt0118589/   PT104M     [Drama, Music, Romance]   $4,273,372   \n",
       "/title/tt0118694/    PT98M            [Drama, Romance]   $2,734,044   \n",
       "/title/tt0118926/   PT132M    [Drama, Thriller, Crime]   $2,377,348   \n",
       "\n",
       "                  metacritic                            opening rating  \\\n",
       "/title/tt0035423/     44/100  $2,562,448        \\n\\n      (USA)  PG-13   \n",
       "/title/tt0116282/     85/100    $137,301        \\n\\n      (USA)      R   \n",
       "/title/tt0118589/     14/100  $2,414,596        \\n\\n      (USA)  PG-13   \n",
       "/title/tt0118694/     85/100      £92,227        \\n\\n      (UK)     PG   \n",
       "/title/tt0118926/     64/100      £61,622        \\n\\n      (UK)      R   \n",
       "\n",
       "                      release                                  studio  \\\n",
       "/title/tt0035423/  2001-12-25                         Konrad Pictures   \n",
       "/title/tt0116282/  1996-04-05           PolyGram Filmed Entertainment   \n",
       "/title/tt0118589/  2001-09-21  Twentieth Century Fox Film Corporation   \n",
       "/title/tt0118694/  2001-03-09                        Block 2 Pictures   \n",
       "/title/tt0118926/  2003-05-23                Fox Searchlight Pictures   \n",
       "\n",
       "                                  title  \n",
       "/title/tt0035423/        Kate & Leopold  \n",
       "/title/tt0116282/                 Fargo  \n",
       "/title/tt0118589/               Glitter  \n",
       "/title/tt0118694/  In the Mood for Love  \n",
       "/title/tt0118926/   The Dancer Upstairs  "
      ]
     },
     "execution_count": 6,
     "metadata": {},
     "output_type": "execute_result"
    }
   ],
   "source": [
    "data.head()"
   ]
  },
  {
   "cell_type": "code",
   "execution_count": 7,
   "metadata": {
    "collapsed": false
   },
   "outputs": [],
   "source": [
    "data = data[data['metacritic'] != 'Metacritic Reviews']"
   ]
  },
  {
   "cell_type": "code",
   "execution_count": 8,
   "metadata": {
    "collapsed": false
   },
   "outputs": [
    {
     "data": {
      "text/plain": [
       "4098"
      ]
     },
     "execution_count": 8,
     "metadata": {},
     "output_type": "execute_result"
    }
   ],
   "source": [
    "len(data)"
   ]
  },
  {
   "cell_type": "code",
   "execution_count": 9,
   "metadata": {
    "collapsed": true
   },
   "outputs": [],
   "source": [
    "data['duration'] = data['duration'].map(lambda x: x.encode('ascii'))\n",
    "data['duration'] = data['duration'].map(lambda x: int(x.replace('P', '').replace('T', '').replace('M', '')))"
   ]
  },
  {
   "cell_type": "code",
   "execution_count": 10,
   "metadata": {
    "collapsed": false
   },
   "outputs": [
    {
     "name": "stdout",
     "output_type": "stream",
     "text": [
      "dols: 3651, pds: 444, oth: 3\n"
     ]
    }
   ],
   "source": [
    "dols = 0\n",
    "pds = 0\n",
    "oth = 0\n",
    "\n",
    "for gross in data['opening']:\n",
    "    if gross[0] == u'$':\n",
    "        dols += 1\n",
    "    elif gross[0] == u'£':\n",
    "        pds += 1\n",
    "    else:\n",
    "        oth += 1\n",
    "        \n",
    "print \"dols: %d, pds: %d, oth: %d\" % (dols, pds, oth)\n",
    "\n",
    "# gross - dols: 4096, pds: 1, oth: 1\n",
    "# opening - dols: 3651, pds: 444, oth: 3"
   ]
  },
  {
   "cell_type": "code",
   "execution_count": 11,
   "metadata": {
    "collapsed": false
   },
   "outputs": [],
   "source": [
    "data = data[data['gross'].str.contains(u'\\$')]"
   ]
  },
  {
   "cell_type": "code",
   "execution_count": 12,
   "metadata": {
    "collapsed": false
   },
   "outputs": [
    {
     "data": {
      "text/plain": [
       "4096"
      ]
     },
     "execution_count": 12,
     "metadata": {},
     "output_type": "execute_result"
    }
   ],
   "source": [
    "len(data)"
   ]
  },
  {
   "cell_type": "code",
   "execution_count": 13,
   "metadata": {
    "collapsed": true
   },
   "outputs": [],
   "source": [
    "data['gross'] = data['gross'].map(lambda x: int(x.replace('$', '').replace(',', '')))"
   ]
  },
  {
   "cell_type": "code",
   "execution_count": 14,
   "metadata": {
    "collapsed": false
   },
   "outputs": [],
   "source": [
    "data['opening'] = data['opening'].map(lambda x: x.split()[0])"
   ]
  },
  {
   "cell_type": "code",
   "execution_count": 15,
   "metadata": {
    "collapsed": true
   },
   "outputs": [],
   "source": [
    "data = data[data['opening'].str.contains(\"[u\\$\\£]\")]"
   ]
  },
  {
   "cell_type": "code",
   "execution_count": 16,
   "metadata": {
    "collapsed": false
   },
   "outputs": [
    {
     "data": {
      "text/plain": [
       "4093"
      ]
     },
     "execution_count": 16,
     "metadata": {},
     "output_type": "execute_result"
    }
   ],
   "source": [
    "len(data)"
   ]
  },
  {
   "cell_type": "code",
   "execution_count": 17,
   "metadata": {
    "collapsed": false
   },
   "outputs": [
    {
     "name": "stdout",
     "output_type": "stream",
     "text": [
      "/title/tt0035423/     $2,562,448\n",
      "/title/tt0116282/       $137,301\n",
      "/title/tt0118589/     $2,414,596\n",
      "/title/tt0118694/        £92,227\n",
      "/title/tt0118926/        £61,622\n",
      "/title/tt0120202/       $580,163\n",
      "/title/tt0120630/    $17,506,162\n",
      "/title/tt0120667/     $2,815,167\n",
      "/title/tt0120679/       $205,996\n",
      "/title/tt0120681/    $11,014,818\n",
      "Name: opening, dtype: object\n",
      "<class 'pandas.core.series.Series'>\n",
      "[2562448, 137301, 2414596, 138340.5, 92433.0, 580163, 17506162, 2815167, 205996, 11014818]\n"
     ]
    }
   ],
   "source": [
    "opening = data['opening']\n",
    "\n",
    "print opening[:10]\n",
    "print type(opening)\n",
    "\n",
    "def convert_pounds(lst):\n",
    "    newlst = []\n",
    "    for item in lst:\n",
    "        item = item.encode('ascii', 'ignore')\n",
    "        if item[0] == u'$':\n",
    "            item = int(item.replace('$', '').replace(',', ''))\n",
    "            newlst.append(item)\n",
    "        else:\n",
    "            item = int(item.replace('£', '').replace(',', '')) * 1.5\n",
    "            newlst.append(item)\n",
    "    return newlst\n",
    "\n",
    "opening2 = convert_pounds(opening)\n",
    "print opening2[:10]\n",
    "\n",
    "data['opening'] = opening2"
   ]
  },
  {
   "cell_type": "code",
   "execution_count": 18,
   "metadata": {
    "collapsed": false
   },
   "outputs": [
    {
     "data": {
      "text/html": [
       "<div>\n",
       "<table border=\"1\" class=\"dataframe\">\n",
       "  <thead>\n",
       "    <tr style=\"text-align: right;\">\n",
       "      <th></th>\n",
       "      <th>duration</th>\n",
       "      <th>genres</th>\n",
       "      <th>gross</th>\n",
       "      <th>metacritic</th>\n",
       "      <th>opening</th>\n",
       "      <th>rating</th>\n",
       "      <th>release</th>\n",
       "      <th>studio</th>\n",
       "      <th>title</th>\n",
       "    </tr>\n",
       "  </thead>\n",
       "  <tbody>\n",
       "    <tr>\n",
       "      <th>/title/tt0035423/</th>\n",
       "      <td>118</td>\n",
       "      <td>[Comedy, Fantasy, Romance]</td>\n",
       "      <td>47095453</td>\n",
       "      <td>44/100</td>\n",
       "      <td>2562448.0</td>\n",
       "      <td>PG-13</td>\n",
       "      <td>2001-12-25</td>\n",
       "      <td>Konrad Pictures</td>\n",
       "      <td>Kate &amp; Leopold</td>\n",
       "    </tr>\n",
       "    <tr>\n",
       "      <th>/title/tt0116282/</th>\n",
       "      <td>98</td>\n",
       "      <td>[Crime, Drama, Thriller]</td>\n",
       "      <td>24611975</td>\n",
       "      <td>85/100</td>\n",
       "      <td>137301.0</td>\n",
       "      <td>R</td>\n",
       "      <td>1996-04-05</td>\n",
       "      <td>PolyGram Filmed Entertainment</td>\n",
       "      <td>Fargo</td>\n",
       "    </tr>\n",
       "    <tr>\n",
       "      <th>/title/tt0118589/</th>\n",
       "      <td>104</td>\n",
       "      <td>[Drama, Music, Romance]</td>\n",
       "      <td>4273372</td>\n",
       "      <td>14/100</td>\n",
       "      <td>2414596.0</td>\n",
       "      <td>PG-13</td>\n",
       "      <td>2001-09-21</td>\n",
       "      <td>Twentieth Century Fox Film Corporation</td>\n",
       "      <td>Glitter</td>\n",
       "    </tr>\n",
       "    <tr>\n",
       "      <th>/title/tt0118694/</th>\n",
       "      <td>98</td>\n",
       "      <td>[Drama, Romance]</td>\n",
       "      <td>2734044</td>\n",
       "      <td>85/100</td>\n",
       "      <td>138340.5</td>\n",
       "      <td>PG</td>\n",
       "      <td>2001-03-09</td>\n",
       "      <td>Block 2 Pictures</td>\n",
       "      <td>In the Mood for Love</td>\n",
       "    </tr>\n",
       "    <tr>\n",
       "      <th>/title/tt0118926/</th>\n",
       "      <td>132</td>\n",
       "      <td>[Drama, Thriller, Crime]</td>\n",
       "      <td>2377348</td>\n",
       "      <td>64/100</td>\n",
       "      <td>92433.0</td>\n",
       "      <td>R</td>\n",
       "      <td>2003-05-23</td>\n",
       "      <td>Fox Searchlight Pictures</td>\n",
       "      <td>The Dancer Upstairs</td>\n",
       "    </tr>\n",
       "  </tbody>\n",
       "</table>\n",
       "</div>"
      ],
      "text/plain": [
       "                   duration                      genres     gross metacritic  \\\n",
       "/title/tt0035423/       118  [Comedy, Fantasy, Romance]  47095453     44/100   \n",
       "/title/tt0116282/        98    [Crime, Drama, Thriller]  24611975     85/100   \n",
       "/title/tt0118589/       104     [Drama, Music, Romance]   4273372     14/100   \n",
       "/title/tt0118694/        98            [Drama, Romance]   2734044     85/100   \n",
       "/title/tt0118926/       132    [Drama, Thriller, Crime]   2377348     64/100   \n",
       "\n",
       "                     opening rating     release  \\\n",
       "/title/tt0035423/  2562448.0  PG-13  2001-12-25   \n",
       "/title/tt0116282/   137301.0      R  1996-04-05   \n",
       "/title/tt0118589/  2414596.0  PG-13  2001-09-21   \n",
       "/title/tt0118694/   138340.5     PG  2001-03-09   \n",
       "/title/tt0118926/    92433.0      R  2003-05-23   \n",
       "\n",
       "                                                   studio  \\\n",
       "/title/tt0035423/                         Konrad Pictures   \n",
       "/title/tt0116282/           PolyGram Filmed Entertainment   \n",
       "/title/tt0118589/  Twentieth Century Fox Film Corporation   \n",
       "/title/tt0118694/                        Block 2 Pictures   \n",
       "/title/tt0118926/                Fox Searchlight Pictures   \n",
       "\n",
       "                                  title  \n",
       "/title/tt0035423/        Kate & Leopold  \n",
       "/title/tt0116282/                 Fargo  \n",
       "/title/tt0118589/               Glitter  \n",
       "/title/tt0118694/  In the Mood for Love  \n",
       "/title/tt0118926/   The Dancer Upstairs  "
      ]
     },
     "execution_count": 18,
     "metadata": {},
     "output_type": "execute_result"
    }
   ],
   "source": [
    "data.head()"
   ]
  },
  {
   "cell_type": "code",
   "execution_count": 19,
   "metadata": {
    "collapsed": false,
    "scrolled": false
   },
   "outputs": [
    {
     "data": {
      "text/plain": [
       "duration        int64\n",
       "genres         object\n",
       "gross           int64\n",
       "metacritic     object\n",
       "opening       float64\n",
       "rating         object\n",
       "release        object\n",
       "studio         object\n",
       "title          object\n",
       "dtype: object"
      ]
     },
     "execution_count": 19,
     "metadata": {},
     "output_type": "execute_result"
    }
   ],
   "source": [
    "data.dtypes"
   ]
  },
  {
   "cell_type": "code",
   "execution_count": 20,
   "metadata": {
    "collapsed": false
   },
   "outputs": [
    {
     "data": {
      "text/plain": [
       "4093"
      ]
     },
     "execution_count": 20,
     "metadata": {},
     "output_type": "execute_result"
    }
   ],
   "source": [
    "len(data)"
   ]
  },
  {
   "cell_type": "code",
   "execution_count": 21,
   "metadata": {
    "collapsed": false
   },
   "outputs": [],
   "source": [
    "data['metacritic'] = data['metacritic'].map(lambda x: int(x.split('/')[0]))"
   ]
  },
  {
   "cell_type": "code",
   "execution_count": 22,
   "metadata": {
    "collapsed": false
   },
   "outputs": [
    {
     "data": {
      "text/plain": [
       "duration                  165\n",
       "genres                [Drama]\n",
       "gross                25359200\n",
       "metacritic                100\n",
       "opening                387618\n",
       "rating                      R\n",
       "release            2014-08-15\n",
       "studio        IFC Productions\n",
       "title                 Boyhood\n",
       "Name: /title/tt1065073/, dtype: object"
      ]
     },
     "execution_count": 22,
     "metadata": {},
     "output_type": "execute_result"
    }
   ],
   "source": [
    "data.loc[data['metacritic'].idxmax()]"
   ]
  },
  {
   "cell_type": "code",
   "execution_count": 23,
   "metadata": {
    "collapsed": false,
    "scrolled": true
   },
   "outputs": [
    {
     "data": {
      "text/plain": [
       "duration                                         162\n",
       "genres                  [Action, Adventure, Fantasy]\n",
       "gross                                      760507625\n",
       "metacritic                                        83\n",
       "opening                                 1.276358e+07\n",
       "rating                                         PG-13\n",
       "release                                   2009-12-18\n",
       "studio        Twentieth Century Fox Film Corporation\n",
       "title                                         Avatar\n",
       "Name: /title/tt0499549/, dtype: object"
      ]
     },
     "execution_count": 23,
     "metadata": {},
     "output_type": "execute_result"
    }
   ],
   "source": [
    "data.loc[data['gross'].idxmax()]"
   ]
  },
  {
   "cell_type": "code",
   "execution_count": 24,
   "metadata": {
    "collapsed": true
   },
   "outputs": [],
   "source": [
    "high = data[data['metacritic'] > 90]"
   ]
  },
  {
   "cell_type": "code",
   "execution_count": 25,
   "metadata": {
    "collapsed": false,
    "scrolled": true
   },
   "outputs": [
    {
     "data": {
      "text/html": [
       "<div>\n",
       "<table border=\"1\" class=\"dataframe\">\n",
       "  <thead>\n",
       "    <tr style=\"text-align: right;\">\n",
       "      <th></th>\n",
       "      <th>duration</th>\n",
       "      <th>genres</th>\n",
       "      <th>gross</th>\n",
       "      <th>metacritic</th>\n",
       "      <th>opening</th>\n",
       "      <th>rating</th>\n",
       "      <th>release</th>\n",
       "      <th>studio</th>\n",
       "      <th>title</th>\n",
       "    </tr>\n",
       "  </thead>\n",
       "  <tbody>\n",
       "    <tr>\n",
       "      <th>/title/tt1065073/</th>\n",
       "      <td>165</td>\n",
       "      <td>[Drama]</td>\n",
       "      <td>25359200</td>\n",
       "      <td>100</td>\n",
       "      <td>387618</td>\n",
       "      <td>R</td>\n",
       "      <td>2014-08-15</td>\n",
       "      <td>IFC Productions</td>\n",
       "      <td>Boyhood</td>\n",
       "    </tr>\n",
       "    <tr>\n",
       "      <th>/title/tt0457430/</th>\n",
       "      <td>118</td>\n",
       "      <td>[Drama, Fantasy, War]</td>\n",
       "      <td>37623143</td>\n",
       "      <td>98</td>\n",
       "      <td>501691</td>\n",
       "      <td>R</td>\n",
       "      <td>2007-01-19</td>\n",
       "      <td>Estudios Picasso</td>\n",
       "      <td>Pan's Labyrinth</td>\n",
       "    </tr>\n",
       "    <tr>\n",
       "      <th>/title/tt1032846/</th>\n",
       "      <td>113</td>\n",
       "      <td>[Drama]</td>\n",
       "      <td>1185783</td>\n",
       "      <td>97</td>\n",
       "      <td>51712</td>\n",
       "      <td>NOT RATED</td>\n",
       "      <td>2007-09-14</td>\n",
       "      <td>Mobra Films</td>\n",
       "      <td>4 Months, 3 Weeks and 2 Days</td>\n",
       "    </tr>\n",
       "    <tr>\n",
       "      <th>/title/tt2024544/</th>\n",
       "      <td>134</td>\n",
       "      <td>[Biography, Drama, History]</td>\n",
       "      <td>56667870</td>\n",
       "      <td>97</td>\n",
       "      <td>923715</td>\n",
       "      <td>R</td>\n",
       "      <td>2013-11-08</td>\n",
       "      <td>Regency Enterprises</td>\n",
       "      <td>12 Years a Slave</td>\n",
       "    </tr>\n",
       "    <tr>\n",
       "      <th>/title/tt0382932/</th>\n",
       "      <td>111</td>\n",
       "      <td>[Animation, Comedy, Family]</td>\n",
       "      <td>206445654</td>\n",
       "      <td>96</td>\n",
       "      <td>47027395</td>\n",
       "      <td>G</td>\n",
       "      <td>2007-06-29</td>\n",
       "      <td>Pixar Animation Studios</td>\n",
       "      <td>Ratatouille</td>\n",
       "    </tr>\n",
       "  </tbody>\n",
       "</table>\n",
       "</div>"
      ],
      "text/plain": [
       "                   duration                       genres      gross  \\\n",
       "/title/tt1065073/       165                      [Drama]   25359200   \n",
       "/title/tt0457430/       118        [Drama, Fantasy, War]   37623143   \n",
       "/title/tt1032846/       113                      [Drama]    1185783   \n",
       "/title/tt2024544/       134  [Biography, Drama, History]   56667870   \n",
       "/title/tt0382932/       111  [Animation, Comedy, Family]  206445654   \n",
       "\n",
       "                   metacritic   opening     rating     release  \\\n",
       "/title/tt1065073/         100    387618          R  2014-08-15   \n",
       "/title/tt0457430/          98    501691          R  2007-01-19   \n",
       "/title/tt1032846/          97     51712  NOT RATED  2007-09-14   \n",
       "/title/tt2024544/          97    923715          R  2013-11-08   \n",
       "/title/tt0382932/          96  47027395          G  2007-06-29   \n",
       "\n",
       "                                    studio                         title  \n",
       "/title/tt1065073/          IFC Productions                       Boyhood  \n",
       "/title/tt0457430/         Estudios Picasso               Pan's Labyrinth  \n",
       "/title/tt1032846/              Mobra Films  4 Months, 3 Weeks and 2 Days  \n",
       "/title/tt2024544/      Regency Enterprises              12 Years a Slave  \n",
       "/title/tt0382932/  Pixar Animation Studios                   Ratatouille  "
      ]
     },
     "execution_count": 25,
     "metadata": {},
     "output_type": "execute_result"
    }
   ],
   "source": [
    "high.sort(['metacritic'], ascending=False).head()"
   ]
  },
  {
   "cell_type": "code",
   "execution_count": 26,
   "metadata": {
    "collapsed": false
   },
   "outputs": [
    {
     "data": {
      "text/plain": [
       "54.87881749328121"
      ]
     },
     "execution_count": 26,
     "metadata": {},
     "output_type": "execute_result"
    }
   ],
   "source": [
    "data.metacritic.mean()"
   ]
  },
  {
   "cell_type": "code",
   "execution_count": 27,
   "metadata": {
    "collapsed": false
   },
   "outputs": [],
   "source": [
    "low_gross = data[data['gross'] < 150000]"
   ]
  },
  {
   "cell_type": "code",
   "execution_count": 28,
   "metadata": {
    "collapsed": false
   },
   "outputs": [
    {
     "data": {
      "text/plain": [
       "57.36344537815126"
      ]
     },
     "execution_count": 28,
     "metadata": {},
     "output_type": "execute_result"
    }
   ],
   "source": [
    "low_gross.metacritic.mean()"
   ]
  },
  {
   "cell_type": "code",
   "execution_count": 29,
   "metadata": {
    "collapsed": true
   },
   "outputs": [],
   "source": [
    "data['release'] = pd.to_datetime(data['release'])"
   ]
  },
  {
   "cell_type": "code",
   "execution_count": 30,
   "metadata": {
    "collapsed": true
   },
   "outputs": [],
   "source": [
    "data = data[data['release'] >= '2000-01-10 00:00:00']"
   ]
  },
  {
   "cell_type": "code",
   "execution_count": 31,
   "metadata": {
    "collapsed": true
   },
   "outputs": [],
   "source": [
    "data = data[data['duration'] >= 80]"
   ]
  },
  {
   "cell_type": "code",
   "execution_count": 32,
   "metadata": {
    "collapsed": false
   },
   "outputs": [],
   "source": [
    "data['month'] = data['release'].map(lambda x: x.month)"
   ]
  },
  {
   "cell_type": "code",
   "execution_count": 33,
   "metadata": {
    "collapsed": false,
    "scrolled": true
   },
   "outputs": [
    {
     "data": {
      "text/plain": [
       "duration               int64\n",
       "genres                object\n",
       "gross                  int64\n",
       "metacritic             int64\n",
       "opening              float64\n",
       "rating                object\n",
       "release       datetime64[ns]\n",
       "studio                object\n",
       "title                 object\n",
       "month                  int64\n",
       "dtype: object"
      ]
     },
     "execution_count": 33,
     "metadata": {},
     "output_type": "execute_result"
    }
   ],
   "source": [
    "data.dtypes"
   ]
  },
  {
   "cell_type": "code",
   "execution_count": 34,
   "metadata": {
    "collapsed": false
   },
   "outputs": [
    {
     "data": {
      "text/plain": [
       "R            1804\n",
       "PG-13        1334\n",
       "PG            465\n",
       "UNKNOWN       165\n",
       "NOT RATED     117\n",
       "UNRATED        85\n",
       "G              55\n",
       "NC-17          13\n",
       "dtype: int64"
      ]
     },
     "execution_count": 34,
     "metadata": {},
     "output_type": "execute_result"
    }
   ],
   "source": [
    "data['rating'].value_counts()"
   ]
  },
  {
   "cell_type": "code",
   "execution_count": 35,
   "metadata": {
    "collapsed": false
   },
   "outputs": [
    {
     "name": "stderr",
     "output_type": "stream",
     "text": [
      "/Users/emilyschuch/anaconda/lib/python2.7/site-packages/IPython/kernel/__main__.py:2: SettingWithCopyWarning: \n",
      "A value is trying to be set on a copy of a slice from a DataFrame\n",
      "\n",
      "See the the caveats in the documentation: http://pandas.pydata.org/pandas-docs/stable/indexing.html#indexing-view-versus-copy\n",
      "  from IPython.kernel.zmq import kernelapp as app\n",
      "/Users/emilyschuch/anaconda/lib/python2.7/site-packages/IPython/kernel/__main__.py:5: SettingWithCopyWarning: \n",
      "A value is trying to be set on a copy of a slice from a DataFrame\n",
      "\n",
      "See the the caveats in the documentation: http://pandas.pydata.org/pandas-docs/stable/indexing.html#indexing-view-versus-copy\n"
     ]
    },
    {
     "data": {
      "text/plain": [
       "R          1804\n",
       "PG-13      1334\n",
       "PG          465\n",
       "UNRATED     367\n",
       "G            55\n",
       "NC-17        13\n",
       "dtype: int64"
      ]
     },
     "execution_count": 35,
     "metadata": {},
     "output_type": "execute_result"
    }
   ],
   "source": [
    "not_rated = data['rating'] == 'NOT RATED'\n",
    "data['rating'][not_rated] = 'UNRATED'\n",
    "\n",
    "unknown = data['rating'] == 'UNKNOWN'\n",
    "data['rating'][unknown] = 'UNRATED'\n",
    "\n",
    "data['rating'].value_counts()"
   ]
  },
  {
   "cell_type": "code",
   "execution_count": 36,
   "metadata": {
    "collapsed": false,
    "scrolled": true
   },
   "outputs": [
    {
     "name": "stdout",
     "output_type": "stream",
     "text": [
      "Universal Pictures\n",
      "Warner Bros.\n",
      "Paramount Pictures\n",
      "Twentieth Century Fox Film Corporation\n",
      "New Line Cinema\n",
      "Columbia Pictures\n",
      "Walt Disney Pictures\n",
      "Columbia Pictures Corporation\n",
      "DreamWorks SKG\n",
      "Touchstone Pictures\n",
      "Fox Searchlight Pictures\n",
      "Metro-Goldwyn-Mayer (MGM)\n",
      "Screen Gems\n",
      "Dimension Films\n",
      "Lionsgate\n",
      "Miramax\n",
      "Fox 2000 Pictures\n",
      "Focus Features\n",
      "Revolution Studios\n",
      "Summit Entertainment\n"
     ]
    }
   ],
   "source": [
    "studios = data.groupby(['studio'])\n",
    "\n",
    "studios_freq = studios.filter(lambda x: len(x) > 10)\n",
    "top_studios = studios_freq.groupby(['studio']).size().order(ascending=False)[:20]\n",
    "\n",
    "\n",
    "for studio in top_studios.index:\n",
    "    print studio"
   ]
  },
  {
   "cell_type": "code",
   "execution_count": 37,
   "metadata": {
    "collapsed": false
   },
   "outputs": [],
   "source": [
    "all_genres = set(data['genres'].sum())"
   ]
  },
  {
   "cell_type": "code",
   "execution_count": 38,
   "metadata": {
    "collapsed": false,
    "scrolled": true
   },
   "outputs": [
    {
     "data": {
      "text/plain": [
       "{'Action',\n",
       " 'Adventure',\n",
       " 'Animation',\n",
       " 'Biography',\n",
       " 'Comedy',\n",
       " 'Crime',\n",
       " 'Drama',\n",
       " 'Family',\n",
       " 'Fantasy',\n",
       " 'History',\n",
       " 'Horror',\n",
       " 'Music',\n",
       " 'Musical',\n",
       " 'Mystery',\n",
       " 'Romance',\n",
       " 'Sci-Fi',\n",
       " 'Sport',\n",
       " 'Thriller',\n",
       " 'War',\n",
       " 'Western'}"
      ]
     },
     "execution_count": 38,
     "metadata": {},
     "output_type": "execute_result"
    }
   ],
   "source": [
    "all_genres"
   ]
  },
  {
   "cell_type": "code",
   "execution_count": 39,
   "metadata": {
    "collapsed": true
   },
   "outputs": [],
   "source": [
    "data['genres'] = data['genres'].map(lambda x: '_'.join(x))"
   ]
  },
  {
   "cell_type": "code",
   "execution_count": 40,
   "metadata": {
    "collapsed": false
   },
   "outputs": [
    {
     "data": {
      "text/html": [
       "<div>\n",
       "<table border=\"1\" class=\"dataframe\">\n",
       "  <thead>\n",
       "    <tr style=\"text-align: right;\">\n",
       "      <th></th>\n",
       "      <th>duration</th>\n",
       "      <th>genres</th>\n",
       "      <th>gross</th>\n",
       "      <th>metacritic</th>\n",
       "      <th>opening</th>\n",
       "      <th>rating</th>\n",
       "      <th>release</th>\n",
       "      <th>studio</th>\n",
       "      <th>title</th>\n",
       "      <th>month</th>\n",
       "    </tr>\n",
       "  </thead>\n",
       "  <tbody>\n",
       "    <tr>\n",
       "      <th>/title/tt0035423/</th>\n",
       "      <td>118</td>\n",
       "      <td>Comedy_Fantasy_Romance</td>\n",
       "      <td>47095453</td>\n",
       "      <td>44</td>\n",
       "      <td>2562448.0</td>\n",
       "      <td>PG-13</td>\n",
       "      <td>2001-12-25</td>\n",
       "      <td>Konrad Pictures</td>\n",
       "      <td>Kate &amp; Leopold</td>\n",
       "      <td>12</td>\n",
       "    </tr>\n",
       "    <tr>\n",
       "      <th>/title/tt0118589/</th>\n",
       "      <td>104</td>\n",
       "      <td>Drama_Music_Romance</td>\n",
       "      <td>4273372</td>\n",
       "      <td>14</td>\n",
       "      <td>2414596.0</td>\n",
       "      <td>PG-13</td>\n",
       "      <td>2001-09-21</td>\n",
       "      <td>Twentieth Century Fox Film Corporation</td>\n",
       "      <td>Glitter</td>\n",
       "      <td>9</td>\n",
       "    </tr>\n",
       "    <tr>\n",
       "      <th>/title/tt0118694/</th>\n",
       "      <td>98</td>\n",
       "      <td>Drama_Romance</td>\n",
       "      <td>2734044</td>\n",
       "      <td>85</td>\n",
       "      <td>138340.5</td>\n",
       "      <td>PG</td>\n",
       "      <td>2001-03-09</td>\n",
       "      <td>Block 2 Pictures</td>\n",
       "      <td>In the Mood for Love</td>\n",
       "      <td>3</td>\n",
       "    </tr>\n",
       "    <tr>\n",
       "      <th>/title/tt0118926/</th>\n",
       "      <td>132</td>\n",
       "      <td>Drama_Thriller_Crime</td>\n",
       "      <td>2377348</td>\n",
       "      <td>64</td>\n",
       "      <td>92433.0</td>\n",
       "      <td>R</td>\n",
       "      <td>2003-05-23</td>\n",
       "      <td>Fox Searchlight Pictures</td>\n",
       "      <td>The Dancer Upstairs</td>\n",
       "      <td>5</td>\n",
       "    </tr>\n",
       "    <tr>\n",
       "      <th>/title/tt0120202/</th>\n",
       "      <td>105</td>\n",
       "      <td>Comedy_Drama</td>\n",
       "      <td>6920692</td>\n",
       "      <td>75</td>\n",
       "      <td>580163.0</td>\n",
       "      <td>R</td>\n",
       "      <td>2001-01-12</td>\n",
       "      <td>Filmtown Entertainment</td>\n",
       "      <td>State and Main</td>\n",
       "      <td>1</td>\n",
       "    </tr>\n",
       "  </tbody>\n",
       "</table>\n",
       "</div>"
      ],
      "text/plain": [
       "                   duration                  genres     gross  metacritic  \\\n",
       "/title/tt0035423/       118  Comedy_Fantasy_Romance  47095453          44   \n",
       "/title/tt0118589/       104     Drama_Music_Romance   4273372          14   \n",
       "/title/tt0118694/        98           Drama_Romance   2734044          85   \n",
       "/title/tt0118926/       132    Drama_Thriller_Crime   2377348          64   \n",
       "/title/tt0120202/       105            Comedy_Drama   6920692          75   \n",
       "\n",
       "                     opening rating    release  \\\n",
       "/title/tt0035423/  2562448.0  PG-13 2001-12-25   \n",
       "/title/tt0118589/  2414596.0  PG-13 2001-09-21   \n",
       "/title/tt0118694/   138340.5     PG 2001-03-09   \n",
       "/title/tt0118926/    92433.0      R 2003-05-23   \n",
       "/title/tt0120202/   580163.0      R 2001-01-12   \n",
       "\n",
       "                                                   studio  \\\n",
       "/title/tt0035423/                         Konrad Pictures   \n",
       "/title/tt0118589/  Twentieth Century Fox Film Corporation   \n",
       "/title/tt0118694/                        Block 2 Pictures   \n",
       "/title/tt0118926/                Fox Searchlight Pictures   \n",
       "/title/tt0120202/                  Filmtown Entertainment   \n",
       "\n",
       "                                  title  month  \n",
       "/title/tt0035423/        Kate & Leopold     12  \n",
       "/title/tt0118589/               Glitter      9  \n",
       "/title/tt0118694/  In the Mood for Love      3  \n",
       "/title/tt0118926/   The Dancer Upstairs      5  \n",
       "/title/tt0120202/        State and Main      1  "
      ]
     },
     "execution_count": 40,
     "metadata": {},
     "output_type": "execute_result"
    }
   ],
   "source": [
    "data.head()"
   ]
  },
  {
   "cell_type": "code",
   "execution_count": 41,
   "metadata": {
    "collapsed": false
   },
   "outputs": [
    {
     "data": {
      "text/html": [
       "<div>\n",
       "<table border=\"1\" class=\"dataframe\">\n",
       "  <thead>\n",
       "    <tr style=\"text-align: right;\">\n",
       "      <th></th>\n",
       "      <th>Action</th>\n",
       "      <th>Adventure</th>\n",
       "      <th>Animation</th>\n",
       "      <th>Biography</th>\n",
       "      <th>Comedy</th>\n",
       "      <th>Crime</th>\n",
       "      <th>Drama</th>\n",
       "      <th>Family</th>\n",
       "      <th>Fantasy</th>\n",
       "      <th>History</th>\n",
       "      <th>Horror</th>\n",
       "      <th>Music</th>\n",
       "      <th>Musical</th>\n",
       "      <th>Mystery</th>\n",
       "      <th>Romance</th>\n",
       "      <th>Sci-Fi</th>\n",
       "      <th>Sport</th>\n",
       "      <th>Thriller</th>\n",
       "      <th>War</th>\n",
       "      <th>Western</th>\n",
       "    </tr>\n",
       "  </thead>\n",
       "  <tbody>\n",
       "    <tr>\n",
       "      <th>/title/tt0035423/</th>\n",
       "      <td>0</td>\n",
       "      <td>0</td>\n",
       "      <td>0</td>\n",
       "      <td>0</td>\n",
       "      <td>1</td>\n",
       "      <td>0</td>\n",
       "      <td>0</td>\n",
       "      <td>0</td>\n",
       "      <td>1</td>\n",
       "      <td>0</td>\n",
       "      <td>0</td>\n",
       "      <td>0</td>\n",
       "      <td>0</td>\n",
       "      <td>0</td>\n",
       "      <td>1</td>\n",
       "      <td>0</td>\n",
       "      <td>0</td>\n",
       "      <td>0</td>\n",
       "      <td>0</td>\n",
       "      <td>0</td>\n",
       "    </tr>\n",
       "    <tr>\n",
       "      <th>/title/tt0118589/</th>\n",
       "      <td>0</td>\n",
       "      <td>0</td>\n",
       "      <td>0</td>\n",
       "      <td>0</td>\n",
       "      <td>0</td>\n",
       "      <td>0</td>\n",
       "      <td>1</td>\n",
       "      <td>0</td>\n",
       "      <td>0</td>\n",
       "      <td>0</td>\n",
       "      <td>0</td>\n",
       "      <td>1</td>\n",
       "      <td>0</td>\n",
       "      <td>0</td>\n",
       "      <td>1</td>\n",
       "      <td>0</td>\n",
       "      <td>0</td>\n",
       "      <td>0</td>\n",
       "      <td>0</td>\n",
       "      <td>0</td>\n",
       "    </tr>\n",
       "    <tr>\n",
       "      <th>/title/tt0118694/</th>\n",
       "      <td>0</td>\n",
       "      <td>0</td>\n",
       "      <td>0</td>\n",
       "      <td>0</td>\n",
       "      <td>0</td>\n",
       "      <td>0</td>\n",
       "      <td>1</td>\n",
       "      <td>0</td>\n",
       "      <td>0</td>\n",
       "      <td>0</td>\n",
       "      <td>0</td>\n",
       "      <td>0</td>\n",
       "      <td>0</td>\n",
       "      <td>0</td>\n",
       "      <td>1</td>\n",
       "      <td>0</td>\n",
       "      <td>0</td>\n",
       "      <td>0</td>\n",
       "      <td>0</td>\n",
       "      <td>0</td>\n",
       "    </tr>\n",
       "    <tr>\n",
       "      <th>/title/tt0118926/</th>\n",
       "      <td>0</td>\n",
       "      <td>0</td>\n",
       "      <td>0</td>\n",
       "      <td>0</td>\n",
       "      <td>0</td>\n",
       "      <td>1</td>\n",
       "      <td>1</td>\n",
       "      <td>0</td>\n",
       "      <td>0</td>\n",
       "      <td>0</td>\n",
       "      <td>0</td>\n",
       "      <td>0</td>\n",
       "      <td>0</td>\n",
       "      <td>0</td>\n",
       "      <td>0</td>\n",
       "      <td>0</td>\n",
       "      <td>0</td>\n",
       "      <td>1</td>\n",
       "      <td>0</td>\n",
       "      <td>0</td>\n",
       "    </tr>\n",
       "    <tr>\n",
       "      <th>/title/tt0120202/</th>\n",
       "      <td>0</td>\n",
       "      <td>0</td>\n",
       "      <td>0</td>\n",
       "      <td>0</td>\n",
       "      <td>1</td>\n",
       "      <td>0</td>\n",
       "      <td>1</td>\n",
       "      <td>0</td>\n",
       "      <td>0</td>\n",
       "      <td>0</td>\n",
       "      <td>0</td>\n",
       "      <td>0</td>\n",
       "      <td>0</td>\n",
       "      <td>0</td>\n",
       "      <td>0</td>\n",
       "      <td>0</td>\n",
       "      <td>0</td>\n",
       "      <td>0</td>\n",
       "      <td>0</td>\n",
       "      <td>0</td>\n",
       "    </tr>\n",
       "    <tr>\n",
       "      <th>/title/tt0120630/</th>\n",
       "      <td>0</td>\n",
       "      <td>0</td>\n",
       "      <td>1</td>\n",
       "      <td>0</td>\n",
       "      <td>1</td>\n",
       "      <td>0</td>\n",
       "      <td>0</td>\n",
       "      <td>1</td>\n",
       "      <td>0</td>\n",
       "      <td>0</td>\n",
       "      <td>0</td>\n",
       "      <td>0</td>\n",
       "      <td>0</td>\n",
       "      <td>0</td>\n",
       "      <td>0</td>\n",
       "      <td>0</td>\n",
       "      <td>0</td>\n",
       "      <td>0</td>\n",
       "      <td>0</td>\n",
       "      <td>0</td>\n",
       "    </tr>\n",
       "    <tr>\n",
       "      <th>/title/tt0120667/</th>\n",
       "      <td>1</td>\n",
       "      <td>1</td>\n",
       "      <td>0</td>\n",
       "      <td>0</td>\n",
       "      <td>0</td>\n",
       "      <td>0</td>\n",
       "      <td>0</td>\n",
       "      <td>0</td>\n",
       "      <td>0</td>\n",
       "      <td>0</td>\n",
       "      <td>0</td>\n",
       "      <td>0</td>\n",
       "      <td>0</td>\n",
       "      <td>0</td>\n",
       "      <td>0</td>\n",
       "      <td>1</td>\n",
       "      <td>0</td>\n",
       "      <td>0</td>\n",
       "      <td>0</td>\n",
       "      <td>0</td>\n",
       "    </tr>\n",
       "    <tr>\n",
       "      <th>/title/tt0120679/</th>\n",
       "      <td>0</td>\n",
       "      <td>0</td>\n",
       "      <td>0</td>\n",
       "      <td>1</td>\n",
       "      <td>0</td>\n",
       "      <td>0</td>\n",
       "      <td>1</td>\n",
       "      <td>0</td>\n",
       "      <td>0</td>\n",
       "      <td>0</td>\n",
       "      <td>0</td>\n",
       "      <td>0</td>\n",
       "      <td>0</td>\n",
       "      <td>0</td>\n",
       "      <td>1</td>\n",
       "      <td>0</td>\n",
       "      <td>0</td>\n",
       "      <td>0</td>\n",
       "      <td>0</td>\n",
       "      <td>0</td>\n",
       "    </tr>\n",
       "    <tr>\n",
       "      <th>/title/tt0120681/</th>\n",
       "      <td>0</td>\n",
       "      <td>0</td>\n",
       "      <td>0</td>\n",
       "      <td>0</td>\n",
       "      <td>0</td>\n",
       "      <td>0</td>\n",
       "      <td>0</td>\n",
       "      <td>0</td>\n",
       "      <td>0</td>\n",
       "      <td>0</td>\n",
       "      <td>1</td>\n",
       "      <td>0</td>\n",
       "      <td>0</td>\n",
       "      <td>1</td>\n",
       "      <td>0</td>\n",
       "      <td>0</td>\n",
       "      <td>0</td>\n",
       "      <td>1</td>\n",
       "      <td>0</td>\n",
       "      <td>0</td>\n",
       "    </tr>\n",
       "    <tr>\n",
       "      <th>/title/tt0120737/</th>\n",
       "      <td>0</td>\n",
       "      <td>1</td>\n",
       "      <td>0</td>\n",
       "      <td>0</td>\n",
       "      <td>0</td>\n",
       "      <td>0</td>\n",
       "      <td>0</td>\n",
       "      <td>0</td>\n",
       "      <td>1</td>\n",
       "      <td>0</td>\n",
       "      <td>0</td>\n",
       "      <td>0</td>\n",
       "      <td>0</td>\n",
       "      <td>0</td>\n",
       "      <td>0</td>\n",
       "      <td>0</td>\n",
       "      <td>0</td>\n",
       "      <td>0</td>\n",
       "      <td>0</td>\n",
       "      <td>0</td>\n",
       "    </tr>\n",
       "  </tbody>\n",
       "</table>\n",
       "</div>"
      ],
      "text/plain": [
       "                   Action  Adventure  Animation  Biography  Comedy  Crime  \\\n",
       "/title/tt0035423/       0          0          0          0       1      0   \n",
       "/title/tt0118589/       0          0          0          0       0      0   \n",
       "/title/tt0118694/       0          0          0          0       0      0   \n",
       "/title/tt0118926/       0          0          0          0       0      1   \n",
       "/title/tt0120202/       0          0          0          0       1      0   \n",
       "/title/tt0120630/       0          0          1          0       1      0   \n",
       "/title/tt0120667/       1          1          0          0       0      0   \n",
       "/title/tt0120679/       0          0          0          1       0      0   \n",
       "/title/tt0120681/       0          0          0          0       0      0   \n",
       "/title/tt0120737/       0          1          0          0       0      0   \n",
       "\n",
       "                   Drama  Family  Fantasy  History  Horror  Music  Musical  \\\n",
       "/title/tt0035423/      0       0        1        0       0      0        0   \n",
       "/title/tt0118589/      1       0        0        0       0      1        0   \n",
       "/title/tt0118694/      1       0        0        0       0      0        0   \n",
       "/title/tt0118926/      1       0        0        0       0      0        0   \n",
       "/title/tt0120202/      1       0        0        0       0      0        0   \n",
       "/title/tt0120630/      0       1        0        0       0      0        0   \n",
       "/title/tt0120667/      0       0        0        0       0      0        0   \n",
       "/title/tt0120679/      1       0        0        0       0      0        0   \n",
       "/title/tt0120681/      0       0        0        0       1      0        0   \n",
       "/title/tt0120737/      0       0        1        0       0      0        0   \n",
       "\n",
       "                   Mystery  Romance  Sci-Fi  Sport  Thriller  War  Western  \n",
       "/title/tt0035423/        0        1       0      0         0    0        0  \n",
       "/title/tt0118589/        0        1       0      0         0    0        0  \n",
       "/title/tt0118694/        0        1       0      0         0    0        0  \n",
       "/title/tt0118926/        0        0       0      0         1    0        0  \n",
       "/title/tt0120202/        0        0       0      0         0    0        0  \n",
       "/title/tt0120630/        0        0       0      0         0    0        0  \n",
       "/title/tt0120667/        0        0       1      0         0    0        0  \n",
       "/title/tt0120679/        0        1       0      0         0    0        0  \n",
       "/title/tt0120681/        1        0       0      0         1    0        0  \n",
       "/title/tt0120737/        0        0       0      0         0    0        0  "
      ]
     },
     "execution_count": 41,
     "metadata": {},
     "output_type": "execute_result"
    }
   ],
   "source": [
    "df = data['genres'].str.get_dummies(sep='_')\n",
    "df.head(10)"
   ]
  },
  {
   "cell_type": "code",
   "execution_count": 42,
   "metadata": {
    "collapsed": true
   },
   "outputs": [],
   "source": [
    "data = data.join(df)"
   ]
  },
  {
   "cell_type": "code",
   "execution_count": 43,
   "metadata": {
    "collapsed": false
   },
   "outputs": [
    {
     "data": {
      "text/html": [
       "<div>\n",
       "<table border=\"1\" class=\"dataframe\">\n",
       "  <thead>\n",
       "    <tr style=\"text-align: right;\">\n",
       "      <th></th>\n",
       "      <th>duration</th>\n",
       "      <th>genres</th>\n",
       "      <th>gross</th>\n",
       "      <th>metacritic</th>\n",
       "      <th>opening</th>\n",
       "      <th>rating</th>\n",
       "      <th>release</th>\n",
       "      <th>studio</th>\n",
       "      <th>title</th>\n",
       "      <th>month</th>\n",
       "      <th>...</th>\n",
       "      <th>Horror</th>\n",
       "      <th>Music</th>\n",
       "      <th>Musical</th>\n",
       "      <th>Mystery</th>\n",
       "      <th>Romance</th>\n",
       "      <th>Sci-Fi</th>\n",
       "      <th>Sport</th>\n",
       "      <th>Thriller</th>\n",
       "      <th>War</th>\n",
       "      <th>Western</th>\n",
       "    </tr>\n",
       "  </thead>\n",
       "  <tbody>\n",
       "    <tr>\n",
       "      <th>/title/tt0035423/</th>\n",
       "      <td>118</td>\n",
       "      <td>Comedy_Fantasy_Romance</td>\n",
       "      <td>47095453</td>\n",
       "      <td>44</td>\n",
       "      <td>2562448.0</td>\n",
       "      <td>PG-13</td>\n",
       "      <td>2001-12-25</td>\n",
       "      <td>Konrad Pictures</td>\n",
       "      <td>Kate &amp; Leopold</td>\n",
       "      <td>12</td>\n",
       "      <td>...</td>\n",
       "      <td>0</td>\n",
       "      <td>0</td>\n",
       "      <td>0</td>\n",
       "      <td>0</td>\n",
       "      <td>1</td>\n",
       "      <td>0</td>\n",
       "      <td>0</td>\n",
       "      <td>0</td>\n",
       "      <td>0</td>\n",
       "      <td>0</td>\n",
       "    </tr>\n",
       "    <tr>\n",
       "      <th>/title/tt0118589/</th>\n",
       "      <td>104</td>\n",
       "      <td>Drama_Music_Romance</td>\n",
       "      <td>4273372</td>\n",
       "      <td>14</td>\n",
       "      <td>2414596.0</td>\n",
       "      <td>PG-13</td>\n",
       "      <td>2001-09-21</td>\n",
       "      <td>Twentieth Century Fox Film Corporation</td>\n",
       "      <td>Glitter</td>\n",
       "      <td>9</td>\n",
       "      <td>...</td>\n",
       "      <td>0</td>\n",
       "      <td>1</td>\n",
       "      <td>0</td>\n",
       "      <td>0</td>\n",
       "      <td>1</td>\n",
       "      <td>0</td>\n",
       "      <td>0</td>\n",
       "      <td>0</td>\n",
       "      <td>0</td>\n",
       "      <td>0</td>\n",
       "    </tr>\n",
       "    <tr>\n",
       "      <th>/title/tt0118694/</th>\n",
       "      <td>98</td>\n",
       "      <td>Drama_Romance</td>\n",
       "      <td>2734044</td>\n",
       "      <td>85</td>\n",
       "      <td>138340.5</td>\n",
       "      <td>PG</td>\n",
       "      <td>2001-03-09</td>\n",
       "      <td>Block 2 Pictures</td>\n",
       "      <td>In the Mood for Love</td>\n",
       "      <td>3</td>\n",
       "      <td>...</td>\n",
       "      <td>0</td>\n",
       "      <td>0</td>\n",
       "      <td>0</td>\n",
       "      <td>0</td>\n",
       "      <td>1</td>\n",
       "      <td>0</td>\n",
       "      <td>0</td>\n",
       "      <td>0</td>\n",
       "      <td>0</td>\n",
       "      <td>0</td>\n",
       "    </tr>\n",
       "    <tr>\n",
       "      <th>/title/tt0118926/</th>\n",
       "      <td>132</td>\n",
       "      <td>Drama_Thriller_Crime</td>\n",
       "      <td>2377348</td>\n",
       "      <td>64</td>\n",
       "      <td>92433.0</td>\n",
       "      <td>R</td>\n",
       "      <td>2003-05-23</td>\n",
       "      <td>Fox Searchlight Pictures</td>\n",
       "      <td>The Dancer Upstairs</td>\n",
       "      <td>5</td>\n",
       "      <td>...</td>\n",
       "      <td>0</td>\n",
       "      <td>0</td>\n",
       "      <td>0</td>\n",
       "      <td>0</td>\n",
       "      <td>0</td>\n",
       "      <td>0</td>\n",
       "      <td>0</td>\n",
       "      <td>1</td>\n",
       "      <td>0</td>\n",
       "      <td>0</td>\n",
       "    </tr>\n",
       "    <tr>\n",
       "      <th>/title/tt0120202/</th>\n",
       "      <td>105</td>\n",
       "      <td>Comedy_Drama</td>\n",
       "      <td>6920692</td>\n",
       "      <td>75</td>\n",
       "      <td>580163.0</td>\n",
       "      <td>R</td>\n",
       "      <td>2001-01-12</td>\n",
       "      <td>Filmtown Entertainment</td>\n",
       "      <td>State and Main</td>\n",
       "      <td>1</td>\n",
       "      <td>...</td>\n",
       "      <td>0</td>\n",
       "      <td>0</td>\n",
       "      <td>0</td>\n",
       "      <td>0</td>\n",
       "      <td>0</td>\n",
       "      <td>0</td>\n",
       "      <td>0</td>\n",
       "      <td>0</td>\n",
       "      <td>0</td>\n",
       "      <td>0</td>\n",
       "    </tr>\n",
       "  </tbody>\n",
       "</table>\n",
       "<p>5 rows × 30 columns</p>\n",
       "</div>"
      ],
      "text/plain": [
       "                   duration                  genres     gross  metacritic  \\\n",
       "/title/tt0035423/       118  Comedy_Fantasy_Romance  47095453          44   \n",
       "/title/tt0118589/       104     Drama_Music_Romance   4273372          14   \n",
       "/title/tt0118694/        98           Drama_Romance   2734044          85   \n",
       "/title/tt0118926/       132    Drama_Thriller_Crime   2377348          64   \n",
       "/title/tt0120202/       105            Comedy_Drama   6920692          75   \n",
       "\n",
       "                     opening rating    release  \\\n",
       "/title/tt0035423/  2562448.0  PG-13 2001-12-25   \n",
       "/title/tt0118589/  2414596.0  PG-13 2001-09-21   \n",
       "/title/tt0118694/   138340.5     PG 2001-03-09   \n",
       "/title/tt0118926/    92433.0      R 2003-05-23   \n",
       "/title/tt0120202/   580163.0      R 2001-01-12   \n",
       "\n",
       "                                                   studio  \\\n",
       "/title/tt0035423/                         Konrad Pictures   \n",
       "/title/tt0118589/  Twentieth Century Fox Film Corporation   \n",
       "/title/tt0118694/                        Block 2 Pictures   \n",
       "/title/tt0118926/                Fox Searchlight Pictures   \n",
       "/title/tt0120202/                  Filmtown Entertainment   \n",
       "\n",
       "                                  title  month   ...     Horror  Music  \\\n",
       "/title/tt0035423/        Kate & Leopold     12   ...          0      0   \n",
       "/title/tt0118589/               Glitter      9   ...          0      1   \n",
       "/title/tt0118694/  In the Mood for Love      3   ...          0      0   \n",
       "/title/tt0118926/   The Dancer Upstairs      5   ...          0      0   \n",
       "/title/tt0120202/        State and Main      1   ...          0      0   \n",
       "\n",
       "                   Musical  Mystery  Romance  Sci-Fi  Sport  Thriller  War  \\\n",
       "/title/tt0035423/        0        0        1       0      0         0    0   \n",
       "/title/tt0118589/        0        0        1       0      0         0    0   \n",
       "/title/tt0118694/        0        0        1       0      0         0    0   \n",
       "/title/tt0118926/        0        0        0       0      0         1    0   \n",
       "/title/tt0120202/        0        0        0       0      0         0    0   \n",
       "\n",
       "                   Western  \n",
       "/title/tt0035423/        0  \n",
       "/title/tt0118589/        0  \n",
       "/title/tt0118694/        0  \n",
       "/title/tt0118926/        0  \n",
       "/title/tt0120202/        0  \n",
       "\n",
       "[5 rows x 30 columns]"
      ]
     },
     "execution_count": 43,
     "metadata": {},
     "output_type": "execute_result"
    }
   ],
   "source": [
    "data.head()"
   ]
  },
  {
   "cell_type": "code",
   "execution_count": 44,
   "metadata": {
    "collapsed": true
   },
   "outputs": [],
   "source": [
    "data = data.drop('genres', axis=1)"
   ]
  },
  {
   "cell_type": "code",
   "execution_count": 45,
   "metadata": {
    "collapsed": false
   },
   "outputs": [
    {
     "data": {
      "text/html": [
       "<div>\n",
       "<table border=\"1\" class=\"dataframe\">\n",
       "  <thead>\n",
       "    <tr style=\"text-align: right;\">\n",
       "      <th></th>\n",
       "      <th>duration</th>\n",
       "      <th>gross</th>\n",
       "      <th>metacritic</th>\n",
       "      <th>opening</th>\n",
       "      <th>rating</th>\n",
       "      <th>release</th>\n",
       "      <th>studio</th>\n",
       "      <th>title</th>\n",
       "      <th>month</th>\n",
       "      <th>Action</th>\n",
       "      <th>...</th>\n",
       "      <th>Horror</th>\n",
       "      <th>Music</th>\n",
       "      <th>Musical</th>\n",
       "      <th>Mystery</th>\n",
       "      <th>Romance</th>\n",
       "      <th>Sci-Fi</th>\n",
       "      <th>Sport</th>\n",
       "      <th>Thriller</th>\n",
       "      <th>War</th>\n",
       "      <th>Western</th>\n",
       "    </tr>\n",
       "  </thead>\n",
       "  <tbody>\n",
       "    <tr>\n",
       "      <th>/title/tt0035423/</th>\n",
       "      <td>118</td>\n",
       "      <td>47095453</td>\n",
       "      <td>44</td>\n",
       "      <td>2562448.0</td>\n",
       "      <td>PG-13</td>\n",
       "      <td>2001-12-25</td>\n",
       "      <td>Konrad Pictures</td>\n",
       "      <td>Kate &amp; Leopold</td>\n",
       "      <td>12</td>\n",
       "      <td>0</td>\n",
       "      <td>...</td>\n",
       "      <td>0</td>\n",
       "      <td>0</td>\n",
       "      <td>0</td>\n",
       "      <td>0</td>\n",
       "      <td>1</td>\n",
       "      <td>0</td>\n",
       "      <td>0</td>\n",
       "      <td>0</td>\n",
       "      <td>0</td>\n",
       "      <td>0</td>\n",
       "    </tr>\n",
       "    <tr>\n",
       "      <th>/title/tt0118589/</th>\n",
       "      <td>104</td>\n",
       "      <td>4273372</td>\n",
       "      <td>14</td>\n",
       "      <td>2414596.0</td>\n",
       "      <td>PG-13</td>\n",
       "      <td>2001-09-21</td>\n",
       "      <td>Twentieth Century Fox Film Corporation</td>\n",
       "      <td>Glitter</td>\n",
       "      <td>9</td>\n",
       "      <td>0</td>\n",
       "      <td>...</td>\n",
       "      <td>0</td>\n",
       "      <td>1</td>\n",
       "      <td>0</td>\n",
       "      <td>0</td>\n",
       "      <td>1</td>\n",
       "      <td>0</td>\n",
       "      <td>0</td>\n",
       "      <td>0</td>\n",
       "      <td>0</td>\n",
       "      <td>0</td>\n",
       "    </tr>\n",
       "    <tr>\n",
       "      <th>/title/tt0118694/</th>\n",
       "      <td>98</td>\n",
       "      <td>2734044</td>\n",
       "      <td>85</td>\n",
       "      <td>138340.5</td>\n",
       "      <td>PG</td>\n",
       "      <td>2001-03-09</td>\n",
       "      <td>Block 2 Pictures</td>\n",
       "      <td>In the Mood for Love</td>\n",
       "      <td>3</td>\n",
       "      <td>0</td>\n",
       "      <td>...</td>\n",
       "      <td>0</td>\n",
       "      <td>0</td>\n",
       "      <td>0</td>\n",
       "      <td>0</td>\n",
       "      <td>1</td>\n",
       "      <td>0</td>\n",
       "      <td>0</td>\n",
       "      <td>0</td>\n",
       "      <td>0</td>\n",
       "      <td>0</td>\n",
       "    </tr>\n",
       "    <tr>\n",
       "      <th>/title/tt0118926/</th>\n",
       "      <td>132</td>\n",
       "      <td>2377348</td>\n",
       "      <td>64</td>\n",
       "      <td>92433.0</td>\n",
       "      <td>R</td>\n",
       "      <td>2003-05-23</td>\n",
       "      <td>Fox Searchlight Pictures</td>\n",
       "      <td>The Dancer Upstairs</td>\n",
       "      <td>5</td>\n",
       "      <td>0</td>\n",
       "      <td>...</td>\n",
       "      <td>0</td>\n",
       "      <td>0</td>\n",
       "      <td>0</td>\n",
       "      <td>0</td>\n",
       "      <td>0</td>\n",
       "      <td>0</td>\n",
       "      <td>0</td>\n",
       "      <td>1</td>\n",
       "      <td>0</td>\n",
       "      <td>0</td>\n",
       "    </tr>\n",
       "    <tr>\n",
       "      <th>/title/tt0120202/</th>\n",
       "      <td>105</td>\n",
       "      <td>6920692</td>\n",
       "      <td>75</td>\n",
       "      <td>580163.0</td>\n",
       "      <td>R</td>\n",
       "      <td>2001-01-12</td>\n",
       "      <td>Filmtown Entertainment</td>\n",
       "      <td>State and Main</td>\n",
       "      <td>1</td>\n",
       "      <td>0</td>\n",
       "      <td>...</td>\n",
       "      <td>0</td>\n",
       "      <td>0</td>\n",
       "      <td>0</td>\n",
       "      <td>0</td>\n",
       "      <td>0</td>\n",
       "      <td>0</td>\n",
       "      <td>0</td>\n",
       "      <td>0</td>\n",
       "      <td>0</td>\n",
       "      <td>0</td>\n",
       "    </tr>\n",
       "  </tbody>\n",
       "</table>\n",
       "<p>5 rows × 29 columns</p>\n",
       "</div>"
      ],
      "text/plain": [
       "                   duration     gross  metacritic    opening rating  \\\n",
       "/title/tt0035423/       118  47095453          44  2562448.0  PG-13   \n",
       "/title/tt0118589/       104   4273372          14  2414596.0  PG-13   \n",
       "/title/tt0118694/        98   2734044          85   138340.5     PG   \n",
       "/title/tt0118926/       132   2377348          64    92433.0      R   \n",
       "/title/tt0120202/       105   6920692          75   580163.0      R   \n",
       "\n",
       "                     release                                  studio  \\\n",
       "/title/tt0035423/ 2001-12-25                         Konrad Pictures   \n",
       "/title/tt0118589/ 2001-09-21  Twentieth Century Fox Film Corporation   \n",
       "/title/tt0118694/ 2001-03-09                        Block 2 Pictures   \n",
       "/title/tt0118926/ 2003-05-23                Fox Searchlight Pictures   \n",
       "/title/tt0120202/ 2001-01-12                  Filmtown Entertainment   \n",
       "\n",
       "                                  title  month  Action   ...     Horror  \\\n",
       "/title/tt0035423/        Kate & Leopold     12       0   ...          0   \n",
       "/title/tt0118589/               Glitter      9       0   ...          0   \n",
       "/title/tt0118694/  In the Mood for Love      3       0   ...          0   \n",
       "/title/tt0118926/   The Dancer Upstairs      5       0   ...          0   \n",
       "/title/tt0120202/        State and Main      1       0   ...          0   \n",
       "\n",
       "                   Music  Musical  Mystery  Romance  Sci-Fi  Sport  Thriller  \\\n",
       "/title/tt0035423/      0        0        0        1       0      0         0   \n",
       "/title/tt0118589/      1        0        0        1       0      0         0   \n",
       "/title/tt0118694/      0        0        0        1       0      0         0   \n",
       "/title/tt0118926/      0        0        0        0       0      0         1   \n",
       "/title/tt0120202/      0        0        0        0       0      0         0   \n",
       "\n",
       "                   War  Western  \n",
       "/title/tt0035423/    0        0  \n",
       "/title/tt0118589/    0        0  \n",
       "/title/tt0118694/    0        0  \n",
       "/title/tt0118926/    0        0  \n",
       "/title/tt0120202/    0        0  \n",
       "\n",
       "[5 rows x 29 columns]"
      ]
     },
     "execution_count": 45,
     "metadata": {},
     "output_type": "execute_result"
    }
   ],
   "source": [
    "data.head()"
   ]
  },
  {
   "cell_type": "code",
   "execution_count": 46,
   "metadata": {
    "collapsed": true
   },
   "outputs": [],
   "source": [
    "with open('movie_data.pkl', 'w') as picklefile:\n",
    "    pickle.dump(data, picklefile)"
   ]
  },
  {
   "cell_type": "code",
   "execution_count": null,
   "metadata": {
    "collapsed": false
   },
   "outputs": [],
   "source": []
  },
  {
   "cell_type": "code",
   "execution_count": null,
   "metadata": {
    "collapsed": true
   },
   "outputs": [],
   "source": []
  }
 ],
 "metadata": {
  "kernelspec": {
   "display_name": "Python 2",
   "language": "python",
   "name": "python2"
  },
  "language_info": {
   "codemirror_mode": {
    "name": "ipython",
    "version": 2
   },
   "file_extension": ".py",
   "mimetype": "text/x-python",
   "name": "python",
   "nbconvert_exporter": "python",
   "pygments_lexer": "ipython2",
   "version": "2.7.10"
  }
 },
 "nbformat": 4,
 "nbformat_minor": 0
}
