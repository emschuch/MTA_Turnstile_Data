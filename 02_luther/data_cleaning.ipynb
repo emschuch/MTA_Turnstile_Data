{
 "cells": [
  {
   "cell_type": "code",
   "execution_count": 1,
   "metadata": {
    "collapsed": true
   },
   "outputs": [],
   "source": [
    "import pickle\n",
    "from __future__ import division\n",
    "import pandas as pd"
   ]
  },
  {
   "cell_type": "code",
   "execution_count": 2,
   "metadata": {
    "collapsed": true
   },
   "outputs": [],
   "source": [
    "with open(\"my_data_partial.pkl\", 'r') as picklefile: \n",
    "    raw_data = pickle.load(picklefile)"
   ]
  },
  {
   "cell_type": "code",
   "execution_count": 3,
   "metadata": {
    "collapsed": false,
    "scrolled": true
   },
   "outputs": [],
   "source": [
    "raw_data = {item[0] : item[1]\n",
    "           for item in raw_data}"
   ]
  },
  {
   "cell_type": "code",
   "execution_count": 4,
   "metadata": {
    "collapsed": false
   },
   "outputs": [],
   "source": [
    "data = pd.DataFrame(raw_data)\n",
    "data = pd.DataFrame.transpose(data)"
   ]
  },
  {
   "cell_type": "code",
   "execution_count": 5,
   "metadata": {
    "collapsed": false
   },
   "outputs": [
    {
     "data": {
      "text/plain": [
       "2600"
      ]
     },
     "execution_count": 5,
     "metadata": {},
     "output_type": "execute_result"
    }
   ],
   "source": [
    "len(data)"
   ]
  },
  {
   "cell_type": "code",
   "execution_count": 6,
   "metadata": {
    "collapsed": false
   },
   "outputs": [
    {
     "data": {
      "text/html": [
       "<div>\n",
       "<table border=\"1\" class=\"dataframe\">\n",
       "  <thead>\n",
       "    <tr style=\"text-align: right;\">\n",
       "      <th></th>\n",
       "      <th>duration</th>\n",
       "      <th>genres</th>\n",
       "      <th>gross</th>\n",
       "      <th>metacritic</th>\n",
       "      <th>opening</th>\n",
       "      <th>rating</th>\n",
       "      <th>release</th>\n",
       "      <th>studio</th>\n",
       "      <th>title</th>\n",
       "    </tr>\n",
       "  </thead>\n",
       "  <tbody>\n",
       "    <tr>\n",
       "      <th>/title/tt0116282/</th>\n",
       "      <td>PT98M</td>\n",
       "      <td>[Crime, Drama, Thriller]</td>\n",
       "      <td>$24,611,975</td>\n",
       "      <td>85/100</td>\n",
       "      <td>$137,301        \\n\\n      (USA)</td>\n",
       "      <td>R</td>\n",
       "      <td>1996-04-05</td>\n",
       "      <td>PolyGram Filmed Entertainment</td>\n",
       "      <td>Fargo</td>\n",
       "    </tr>\n",
       "    <tr>\n",
       "      <th>/title/tt0120915/</th>\n",
       "      <td>PT136M</td>\n",
       "      <td>[Action, Adventure, Fantasy]</td>\n",
       "      <td>$43,456,382</td>\n",
       "      <td>51/100</td>\n",
       "      <td>$64,810,970        \\n\\n      (USA)</td>\n",
       "      <td>PG</td>\n",
       "      <td>1999-05-19</td>\n",
       "      <td>Lucasfilm</td>\n",
       "      <td>Star Wars: Episode I - The Phantom Menace</td>\n",
       "    </tr>\n",
       "    <tr>\n",
       "      <th>/title/tt0200465/</th>\n",
       "      <td>PT111M</td>\n",
       "      <td>[Crime, Drama, Thriller]</td>\n",
       "      <td>$30,028,592</td>\n",
       "      <td>69/100</td>\n",
       "      <td>£951,013        \\n\\n      (UK)</td>\n",
       "      <td>R</td>\n",
       "      <td>2008-03-07</td>\n",
       "      <td>Mosaic Media Group</td>\n",
       "      <td>The Bank Job</td>\n",
       "    </tr>\n",
       "    <tr>\n",
       "      <th>/title/tt0206634/</th>\n",
       "      <td>PT109M</td>\n",
       "      <td>[Drama, Sci-Fi, Thriller]</td>\n",
       "      <td>$35,286,428</td>\n",
       "      <td>84/100</td>\n",
       "      <td>£1,284,254        \\n\\n      (UK)</td>\n",
       "      <td>R</td>\n",
       "      <td>2007-01-05</td>\n",
       "      <td>Universal Pictures</td>\n",
       "      <td>Children of Men</td>\n",
       "    </tr>\n",
       "    <tr>\n",
       "      <th>/title/tt0211933/</th>\n",
       "      <td>PT84M</td>\n",
       "      <td>[Crime, Mystery, Thriller]</td>\n",
       "      <td>$14,377,198</td>\n",
       "      <td>33/100</td>\n",
       "      <td>$5,856,872        \\n\\n      (USA)</td>\n",
       "      <td>R</td>\n",
       "      <td>2007-11-30</td>\n",
       "      <td>Weinstein Company, The</td>\n",
       "      <td>Awake</td>\n",
       "    </tr>\n",
       "  </tbody>\n",
       "</table>\n",
       "</div>"
      ],
      "text/plain": [
       "                  duration                        genres        gross  \\\n",
       "/title/tt0116282/    PT98M      [Crime, Drama, Thriller]  $24,611,975   \n",
       "/title/tt0120915/   PT136M  [Action, Adventure, Fantasy]  $43,456,382   \n",
       "/title/tt0200465/   PT111M      [Crime, Drama, Thriller]  $30,028,592   \n",
       "/title/tt0206634/   PT109M     [Drama, Sci-Fi, Thriller]  $35,286,428   \n",
       "/title/tt0211933/    PT84M    [Crime, Mystery, Thriller]  $14,377,198   \n",
       "\n",
       "                  metacritic                             opening rating  \\\n",
       "/title/tt0116282/     85/100     $137,301        \\n\\n      (USA)      R   \n",
       "/title/tt0120915/     51/100  $64,810,970        \\n\\n      (USA)     PG   \n",
       "/title/tt0200465/     69/100      £951,013        \\n\\n      (UK)      R   \n",
       "/title/tt0206634/     84/100    £1,284,254        \\n\\n      (UK)      R   \n",
       "/title/tt0211933/     33/100   $5,856,872        \\n\\n      (USA)      R   \n",
       "\n",
       "                      release                         studio  \\\n",
       "/title/tt0116282/  1996-04-05  PolyGram Filmed Entertainment   \n",
       "/title/tt0120915/  1999-05-19                      Lucasfilm   \n",
       "/title/tt0200465/  2008-03-07             Mosaic Media Group   \n",
       "/title/tt0206634/  2007-01-05             Universal Pictures   \n",
       "/title/tt0211933/  2007-11-30         Weinstein Company, The   \n",
       "\n",
       "                                                       title  \n",
       "/title/tt0116282/                                      Fargo  \n",
       "/title/tt0120915/  Star Wars: Episode I - The Phantom Menace  \n",
       "/title/tt0200465/                               The Bank Job  \n",
       "/title/tt0206634/                            Children of Men  \n",
       "/title/tt0211933/                                      Awake  "
      ]
     },
     "execution_count": 6,
     "metadata": {},
     "output_type": "execute_result"
    }
   ],
   "source": [
    "data.head()"
   ]
  },
  {
   "cell_type": "code",
   "execution_count": 7,
   "metadata": {
    "collapsed": false
   },
   "outputs": [],
   "source": [
    "data = data[data['metacritic'] != 'Metacritic Reviews']"
   ]
  },
  {
   "cell_type": "code",
   "execution_count": 8,
   "metadata": {
    "collapsed": false
   },
   "outputs": [
    {
     "data": {
      "text/plain": [
       "2362"
      ]
     },
     "execution_count": 8,
     "metadata": {},
     "output_type": "execute_result"
    }
   ],
   "source": [
    "len(data)"
   ]
  },
  {
   "cell_type": "code",
   "execution_count": 9,
   "metadata": {
    "collapsed": false
   },
   "outputs": [],
   "source": [
    "data['opening'] = data['opening'].map(lambda x: x.split()[0])"
   ]
  },
  {
   "cell_type": "code",
   "execution_count": 10,
   "metadata": {
    "collapsed": false,
    "scrolled": true
   },
   "outputs": [],
   "source": [
    "data['opening'] = data['opening'].map(lambda x: \n",
    "                    x.encode('ascii', 'ignore').replace('$', '').replace(',', '').strip())\n",
    "\n",
    "data['gross'] = data['gross'].map(lambda x: \n",
    "                    x.encode('ascii', 'ignore').replace('$', '').replace(',', '').strip())"
   ]
  },
  {
   "cell_type": "code",
   "execution_count": 11,
   "metadata": {
    "collapsed": false
   },
   "outputs": [],
   "source": [
    "data['opening'] = data['opening'].map(lambda x: int(x))\n",
    "data['gross'] = data['gross'].map(lambda x: int(x))\n",
    "data['rating'] = data['rating'].map(lambda x: str(x))\n",
    "data['release'] = data['release'].map(lambda x: str(x))"
   ]
  },
  {
   "cell_type": "code",
   "execution_count": 12,
   "metadata": {
    "collapsed": false
   },
   "outputs": [
    {
     "data": {
      "text/plain": [
       "2362"
      ]
     },
     "execution_count": 12,
     "metadata": {},
     "output_type": "execute_result"
    }
   ],
   "source": [
    "len(data)"
   ]
  },
  {
   "cell_type": "code",
   "execution_count": 13,
   "metadata": {
    "collapsed": false
   },
   "outputs": [],
   "source": [
    "data['metacritic'] = data['metacritic'].map(lambda x: int(x.split('/')[0]))"
   ]
  },
  {
   "cell_type": "code",
   "execution_count": 14,
   "metadata": {
    "collapsed": false
   },
   "outputs": [
    {
     "data": {
      "text/plain": [
       "duration               PT165M\n",
       "genres                [Drama]\n",
       "gross                25359200\n",
       "metacritic                100\n",
       "opening                387618\n",
       "rating                      R\n",
       "release            2014-08-15\n",
       "studio        IFC Productions\n",
       "title                 Boyhood\n",
       "Name: /title/tt1065073/, dtype: object"
      ]
     },
     "execution_count": 14,
     "metadata": {},
     "output_type": "execute_result"
    }
   ],
   "source": [
    "data.loc[data['metacritic'].idxmax()]"
   ]
  },
  {
   "cell_type": "code",
   "execution_count": 15,
   "metadata": {
    "collapsed": false,
    "scrolled": true
   },
   "outputs": [
    {
     "data": {
      "text/plain": [
       "duration                                      PT162M\n",
       "genres                  [Action, Adventure, Fantasy]\n",
       "gross                                      760507625\n",
       "metacritic                                        83\n",
       "opening                                      8509050\n",
       "rating                                         PG-13\n",
       "release                                   2009-12-18\n",
       "studio        Twentieth Century Fox Film Corporation\n",
       "title                                         Avatar\n",
       "Name: /title/tt0499549/, dtype: object"
      ]
     },
     "execution_count": 15,
     "metadata": {},
     "output_type": "execute_result"
    }
   ],
   "source": [
    "data.loc[data['gross'].idxmax()]"
   ]
  },
  {
   "cell_type": "code",
   "execution_count": 16,
   "metadata": {
    "collapsed": false
   },
   "outputs": [
    {
     "data": {
      "text/plain": [
       "duration                           PT143M\n",
       "genres        [Action, Adventure, Sci-Fi]\n",
       "gross                           623357910\n",
       "metacritic                             69\n",
       "opening                         207438708\n",
       "rating                              PG-13\n",
       "release                        2012-05-04\n",
       "studio                     Marvel Studios\n",
       "title                        The Avengers\n",
       "Name: /title/tt0848228/, dtype: object"
      ]
     },
     "execution_count": 16,
     "metadata": {},
     "output_type": "execute_result"
    }
   ],
   "source": [
    "data.loc[data['opening'].idxmax()]"
   ]
  },
  {
   "cell_type": "code",
   "execution_count": 17,
   "metadata": {
    "collapsed": true
   },
   "outputs": [],
   "source": [
    "high = data[data['metacritic'] > 90]"
   ]
  },
  {
   "cell_type": "code",
   "execution_count": 18,
   "metadata": {
    "collapsed": false,
    "scrolled": true
   },
   "outputs": [
    {
     "data": {
      "text/html": [
       "<div>\n",
       "<table border=\"1\" class=\"dataframe\">\n",
       "  <thead>\n",
       "    <tr style=\"text-align: right;\">\n",
       "      <th></th>\n",
       "      <th>duration</th>\n",
       "      <th>genres</th>\n",
       "      <th>gross</th>\n",
       "      <th>metacritic</th>\n",
       "      <th>opening</th>\n",
       "      <th>rating</th>\n",
       "      <th>release</th>\n",
       "      <th>studio</th>\n",
       "      <th>title</th>\n",
       "    </tr>\n",
       "  </thead>\n",
       "  <tbody>\n",
       "    <tr>\n",
       "      <th>/title/tt0382932/</th>\n",
       "      <td>PT111M</td>\n",
       "      <td>[Animation, Comedy, Family]</td>\n",
       "      <td>206445654</td>\n",
       "      <td>96</td>\n",
       "      <td>47027395</td>\n",
       "      <td>G</td>\n",
       "      <td>2007-06-29</td>\n",
       "      <td>Pixar Animation Studios</td>\n",
       "      <td>Ratatouille</td>\n",
       "    </tr>\n",
       "    <tr>\n",
       "      <th>/title/tt0401383/</th>\n",
       "      <td>PT112M</td>\n",
       "      <td>[Biography, Drama]</td>\n",
       "      <td>5990075</td>\n",
       "      <td>92</td>\n",
       "      <td>75721</td>\n",
       "      <td>PG-13</td>\n",
       "      <td>2008-02-01</td>\n",
       "      <td>Pathé Renn Productions</td>\n",
       "      <td>The Diving Bell and the Butterfly</td>\n",
       "    </tr>\n",
       "    <tr>\n",
       "      <th>/title/tt0435761/</th>\n",
       "      <td>PT103M</td>\n",
       "      <td>[Animation, Adventure, Comedy]</td>\n",
       "      <td>415004880</td>\n",
       "      <td>92</td>\n",
       "      <td>109000000</td>\n",
       "      <td>G</td>\n",
       "      <td>2010-06-18</td>\n",
       "      <td>Walt Disney Pictures</td>\n",
       "      <td>Toy Story 3</td>\n",
       "    </tr>\n",
       "    <tr>\n",
       "      <th>/title/tt0457430/</th>\n",
       "      <td>PT118M</td>\n",
       "      <td>[Drama, Fantasy, War]</td>\n",
       "      <td>37623143</td>\n",
       "      <td>98</td>\n",
       "      <td>501691</td>\n",
       "      <td>R</td>\n",
       "      <td>2007-01-19</td>\n",
       "      <td>Estudios Picasso</td>\n",
       "      <td>Pan's Labyrinth</td>\n",
       "    </tr>\n",
       "    <tr>\n",
       "      <th>/title/tt0469494/</th>\n",
       "      <td>PT158M</td>\n",
       "      <td>[Drama]</td>\n",
       "      <td>40218903</td>\n",
       "      <td>92</td>\n",
       "      <td>302845</td>\n",
       "      <td>R</td>\n",
       "      <td>2008-01-25</td>\n",
       "      <td>Paramount Vantage</td>\n",
       "      <td>There Will Be Blood</td>\n",
       "    </tr>\n",
       "    <tr>\n",
       "      <th>/title/tt0477348/</th>\n",
       "      <td>PT122M</td>\n",
       "      <td>[Crime, Drama, Thriller]</td>\n",
       "      <td>74273505</td>\n",
       "      <td>91</td>\n",
       "      <td>1226333</td>\n",
       "      <td>R</td>\n",
       "      <td>2007-11-21</td>\n",
       "      <td>Paramount Vantage</td>\n",
       "      <td>No Country for Old Men</td>\n",
       "    </tr>\n",
       "    <tr>\n",
       "      <th>/title/tt0887912/</th>\n",
       "      <td>PT131M</td>\n",
       "      <td>[Drama, History, Thriller]</td>\n",
       "      <td>17017811</td>\n",
       "      <td>94</td>\n",
       "      <td>145352</td>\n",
       "      <td>R</td>\n",
       "      <td>2009-07-31</td>\n",
       "      <td>Voltage Pictures</td>\n",
       "      <td>The Hurt Locker</td>\n",
       "    </tr>\n",
       "    <tr>\n",
       "      <th>/title/tt0910970/</th>\n",
       "      <td>PT98M</td>\n",
       "      <td>[Animation, Adventure, Family]</td>\n",
       "      <td>223808164</td>\n",
       "      <td>94</td>\n",
       "      <td>63087526</td>\n",
       "      <td>G</td>\n",
       "      <td>2008-06-27</td>\n",
       "      <td>Walt Disney Pictures</td>\n",
       "      <td>WALL·E</td>\n",
       "    </tr>\n",
       "    <tr>\n",
       "      <th>/title/tt1032846/</th>\n",
       "      <td>PT113M</td>\n",
       "      <td>[Drama]</td>\n",
       "      <td>1185783</td>\n",
       "      <td>97</td>\n",
       "      <td>51712</td>\n",
       "      <td>NOT RATED</td>\n",
       "      <td>2007-09-14</td>\n",
       "      <td>Mobra Films</td>\n",
       "      <td>4 Months, 3 Weeks and 2 Days</td>\n",
       "    </tr>\n",
       "    <tr>\n",
       "      <th>/title/tt1065073/</th>\n",
       "      <td>PT165M</td>\n",
       "      <td>[Drama]</td>\n",
       "      <td>25359200</td>\n",
       "      <td>100</td>\n",
       "      <td>387618</td>\n",
       "      <td>R</td>\n",
       "      <td>2014-08-15</td>\n",
       "      <td>IFC Productions</td>\n",
       "      <td>Boyhood</td>\n",
       "    </tr>\n",
       "    <tr>\n",
       "      <th>/title/tt1068646/</th>\n",
       "      <td>PT128M</td>\n",
       "      <td>[Drama]</td>\n",
       "      <td>3766595</td>\n",
       "      <td>92</td>\n",
       "      <td>155190</td>\n",
       "      <td>PG-13</td>\n",
       "      <td>2009-03-13</td>\n",
       "      <td>Haut et Court</td>\n",
       "      <td>The Class</td>\n",
       "    </tr>\n",
       "    <tr>\n",
       "      <th>/title/tt1100048/</th>\n",
       "      <td>PT100M</td>\n",
       "      <td>[Drama]</td>\n",
       "      <td>177511</td>\n",
       "      <td>92</td>\n",
       "      <td>30521</td>\n",
       "      <td>UNKNOWN</td>\n",
       "      <td>2009-02-18</td>\n",
       "      <td>Soudaine Compagnie</td>\n",
       "      <td>35 Shots of Rum</td>\n",
       "    </tr>\n",
       "    <tr>\n",
       "      <th>/title/tt1285016/</th>\n",
       "      <td>PT120M</td>\n",
       "      <td>[Biography, Drama]</td>\n",
       "      <td>96917897</td>\n",
       "      <td>95</td>\n",
       "      <td>22445653</td>\n",
       "      <td>PG-13</td>\n",
       "      <td>2010-10-01</td>\n",
       "      <td>Columbia Pictures</td>\n",
       "      <td>The Social Network</td>\n",
       "    </tr>\n",
       "    <tr>\n",
       "      <th>/title/tt1454468/</th>\n",
       "      <td>PT91M</td>\n",
       "      <td>[Sci-Fi, Thriller]</td>\n",
       "      <td>274086615</td>\n",
       "      <td>96</td>\n",
       "      <td>55785112</td>\n",
       "      <td>PG-13</td>\n",
       "      <td>2013-10-04</td>\n",
       "      <td>Warner Bros.</td>\n",
       "      <td>Gravity</td>\n",
       "    </tr>\n",
       "    <tr>\n",
       "      <th>/title/tt1602620/</th>\n",
       "      <td>PT127M</td>\n",
       "      <td>[Drama, Romance]</td>\n",
       "      <td>6738954</td>\n",
       "      <td>94</td>\n",
       "      <td>68266</td>\n",
       "      <td>PG-13</td>\n",
       "      <td>2012-09-20</td>\n",
       "      <td>Les Films du Losange</td>\n",
       "      <td>Amour</td>\n",
       "    </tr>\n",
       "    <tr>\n",
       "      <th>/title/tt1790885/</th>\n",
       "      <td>PT157M</td>\n",
       "      <td>[Drama, History, Thriller]</td>\n",
       "      <td>95720716</td>\n",
       "      <td>95</td>\n",
       "      <td>417150</td>\n",
       "      <td>R</td>\n",
       "      <td>2013-01-11</td>\n",
       "      <td>Columbia Pictures</td>\n",
       "      <td>Zero Dark Thirty</td>\n",
       "    </tr>\n",
       "    <tr>\n",
       "      <th>/title/tt1832382/</th>\n",
       "      <td>PT123M</td>\n",
       "      <td>[Drama]</td>\n",
       "      <td>7098492</td>\n",
       "      <td>95</td>\n",
       "      <td>59481</td>\n",
       "      <td>PG-13</td>\n",
       "      <td>2011-03-16</td>\n",
       "      <td>Asghar Farhadi</td>\n",
       "      <td>Jodaeiye Nader az Simin</td>\n",
       "    </tr>\n",
       "    <tr>\n",
       "      <th>/title/tt2024544/</th>\n",
       "      <td>PT134M</td>\n",
       "      <td>[Biography, Drama, History]</td>\n",
       "      <td>56667870</td>\n",
       "      <td>97</td>\n",
       "      <td>923715</td>\n",
       "      <td>R</td>\n",
       "      <td>2013-11-08</td>\n",
       "      <td>Regency Enterprises</td>\n",
       "      <td>12 Years a Slave</td>\n",
       "    </tr>\n",
       "    <tr>\n",
       "      <th>/title/tt2042568/</th>\n",
       "      <td>PT104M</td>\n",
       "      <td>[Drama, Music]</td>\n",
       "      <td>13214255</td>\n",
       "      <td>92</td>\n",
       "      <td>405411</td>\n",
       "      <td>R</td>\n",
       "      <td>2014-01-10</td>\n",
       "      <td>CBS Films</td>\n",
       "      <td>Inside Llewyn Davis</td>\n",
       "    </tr>\n",
       "    <tr>\n",
       "      <th>/title/tt2209418/</th>\n",
       "      <td>PT109M</td>\n",
       "      <td>[Drama, Romance]</td>\n",
       "      <td>8114507</td>\n",
       "      <td>94</td>\n",
       "      <td>246914</td>\n",
       "      <td>R</td>\n",
       "      <td>2013-06-14</td>\n",
       "      <td>Faliro House Productions</td>\n",
       "      <td>Before Midnight</td>\n",
       "    </tr>\n",
       "    <tr>\n",
       "      <th>/title/tt2473794/</th>\n",
       "      <td>PT144M</td>\n",
       "      <td>[Biography, Drama, History]</td>\n",
       "      <td>3958500</td>\n",
       "      <td>94</td>\n",
       "      <td>109000</td>\n",
       "      <td>R</td>\n",
       "      <td>2014-10-31</td>\n",
       "      <td>Film4</td>\n",
       "      <td>Mr. Turner</td>\n",
       "    </tr>\n",
       "    <tr>\n",
       "      <th>/title/tt2718492/</th>\n",
       "      <td>PT82M</td>\n",
       "      <td>[Drama]</td>\n",
       "      <td>3826455</td>\n",
       "      <td>91</td>\n",
       "      <td>55438</td>\n",
       "      <td>PG-13</td>\n",
       "      <td>2014-02-12</td>\n",
       "      <td>Opus Film</td>\n",
       "      <td>Ida</td>\n",
       "    </tr>\n",
       "    <tr>\n",
       "      <th>/title/tt3409392/</th>\n",
       "      <td>PT97M</td>\n",
       "      <td>[Drama]</td>\n",
       "      <td>1067000</td>\n",
       "      <td>91</td>\n",
       "      <td>78544</td>\n",
       "      <td>PG-13</td>\n",
       "      <td>2014-12-10</td>\n",
       "      <td>Les Films du Worso</td>\n",
       "      <td>Timbuktu</td>\n",
       "    </tr>\n",
       "  </tbody>\n",
       "</table>\n",
       "</div>"
      ],
      "text/plain": [
       "                  duration                          genres      gross  \\\n",
       "/title/tt0382932/   PT111M     [Animation, Comedy, Family]  206445654   \n",
       "/title/tt0401383/   PT112M              [Biography, Drama]    5990075   \n",
       "/title/tt0435761/   PT103M  [Animation, Adventure, Comedy]  415004880   \n",
       "/title/tt0457430/   PT118M           [Drama, Fantasy, War]   37623143   \n",
       "/title/tt0469494/   PT158M                         [Drama]   40218903   \n",
       "/title/tt0477348/   PT122M        [Crime, Drama, Thriller]   74273505   \n",
       "/title/tt0887912/   PT131M      [Drama, History, Thriller]   17017811   \n",
       "/title/tt0910970/    PT98M  [Animation, Adventure, Family]  223808164   \n",
       "/title/tt1032846/   PT113M                         [Drama]    1185783   \n",
       "/title/tt1065073/   PT165M                         [Drama]   25359200   \n",
       "/title/tt1068646/   PT128M                         [Drama]    3766595   \n",
       "/title/tt1100048/   PT100M                         [Drama]     177511   \n",
       "/title/tt1285016/   PT120M              [Biography, Drama]   96917897   \n",
       "/title/tt1454468/    PT91M              [Sci-Fi, Thriller]  274086615   \n",
       "/title/tt1602620/   PT127M                [Drama, Romance]    6738954   \n",
       "/title/tt1790885/   PT157M      [Drama, History, Thriller]   95720716   \n",
       "/title/tt1832382/   PT123M                         [Drama]    7098492   \n",
       "/title/tt2024544/   PT134M     [Biography, Drama, History]   56667870   \n",
       "/title/tt2042568/   PT104M                  [Drama, Music]   13214255   \n",
       "/title/tt2209418/   PT109M                [Drama, Romance]    8114507   \n",
       "/title/tt2473794/   PT144M     [Biography, Drama, History]    3958500   \n",
       "/title/tt2718492/    PT82M                         [Drama]    3826455   \n",
       "/title/tt3409392/    PT97M                         [Drama]    1067000   \n",
       "\n",
       "                   metacritic    opening     rating     release  \\\n",
       "/title/tt0382932/          96   47027395          G  2007-06-29   \n",
       "/title/tt0401383/          92      75721      PG-13  2008-02-01   \n",
       "/title/tt0435761/          92  109000000          G  2010-06-18   \n",
       "/title/tt0457430/          98     501691          R  2007-01-19   \n",
       "/title/tt0469494/          92     302845          R  2008-01-25   \n",
       "/title/tt0477348/          91    1226333          R  2007-11-21   \n",
       "/title/tt0887912/          94     145352          R  2009-07-31   \n",
       "/title/tt0910970/          94   63087526          G  2008-06-27   \n",
       "/title/tt1032846/          97      51712  NOT RATED  2007-09-14   \n",
       "/title/tt1065073/         100     387618          R  2014-08-15   \n",
       "/title/tt1068646/          92     155190      PG-13  2009-03-13   \n",
       "/title/tt1100048/          92      30521    UNKNOWN  2009-02-18   \n",
       "/title/tt1285016/          95   22445653      PG-13  2010-10-01   \n",
       "/title/tt1454468/          96   55785112      PG-13  2013-10-04   \n",
       "/title/tt1602620/          94      68266      PG-13  2012-09-20   \n",
       "/title/tt1790885/          95     417150          R  2013-01-11   \n",
       "/title/tt1832382/          95      59481      PG-13  2011-03-16   \n",
       "/title/tt2024544/          97     923715          R  2013-11-08   \n",
       "/title/tt2042568/          92     405411          R  2014-01-10   \n",
       "/title/tt2209418/          94     246914          R  2013-06-14   \n",
       "/title/tt2473794/          94     109000          R  2014-10-31   \n",
       "/title/tt2718492/          91      55438      PG-13  2014-02-12   \n",
       "/title/tt3409392/          91      78544      PG-13  2014-12-10   \n",
       "\n",
       "                                     studio                              title  \n",
       "/title/tt0382932/   Pixar Animation Studios                        Ratatouille  \n",
       "/title/tt0401383/    Pathé Renn Productions  The Diving Bell and the Butterfly  \n",
       "/title/tt0435761/      Walt Disney Pictures                        Toy Story 3  \n",
       "/title/tt0457430/          Estudios Picasso                    Pan's Labyrinth  \n",
       "/title/tt0469494/         Paramount Vantage                There Will Be Blood  \n",
       "/title/tt0477348/         Paramount Vantage             No Country for Old Men  \n",
       "/title/tt0887912/          Voltage Pictures                    The Hurt Locker  \n",
       "/title/tt0910970/      Walt Disney Pictures                             WALL·E  \n",
       "/title/tt1032846/               Mobra Films       4 Months, 3 Weeks and 2 Days  \n",
       "/title/tt1065073/           IFC Productions                            Boyhood  \n",
       "/title/tt1068646/             Haut et Court                          The Class  \n",
       "/title/tt1100048/        Soudaine Compagnie                    35 Shots of Rum  \n",
       "/title/tt1285016/         Columbia Pictures                 The Social Network  \n",
       "/title/tt1454468/              Warner Bros.                            Gravity  \n",
       "/title/tt1602620/      Les Films du Losange                              Amour  \n",
       "/title/tt1790885/         Columbia Pictures                   Zero Dark Thirty  \n",
       "/title/tt1832382/            Asghar Farhadi            Jodaeiye Nader az Simin  \n",
       "/title/tt2024544/       Regency Enterprises                   12 Years a Slave  \n",
       "/title/tt2042568/                 CBS Films                Inside Llewyn Davis  \n",
       "/title/tt2209418/  Faliro House Productions                    Before Midnight  \n",
       "/title/tt2473794/                     Film4                         Mr. Turner  \n",
       "/title/tt2718492/                 Opus Film                                Ida  \n",
       "/title/tt3409392/        Les Films du Worso                           Timbuktu  "
      ]
     },
     "execution_count": 18,
     "metadata": {},
     "output_type": "execute_result"
    }
   ],
   "source": [
    "high"
   ]
  },
  {
   "cell_type": "code",
   "execution_count": 19,
   "metadata": {
    "collapsed": false
   },
   "outputs": [],
   "source": [
    "data['duration'] = data['duration'].map(lambda x: x.encode('ascii', 'ignore'))\n",
    "data['duration'] = data['duration'].map(lambda x: int(x.replace('P', '').replace('T', '').replace('M', '')))"
   ]
  },
  {
   "cell_type": "code",
   "execution_count": 20,
   "metadata": {
    "collapsed": false
   },
   "outputs": [
    {
     "data": {
      "text/plain": [
       "55.65241320914479"
      ]
     },
     "execution_count": 20,
     "metadata": {},
     "output_type": "execute_result"
    }
   ],
   "source": [
    "data.metacritic.mean()"
   ]
  },
  {
   "cell_type": "code",
   "execution_count": 21,
   "metadata": {
    "collapsed": false
   },
   "outputs": [],
   "source": [
    "low_gross = data[data['gross'] < 150000]"
   ]
  },
  {
   "cell_type": "code",
   "execution_count": 22,
   "metadata": {
    "collapsed": false
   },
   "outputs": [
    {
     "data": {
      "text/plain": [
       "58.92248062015504"
      ]
     },
     "execution_count": 22,
     "metadata": {},
     "output_type": "execute_result"
    }
   ],
   "source": [
    "low_gross.metacritic.mean()"
   ]
  },
  {
   "cell_type": "code",
   "execution_count": 23,
   "metadata": {
    "collapsed": false
   },
   "outputs": [
    {
     "name": "stdout",
     "output_type": "stream",
     "text": [
      "Star Wars: Episode I - The Phantom Menace\n",
      "Jindabyne\n",
      "Avenue Montaigne\n",
      "The Valet\n",
      "Alex Rider: Operation Stormbreaker\n",
      "Starter for 10\n",
      "Sixty Six\n",
      "Wanted\n",
      "The Road\n",
      "Pathology\n",
      "Paul Blart: Mall Cop\n",
      "Bronson\n",
      "The Damned United\n",
      "Wild Target\n",
      "Looking for Eric\n",
      "Four Lions\n",
      "Attack the Block\n",
      "Tamara Drewe\n",
      "Horns\n",
      "Act of Valor\n",
      "Dhoom: 3\n"
     ]
    }
   ],
   "source": [
    "for i in range(len(data)):\n",
    "    if data['opening'][i] > data['gross'][i]:\n",
    "        print data['title'][i]\n",
    "    "
   ]
  },
  {
   "cell_type": "code",
   "execution_count": 24,
   "metadata": {
    "collapsed": true
   },
   "outputs": [],
   "source": [
    "data['release'] = pd.to_datetime(data['release'])"
   ]
  },
  {
   "cell_type": "code",
   "execution_count": 25,
   "metadata": {
    "collapsed": false
   },
   "outputs": [
    {
     "data": {
      "text/plain": [
       "duration               int64\n",
       "genres                object\n",
       "gross                  int64\n",
       "metacritic             int64\n",
       "opening                int64\n",
       "rating                object\n",
       "release       datetime64[ns]\n",
       "studio                object\n",
       "title                 object\n",
       "dtype: object"
      ]
     },
     "execution_count": 25,
     "metadata": {},
     "output_type": "execute_result"
    }
   ],
   "source": [
    "data.dtypes"
   ]
  },
  {
   "cell_type": "code",
   "execution_count": 26,
   "metadata": {
    "collapsed": false
   },
   "outputs": [
    {
     "data": {
      "text/plain": [
       "duration                                 98\n",
       "genres             [Crime, Drama, Thriller]\n",
       "gross                              24611975\n",
       "metacritic                               85\n",
       "opening                              137301\n",
       "rating                                    R\n",
       "release                 1996-04-05 00:00:00\n",
       "studio        PolyGram Filmed Entertainment\n",
       "title                                 Fargo\n",
       "Name: /title/tt0116282/, dtype: object"
      ]
     },
     "execution_count": 26,
     "metadata": {},
     "output_type": "execute_result"
    }
   ],
   "source": [
    "data.loc[data['release'].idxmin()]"
   ]
  },
  {
   "cell_type": "code",
   "execution_count": 27,
   "metadata": {
    "collapsed": true
   },
   "outputs": [],
   "source": [
    "with open('movie_data.pkl', 'w') as picklefile:\n",
    "    pickle.dump(data, picklefile)"
   ]
  },
  {
   "cell_type": "code",
   "execution_count": null,
   "metadata": {
    "collapsed": false
   },
   "outputs": [],
   "source": []
  },
  {
   "cell_type": "code",
   "execution_count": null,
   "metadata": {
    "collapsed": true
   },
   "outputs": [],
   "source": []
  }
 ],
 "metadata": {
  "kernelspec": {
   "display_name": "Python 2",
   "language": "python",
   "name": "python2"
  },
  "language_info": {
   "codemirror_mode": {
    "name": "ipython",
    "version": 2
   },
   "file_extension": ".py",
   "mimetype": "text/x-python",
   "name": "python",
   "nbconvert_exporter": "python",
   "pygments_lexer": "ipython2",
   "version": "2.7.10"
  }
 },
 "nbformat": 4,
 "nbformat_minor": 0
}
