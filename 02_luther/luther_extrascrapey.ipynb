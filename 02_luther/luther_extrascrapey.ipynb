{
 "cells": [
  {
   "cell_type": "code",
   "execution_count": 45,
   "metadata": {
    "collapsed": true
   },
   "outputs": [],
   "source": [
    "import pickle\n",
    "from bs4 import BeautifulSoup\n",
    "import requests\n",
    "import re\n",
    "from time import sleep"
   ]
  },
  {
   "cell_type": "code",
   "execution_count": 38,
   "metadata": {
    "collapsed": true
   },
   "outputs": [],
   "source": [
    "with open(\"my_data_2000_2014.pkl\", 'r') as picklefile: \n",
    "    raw_data1 = pickle.load(picklefile)"
   ]
  },
  {
   "cell_type": "code",
   "execution_count": 39,
   "metadata": {
    "collapsed": true
   },
   "outputs": [],
   "source": [
    "data = {item[0] : item[1]\n",
    "        for item in raw_data1}"
   ]
  },
  {
   "cell_type": "code",
   "execution_count": 40,
   "metadata": {
    "collapsed": true
   },
   "outputs": [],
   "source": [
    "def get_more_data(soup, href):\n",
    "    user_score = float(str(soup.find(class_ = 'star-box-giga-star').text))\n",
    "    num_users = str(soup.find(itemprop = 'ratingCount').text)\n",
    "    num_reviews = str(soup.find(itemprop = 'reviewCount').text).split()[0]\n",
    "    director = soup.find(text=re.compile(\"Director:\")).next.next.text\n",
    "    lead = soup.find(text=re.compile(\"Stars:\")).next.next.text\n",
    "    country = soup.find(text=re.compile(\"Country:\")).next.next.text\n",
    "    language = soup.find(text=re.compile(\"Language:\")).next.next.text\n",
    "    \n",
    "    data[href]['user_score'] = user_score\n",
    "    data[href]['num_users'] = num_users\n",
    "    data[href]['num_reviews'] = num_reviews\n",
    "    data[href]['director'] = director\n",
    "    data[href]['lead'] = lead\n",
    "    data[href]['country'] = country\n",
    "    data[href]['language'] = language"
   ]
  },
  {
   "cell_type": "code",
   "execution_count": 41,
   "metadata": {
    "collapsed": true
   },
   "outputs": [],
   "source": [
    "def load_page(href):\n",
    "    url_page = 'http://www.imdb.com/' + href\n",
    "\n",
    "    try:\n",
    "        response = requests.get(url_page)\n",
    "        page = response.text\n",
    "        soup = BeautifulSoup(page)\n",
    "        get_more_data(soup, href)\n",
    "        sleep(0.4)\n",
    "\n",
    "    except AttributeError:\n",
    "        print href + ' did not load'\n",
    "        sleep(0.2)"
   ]
  },
  {
   "cell_type": "code",
   "execution_count": 46,
   "metadata": {
    "collapsed": false,
    "scrolled": false
   },
   "outputs": [
    {
     "name": "stdout",
     "output_type": "stream",
     "text": [
      "/title/tt2737050/ did not load\n",
      "/title/tt1772230/ did not load\n",
      "/title/tt0211465/ did not load\n",
      "/title/tt0843358/ did not load\n",
      "/title/tt0388473/ did not load\n",
      "dumped 50\n",
      "/title/tt1609479/ did not load\n",
      "/title/tt0120681/ did not load\n",
      "/title/tt3062880/ did not load\n",
      "/title/tt0361500/ did not load\n",
      "/title/tt1720182/ did not load\n",
      "dumped 100\n",
      "/title/tt0177650/ did not load\n",
      "/title/tt0479952/ did not load\n",
      "/title/tt1911658/ did not load\n",
      "/title/tt1588334/ did not load\n",
      "dumped 150\n",
      "/title/tt1080016/ did not load\n",
      "/title/tt1582248/ did not load\n",
      "/title/tt0390159/ did not load\n",
      "dumped 200\n",
      "/title/tt1019452/ did not load\n",
      "/title/tt0763304/ did not load\n",
      "/title/tt1336106/ did not load\n",
      "/title/tt1449283/ did not load\n",
      "dumped 250\n",
      "/title/tt1375789/ did not load\n",
      "/title/tt0126029/ did not load\n",
      "/title/tt1294213/ did not load\n",
      "/title/tt0463034/ did not load\n",
      "/title/tt0410377/ did not load\n",
      "/title/tt3395184/ did not load\n",
      "dumped 300\n",
      "/title/tt2436516/ did not load\n",
      "/title/tt1151922/ did not load\n",
      "/title/tt0130623/ did not load\n",
      "dumped 350\n",
      "/title/tt0257947/ did not load\n",
      "/title/tt2105044/ did not load\n",
      "/title/tt0325655/ did not load\n",
      "dumped 400\n",
      "/title/tt0889573/ did not load\n",
      "/title/tt1985966/ did not load\n",
      "dumped 450\n",
      "/title/tt2294629/ did not load\n",
      "/title/tt1231586/ did not load\n",
      "/title/tt0307453/ did not load\n",
      "/title/tt0860906/ did not load\n",
      "/title/tt0762125/ did not load\n",
      "/title/tt3017412/ did not load\n",
      "dumped 500\n",
      "/title/tt1403865/ did not load\n",
      "/title/tt0361748/ did not load\n",
      "/title/tt3316960/ did not load\n",
      "/title/tt0408839/ did not load\n",
      "/title/tt0134983/ did not load\n",
      "dumped 550\n",
      "/title/tt0458481/ did not load\n",
      "/title/tt1762399/ did not load\n",
      "/title/tt1591479/ did not load\n",
      "dumped 600\n",
      "/title/tt0377088/ did not load\n",
      "/title/tt0401233/ did not load\n",
      "/title/tt0299172/ did not load\n",
      "dumped 650\n",
      "/title/tt0400717/ did not load\n",
      "dumped 700\n",
      "/title/tt1932767/ did not load\n",
      "/title/tt0477348/ did not load\n",
      "/title/tt0451176/ did not load\n",
      "dumped 750\n",
      "/title/tt1462054/ did not load\n",
      "/title/tt1213644/ did not load\n",
      "/title/tt1482459/ did not load\n",
      "/title/tt0198781/ did not load\n",
      "dumped 800\n",
      "/title/tt0430779/ did not load\n",
      "dumped 850\n",
      "/title/tt1447508/ did not load\n",
      "/title/tt0387059/ did not load\n",
      "/title/tt1049402/ did not load\n",
      "/title/tt0265591/ did not load\n",
      "dumped 900\n",
      "/title/tt0397892/ did not load\n",
      "/title/tt1663321/ did not load\n",
      "/title/tt0433362/ did not load\n",
      "/title/tt0814022/ did not load\n",
      "/title/tt1034032/ did not load\n",
      "dumped 950\n",
      "/title/tt0320244/ did not load\n",
      "/title/tt0887883/ did not load\n",
      "/title/tt0328880/ did not load\n",
      "dumped 1000\n",
      "/title/tt3014666/ did not load\n",
      "/title/tt0481536/ did not load\n",
      "/title/tt0183505/ did not load\n",
      "dumped 1050\n",
      "/title/tt0166813/ did not load\n",
      "/title/tt0374923/ did not load\n",
      "dumped 1100\n",
      "/title/tt0165982/ did not load\n",
      "/title/tt0485601/ did not load\n",
      "/title/tt0406759/ did not load\n",
      "/title/tt0787474/ did not load\n",
      "/title/tt0345950/ did not load\n",
      "/title/tt0358082/ did not load\n",
      "dumped 1150\n",
      "/title/tt3687186/ did not load\n",
      "/title/tt0234215/ did not load\n",
      "dumped 1200\n",
      "/title/tt1077262/ did not load\n",
      "/title/tt1711425/ did not load\n",
      "dumped 1250\n",
      "/title/tt1667889/ did not load\n",
      "/title/tt1840417/ did not load\n",
      "/title/tt0441773/ did not load\n",
      "/title/tt0976060/ did not load\n",
      "/title/tt1037705/ did not load\n",
      "/title/tt1323594/ did not load\n",
      "dumped 1300\n",
      "/title/tt1361313/ did not load\n",
      "/title/tt1767382/ did not load\n",
      "/title/tt2691524/ did not load\n",
      "/title/tt0351283/ did not load\n",
      "/title/tt0489237/ did not load\n",
      "dumped 1350\n",
      "/title/tt0338466/ did not load\n",
      "/title/tt1245492/ did not load\n",
      "dumped 1400\n",
      "/title/tt0795461/ did not load\n",
      "/title/tt0785035/ did not load\n",
      "/title/tt0870122/ did not load\n",
      "dumped 1450\n",
      "/title/tt0308353/ did not load\n",
      "/title/tt0815245/ did not load\n",
      "/title/tt0361625/ did not load\n",
      "dumped 1500\n",
      "/title/tt1017456/ did not load\n",
      "/title/tt0120913/ did not load\n",
      "/title/tt1675434/ did not load\n",
      "dumped 1550\n",
      "/title/tt0138749/ did not load\n",
      "/title/tt1666186/ did not load\n",
      "dumped 1600\n",
      "/title/tt0420251/ did not load\n",
      "dumped 1650\n",
      "/title/tt0268380/ did not load\n",
      "/title/tt0892782/ did not load\n",
      "/title/tt0254099/ did not load\n",
      "dumped 1700\n",
      "/title/tt1045772/ did not load\n",
      "/title/tt3532608/ did not load\n",
      "/title/tt0327084/ did not load\n",
      "dumped 1750\n",
      "/title/tt1778304/ did not load\n",
      "/title/tt0275277/ did not load\n",
      "dumped 1800\n",
      "/title/tt0332047/ did not load\n",
      "/title/tt0273253/ did not load\n",
      "/title/tt0456396/ did not load\n",
      "/title/tt0266543/ did not load\n",
      "/title/tt0382932/ did not load\n",
      "/title/tt0990413/ did not load\n",
      "dumped 1850\n",
      "/title/tt0780521/ did not load\n",
      "/title/tt1629757/ did not load\n",
      "dumped 1900\n",
      "/title/tt0306432/ did not load\n",
      "/title/tt0230011/ did not load\n",
      "/title/tt0120630/ did not load\n",
      "/title/tt0913968/ did not load\n",
      "/title/tt0419984/ did not load\n",
      "dumped 1950\n",
      "/title/tt0265101/ did not load\n",
      "/title/tt0799949/ did not load\n",
      "/title/tt0256380/ did not load\n",
      "/title/tt0263728/ did not load\n",
      "dumped 2000\n",
      "/title/tt1839492/ did not load\n",
      "dumped 2050\n",
      "/title/tt0455326/ did not load\n",
      "dumped 2100\n",
      "/title/tt0884726/ did not load\n",
      "/title/tt0259974/ did not load\n",
      "/title/tt1433540/ did not load\n",
      "/title/tt2052015/ did not load\n",
      "dumped 2150\n",
      "/title/tt0339334/ did not load\n",
      "dumped 2200\n",
      "/title/tt0466342/ did not load\n",
      "/title/tt0445934/ did not load\n",
      "/title/tt0356150/ did not load\n",
      "dumped 2250\n",
      "/title/tt0376177/ did not load\n",
      "/title/tt0466399/ did not load\n",
      "/title/tt1430626/ did not load\n",
      "dumped 2300\n",
      "/title/tt0389790/ did not load\n",
      "/title/tt1564585/ did not load\n",
      "dumped 2350\n",
      "/title/tt1702541/ did not load\n",
      "dumped 2400\n",
      "/title/tt0280030/ did not load\n",
      "/title/tt0121164/ did not load\n",
      "/title/tt1498887/ did not load\n",
      "/title/tt0427392/ did not load\n",
      "/title/tt0236348/ did not load\n",
      "/title/tt1605630/ did not load\n",
      "/title/tt0298148/ did not load\n",
      "dumped 2450\n",
      "dumped 2500\n",
      "/title/tt0190590/ did not load\n",
      "/title/tt0271259/ did not load\n",
      "/title/tt0276751/ did not load\n",
      "/title/tt0347304/ did not load\n",
      "dumped 2550\n",
      "/title/tt0356618/ did not load\n",
      "/title/tt0391483/ did not load\n",
      "dumped 2600\n",
      "/title/tt1816518/ did not load\n",
      "/title/tt0228242/ did not load\n",
      "/title/tt0780607/ did not load\n",
      "dumped 2650\n",
      "/title/tt1277953/ did not load\n",
      "/title/tt2109184/ did not load\n",
      "/title/tt2245084/ did not load\n",
      "/title/tt1695994/ did not load\n",
      "/title/tt1336617/ did not load\n",
      "dumped 2700\n",
      "/title/tt0243133/ did not load\n",
      "/title/tt0366548/ did not load\n",
      "/title/tt0804497/ did not load\n",
      "/title/tt0420238/ did not load\n",
      "/title/tt3667798/ did not load\n",
      "/title/tt0480687/ did not load\n",
      "dumped 2750\n",
      "/title/tt1058017/ did not load\n",
      "/title/tt1316540/ did not load\n",
      "/title/tt0436689/ did not load\n",
      "/title/tt1839647/ did not load\n",
      "/title/tt0357470/ did not load\n",
      "/title/tt0317219/ did not load\n",
      "/title/tt1855401/ did not load\n",
      "dumped 2800\n",
      "/title/tt0250323/ did not load\n",
      "/title/tt1490017/ did not load\n",
      "/title/tt2359137/ did not load\n",
      "/title/tt0811080/ did not load\n",
      "dumped 2850\n",
      "/title/tt1186369/ did not load\n",
      "/title/tt0401711/ did not load\n",
      "/title/tt0462322/ did not load\n",
      "dumped 2900\n",
      "/title/tt1869425/ did not load\n",
      "/title/tt0298388/ did not load\n",
      "dumped 2950\n",
      "/title/tt0451079/ did not load\n",
      "dumped 3000\n",
      "/title/tt0347791/ did not load\n",
      "/title/tt0275847/ did not load\n",
      "/title/tt1934231/ did not load\n",
      "dumped 3050\n",
      "/title/tt0808399/ did not load\n",
      "/title/tt0383010/ did not load\n",
      "/title/tt0785025/ did not load\n",
      "/title/tt1623288/ did not load\n",
      "dumped 3100\n",
      "/title/tt0399465/ did not load\n",
      "/title/tt1986769/ did not load\n",
      "/title/tt1217209/ did not load\n",
      "/title/tt0481499/ did not load\n",
      "dumped 3150\n",
      "/title/tt0413267/ did not load\n",
      "dumped 3200\n",
      "/title/tt0133240/ did not load\n",
      "/title/tt0401792/ did not load\n",
      "/title/tt0291172/ did not load\n",
      "/title/tt0955411/ did not load\n",
      "/title/tt0985694/ did not load\n",
      "dumped 3250\n",
      "/title/tt1235830/ did not load\n",
      "dumped 3300\n",
      "/title/tt1496025/ did not load\n",
      "/title/tt3163304/ did not load\n",
      "dumped 3350\n",
      "/title/tt1570728/ did not load\n",
      "/title/tt1430607/ did not load\n",
      "dumped 3400\n",
      "/title/tt1049413/ did not load\n",
      "/title/tt0270707/ did not load\n",
      "/title/tt2077851/ did not load\n",
      "/title/tt0822388/ did not load\n",
      "dumped 3450\n",
      "/title/tt0312004/ did not load\n",
      "/title/tt0213203/ did not load\n",
      "/title/tt0231775/ did not load\n",
      "/title/tt0282120/ did not load\n",
      "/title/tt0443536/ did not load\n",
      "dumped 3500\n",
      "/title/tt0464160/ did not load\n",
      "/title/tt2294449/ did not load\n",
      "/title/tt1690953/ did not load\n",
      "/title/tt0425430/ did not load\n",
      "dumped 3550\n",
      "/title/tt1698648/ did not load\n",
      "/title/tt1727388/ did not load\n",
      "/title/tt0206367/ did not load\n",
      "/title/tt0335245/ did not load\n",
      "/title/tt2042568/ did not load\n",
      "dumped 3600\n",
      "/title/tt1282046/ did not load\n",
      "/title/tt1402488/ did not load\n",
      "/title/tt0116282/ did not load\n",
      "/title/tt0373445/ did not load\n",
      "/title/tt1121931/ did not load\n",
      "/title/tt0339840/ did not load\n",
      "dumped 3650\n",
      "/title/tt0473700/ did not load\n",
      "/title/tt1216475/ did not load\n",
      "/title/tt1368440/ did not load\n",
      "dumped 3700\n",
      "/title/tt0807721/ did not load\n",
      "/title/tt0276276/ did not load\n",
      "/title/tt0242653/ did not load\n",
      "/title/tt0138524/ did not load\n",
      "dumped 3750\n",
      "/title/tt0449059/ did not load\n",
      "/title/tt0173840/ did not load\n",
      "/title/tt0369330/ did not load\n",
      "dumped 3800\n",
      "/title/tt1843866/ did not load\n",
      "dumped 3850\n",
      "/title/tt0337711/ did not load\n",
      "/title/tt1673702/ did not load\n",
      "/title/tt0892769/ did not load\n",
      "dumped 3900\n",
      "/title/tt1073498/ did not load\n",
      "/title/tt1592525/ did not load\n",
      "/title/tt0305206/ did not load\n",
      "/title/tt0156323/ did not load\n",
      "dumped 3950\n",
      "/title/tt0253798/ did not load\n",
      "/title/tt1613750/ did not load\n",
      "/title/tt1426329/ did not load\n",
      "/title/tt1333125/ did not load\n",
      "/title/tt2096672/ did not load\n",
      "dumped 4000\n",
      "/title/tt0398286/ did not load\n",
      "/title/tt2788710/ did not load\n",
      "/title/tt0758730/ did not load\n",
      "/title/tt0806203/ did not load\n",
      "/title/tt2911666/ did not load\n",
      "dumped 4050\n",
      "/title/tt0923600/ did not load\n",
      "/title/tt3416742/ did not load\n",
      "/title/tt0317248/ did not load\n",
      "/title/tt1071875/ did not load\n",
      "/title/tt2752758/ did not load\n",
      "dumped 4100\n",
      "/title/tt0245115/ did not load\n",
      "/title/tt0424095/ did not load\n",
      "/title/tt0986264/ did not load\n",
      "dumped 4150\n",
      "/title/tt1342403/ did not load\n",
      "/title/tt0293662/ did not load\n",
      "dumped 4200\n",
      "/title/tt0844471/ did not load\n",
      "/title/tt2450440/ did not load\n",
      "/title/tt1232829/ did not load\n",
      "/title/tt0423294/ did not load\n",
      "dumped 4250\n",
      "dumped 4300\n",
      "/title/tt0248169/ did not load\n",
      "/title/tt0808417/ did not load\n",
      "/title/tt1440732/ did not load\n",
      "/title/tt0181739/ did not load\n",
      "/title/tt1827512/ did not load\n",
      "dumped 4350\n",
      "/title/tt2097307/ did not load\n",
      "/title/tt0338564/ did not load\n",
      "/title/tt1010048/ did not load\n",
      "/title/tt0479884/ did not load\n",
      "dumped 4400\n",
      "/title/tt3283556/ did not load\n",
      "/title/tt1371111/ did not load\n"
     ]
    }
   ],
   "source": [
    "counter = 0\n",
    "for href in data.keys():\n",
    "    load_page(href)\n",
    "    counter += 1\n",
    "    if counter % 50 == 0:\n",
    "        with open('my_data_partial2.pkl', 'w') as picklefile:\n",
    "            pickle.dump(data, picklefile)\n",
    "            print \"dumped \" + str(counter)"
   ]
  },
  {
   "cell_type": "markdown",
   "metadata": {},
   "source": [
    "### practice stuff"
   ]
  },
  {
   "cell_type": "code",
   "execution_count": 47,
   "metadata": {
    "collapsed": false
   },
   "outputs": [],
   "source": [
    "with open('my_data_2000_2014_02.pkl', 'w') as picklefile:\n",
    "    pickle.dump(data, picklefile)"
   ]
  },
  {
   "cell_type": "code",
   "execution_count": 6,
   "metadata": {
    "collapsed": false
   },
   "outputs": [],
   "source": [
    "href = '/title/tt2267998/'\n",
    "url_page = 'http://www.imdb.com/' + href\n",
    "\n",
    "response = requests.get(url_page)\n",
    "page = response.text\n",
    "soup = BeautifulSoup(page)"
   ]
  },
  {
   "cell_type": "code",
   "execution_count": 8,
   "metadata": {
    "collapsed": false
   },
   "outputs": [
    {
     "data": {
      "text/plain": [
       "8.2"
      ]
     },
     "execution_count": 8,
     "metadata": {},
     "output_type": "execute_result"
    }
   ],
   "source": [
    "float(str(soup.find(class_ = 'star-box-giga-star').text))"
   ]
  },
  {
   "cell_type": "code",
   "execution_count": 14,
   "metadata": {
    "collapsed": false
   },
   "outputs": [
    {
     "data": {
      "text/plain": [
       "'428,391'"
      ]
     },
     "execution_count": 14,
     "metadata": {},
     "output_type": "execute_result"
    }
   ],
   "source": [
    "str(soup.find(itemprop = 'ratingCount').text)"
   ]
  },
  {
   "cell_type": "code",
   "execution_count": 15,
   "metadata": {
    "collapsed": false
   },
   "outputs": [
    {
     "data": {
      "text/plain": [
       "'1,023'"
      ]
     },
     "execution_count": 15,
     "metadata": {},
     "output_type": "execute_result"
    }
   ],
   "source": [
    "str(soup.find(itemprop = 'reviewCount').text).split()[0]"
   ]
  },
  {
   "cell_type": "code",
   "execution_count": 26,
   "metadata": {
    "collapsed": false
   },
   "outputs": [
    {
     "data": {
      "text/plain": [
       "u'David Fincher'"
      ]
     },
     "execution_count": 26,
     "metadata": {},
     "output_type": "execute_result"
    }
   ],
   "source": [
    "soup.find(text=re.compile(\"Director:\")).next.next.text"
   ]
  },
  {
   "cell_type": "code",
   "execution_count": 27,
   "metadata": {
    "collapsed": false
   },
   "outputs": [
    {
     "data": {
      "text/plain": [
       "u'Ben Affleck'"
      ]
     },
     "execution_count": 27,
     "metadata": {},
     "output_type": "execute_result"
    }
   ],
   "source": [
    "soup.find(text=re.compile(\"Stars:\")).next.next.text"
   ]
  },
  {
   "cell_type": "code",
   "execution_count": 28,
   "metadata": {
    "collapsed": false
   },
   "outputs": [
    {
     "data": {
      "text/plain": [
       "u'USA'"
      ]
     },
     "execution_count": 28,
     "metadata": {},
     "output_type": "execute_result"
    }
   ],
   "source": [
    "soup.find(text=re.compile(\"Country:\")).next.next.text"
   ]
  },
  {
   "cell_type": "code",
   "execution_count": 29,
   "metadata": {
    "collapsed": false
   },
   "outputs": [
    {
     "data": {
      "text/plain": [
       "u'English'"
      ]
     },
     "execution_count": 29,
     "metadata": {},
     "output_type": "execute_result"
    }
   ],
   "source": [
    "soup.find(text=re.compile(\"Language:\")).next.next.text"
   ]
  },
  {
   "cell_type": "code",
   "execution_count": 35,
   "metadata": {
    "collapsed": false
   },
   "outputs": [],
   "source": [
    "data[href]['lead'] = soup.find(text=re.compile(\"Stars:\")).next.next.text"
   ]
  },
  {
   "cell_type": "code",
   "execution_count": 36,
   "metadata": {
    "collapsed": false
   },
   "outputs": [
    {
     "data": {
      "text/plain": [
       "{'duration': 'PT149M',\n",
       " 'genres': ['Drama', 'Mystery', 'Thriller'],\n",
       " 'gross': u'$167,735,396',\n",
       " 'lead': u'Ben Affleck',\n",
       " 'metacritic': '79/100',\n",
       " 'opening': u'$37,513,109        \\n\\n      (USA)',\n",
       " 'rating': 'R',\n",
       " 'release': '2014-10-03',\n",
       " 'studio': u'Twentieth Century Fox Film Corporation',\n",
       " 'title': u'Gone Girl'}"
      ]
     },
     "execution_count": 36,
     "metadata": {},
     "output_type": "execute_result"
    }
   ],
   "source": [
    "data[href]"
   ]
  },
  {
   "cell_type": "code",
   "execution_count": null,
   "metadata": {
    "collapsed": true
   },
   "outputs": [],
   "source": [
    "data.items()[:10]"
   ]
  }
 ],
 "metadata": {
  "kernelspec": {
   "display_name": "Python 2",
   "language": "python",
   "name": "python2"
  },
  "language_info": {
   "codemirror_mode": {
    "name": "ipython",
    "version": 2
   },
   "file_extension": ".py",
   "mimetype": "text/x-python",
   "name": "python",
   "nbconvert_exporter": "python",
   "pygments_lexer": "ipython2",
   "version": "2.7.10"
  }
 },
 "nbformat": 4,
 "nbformat_minor": 0
}
