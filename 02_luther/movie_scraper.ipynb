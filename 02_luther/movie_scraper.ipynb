{
 "cells": [
  {
   "cell_type": "code",
   "execution_count": 12,
   "metadata": {
    "collapsed": false
   },
   "outputs": [],
   "source": [
    "import requests\n",
    "from bs4 import BeautifulSoup\n",
    "import re\n",
    "import string\n",
    "from time import sleep\n",
    "from __future__ import division"
   ]
  },
  {
   "cell_type": "code",
   "execution_count": 2,
   "metadata": {
    "collapsed": true
   },
   "outputs": [],
   "source": [
    "url_base = 'http://www.boxofficemojo.com/schedule/?view=bydate&release=theatrical&date='\n",
    "url_tail = '&p=.htm'"
   ]
  },
  {
   "cell_type": "code",
   "execution_count": 3,
   "metadata": {
    "collapsed": true
   },
   "outputs": [],
   "source": [
    "titles2 = {}"
   ]
  },
  {
   "cell_type": "code",
   "execution_count": 4,
   "metadata": {
    "collapsed": false
   },
   "outputs": [
    {
     "name": "stdout",
     "output_type": "stream",
     "text": [
      "Getting data for 2014-1\n",
      "Getting data for 2014-2\n",
      "Getting data for 2014-3\n",
      "Getting data for 2014-4\n",
      "Getting data for 2014-5\n",
      "Getting data for 2014-6\n",
      "Getting data for 2014-7\n",
      "Getting data for 2014-8\n",
      "Getting data for 2014-9\n",
      "Getting data for 2014-10\n",
      "Getting data for 2014-11\n",
      "Getting data for 2014-12\n"
     ]
    }
   ],
   "source": [
    "# for y in range(2004, 2015):\n",
    "\n",
    "for m in range(1, 13):\n",
    "    y = 2014\n",
    "    url_date = str(y) + '-' + str(m)\n",
    "\n",
    "    print \"Getting data for \" + url_date\n",
    "    url = url_base + url_date + url_tail\n",
    "    response = requests.get(url)\n",
    "    page = response.text\n",
    "    soup = BeautifulSoup(page)\n",
    "\n",
    "    lst = soup.find_all(attrs={\"href\" : re.compile(\"/movies/\")})\n",
    "    for link in lst:\n",
    "        if \"#1 Movie\" in link.text or \"Movies A-Z\" in link.text or \"re-release\" in link.text:\n",
    "            lst.remove(link)\n",
    "    titles = {}\n",
    "    for link in lst:\n",
    "        titles[str(link.text)] = link.attrs\n",
    "        \n",
    "    for title, href in titles.items():\n",
    "        title = re.sub(' \\([0-9]{4}\\)', '', title)\n",
    "        title = title.strip(string.punctuation)\n",
    "        title = title.lower()\n",
    "        title = title.replace(' ', '_')\n",
    "        title = title.replace(\"'\", '')\n",
    "        title = title.replace(':', '')\n",
    "        title = title.replace('.', '')\n",
    "        title = title.replace(',', '')\n",
    "\n",
    "        titles2[title] = href"
   ]
  },
  {
   "cell_type": "code",
   "execution_count": 10,
   "metadata": {
    "collapsed": false
   },
   "outputs": [
    {
     "data": {
      "text/plain": [
       "557"
      ]
     },
     "execution_count": 10,
     "metadata": {},
     "output_type": "execute_result"
    }
   ],
   "source": [
    "len(titles2.items())"
   ]
  },
  {
   "cell_type": "code",
   "execution_count": 6,
   "metadata": {
    "collapsed": true
   },
   "outputs": [],
   "source": [
    "movies_dct = {}\n",
    "\n",
    "def add_movie_to_data(soup2):\n",
    "    title = soup2.find(itemprop = \"name\").text.strip()\n",
    "    title = re.sub(' \\([0-9]{4}\\)', '', title)\n",
    "    meter = str(soup2.find(class_ = \"meter-value\").text)\n",
    "    rating = str(soup2.find(itemprop = \"contentRating\").text)\n",
    "    rating = rating.split()[0]\n",
    "    genres = []\n",
    "    genres.append(str(soup2.find(itemprop = 'genre').text))\n",
    "    release = str(soup2.find(itemprop=\"datePublished\").attrs['content'])\n",
    "    duration = str(soup2.find(itemprop=\"duration\").attrs['datetime'])\n",
    "    studio = str(soup2.find(itemprop=\"productionCompany\").text)\n",
    "\n",
    "    boxo = soup2.find(class_ = \"info\")\n",
    "    boxo = str(boxo.find(text=re.compile(\"Box Office\")).next.next.text)\n",
    "\n",
    "    movies_dct[title] = {'title': title,\n",
    "                         'meter': meter,\n",
    "                         'rating': rating,\n",
    "                         'genres': genres,\n",
    "                         'release': release,\n",
    "                         'duration': duration,\n",
    "                         'studio': studio,\n",
    "                         'box office': boxo\n",
    "                        }\n",
    "    return movies_dct"
   ]
  },
  {
   "cell_type": "code",
   "execution_count": 7,
   "metadata": {
    "collapsed": false
   },
   "outputs": [
    {
     "name": "stdout",
     "output_type": "stream",
     "text": [
      "neighbors did not load\n",
      "diplomacy did not load\n",
      "anohana_the_movie_the_flower_we_saw_that_day did not load\n",
      "hellion did not load\n",
      "bad_turn_worse did not load\n",
      "showrunners_the_art_of_running_a_tv_show did not load\n",
      "ouija did not load\n",
      "the_moment did not load\n",
      "elena did not load\n",
      "missionary did not load\n",
      "policeman did not load\n",
      "k_missing_kings did not load\n",
      "peter_brook_the_tightrope did not load\n",
      "unrelated did not load\n",
      "a_most_wanted_man did not load\n",
      "cesar_chavez did not load\n",
      "antboy did not load\n",
      "on_my_way did not load\n",
      "blood_ties did not load\n",
      "anchorman_2_(r-rated_extended_cut did not load\n",
      "boy_meets_girl did not load\n",
      "alexander_and_the_terrible_horrible_no_good_very_bad_day did not load\n",
      "the_butterfly_room did not load\n",
      "the_devils_hand did not load\n",
      "under_the_skin did not load\n",
      "the_great_flood did not load\n",
      "next_goal_wins did not load\n",
      "beyond_outrage did not load\n",
      "aftermath did not load\n",
      "in_bloom did not load\n",
      "young_ones did not load\n",
      "the_blue_room did not load\n",
      "a_birders_guide_to_everything did not load\n",
      "life_of_riley did not load\n",
      "teenage did not load\n",
      "veil_of_tears did not load\n",
      "action_jackson did not load\n",
      "very_good_girls did not load\n",
      "left_behind did not load\n",
      "the_toy_soldiers did not load\n",
      "the_one_i_wrote_for_you did not load\n",
      "the_wait did not load\n",
      "the_hundred-foot_journey did not load\n",
      "journey_to_the_west did not load\n",
      "the_discoverers did not load\n",
      "louder_than_words did not load\n",
      "flex_is_kings did not load\n",
      "the_other_woman did not load\n",
      "miss_lovely did not load\n",
      "the_hornets_nest did not load\n",
      "afternoon_of_a_faun did not load\n",
      "tiger_&_bunny_the_movie_the_rising did not load\n",
      "a_letter_to_momo did not load\n",
      "gore_vidal_united_states_of_amnesia did not load\n",
      "penton_the_john_penton_story did not load\n",
      "the_grand_budapest_hotel did not load\n",
      "gloria did not load\n",
      "norte_the_end_of_history did not load\n",
      "lekar_hum_deewana_dil did not load\n",
      "into_the_storm did not load\n",
      "dishkiyaoon did not load\n",
      "gladiators_of_rome did not load\n",
      "the_theory_of_everything did not load\n",
      "the_tower did not load\n",
      "all_you_need_is_love did not load\n",
      "sx_tape did not load\n",
      "u_want_me_to_kill_him did not load\n",
      "v/h/s_viral did not load\n",
      "wolves did not load\n",
      "like_father_like_son did not load\n",
      "a_farewell_to_fools did not load\n",
      "the_admiral_roaring_currents did not load\n",
      "a_girl_walks_home_alone_at_night did not load\n",
      "dead_snow_2_red_vs_dead did not load\n",
      "mood_indigo did not load\n",
      "holiday did not load\n",
      "concerning_violence did not load\n",
      "jessabelle did not load\n",
      "mr_pip did not load\n",
      "frankie_&_alice did not load\n",
      "lucy did not load\n",
      "addicted did not load\n",
      "low_down did not load\n",
      "life_of_a_king did not load\n",
      "about_alex did not load\n",
      "awake_the_life_of_yogananda did not load\n",
      "a_summers_tale did not load\n",
      "evolution_of_a_criminal did not load\n",
      "marius did not load\n",
      "whitey_usa_v_james_j_bulger did not load\n",
      "the_immortalists did not load\n",
      "flamenco_flamenco did not load\n",
      "elsa_&_fred did not load\n",
      "7_boxes did not load\n",
      "the_dog did not load\n",
      "from_the_rough did not load\n",
      "i_frankenstein did not load\n",
      "watermark did not load\n",
      "stand_your_ground did not load\n",
      "on_any_sunday_the_next_chapter did not load\n",
      "ping_pong_summer did not load\n",
      "calvary did not load\n",
      "gimme_shelter did not load\n",
      "anita did not load\n",
      "once_upon_a_time_veronica_(era_uma_vez_eu_veronica did not load\n",
      "one_day_pina_asked did not load\n",
      "gone_girl did not load\n",
      "return_to_the_hiding_place did not load\n",
      "the_only_real_game did not load\n",
      "maladies did not load\n",
      "transcendence did not load\n",
      "as_it_is_in_heaven did not load\n",
      "cold_in_july did not load\n",
      "the_book_of_life did not load\n",
      "bears did not load\n",
      "in_the_house_of_flies did not load\n",
      "short_peace did not load\n",
      "what_now?_remind_me did not load\n",
      "laggies did not load\n",
      "friended_to_death did not load\n",
      "papirosen did not load\n",
      "chef did not load\n",
      "dracula_untold did not load\n",
      "non-stop did not load\n",
      "who_is_dayani_cristal did not load\n",
      "cinemanovels did not load\n",
      "alien_abduction did not load\n",
      "get_on_up did not load\n",
      "lullaby did not load\n",
      "dragon_ball_z_battle_of_gods did not load\n",
      "skinless did not load\n",
      "youre_not_you did not load\n",
      "bang_bang did not load\n",
      "delivery_the_beast_within did not load\n",
      "nightcrawler did not load\n",
      "the_judge did not load\n",
      "john_wick did not load\n",
      "cavemen did not load\n",
      "2014_oscar_nominated_short_films did not load\n",
      "behaving_badly did not load\n",
      "gravity did not load\n",
      "le_week-end did not load\n",
      "fed_up did not load\n",
      "generation_war did not load\n",
      "infliction did not load\n",
      "the_babadook did not load\n",
      "a_fantastic_fear_of_everything did not load\n",
      "visitors did not load\n",
      "locker_13 did not load\n",
      "death_metal_angola did not load\n",
      "america did not load\n",
      "the_pyramid did not load\n",
      "remote_area_medical did not load\n",
      "sleepwalker did not load\n",
      "the_players did not load\n",
      "summer_in_february did not load\n",
      "the_word did not load\n",
      "trust_me did not load\n",
      "the_immigrant did not load\n",
      "men_women_&_children did not load\n",
      "the_suspect did not load\n",
      "revenge_of_the_green_dragons did not load\n",
      "two-bit_waltz did not load\n",
      "manuscripts_dont_burn did not load\n",
      "jackpot did not load\n",
      "manakamana did not load\n",
      "water_&_power did not load\n",
      "godzilla did not load\n",
      "the_lookalike did not load\n",
      "filmistaan did not load\n",
      "stalingrad did not load\n",
      "gbf did not load\n",
      "enemy did not load\n",
      "force_majeure did not load\n",
      "chinese_puzzle did not load\n",
      "uzumasa_limelight did not load\n",
      "magical_universe did not load\n",
      "archipelago did not load\n",
      "horns did not load\n",
      "the_sacrifice did not load\n",
      "the_way_he_looks did not load\n",
      "bethlehem did not load\n",
      "finding_fela did not load\n",
      "love_is_in_the_air did not load\n",
      "foxcatcher did not load\n",
      "movies_a-z did not load\n",
      "best_night_ever did not load\n",
      "sabotage did not load\n",
      "no_tears_for_the_dead did not load\n",
      "horrible_bosses_2 did not load\n",
      "joe did not load\n",
      "a_long_way_off did not load\n",
      "comet did not load\n",
      "camp_x-ray did not load\n",
      "filth did not load\n",
      "the_rocket did not load\n",
      "moebius did not load\n",
      "stations_of_the_elevated did not load\n",
      "the_almost_man did not load\n",
      "american_mustang did not load\n",
      "goodbye_to_language did not load\n",
      "the_signal did not load\n",
      "coherence did not load\n",
      "accident did not load\n",
      "young_and_beautiful did not load\n",
      "dallas_buyers_club did not load\n",
      "the_face_of_love did not load\n",
      "the_amazing_spider-man_2 did not load\n",
      "x-men_days_of_future_past did not load\n",
      "the_railway_man did not load\n",
      "gang_of_ghosts did not load\n",
      "happy_ending did not load\n",
      "we_are_the_best did not load\n",
      "beyond_sight_the_derek_rabelo_story did not load\n",
      "the_decent_one did not load\n",
      "korengal did not load\n",
      "half_the_road did not load\n",
      "belle did not load\n",
      "lucky_them did not load\n",
      "sol_lewitt did not load\n",
      "rosewater did not load\n",
      "sinbad_the_fifth_voyage did not load\n",
      "burning_bush did not load\n",
      "empty_hours did not load\n",
      "fatal_assistance did not load\n",
      "french_gigolo_(cliente did not load\n",
      "love_and_air_sex did not load\n",
      "a_picture_of_you did not load\n",
      "blue_ruin did not load\n",
      "10_rules_for_sleeping_around did not load\n",
      "listen_up_philip did not load\n",
      "actress did not load\n",
      "postman_pat_the_movie did not load\n",
      "hercules did not load\n",
      "brahmin_bulls did not load\n",
      "afflicted did not load\n",
      "under_the_electric_sky did not load\n",
      "shirin_in_love did not load\n",
      "exhibition did not load\n",
      "guardian_angel did not load\n",
      "ernest_&_celestine did not load\n",
      "kick did not load\n",
      "interior_leather_bar did not load\n",
      "living_is_easy_with_eyes_closed did not load\n",
      "mr_peabody_&_sherman did not load\n",
      "a_matter_of_faith did not load\n",
      "evergreen_the_road_to_legalization did not load\n",
      "dear_white_people did not load\n",
      "magic_in_the_moonlight did not load\n",
      "age_of_uprising_the_legend_of_michael_kohlhaas_(us_only did not load\n",
      "heropanti did not load\n",
      "the_internets_own_boy did not load\n",
      "before_you_know_it did not load\n",
      "open_grave did not load\n",
      "lila_lila did not load\n",
      "the_double did not load\n",
      "stage_fright did not load\n",
      "the_truth_about_emanuel did not load\n",
      "and_so_it_goes did not load\n",
      "the_past_is_a_grotesque_animal did not load\n",
      "pioneer did not load\n",
      "radio_free_albemuth did not load\n",
      "fanny did not load\n",
      "anna did not load\n",
      "the_love_punch did not load\n",
      "the_tale_of_the_princess_kaguya did not load\n",
      "night_moves did not load\n",
      "refuge did not load\n",
      "the_quiet_ones did not load\n",
      "planes_fire_&_rescue did not load\n",
      "the_liberator did not load\n",
      "birdman did not load\n",
      "ida did not load\n",
      "the_hacker_wars did not load\n",
      "interstellar did not load\n",
      "evangelion_30_you_can_(not)_redo did not load\n",
      "the_hero_of_color_city did not load\n",
      "horses_of_god did not load\n",
      "child_of_god did not load\n",
      "hide_your_smiling_faces did not load\n",
      "kill_the_messenger did not load\n",
      "the_jewish_cardinal did not load\n",
      "whiplash did not load\n",
      "the_better_angels did not load\n",
      "island_of_lemurs_madagascar_(imax did not load\n",
      "fury did not load\n",
      "begin_again did not load\n",
      "special_id did not load\n",
      "demi-soeur did not load\n",
      "deliver_us_from_evil did not load\n",
      "dr_cabbie_(us_only did not load\n",
      "the_strange_little_cat did not load\n",
      "women_who_flirt_(sajiao_nvren did not load\n",
      "christian_mingle did not load\n",
      "labor_day did not load\n",
      "mccanick did not load\n",
      "test did not load\n",
      "repentance did not load\n",
      "the_divine_move did not load\n",
      "for_no_good_reason did not load\n",
      "the_hunger_games_mockingjay_-_part_1 did not load\n",
      "open_windows did not load\n",
      "rigor_mortis did not load\n",
      "code_black did not load\n",
      "what_if did not load\n"
     ]
    }
   ],
   "source": [
    "for title in titles2.keys():\n",
    "    ### reindent when ready to loop\n",
    "    url_rt = 'http://www.rottentomatoes.com/m/' + title\n",
    "    try:\n",
    "        response2 = requests.get(url_rt)\n",
    "        page2 = response2.text\n",
    "        soup2 = BeautifulSoup(page2)\n",
    "        add_movie_to_data(soup2)\n",
    "        sleep(0.5)\n",
    "        \n",
    "    except AttributeError:\n",
    "        print title + ' did not load'"
   ]
  },
  {
   "cell_type": "code",
   "execution_count": 8,
   "metadata": {
    "collapsed": false
   },
   "outputs": [
    {
     "data": {
      "text/plain": [
       "251"
      ]
     },
     "execution_count": 8,
     "metadata": {},
     "output_type": "execute_result"
    }
   ],
   "source": [
    "len(movies_dct.items())"
   ]
  },
  {
   "cell_type": "code",
   "execution_count": 13,
   "metadata": {
    "collapsed": false
   },
   "outputs": [
    {
     "data": {
      "text/plain": [
       "0.4506283662477558"
      ]
     },
     "execution_count": 13,
     "metadata": {},
     "output_type": "execute_result"
    }
   ],
   "source": [
    "len(movies_dct.items())/len(titles2.items())"
   ]
  },
  {
   "cell_type": "code",
   "execution_count": 37,
   "metadata": {
    "collapsed": false
   },
   "outputs": [],
   "source": [
    "# f = open('movies_2014.txt', 'w')\n",
    "\n",
    "# for i in range(len(movies_dct.items())):\n",
    "#     for boxo, duration, genres, meter, rating, release, studio, title in movies_dct.items()[i][1]:\n",
    "#         f.write(title + ',' + boxo + ',' + duration + ',' + genres + ',' + \n",
    "#                 meter + ',' + rating + ',' + release + ',' + studio + '\\n')"
   ]
  },
  {
   "cell_type": "code",
   "execution_count": 39,
   "metadata": {
    "collapsed": true
   },
   "outputs": [],
   "source": [
    "# import pickle\n",
    "\n",
    "# with open('my_data.pkl', 'w') as picklefile:\n",
    "#     pickle.dump(movies_dct.items(), picklefile)"
   ]
  },
  {
   "cell_type": "code",
   "execution_count": 41,
   "metadata": {
    "collapsed": false
   },
   "outputs": [
    {
     "data": {
      "text/plain": [
       "[(u'Monk With a Camera',\n",
       "  {'box office': '$10.0k',\n",
       "   'duration': 'P90M',\n",
       "   'genres': ['Documentary'],\n",
       "   'meter': '82%',\n",
       "   'rating': 'Unrated',\n",
       "   'release': '2014-11-21',\n",
       "   'studio': 'Kino Lorber',\n",
       "   'title': u'Monk With a Camera'}),\n",
       " (u'Redwood Highway',\n",
       "  {'box office': '$0.1M',\n",
       "   'duration': 'P90M',\n",
       "   'genres': ['Drama'],\n",
       "   'meter': '80%',\n",
       "   'rating': 'PG-13',\n",
       "   'release': '2014-04-18',\n",
       "   'studio': 'Monterey Media',\n",
       "   'title': u'Redwood Highway'}),\n",
       " (u'Muppets Most Wanted',\n",
       "  {'box office': '$51.2M',\n",
       "   'duration': 'P107M',\n",
       "   'genres': ['Comedy'],\n",
       "   'meter': '78%',\n",
       "   'rating': 'PG',\n",
       "   'release': '2014-03-21',\n",
       "   'studio': 'Walt Disney Pictures',\n",
       "   'title': u'Muppets Most Wanted'}),\n",
       " (u'Last Passenger',\n",
       "  {'box office': '$9.3k',\n",
       "   'duration': 'P97M',\n",
       "   'genres': ['Mystery & Suspense'],\n",
       "   'meter': '84%',\n",
       "   'rating': 'R',\n",
       "   'release': '2014-04-25',\n",
       "   'studio': 'Cohen Media Group',\n",
       "   'title': u'Last Passenger'}),\n",
       " (u'The Fluffy Movie',\n",
       "  {'box office': '$2.8M',\n",
       "   'duration': 'P102M',\n",
       "   'genres': ['Comedy'],\n",
       "   'meter': '54%',\n",
       "   'rating': 'PG-13',\n",
       "   'release': '2014-07-25',\n",
       "   'studio': 'Open Road Films',\n",
       "   'title': u'The Fluffy Movie'}),\n",
       " (u'The Bag Man',\n",
       "  {'box office': '$48.8k',\n",
       "   'duration': 'P108M',\n",
       "   'genres': ['Drama'],\n",
       "   'meter': '10%',\n",
       "   'rating': 'R',\n",
       "   'release': '2014-02-28',\n",
       "   'studio': 'Cinedigm Entertainment',\n",
       "   'title': u'The Bag Man'}),\n",
       " (u'1,000 Times Good Night',\n",
       "  {'box office': '$53.0k',\n",
       "   'duration': 'P117M',\n",
       "   'genres': ['Drama'],\n",
       "   'meter': '74%',\n",
       "   'rating': 'Unrated',\n",
       "   'release': '2014-10-24',\n",
       "   'studio': 'Film Movement',\n",
       "   'title': u'1,000 Times Good Night'}),\n",
       " (u'The Galapagos Affair: Satan Came To Eden',\n",
       "  {'box office': '$0.2M',\n",
       "   'duration': 'P120M',\n",
       "   'genres': ['Documentary'],\n",
       "   'meter': '82%',\n",
       "   'rating': 'Unrated',\n",
       "   'release': '2014-04-04',\n",
       "   'studio': 'Zeitgeist Films',\n",
       "   'title': u'The Galapagos Affair: Satan Came To Eden'}),\n",
       " (u'Walk Of Shame',\n",
       "  {'box office': '$39.8k',\n",
       "   'duration': 'P95M',\n",
       "   'genres': ['Comedy'],\n",
       "   'meter': '12%',\n",
       "   'rating': 'R',\n",
       "   'release': '2014-05-02',\n",
       "   'studio': 'Focus Features',\n",
       "   'title': u'Walk Of Shame'}),\n",
       " (u'The Rover',\n",
       "  {'box office': '$1.1M',\n",
       "   'duration': 'P103M',\n",
       "   'genres': ['Western'],\n",
       "   'meter': '65%',\n",
       "   'rating': 'R',\n",
       "   'release': '2014-06-13',\n",
       "   'studio': 'A24 Films',\n",
       "   'title': u'The Rover'})]"
      ]
     },
     "execution_count": 41,
     "metadata": {},
     "output_type": "execute_result"
    }
   ],
   "source": [
    "movies_dct.items()[:10]"
   ]
  },
  {
   "cell_type": "markdown",
   "metadata": {},
   "source": [
    "### MISC"
   ]
  },
  {
   "cell_type": "code",
   "execution_count": null,
   "metadata": {
    "collapsed": false
   },
   "outputs": [],
   "source": [
    "print soup2.prettify()"
   ]
  },
  {
   "cell_type": "code",
   "execution_count": null,
   "metadata": {
    "collapsed": false,
    "scrolled": true
   },
   "outputs": [],
   "source": [
    "soup2.find(class_ = \"meter-value\").text"
   ]
  },
  {
   "cell_type": "code",
   "execution_count": null,
   "metadata": {
    "collapsed": false
   },
   "outputs": [],
   "source": [
    "soup2.find(itemprop = \"name\")"
   ]
  },
  {
   "cell_type": "code",
   "execution_count": null,
   "metadata": {
    "collapsed": false,
    "scrolled": true
   },
   "outputs": [],
   "source": [
    "print soup2.find(class_ = \"info\").prettify()"
   ]
  },
  {
   "cell_type": "code",
   "execution_count": null,
   "metadata": {
    "collapsed": false
   },
   "outputs": [],
   "source": [
    "s = 'Inside 91 Llewyn Davis (2013)'\n",
    "re.sub(' \\([0-9]{4}\\)', '', s)"
   ]
  },
  {
   "cell_type": "code",
   "execution_count": null,
   "metadata": {
    "collapsed": true
   },
   "outputs": [],
   "source": []
  }
 ],
 "metadata": {
  "kernelspec": {
   "display_name": "Python 2",
   "language": "python",
   "name": "python2"
  },
  "language_info": {
   "codemirror_mode": {
    "name": "ipython",
    "version": 2
   },
   "file_extension": ".py",
   "mimetype": "text/x-python",
   "name": "python",
   "nbconvert_exporter": "python",
   "pygments_lexer": "ipython2",
   "version": "2.7.10"
  }
 },
 "nbformat": 4,
 "nbformat_minor": 0
}
