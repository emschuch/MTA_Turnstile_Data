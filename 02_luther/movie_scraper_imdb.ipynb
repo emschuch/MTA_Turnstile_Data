{
 "cells": [
  {
   "cell_type": "code",
   "execution_count": 2,
   "metadata": {
    "collapsed": true
   },
   "outputs": [],
   "source": [
    "import requests\n",
    "from bs4 import BeautifulSoup\n",
    "import re\n",
    "from time import sleep\n",
    "from __future__ import division\n",
    "import pickle\n",
    "import random"
   ]
  },
  {
   "cell_type": "markdown",
   "metadata": {},
   "source": [
    "### Get list of movies\n",
    "\n",
    "Find 300 top grossing movies per year for 2004 - 2014"
   ]
  },
  {
   "cell_type": "code",
   "execution_count": 15,
   "metadata": {
    "collapsed": false
   },
   "outputs": [],
   "source": [
    "url_base = 'http://www.imdb.com/search/title?at=0&sort=boxoffice_gross_us&start=' \n",
    "url_feat = '&title_type=feature&year='"
   ]
  },
  {
   "cell_type": "code",
   "execution_count": 151,
   "metadata": {
    "collapsed": true
   },
   "outputs": [],
   "source": [
    "titles = {}\n",
    "counts = [i for i in range(1,300,50)]"
   ]
  },
  {
   "cell_type": "code",
   "execution_count": 152,
   "metadata": {
    "collapsed": false
   },
   "outputs": [
    {
     "name": "stdout",
     "output_type": "stream",
     "text": [
      "Getting data 1 for 2000\n",
      "Getting data 51 for 2000\n",
      "Getting data 101 for 2000\n",
      "Getting data 151 for 2000\n",
      "Getting data 201 for 2000\n",
      "Getting data 251 for 2000\n"
     ]
    }
   ],
   "source": [
    "year = 2000\n",
    "\n",
    "for count in counts:\n",
    "    start = count\n",
    "    url = url_base + str(start) + url_feat + str(year)\n",
    "    print \"Getting data \" + str(start) + \" for \" + str(year)\n",
    "    response = requests.get(url)\n",
    "    page = response.text\n",
    "    soup = BeautifulSoup(page)\n",
    "\n",
    "    lst = soup.find_all(attrs={\"href\" : re.compile(\"/title/\")})\n",
    "    for link in lst:\n",
    "        if len(link.text) > 0 and link.text != 'X':\n",
    "            titles[link.attrs['href']] = link.text"
   ]
  },
  {
   "cell_type": "code",
   "execution_count": 153,
   "metadata": {
    "collapsed": false
   },
   "outputs": [
    {
     "data": {
      "text/plain": [
       "[u'102 Dalmatians',\n",
       " u'28 Days',\n",
       " u'3 Strikes',\n",
       " u'A Time for Drunken Horses',\n",
       " u'Aberdeen',\n",
       " u'About Adam',\n",
       " u'All the Pretty Horses',\n",
       " u'Almost Famous',\n",
       " u'American Psycho',\n",
       " u'Amores Perros',\n",
       " u'An Everlasting Piece',\n",
       " u'Autumn in New York',\n",
       " u'Bait',\n",
       " u'Bamboozled',\n",
       " u'Battlefield Earth',\n",
       " u'Beautiful',\n",
       " u'Beautiful Creatures',\n",
       " u'Bedazzled',\n",
       " u'Before Night Falls',\n",
       " u'Best in Show',\n",
       " u'Better Than Sex',\n",
       " u'Big Brother Trouble',\n",
       " u'Big Eden',\n",
       " u\"Big Momma's House\",\n",
       " u'Billy Elliot',\n",
       " u'Bless the Child',\n",
       " u'Blue Moon',\n",
       " u'Boiler Room',\n",
       " u'Bonhoeffer: Agent of Grace',\n",
       " u'Book of Shadows: Blair Witch 2',\n",
       " u\"Boricua's Bond\",\n",
       " u'Borstal Boy',\n",
       " u'Bossa Nova',\n",
       " u'Bounce',\n",
       " u'Boys Life 3',\n",
       " u'Boys and Girls',\n",
       " u'Bread and Roses',\n",
       " u'Bread and Tulips',\n",
       " u'Bring It On',\n",
       " u'Brother',\n",
       " u'Burnt Money',\n",
       " u'Call',\n",
       " u'Cast Away',\n",
       " u'Cecil B. DeMented',\n",
       " u'Center Stage',\n",
       " u'Chal Mere Bhai',\n",
       " u\"Charlie's Angels\",\n",
       " u'Chicken Run',\n",
       " u'Chocolat',\n",
       " u'Chopper',\n",
       " u'Chuck & Buck',\n",
       " u'Chunhyang',\n",
       " u'Company Man',\n",
       " u'Coyote Ugly',\n",
       " u'Crouching Tiger, Hidden Dragon',\n",
       " u'Dancer in the Dark',\n",
       " u'Deep in the Woods',\n",
       " u'Digimon: The Movie',\n",
       " u'Dinner Rush',\n",
       " u'Dinosaur',\n",
       " u'Divided We Fall',\n",
       " u'Down to You',\n",
       " u'Dr. T and the Women',\n",
       " u'Dracula 2000',\n",
       " u'Drowning Mona',\n",
       " u\"Dude, Where's My Car?\",\n",
       " u'Duets',\n",
       " u'Dungeons & Dragons',\n",
       " u'Erin Brockovich',\n",
       " u\"Everybody's Famous!\",\n",
       " u'Faithless',\n",
       " u'Fast Food Fast Women',\n",
       " u'Final Destination',\n",
       " u'Finding Forrester',\n",
       " u'Fiza',\n",
       " u'Frequency',\n",
       " u'George Washington',\n",
       " u'Get Carter',\n",
       " u'Girlfight',\n",
       " u\"Girls Can't Swim\",\n",
       " u'Gladiator',\n",
       " u\"God's Army\",\n",
       " u'Gone in Sixty Seconds',\n",
       " u'Gossip',\n",
       " u'Greedy Guts',\n",
       " u'Greenfingers',\n",
       " u'Groove',\n",
       " u'Gun Shy',\n",
       " u'Hadh Kar Di Aapne',\n",
       " u'Hamara Dil Aapke Paas Hai',\n",
       " u'Hamlet',\n",
       " u'Hanging Up',\n",
       " u'Happy Accidents',\n",
       " u'Happy Times',\n",
       " u'Har Dil Jo Pyar Karega...',\n",
       " u\"Harrison's Flowers\",\n",
       " u'Here on Earth',\n",
       " u'Hey Ram',\n",
       " u'High Fidelity',\n",
       " u'Highlander: Endgame',\n",
       " u'Hochelaga',\n",
       " u'Hollow Man',\n",
       " u'How the Grinch Stole Christmas',\n",
       " u'I Dreamed of Africa',\n",
       " u'In the Mood for Love',\n",
       " u'Innocence',\n",
       " u\"Isn't She Great\",\n",
       " u'Italian for Beginners',\n",
       " u\"Joe Gould's Secret\",\n",
       " u'Josh',\n",
       " u'Jungle',\n",
       " u'Kahin Pyaar Na Ho Jaaye',\n",
       " u'Keeping the Faith',\n",
       " u'Khauff',\n",
       " u'Kippur',\n",
       " u'Knockout',\n",
       " u\"La vie apr\\xe8s l'amour\",\n",
       " u'Last Resort',\n",
       " u'Les destin\\xe9es',\n",
       " u'Liam',\n",
       " u'Lisa Picard Is Famous',\n",
       " u'Little Nicky',\n",
       " u'Lockdown',\n",
       " u'Loser',\n",
       " u'Lost Souls',\n",
       " u'Love & Basketball',\n",
       " u'Love & Sex',\n",
       " u\"Love's Labour's Lost\",\n",
       " u'Lucky Numbers',\n",
       " u'Luminarias',\n",
       " u'Lumumba',\n",
       " u'MVP: Most Valuable Primate',\n",
       " u'Mad About Mambo',\n",
       " u'Mal\\xe8na',\n",
       " u'Me You Them',\n",
       " u'Me, Myself & Irene',\n",
       " u'Meet the Parents',\n",
       " u'Mela',\n",
       " u'Memento',\n",
       " u'Men of Honor',\n",
       " u'Merci pour le Chocolat',\n",
       " u'Mercy Streets',\n",
       " u'Miss Congeniality',\n",
       " u'Mission to Mars',\n",
       " u'Mission: Impossible II',\n",
       " u'Murderous Maids',\n",
       " u'My Dog Skip',\n",
       " u'Next Friday',\n",
       " u'Nico and Dani',\n",
       " u'Nine Queens',\n",
       " u'Nurse Betty',\n",
       " u'Nutty Professor II: The Klumps',\n",
       " u'O Brother, Where Art Thou?',\n",
       " u'O Fantasma',\n",
       " u'Once in the Life',\n",
       " u'One Week',\n",
       " u'Our Lady of the Assassins',\n",
       " u'Our Song',\n",
       " u'Paria',\n",
       " u'Passion of Mind',\n",
       " u'Pay It Forward',\n",
       " u'Phir Bhi Dil Hai Hindustani',\n",
       " u'Pitch Black',\n",
       " u'Pollock',\n",
       " u'Price of Glory',\n",
       " u'Proof of Life',\n",
       " u'Psycho Beach Party',\n",
       " u'Punks',\n",
       " u'Quills',\n",
       " u'Raju Chacha',\n",
       " u'Ready to Rumble',\n",
       " u'Red Planet',\n",
       " u'Refugee',\n",
       " u'Reindeer Games',\n",
       " u'Remember the Titans',\n",
       " u'Requiem for a Dream',\n",
       " u'Return to Me',\n",
       " u'Road Trip',\n",
       " u'Romeo Must Die',\n",
       " u'Rugrats in Paris: The Movie',\n",
       " u'Rules of Engagement',\n",
       " u'Sade',\n",
       " u'Saving Grace',\n",
       " u'Scary Movie',\n",
       " u'Scream 3',\n",
       " u'Screwed',\n",
       " u'Sexy Beast',\n",
       " u'Shadow Magic',\n",
       " u'Shadow of the Vampire',\n",
       " u'Shaft',\n",
       " u'Shanghai Noon',\n",
       " u'Small Time Crooks',\n",
       " u'Snatch.',\n",
       " u'Snow Day',\n",
       " u'Songcatcher',\n",
       " u'Sordid Lives',\n",
       " u'Space Cowboys',\n",
       " u'State and Main',\n",
       " u'Steal This Movie',\n",
       " u'Supernova',\n",
       " u'Suzhou River',\n",
       " u'Tadpole',\n",
       " u'Taliesin Jones',\n",
       " u'Taxi 2',\n",
       " u'Tears of the Black Tiger',\n",
       " u'The 6th Day',\n",
       " u'The Adventures of Felix',\n",
       " u'The Adventures of Rocky & Bullwinkle',\n",
       " u'The Art of War',\n",
       " u'The Beach',\n",
       " u'The Broken Hearts Club: A Romantic Comedy',\n",
       " u'The Cell',\n",
       " u'The Circle',\n",
       " u'The Claim',\n",
       " u'The Closer You Get',\n",
       " u'The Contender',\n",
       " u'The Crew',\n",
       " u'The Crimson Rivers',\n",
       " u'The Day I Became a Woman',\n",
       " u'The Debut',\n",
       " u'The Dish',\n",
       " u\"The Emperor's New Groove\",\n",
       " u'The Family Man',\n",
       " u'The Flintstones in Viva Rock Vegas',\n",
       " u'The Gift',\n",
       " u'The Golden Bowl',\n",
       " u'The House of Mirth',\n",
       " u'The In Crowd',\n",
       " u'The Independent',\n",
       " u'The Iron Ladies',\n",
       " u'The Kid',\n",
       " u'The King Is Alive',\n",
       " u'The Ladies Man',\n",
       " u'The Legend of Bagger Vance',\n",
       " u'The Legend of Rita',\n",
       " u'The Little Vampire',\n",
       " u'The Luzhin Defence',\n",
       " u'The Man Who Cried',\n",
       " u'The Million Dollar Hotel',\n",
       " u'The Next Best Thing',\n",
       " u'The Opportunists',\n",
       " u'The Patriot',\n",
       " u'The Perfect Storm',\n",
       " u'The Price of Milk',\n",
       " u'The Princess and the Warrior',\n",
       " u'The Replacements',\n",
       " u'The Road to El Dorado',\n",
       " u'The Skulls',\n",
       " u'The Tao of Steve',\n",
       " u'The Taste of Others',\n",
       " u'The Tigger Movie',\n",
       " u'The Vertical Ray of the Sun',\n",
       " u'The Visit',\n",
       " u'The Watcher',\n",
       " u'The Way of the Gun',\n",
       " u'The Weight of Water',\n",
       " u'The Whole Nine Yards',\n",
       " u'The Widow of Saint-Pierre',\n",
       " u'The Yards',\n",
       " u'The Young Unknowns',\n",
       " u'Thirteen Days',\n",
       " u'Thomas and the Magic Railroad',\n",
       " u'Tigerland',\n",
       " u'Time and Tide',\n",
       " u'Time of Favor',\n",
       " u'Timecode',\n",
       " u'Titan A.E.',\n",
       " u'Together',\n",
       " u'Traffic',\n",
       " u'Trixie',\n",
       " u'Trois',\n",
       " u'Tully',\n",
       " u'Turn It Up',\n",
       " u'Two Family House',\n",
       " u'U-571',\n",
       " u'Unbreakable',\n",
       " u'Under Suspicion',\n",
       " u'Under the Sand',\n",
       " u'Up at the Villa',\n",
       " u'Urban Legends: Final Cut',\n",
       " u'Urbania',\n",
       " u'Vengo',\n",
       " u'Vertical Limit',\n",
       " u'Waking the Dead',\n",
       " u'Water Drops on Burning Rocks',\n",
       " u'What Lies Beneath',\n",
       " u'What Planet Are You From?',\n",
       " u'What Women Want',\n",
       " u\"What's Cooking?\",\n",
       " u'Whatever It Takes',\n",
       " u'When Brendan Met Trudy',\n",
       " u'Where the Heart Is',\n",
       " u'Where the Money Is',\n",
       " u'Whipped',\n",
       " u'With a Friend Like Harry...',\n",
       " u'Woman on Top',\n",
       " u'Wonder Boys',\n",
       " u'X-Men',\n",
       " u'Yi Yi',\n",
       " u'You Can Count on Me']"
      ]
     },
     "execution_count": 153,
     "metadata": {},
     "output_type": "execute_result"
    }
   ],
   "source": [
    "sorted(titles.values())"
   ]
  },
  {
   "cell_type": "code",
   "execution_count": 154,
   "metadata": {
    "collapsed": false,
    "scrolled": true
   },
   "outputs": [
    {
     "data": {
      "text/plain": [
       "300"
      ]
     },
     "execution_count": 154,
     "metadata": {},
     "output_type": "execute_result"
    }
   ],
   "source": [
    "len(titles.items())"
   ]
  },
  {
   "cell_type": "code",
   "execution_count": 155,
   "metadata": {
    "collapsed": false
   },
   "outputs": [
    {
     "data": {
      "text/plain": [
       "4116"
      ]
     },
     "execution_count": 155,
     "metadata": {},
     "output_type": "execute_result"
    }
   ],
   "source": [
    "len(movies_dct.items())"
   ]
  },
  {
   "cell_type": "code",
   "execution_count": 21,
   "metadata": {
    "collapsed": true
   },
   "outputs": [],
   "source": [
    "# movies_dct = {}"
   ]
  },
  {
   "cell_type": "code",
   "execution_count": 26,
   "metadata": {
    "collapsed": false
   },
   "outputs": [],
   "source": [
    "def add_movie_to_data(soup2):\n",
    "    title = soup2.find(itemprop = \"name\").text\n",
    "    metacritic = str(soup2.find(attrs={\"href\" : re.compile(\"criticreviews?\")}).text.strip())\n",
    "    info = soup2.find(class_ = 'infobar')\n",
    "    meta = info.find_all('meta')\n",
    "    genres = []\n",
    "    genres2 = info.find_all(itemprop='genre')\n",
    "    for genre in genres2:\n",
    "        genres.append(str(genre.text))\n",
    "    \n",
    "    duration = info.find(itemprop='duration').attrs['datetime']\n",
    "#     budget = soup2.find(text=re.compile(\"Budget:\")).next.strip()\n",
    "    gross = soup2.find(text=re.compile(\"Gross:\")).next.strip()\n",
    "    opening = soup2.find(text=re.compile(\"Opening Weekend:\")).next.strip()\n",
    "    studio = soup2.find(attrs={\"href\" : re.compile(\"/company/\")}).text.strip()\n",
    "    try:\n",
    "        rating = info.find(itemprop='contentRating')['content']\n",
    "    except TypeError:\n",
    "        rating = 'Unknown'\n",
    "    \n",
    "    try:\n",
    "        release = meta[1].attrs['content']\n",
    "    except IndexError:\n",
    "        release = soup2.find(text=re.compile(\"Release Date:\")).next.strip()\n",
    "    \n",
    "    movies_dct[title] = {'title': title,\n",
    "                         'metacritic': metacritic,\n",
    "                         'rating': rating,\n",
    "                         'genres': genres,\n",
    "                         'release': release,\n",
    "                         'duration': duration,\n",
    "                         'studio': studio,\n",
    "#                          'budget': budget,\n",
    "                         'gross': gross,\n",
    "                         'opening': opening\n",
    "                        }\n",
    "    if len(movies_dct.items()) % 50 == 0:\n",
    "        with open('my_data_partial.pkl', 'w') as picklefile:\n",
    "            pickle.dump(movies_dct.items(), picklefile)\n",
    "            print \"dumped \" + str(len(movies_dct.items()))\n",
    "    return movies_dct"
   ]
  },
  {
   "cell_type": "code",
   "execution_count": 156,
   "metadata": {
    "collapsed": false
   },
   "outputs": [
    {
     "name": "stdout",
     "output_type": "stream",
     "text": [
      "dumped 4150\n",
      "Raju Chacha did not load\n",
      "Chal Mere Bhai did not load\n",
      "dumped 4200\n",
      "Refugee did not load\n",
      "dumped 4250\n",
      "One Week did not load\n",
      "Phir Bhi Dil Hai Hindustani did not load\n",
      "Khauff did not load\n",
      "dumped 4300\n",
      "dumped 4350\n",
      "dumped 4350\n",
      "Kahin Pyaar Na Ho Jaaye did not load\n",
      "Hadh Kar Di Aapne did not load\n",
      "Mela did not load\n",
      "dumped 4400\n"
     ]
    }
   ],
   "source": [
    "for href, title in titles.items():\n",
    "    url_page = 'http://www.imdb.com/' + href\n",
    "\n",
    "    try:\n",
    "        response2 = requests.get(url_page)\n",
    "        page2 = response2.text\n",
    "        soup2 = BeautifulSoup(page2)\n",
    "        add_movie_to_data(soup2)\n",
    "        sleep(0.8)\n",
    "\n",
    "    except AttributeError:\n",
    "        print title + ' did not load'\n",
    "        sleep(0.7)"
   ]
  },
  {
   "cell_type": "code",
   "execution_count": 157,
   "metadata": {
    "collapsed": false
   },
   "outputs": [
    {
     "data": {
      "text/plain": [
       "4406"
      ]
     },
     "execution_count": 157,
     "metadata": {},
     "output_type": "execute_result"
    }
   ],
   "source": [
    "len(movies_dct.items())"
   ]
  },
  {
   "cell_type": "code",
   "execution_count": 158,
   "metadata": {
    "collapsed": false
   },
   "outputs": [
    {
     "data": {
      "text/plain": [
       "0.9666666666666667"
      ]
     },
     "execution_count": 158,
     "metadata": {},
     "output_type": "execute_result"
    }
   ],
   "source": [
    "(len(movies_dct.items())-4116)/len(titles.items())"
   ]
  },
  {
   "cell_type": "code",
   "execution_count": 40,
   "metadata": {
    "collapsed": false
   },
   "outputs": [],
   "source": [
    "# movies_dct.items()[:20]"
   ]
  },
  {
   "cell_type": "code",
   "execution_count": 159,
   "metadata": {
    "collapsed": false,
    "scrolled": true
   },
   "outputs": [],
   "source": [
    "with open('my_data_2000_2014.pkl', 'w') as picklefile:\n",
    "    pickle.dump(movies_dct.items(), picklefile)"
   ]
  },
  {
   "cell_type": "code",
   "execution_count": 168,
   "metadata": {
    "collapsed": false
   },
   "outputs": [
    {
     "name": "stdout",
     "output_type": "stream",
     "text": [
      "316\n"
     ]
    }
   ],
   "source": [
    "count = 0\n",
    "for i in range(len(movies_dct.items())):\n",
    "    if (movies_dct.items()[i][1]['metacritic'] == 'Metacritic Reviews'):\n",
    "        count += 1\n",
    "        \n",
    "print count"
   ]
  },
  {
   "cell_type": "code",
   "execution_count": 169,
   "metadata": {
    "collapsed": false
   },
   "outputs": [
    {
     "data": {
      "text/plain": [
       "0.07172038129822969"
      ]
     },
     "execution_count": 169,
     "metadata": {},
     "output_type": "execute_result"
    }
   ],
   "source": [
    "count / len(movies_dct.items())"
   ]
  },
  {
   "cell_type": "markdown",
   "metadata": {},
   "source": [
    "### MISC JUNK"
   ]
  },
  {
   "cell_type": "code",
   "execution_count": 9,
   "metadata": {
    "collapsed": false
   },
   "outputs": [],
   "source": [
    "url_page = 'http://www.imdb.com/title/tt3890264/'\n",
    "\n",
    "response2 = requests.get(url_page)\n",
    "page2 = response2.text\n",
    "soup2 = BeautifulSoup(page2)"
   ]
  },
  {
   "cell_type": "code",
   "execution_count": null,
   "metadata": {
    "collapsed": true
   },
   "outputs": [],
   "source": [
    "#soup2.prettify()"
   ]
  },
  {
   "cell_type": "code",
   "execution_count": 10,
   "metadata": {
    "collapsed": false
   },
   "outputs": [
    {
     "data": {
      "text/plain": [
       "u'Xin hua lu fang'"
      ]
     },
     "execution_count": 10,
     "metadata": {},
     "output_type": "execute_result"
    }
   ],
   "source": [
    "soup2.find(itemprop = \"name\").text"
   ]
  },
  {
   "cell_type": "code",
   "execution_count": 11,
   "metadata": {
    "collapsed": false
   },
   "outputs": [
    {
     "data": {
      "text/plain": [
       "'Metacritic Reviews'"
      ]
     },
     "execution_count": 11,
     "metadata": {},
     "output_type": "execute_result"
    }
   ],
   "source": [
    "str(soup2.find(attrs={\"href\" : re.compile(\"criticreviews?\")}).text.strip())"
   ]
  },
  {
   "cell_type": "code",
   "execution_count": 12,
   "metadata": {
    "collapsed": true
   },
   "outputs": [],
   "source": [
    "info = soup2.find(class_ = 'infobar')"
   ]
  },
  {
   "cell_type": "code",
   "execution_count": 13,
   "metadata": {
    "collapsed": false
   },
   "outputs": [
    {
     "data": {
      "text/plain": [
       "15"
      ]
     },
     "execution_count": 13,
     "metadata": {},
     "output_type": "execute_result"
    }
   ],
   "source": [
    "len(info)"
   ]
  },
  {
   "cell_type": "code",
   "execution_count": 14,
   "metadata": {
    "collapsed": false
   },
   "outputs": [
    {
     "ename": "TypeError",
     "evalue": "'NoneType' object has no attribute '__getitem__'",
     "output_type": "error",
     "traceback": [
      "\u001b[0;31m---------------------------------------------------------------------------\u001b[0m",
      "\u001b[0;31mTypeError\u001b[0m                                 Traceback (most recent call last)",
      "\u001b[0;32m<ipython-input-14-8153fd539164>\u001b[0m in \u001b[0;36m<module>\u001b[0;34m()\u001b[0m\n\u001b[0;32m----> 1\u001b[0;31m \u001b[0minfo\u001b[0m\u001b[0;34m.\u001b[0m\u001b[0mfind\u001b[0m\u001b[0;34m(\u001b[0m\u001b[0mitemprop\u001b[0m\u001b[0;34m=\u001b[0m\u001b[0;34m'contentRating'\u001b[0m\u001b[0;34m)\u001b[0m\u001b[0;34m[\u001b[0m\u001b[0;34m'content'\u001b[0m\u001b[0;34m]\u001b[0m\u001b[0;34m\u001b[0m\u001b[0m\n\u001b[0m",
      "\u001b[0;31mTypeError\u001b[0m: 'NoneType' object has no attribute '__getitem__'"
     ]
    }
   ],
   "source": [
    "info.find(itemprop='contentRating')['content']"
   ]
  },
  {
   "cell_type": "code",
   "execution_count": null,
   "metadata": {
    "collapsed": false
   },
   "outputs": [],
   "source": [
    "meta = info.find_all('meta')"
   ]
  },
  {
   "cell_type": "code",
   "execution_count": null,
   "metadata": {
    "collapsed": false
   },
   "outputs": [],
   "source": [
    "meta"
   ]
  },
  {
   "cell_type": "code",
   "execution_count": null,
   "metadata": {
    "collapsed": false
   },
   "outputs": [],
   "source": [
    "info.find(itemprop='duration').attrs['datetime']"
   ]
  },
  {
   "cell_type": "code",
   "execution_count": null,
   "metadata": {
    "collapsed": false
   },
   "outputs": [],
   "source": [
    "str(soup2.find(text=re.compile(\"Opening Weekend:\")).next.strip())"
   ]
  },
  {
   "cell_type": "code",
   "execution_count": null,
   "metadata": {
    "collapsed": false
   },
   "outputs": [],
   "source": [
    "str(soup2.find(attrs={\"href\" : re.compile(\"/company/\")}).text.strip())"
   ]
  },
  {
   "cell_type": "code",
   "execution_count": null,
   "metadata": {
    "collapsed": false
   },
   "outputs": [],
   "source": [
    "str(soup2.find(text=re.compile(\"Release Date:\")).next.strip())"
   ]
  },
  {
   "cell_type": "code",
   "execution_count": null,
   "metadata": {
    "collapsed": false
   },
   "outputs": [],
   "source": [
    "add_movie_to_data(soup2)\n",
    "movies_dct"
   ]
  },
  {
   "cell_type": "code",
   "execution_count": null,
   "metadata": {
    "collapsed": true
   },
   "outputs": [],
   "source": []
  }
 ],
 "metadata": {
  "kernelspec": {
   "display_name": "Python 2",
   "language": "python",
   "name": "python2"
  },
  "language_info": {
   "codemirror_mode": {
    "name": "ipython",
    "version": 2
   },
   "file_extension": ".py",
   "mimetype": "text/x-python",
   "name": "python",
   "nbconvert_exporter": "python",
   "pygments_lexer": "ipython2",
   "version": "2.7.10"
  }
 },
 "nbformat": 4,
 "nbformat_minor": 0
}
