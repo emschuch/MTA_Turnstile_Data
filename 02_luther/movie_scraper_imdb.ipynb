{
 "cells": [
  {
   "cell_type": "code",
   "execution_count": 1,
   "metadata": {
    "collapsed": true
   },
   "outputs": [],
   "source": [
    "import requests\n",
    "from bs4 import BeautifulSoup\n",
    "import re\n",
    "from time import sleep\n",
    "from __future__ import division\n",
    "import pickle\n",
    "import random"
   ]
  },
  {
   "cell_type": "markdown",
   "metadata": {},
   "source": [
    "### Get list of movies\n",
    "\n",
    "Find 300 top grossing movies per year for 2004 - 2014"
   ]
  },
  {
   "cell_type": "code",
   "execution_count": 2,
   "metadata": {
    "collapsed": false
   },
   "outputs": [],
   "source": [
    "url_base = 'http://www.imdb.com/search/title?at=0&sort=boxoffice_gross_us&start=' \n",
    "url_feat = '&title_type=feature&year='"
   ]
  },
  {
   "cell_type": "code",
   "execution_count": 136,
   "metadata": {
    "collapsed": true
   },
   "outputs": [],
   "source": [
    "titles = {}\n",
    "counts = [i for i in range(1,300,50)]"
   ]
  },
  {
   "cell_type": "code",
   "execution_count": 137,
   "metadata": {
    "collapsed": false
   },
   "outputs": [
    {
     "name": "stdout",
     "output_type": "stream",
     "text": [
      "Getting data 1 for 2005\n",
      "Getting data 51 for 2005\n",
      "Getting data 101 for 2005\n",
      "Getting data 151 for 2005\n",
      "Getting data 201 for 2005\n",
      "Getting data 251 for 2005\n"
     ]
    }
   ],
   "source": [
    "year = 2005\n",
    "\n",
    "for count in counts:\n",
    "    start = count\n",
    "    url = url_base + str(start) + url_feat + str(year)\n",
    "    print \"Getting data \" + str(start) + \" for \" + str(year)\n",
    "    response = requests.get(url)\n",
    "    page = response.text\n",
    "    soup = BeautifulSoup(page)\n",
    "\n",
    "    lst = soup.find_all(attrs={\"href\" : re.compile(\"/title/\")})\n",
    "    for link in lst:\n",
    "        if len(link.text) > 0 and link.text != 'X':\n",
    "            titles[link.attrs['href']] = link.text"
   ]
  },
  {
   "cell_type": "code",
   "execution_count": 138,
   "metadata": {
    "collapsed": false
   },
   "outputs": [
    {
     "data": {
      "text/plain": [
       "[u'12 and Holding',\n",
       " u'13 Tzameti',\n",
       " u'A History of Violence',\n",
       " u'A Lot Like Love',\n",
       " u'A Sound of Thunder',\n",
       " u'Adam & Steve',\n",
       " u'Alone in the Dark',\n",
       " u'An American Haunting',\n",
       " u'An Unfinished Life',\n",
       " u'Angel-A']"
      ]
     },
     "execution_count": 138,
     "metadata": {},
     "output_type": "execute_result"
    }
   ],
   "source": [
    "sorted(titles.values())[:10]"
   ]
  },
  {
   "cell_type": "code",
   "execution_count": 139,
   "metadata": {
    "collapsed": false,
    "scrolled": true
   },
   "outputs": [
    {
     "data": {
      "text/plain": [
       "300"
      ]
     },
     "execution_count": 139,
     "metadata": {},
     "output_type": "execute_result"
    }
   ],
   "source": [
    "len(titles.items())"
   ]
  },
  {
   "cell_type": "code",
   "execution_count": 140,
   "metadata": {
    "collapsed": false
   },
   "outputs": [
    {
     "data": {
      "text/plain": [
       "2644"
      ]
     },
     "execution_count": 140,
     "metadata": {},
     "output_type": "execute_result"
    }
   ],
   "source": [
    "len(movies_dct.items())"
   ]
  },
  {
   "cell_type": "code",
   "execution_count": 60,
   "metadata": {
    "collapsed": true
   },
   "outputs": [],
   "source": [
    "# movies_dct = {}"
   ]
  },
  {
   "cell_type": "code",
   "execution_count": 71,
   "metadata": {
    "collapsed": false
   },
   "outputs": [],
   "source": [
    "def add_movie_to_data(soup2, href):\n",
    "    title = soup2.find(itemprop = \"name\").text\n",
    "    metacritic = str(soup2.find(attrs={\"href\" : re.compile(\"criticreviews?\")}).text.strip())\n",
    "    info = soup2.find(class_ = 'infobar')\n",
    "    meta = info.find_all('meta')\n",
    "    \n",
    "    genres = []\n",
    "    genres2 = info.find_all(itemprop='genre')\n",
    "    for genre in genres2:\n",
    "        genres.append(str(genre.text))\n",
    "    duration = info.find(itemprop='duration').attrs['datetime']\n",
    "    opening = soup2.find(text=re.compile(\"Opening Weekend:\")).next.strip()\n",
    "    studio = soup2.find(attrs={\"href\" : re.compile(\"/company/\")}).text.strip()\n",
    "    \n",
    "    try:\n",
    "        rating = info.find(itemprop='contentRating')['content']\n",
    "    except TypeError:\n",
    "        rating = 'UNKNOWN'\n",
    "    \n",
    "    try:\n",
    "        release = info.find(itemprop='datePublished')['content']\n",
    "    except TypeError:\n",
    "        release = 0\n",
    "    \n",
    "    # get correct gross\n",
    "    url_bus = url_page + 'business?ref_=tt_dt_bus'\n",
    "    response3 = requests.get(url_bus)\n",
    "    page3 = response3.text\n",
    "    soup3 = BeautifulSoup(page3)\n",
    "    \n",
    "    try:\n",
    "        gross = soup3.find(text=re.compile(\"Gross\")).next.strip().split()[0]\n",
    "    except AttributeError:\n",
    "        gross = soup2.find(text=re.compile(\"Gross:\")).next.strip()\n",
    "    \n",
    "    movies_dct[href] = {'title': title,\n",
    "                         'metacritic': metacritic,\n",
    "                         'rating': rating,\n",
    "                         'genres': genres,\n",
    "                         'release': release,\n",
    "                         'duration': duration,\n",
    "                         'studio': studio,\n",
    "                         'gross': gross,\n",
    "                         'opening': opening\n",
    "                        }\n",
    "    if len(movies_dct.items()) % 50 == 0:\n",
    "        with open('my_data_partial.pkl', 'w') as picklefile:\n",
    "            pickle.dump(movies_dct.items(), picklefile)\n",
    "            print \"dumped \" + str(len(movies_dct.items()))\n",
    "    return movies_dct"
   ]
  },
  {
   "cell_type": "code",
   "execution_count": 133,
   "metadata": {
    "collapsed": false
   },
   "outputs": [
    {
     "name": "stdout",
     "output_type": "stream",
     "text": [
      "dumped 2350\n",
      "Believe in Me did not load\n",
      "dumped 2400\n",
      "The Work and the Glory III: A House Divided did not load\n",
      "Fanaa did not load\n",
      "Humko Deewana Kar Gaye did not load\n",
      "dumped 2450\n",
      "dumped 2500\n",
      "dumped 2550\n",
      "dumped 2600\n",
      "Shaadi Karke Phas Gaya Yaar did not load\n"
     ]
    }
   ],
   "source": [
    "for href, title in titles.items():\n",
    "    url_page = 'http://www.imdb.com/' + href\n",
    "\n",
    "    try:\n",
    "        response2 = requests.get(url_page)\n",
    "        page2 = response2.text\n",
    "        soup2 = BeautifulSoup(page2)\n",
    "        add_movie_to_data(soup2, href)\n",
    "        sleep(0.8)\n",
    "\n",
    "    except AttributeError:\n",
    "        print title + ' did not load'\n",
    "        sleep(0.7)"
   ]
  },
  {
   "cell_type": "code",
   "execution_count": 134,
   "metadata": {
    "collapsed": false
   },
   "outputs": [
    {
     "data": {
      "text/plain": [
       "2644"
      ]
     },
     "execution_count": 134,
     "metadata": {},
     "output_type": "execute_result"
    }
   ],
   "source": [
    "len(movies_dct.items())"
   ]
  },
  {
   "cell_type": "code",
   "execution_count": 135,
   "metadata": {
    "collapsed": false
   },
   "outputs": [
    {
     "data": {
      "text/plain": [
       "0.9833333333333333"
      ]
     },
     "execution_count": 135,
     "metadata": {},
     "output_type": "execute_result"
    }
   ],
   "source": [
    "(len(movies_dct.items())-2349)/len(titles.items())"
   ]
  },
  {
   "cell_type": "code",
   "execution_count": 124,
   "metadata": {
    "collapsed": false
   },
   "outputs": [
    {
     "data": {
      "text/plain": [
       "[('/title/tt1433905/',\n",
       "  {'duration': 'PT144M',\n",
       "   'genres': ['Action', 'Comedy', 'Drama'],\n",
       "   'gross': u'$96,054',\n",
       "   'metacritic': 'Metacritic Reviews',\n",
       "   'opening': u'$96,054        \\n\\n      (USA)',\n",
       "   'rating': 'UNKNOWN',\n",
       "   'release': '2009-10-16',\n",
       "   'studio': u'Cinema Capital',\n",
       "   'title': u'All the Best: Fun Begins'}),\n",
       " ('/title/tt2191701/',\n",
       "  {'duration': 'PT101M',\n",
       "   'genres': ['Comedy'],\n",
       "   'gross': u'$133,471,453',\n",
       "   'metacritic': '19/100',\n",
       "   'opening': u'$41,508,572        \\n\\n      (USA)',\n",
       "   'rating': 'PG-13',\n",
       "   'release': '2013-07-12',\n",
       "   'studio': u'Columbia Pictures',\n",
       "   'title': u'Grown Ups 2'}),\n",
       " ('/title/tt1735898/',\n",
       "  {'duration': 'PT127M',\n",
       "   'genres': ['Action', 'Adventure', 'Drama'],\n",
       "   'gross': u'$155,136,755',\n",
       "   'metacritic': '57/100',\n",
       "   'opening': u'$56,217,700        \\n\\n      (USA)',\n",
       "   'rating': 'PG-13',\n",
       "   'release': '2012-06-01',\n",
       "   'studio': u'Roth Films',\n",
       "   'title': u'Snow White and the Huntsman'}),\n",
       " ('/title/tt2737050/',\n",
       "  {'duration': 'PT95M',\n",
       "   'genres': ['Drama'],\n",
       "   'gross': u'$1,333,900',\n",
       "   'metacritic': '89/100',\n",
       "   'opening': u'$31,000        \\n\\n      (USA)',\n",
       "   'rating': 'PG-13',\n",
       "   'release': '2014-05-21',\n",
       "   'studio': u'Les Films du Fleuve',\n",
       "   'title': u'Deux jours, une nuit'})]"
      ]
     },
     "execution_count": 124,
     "metadata": {},
     "output_type": "execute_result"
    }
   ],
   "source": [
    "movies_dct.items()[:4]"
   ]
  },
  {
   "cell_type": "code",
   "execution_count": 159,
   "metadata": {
    "collapsed": false,
    "scrolled": true
   },
   "outputs": [],
   "source": [
    "with open('my_data_2000_2014.pkl', 'w') as picklefile:\n",
    "    pickle.dump(movies_dct.items(), picklefile)"
   ]
  },
  {
   "cell_type": "code",
   "execution_count": 168,
   "metadata": {
    "collapsed": false
   },
   "outputs": [
    {
     "name": "stdout",
     "output_type": "stream",
     "text": [
      "316\n"
     ]
    }
   ],
   "source": [
    "count = 0\n",
    "for i in range(len(movies_dct.items())):\n",
    "    if (movies_dct.items()[i][1]['metacritic'] == 'Metacritic Reviews'):\n",
    "        count += 1\n",
    "        \n",
    "print count"
   ]
  },
  {
   "cell_type": "code",
   "execution_count": 169,
   "metadata": {
    "collapsed": false
   },
   "outputs": [
    {
     "data": {
      "text/plain": [
       "0.07172038129822969"
      ]
     },
     "execution_count": 169,
     "metadata": {},
     "output_type": "execute_result"
    }
   ],
   "source": [
    "count / len(movies_dct.items())"
   ]
  },
  {
   "cell_type": "markdown",
   "metadata": {},
   "source": [
    "### MISC JUNK"
   ]
  },
  {
   "cell_type": "code",
   "execution_count": 44,
   "metadata": {
    "collapsed": false
   },
   "outputs": [],
   "source": [
    "url_page = 'http://www.imdb.com/title/tt3093546/'\n",
    "\n",
    "response2 = requests.get(url_page)\n",
    "page2 = response2.text\n",
    "soup2 = BeautifulSoup(page2)"
   ]
  },
  {
   "cell_type": "code",
   "execution_count": null,
   "metadata": {
    "collapsed": true
   },
   "outputs": [],
   "source": [
    "#soup2.prettify()"
   ]
  },
  {
   "cell_type": "code",
   "execution_count": 45,
   "metadata": {
    "collapsed": false
   },
   "outputs": [
    {
     "data": {
      "text/plain": [
       "u'Listen Up Philip'"
      ]
     },
     "execution_count": 45,
     "metadata": {},
     "output_type": "execute_result"
    }
   ],
   "source": [
    "soup2.find(itemprop = \"name\").text"
   ]
  },
  {
   "cell_type": "code",
   "execution_count": 46,
   "metadata": {
    "collapsed": false
   },
   "outputs": [
    {
     "data": {
      "text/plain": [
       "'76/100'"
      ]
     },
     "execution_count": 46,
     "metadata": {},
     "output_type": "execute_result"
    }
   ],
   "source": [
    "str(soup2.find(attrs={\"href\" : re.compile(\"criticreviews?\")}).text.strip())"
   ]
  },
  {
   "cell_type": "code",
   "execution_count": 47,
   "metadata": {
    "collapsed": true
   },
   "outputs": [],
   "source": [
    "info = soup2.find(class_ = 'infobar')"
   ]
  },
  {
   "cell_type": "code",
   "execution_count": 48,
   "metadata": {
    "collapsed": false
   },
   "outputs": [
    {
     "data": {
      "text/plain": [
       "13"
      ]
     },
     "execution_count": 48,
     "metadata": {},
     "output_type": "execute_result"
    }
   ],
   "source": [
    "len(info)"
   ]
  },
  {
   "cell_type": "code",
   "execution_count": 49,
   "metadata": {
    "collapsed": false
   },
   "outputs": [
    {
     "ename": "TypeError",
     "evalue": "'NoneType' object has no attribute '__getitem__'",
     "output_type": "error",
     "traceback": [
      "\u001b[0;31m---------------------------------------------------------------------------\u001b[0m",
      "\u001b[0;31mTypeError\u001b[0m                                 Traceback (most recent call last)",
      "\u001b[0;32m<ipython-input-49-8153fd539164>\u001b[0m in \u001b[0;36m<module>\u001b[0;34m()\u001b[0m\n\u001b[0;32m----> 1\u001b[0;31m \u001b[0minfo\u001b[0m\u001b[0;34m.\u001b[0m\u001b[0mfind\u001b[0m\u001b[0;34m(\u001b[0m\u001b[0mitemprop\u001b[0m\u001b[0;34m=\u001b[0m\u001b[0;34m'contentRating'\u001b[0m\u001b[0;34m)\u001b[0m\u001b[0;34m[\u001b[0m\u001b[0;34m'content'\u001b[0m\u001b[0;34m]\u001b[0m\u001b[0;34m\u001b[0m\u001b[0m\n\u001b[0m",
      "\u001b[0;31mTypeError\u001b[0m: 'NoneType' object has no attribute '__getitem__'"
     ]
    }
   ],
   "source": [
    "info.find(itemprop='contentRating')['content']"
   ]
  },
  {
   "cell_type": "code",
   "execution_count": 50,
   "metadata": {
    "collapsed": false
   },
   "outputs": [],
   "source": [
    "meta = info.find_all('meta')"
   ]
  },
  {
   "cell_type": "code",
   "execution_count": 51,
   "metadata": {
    "collapsed": false
   },
   "outputs": [
    {
     "data": {
      "text/plain": [
       "[<meta content=\"2014-10-21\" itemprop=\"datePublished\"/>]"
      ]
     },
     "execution_count": 51,
     "metadata": {},
     "output_type": "execute_result"
    }
   ],
   "source": [
    "meta"
   ]
  },
  {
   "cell_type": "code",
   "execution_count": 52,
   "metadata": {
    "collapsed": false
   },
   "outputs": [
    {
     "data": {
      "text/plain": [
       "'PT108M'"
      ]
     },
     "execution_count": 52,
     "metadata": {},
     "output_type": "execute_result"
    }
   ],
   "source": [
    "info.find(itemprop='duration').attrs['datetime']"
   ]
  },
  {
   "cell_type": "code",
   "execution_count": 53,
   "metadata": {
    "collapsed": false
   },
   "outputs": [
    {
     "data": {
      "text/plain": [
       "'$23,284        \\n\\n      (USA)'"
      ]
     },
     "execution_count": 53,
     "metadata": {},
     "output_type": "execute_result"
    }
   ],
   "source": [
    "str(soup2.find(text=re.compile(\"Opening Weekend:\")).next.strip())"
   ]
  },
  {
   "cell_type": "code",
   "execution_count": 54,
   "metadata": {
    "collapsed": false
   },
   "outputs": [
    {
     "data": {
      "text/plain": [
       "'Sailor Bear'"
      ]
     },
     "execution_count": 54,
     "metadata": {},
     "output_type": "execute_result"
    }
   ],
   "source": [
    "str(soup2.find(attrs={\"href\" : re.compile(\"/company/\")}).text.strip())"
   ]
  },
  {
   "cell_type": "code",
   "execution_count": 55,
   "metadata": {
    "collapsed": false
   },
   "outputs": [
    {
     "data": {
      "text/plain": [
       "'21 October 2014 (USA)'"
      ]
     },
     "execution_count": 55,
     "metadata": {},
     "output_type": "execute_result"
    }
   ],
   "source": [
    "str(soup2.find(text=re.compile(\"Release Date:\")).next.strip())"
   ]
  },
  {
   "cell_type": "code",
   "execution_count": 56,
   "metadata": {
    "collapsed": false
   },
   "outputs": [],
   "source": [
    "url_bus = url_page + 'business?ref_=tt_dt_bus'\n",
    "response3 = requests.get(url_bus)\n",
    "page3 = response3.text\n",
    "soup3 = BeautifulSoup(page3)"
   ]
  },
  {
   "cell_type": "code",
   "execution_count": 57,
   "metadata": {
    "collapsed": false
   },
   "outputs": [
    {
     "data": {
      "text/plain": [
       "'http://www.imdb.com/title/tt3093546/business?ref_=tt_dt_bus'"
      ]
     },
     "execution_count": 57,
     "metadata": {},
     "output_type": "execute_result"
    }
   ],
   "source": [
    "url_bus"
   ]
  },
  {
   "cell_type": "code",
   "execution_count": 58,
   "metadata": {
    "collapsed": false,
    "scrolled": true
   },
   "outputs": [
    {
     "ename": "AttributeError",
     "evalue": "'NoneType' object has no attribute 'next'",
     "output_type": "error",
     "traceback": [
      "\u001b[0;31m---------------------------------------------------------------------------\u001b[0m",
      "\u001b[0;31mAttributeError\u001b[0m                            Traceback (most recent call last)",
      "\u001b[0;32m<ipython-input-58-0e8f113018f6>\u001b[0m in \u001b[0;36m<module>\u001b[0;34m()\u001b[0m\n\u001b[0;32m----> 1\u001b[0;31m \u001b[0msoup3\u001b[0m\u001b[0;34m.\u001b[0m\u001b[0mfind\u001b[0m\u001b[0;34m(\u001b[0m\u001b[0mtext\u001b[0m\u001b[0;34m=\u001b[0m\u001b[0mre\u001b[0m\u001b[0;34m.\u001b[0m\u001b[0mcompile\u001b[0m\u001b[0;34m(\u001b[0m\u001b[0;34m\"Gross\"\u001b[0m\u001b[0;34m)\u001b[0m\u001b[0;34m)\u001b[0m\u001b[0;34m.\u001b[0m\u001b[0mnext\u001b[0m\u001b[0;34m.\u001b[0m\u001b[0mstrip\u001b[0m\u001b[0;34m(\u001b[0m\u001b[0;34m)\u001b[0m\u001b[0;34m.\u001b[0m\u001b[0msplit\u001b[0m\u001b[0;34m(\u001b[0m\u001b[0;34m)\u001b[0m\u001b[0;34m[\u001b[0m\u001b[0;36m0\u001b[0m\u001b[0;34m]\u001b[0m\u001b[0;34m\u001b[0m\u001b[0m\n\u001b[0m",
      "\u001b[0;31mAttributeError\u001b[0m: 'NoneType' object has no attribute 'next'"
     ]
    }
   ],
   "source": [
    "soup3.find(text=re.compile(\"Gross\")).next.strip().split()[0]"
   ]
  },
  {
   "cell_type": "code",
   "execution_count": null,
   "metadata": {
    "collapsed": true
   },
   "outputs": [],
   "source": []
  }
 ],
 "metadata": {
  "kernelspec": {
   "display_name": "Python 2",
   "language": "python",
   "name": "python2"
  },
  "language_info": {
   "codemirror_mode": {
    "name": "ipython",
    "version": 2
   },
   "file_extension": ".py",
   "mimetype": "text/x-python",
   "name": "python",
   "nbconvert_exporter": "python",
   "pygments_lexer": "ipython2",
   "version": "2.7.10"
  }
 },
 "nbformat": 4,
 "nbformat_minor": 0
}
