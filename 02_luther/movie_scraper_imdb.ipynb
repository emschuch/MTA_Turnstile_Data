{
 "cells": [
  {
   "cell_type": "code",
   "execution_count": 87,
   "metadata": {
    "collapsed": true
   },
   "outputs": [],
   "source": [
    "import requests\n",
    "from bs4 import BeautifulSoup\n",
    "import re\n",
    "from time import sleep\n",
    "from __future__ import division"
   ]
  },
  {
   "cell_type": "markdown",
   "metadata": {},
   "source": [
    "### Get list of movies\n",
    "\n",
    "Find 300 top grossing movies per year for 2004 - 2014"
   ]
  },
  {
   "cell_type": "code",
   "execution_count": 88,
   "metadata": {
    "collapsed": false
   },
   "outputs": [],
   "source": [
    "url_base = 'http://www.imdb.com/search/title?at=0&sort=boxoffice_gross_us&start=' \n",
    "url_feat = '&title_type=feature&year='"
   ]
  },
  {
   "cell_type": "code",
   "execution_count": 91,
   "metadata": {
    "collapsed": true
   },
   "outputs": [],
   "source": [
    "titles = {}\n",
    "counts = [i for i in range(1,300,50)]"
   ]
  },
  {
   "cell_type": "code",
   "execution_count": 92,
   "metadata": {
    "collapsed": false
   },
   "outputs": [
    {
     "name": "stdout",
     "output_type": "stream",
     "text": [
      "Getting data 1 for 2014\n"
     ]
    }
   ],
   "source": [
    "year = 2014\n",
    "\n",
    "for count in counts:\n",
    "    start = count\n",
    "    url = url_base + str(start) + url_feat + str(year)\n",
    "    print \"Getting data \" + str(start) + \" for \" + str(year)\n",
    "    response = requests.get(url)\n",
    "    page = response.text\n",
    "    soup = BeautifulSoup(page)\n",
    "\n",
    "    lst = soup.find_all(attrs={\"href\" : re.compile(\"/title/\")})\n",
    "    for link in lst:\n",
    "        if len(link.text) > 0 and link.text != 'X':\n",
    "            titles[link.text] = link.attrs"
   ]
  },
  {
   "cell_type": "code",
   "execution_count": 100,
   "metadata": {
    "collapsed": true
   },
   "outputs": [],
   "source": [
    "movies_dct = {}"
   ]
  },
  {
   "cell_type": "code",
   "execution_count": 99,
   "metadata": {
    "collapsed": false
   },
   "outputs": [],
   "source": [
    "def add_movie_to_data(soup2):\n",
    "    title = soup2.find(itemprop = \"name\").text\n",
    "    metacritic = str(soup2.find(attrs={\"href\" : re.compile(\"criticreviews?\")}).text.strip())\n",
    "    info = soup2.find(class_ = 'infobar')\n",
    "    meta = info.find_all('meta')\n",
    "    rating = meta[0].attrs['content']\n",
    "    genres = []\n",
    "    genres2 = info.find_all(itemprop='genre')\n",
    "    for genre in genres2:\n",
    "        genres.append(str(genre.text))\n",
    "    release = meta[1].attrs['content']\n",
    "    duration = info.find(itemprop='duration').attrs['datetime']\n",
    "    budget = str(soup2.find(text=re.compile(\"Budget:\")).next.strip())\n",
    "    gross = str(soup2.find(text=re.compile(\"Gross:\")).next.strip())\n",
    "    opening = str(soup2.find(text=re.compile(\"Opening Weekend:\")).next.strip())\n",
    "    studio = str(soup2.find(attrs={\"href\" : re.compile(\"/company/\")}).text.strip())\n",
    "    \n",
    "    movies_dct[title] = {'title': title,\n",
    "                         'metacritic': metacritic,\n",
    "                         'rating': rating,\n",
    "                         'genres': genres,\n",
    "                         'release': release,\n",
    "                         'duration': duration,\n",
    "                         'studio': studio,\n",
    "                         'budget': budget,\n",
    "                         'gross': gross,\n",
    "                         'opening': opening\n",
    "                        }\n",
    "    return movies_dct"
   ]
  },
  {
   "cell_type": "code",
   "execution_count": 101,
   "metadata": {
    "collapsed": false
   },
   "outputs": [],
   "source": [
    "for title, href in titles.items():\n",
    "    for href in href.values():\n",
    "        url_page = 'http://www.imdb.com/' + href\n",
    "        \n",
    "        try:\n",
    "            response2 = requests.get(url_page)\n",
    "            page2 = response2.text\n",
    "            soup2 = BeautifulSoup(page2)\n",
    "            add_movie_to_data(soup2)\n",
    "            sleep(0.2)\n",
    "\n",
    "        except AttributeError:\n",
    "            print title + ' did not load'"
   ]
  },
  {
   "cell_type": "code",
   "execution_count": 102,
   "metadata": {
    "collapsed": false
   },
   "outputs": [
    {
     "data": {
      "text/plain": [
       "[(u'Gone Girl',\n",
       "  {'budget': '$61,000,000',\n",
       "   'duration': 'PT149M',\n",
       "   'genres': ['Drama', 'Mystery', 'Thriller'],\n",
       "   'gross': '$167,735,396',\n",
       "   'metacritic': '79/100',\n",
       "   'opening': '$37,513,109        \\n\\n      (USA)',\n",
       "   'rating': 'R',\n",
       "   'release': '2014-10-03',\n",
       "   'studio': 'Twentieth Century Fox Film Corporation',\n",
       "   'title': u'Gone Girl'}),\n",
       " (u'How to Train Your Dragon 2',\n",
       "  {'budget': '$145,000,000',\n",
       "   'duration': 'PT102M',\n",
       "   'genres': ['Animation', 'Action', 'Adventure'],\n",
       "   'gross': '$176,997,107',\n",
       "   'metacritic': '76/100',\n",
       "   'opening': '$49,451,322        \\n\\n      (USA)',\n",
       "   'rating': 'PG',\n",
       "   'release': '2014-06-13',\n",
       "   'studio': 'DreamWorks Animation',\n",
       "   'title': u'How to Train Your Dragon 2'}),\n",
       " (u'The Imitation Game',\n",
       "  {'budget': '$14,000,000',\n",
       "   'duration': 'PT114M',\n",
       "   'genres': ['Biography', 'Drama', 'Thriller'],\n",
       "   'gross': '$91,121,452',\n",
       "   'metacritic': '73/100',\n",
       "   'opening': '$479,352        \\n\\n      (USA)',\n",
       "   'rating': 'PG-13',\n",
       "   'release': '2014-12-25',\n",
       "   'studio': 'Black Bear Pictures',\n",
       "   'title': u'The Imitation Game'}),\n",
       " (u'Annie',\n",
       "  {'budget': '$65,000,000',\n",
       "   'duration': 'PT118M',\n",
       "   'genres': ['Comedy', 'Drama', 'Family'],\n",
       "   'gross': '$85,911,262',\n",
       "   'metacritic': '33/100',\n",
       "   'opening': '$15,861,939        \\n\\n      (USA)',\n",
       "   'rating': 'PG',\n",
       "   'release': '2014-12-19',\n",
       "   'studio': 'Marcy Media',\n",
       "   'title': u'Annie'}),\n",
       " (u'The Amazing Spider-Man 2',\n",
       "  {'budget': '$200,000,000',\n",
       "   'duration': 'PT142M',\n",
       "   'genres': ['Action', 'Adventure', 'Fantasy'],\n",
       "   'gross': '$202,853,933',\n",
       "   'metacritic': '53/100',\n",
       "   'opening': '$91,608,337        \\n\\n      (USA)',\n",
       "   'rating': 'PG-13',\n",
       "   'release': '2014-05-02',\n",
       "   'studio': 'Marvel Enterprises',\n",
       "   'title': u'The Amazing Spider-Man 2'}),\n",
       " (u'Kingsman: The Secret Service',\n",
       "  {'budget': '$81,000,000',\n",
       "   'duration': 'PT129M',\n",
       "   'genres': ['Action', 'Adventure', 'Comedy'],\n",
       "   'gross': '$128,248,205',\n",
       "   'metacritic': '58/100',\n",
       "   'opening': '$42,000,000        \\n\\n      (USA)',\n",
       "   'rating': 'R',\n",
       "   'release': '2015-02-13',\n",
       "   'studio': 'Twentieth Century Fox Film Corporation',\n",
       "   'title': u'Kingsman: The Secret Service'}),\n",
       " (u'300: Rise of an Empire',\n",
       "  {'budget': '$110,000,000',\n",
       "   'duration': 'PT102M',\n",
       "   'genres': ['Action', 'Drama', 'Fantasy'],\n",
       "   'gross': '$106,369,117',\n",
       "   'metacritic': '48/100',\n",
       "   'opening': '$45,038,460        \\n\\n      (USA)',\n",
       "   'rating': 'R',\n",
       "   'release': '2014-03-07',\n",
       "   'studio': 'Warner Bros.',\n",
       "   'title': u'300: Rise of an Empire'}),\n",
       " (u'Guardians of the Galaxy',\n",
       "  {'budget': '$170,000,000',\n",
       "   'duration': 'PT121M',\n",
       "   'genres': ['Action', 'Adventure', 'Sci-Fi'],\n",
       "   'gross': '$333,130,696',\n",
       "   'metacritic': '76/100',\n",
       "   'opening': '$94,320,883        \\n\\n      (USA)',\n",
       "   'rating': 'PG-13',\n",
       "   'release': '2014-08-01',\n",
       "   'studio': 'Marvel Studios',\n",
       "   'title': u'Guardians of the Galaxy'}),\n",
       " (u'Teenage Mutant Ninja Turtles',\n",
       "  {'budget': '$125,000,000',\n",
       "   'duration': 'PT101M',\n",
       "   'genres': ['Action', 'Adventure', 'Comedy'],\n",
       "   'gross': '$190,871,240',\n",
       "   'metacritic': '31/100',\n",
       "   'opening': '$65,575,105        \\n\\n      (USA)',\n",
       "   'rating': 'PG-13',\n",
       "   'release': '2014-08-08',\n",
       "   'studio': 'Paramount Pictures',\n",
       "   'title': u'Teenage Mutant Ninja Turtles'}),\n",
       " (u'The Fault in Our Stars',\n",
       "  {'budget': '$12,000,000',\n",
       "   'duration': 'PT126M',\n",
       "   'genres': ['Drama', 'Romance'],\n",
       "   'gross': '$124,868,837',\n",
       "   'metacritic': '69/100',\n",
       "   'opening': '$48,002,523        \\n\\n      (USA)',\n",
       "   'rating': 'PG-13',\n",
       "   'release': '2014-06-06',\n",
       "   'studio': 'Fox 2000 Pictures',\n",
       "   'title': u'The Fault in Our Stars'}),\n",
       " (u'The Lego Movie',\n",
       "  {'budget': '$60,000,000',\n",
       "   'duration': 'PT100M',\n",
       "   'genres': ['Animation', 'Adventure', 'Comedy'],\n",
       "   'gross': '$257,756,197',\n",
       "   'metacritic': '83/100',\n",
       "   'opening': '$69,050,279        \\n\\n      (USA)',\n",
       "   'rating': 'PG',\n",
       "   'release': '2014-02-07',\n",
       "   'studio': 'Warner Bros.',\n",
       "   'title': u'The Lego Movie'}),\n",
       " (u'Unbroken',\n",
       "  {'budget': '$65,000,000',\n",
       "   'duration': 'PT137M',\n",
       "   'genres': ['Biography', 'Drama', 'Sport'],\n",
       "   'gross': '$115,603,980',\n",
       "   'metacritic': '59/100',\n",
       "   'opening': '$31,748,000        \\n\\n      (USA)',\n",
       "   'rating': 'PG-13',\n",
       "   'release': '2014-12-25',\n",
       "   'studio': '3 Arts Entertainment',\n",
       "   'title': u'Unbroken'}),\n",
       " (u'Divergent',\n",
       "  {'budget': '$85,000,000',\n",
       "   'duration': 'PT139M',\n",
       "   'genres': ['Adventure', 'Sci-Fi', 'Thriller'],\n",
       "   'gross': '$150,832,203',\n",
       "   'metacritic': '48/100',\n",
       "   'opening': '$54,607,747        \\n\\n      (USA)',\n",
       "   'rating': 'PG-13',\n",
       "   'release': '2014-03-21',\n",
       "   'studio': 'Summit Entertainment',\n",
       "   'title': u'Divergent'}),\n",
       " (u'Heaven Is for Real',\n",
       "  {'budget': '$12,000,000',\n",
       "   'duration': 'PT99M',\n",
       "   'genres': ['Drama'],\n",
       "   'gross': '$91,443,253',\n",
       "   'metacritic': '47/100',\n",
       "   'opening': '$22,522,221        \\n\\n      (USA)',\n",
       "   'rating': 'PG',\n",
       "   'release': '2014-04-16',\n",
       "   'studio': 'TriStar Pictures',\n",
       "   'title': u'Heaven Is for Real'}),\n",
       " (u'Big Hero 6',\n",
       "  {'budget': '$165,000,000',\n",
       "   'duration': 'PT102M',\n",
       "   'genres': ['Animation', 'Action', 'Adventure'],\n",
       "   'gross': '$222,487,711',\n",
       "   'metacritic': '74/100',\n",
       "   'opening': '$56,215,889        \\n\\n      (USA)',\n",
       "   'rating': 'PG',\n",
       "   'release': '2014-11-07',\n",
       "   'studio': 'Walt Disney Animation Studios',\n",
       "   'title': u'Big Hero 6'}),\n",
       " (u'Ride Along',\n",
       "  {'budget': '$25,000,000',\n",
       "   'duration': 'PT99M',\n",
       "   'genres': ['Action', 'Comedy'],\n",
       "   'gross': '$134,141,530',\n",
       "   'metacritic': '41/100',\n",
       "   'opening': '$48,626,380        \\n\\n      (USA)',\n",
       "   'rating': 'PG-13',\n",
       "   'release': '2014-01-17',\n",
       "   'studio': 'Cube Vision',\n",
       "   'title': u'Ride Along'}),\n",
       " (u'Transformers: Age of Extinction',\n",
       "  {'budget': '$210,000,000',\n",
       "   'duration': 'PT165M',\n",
       "   'genres': ['Action', 'Adventure', 'Sci-Fi'],\n",
       "   'gross': '$245,428,137',\n",
       "   'metacritic': '32/100',\n",
       "   'opening': '$100,038,390        \\n\\n      (USA)',\n",
       "   'rating': 'PG-13',\n",
       "   'release': '2014-06-27',\n",
       "   'studio': 'Paramount Pictures',\n",
       "   'title': u'Transformers: Age of Extinction'}),\n",
       " (u'Godzilla',\n",
       "  {'budget': '$160,000,000',\n",
       "   'duration': 'PT123M',\n",
       "   'genres': ['Action', 'Adventure', 'Sci-Fi'],\n",
       "   'gross': '$200,661,309',\n",
       "   'metacritic': '62/100',\n",
       "   'opening': '$93,188,384        \\n\\n      (USA)',\n",
       "   'rating': 'PG-13',\n",
       "   'release': '2014-05-16',\n",
       "   'studio': 'Warner Bros.',\n",
       "   'title': u'Godzilla'}),\n",
       " (u'Dawn of the Planet of the Apes',\n",
       "  {'budget': '$170,000,000',\n",
       "   'duration': 'PT130M',\n",
       "   'genres': ['Action', 'Drama', 'Sci-Fi'],\n",
       "   'gross': '$208,543,795',\n",
       "   'metacritic': '79/100',\n",
       "   'opening': '$72,611,427        \\n\\n      (USA)',\n",
       "   'rating': 'PG-13',\n",
       "   'release': '2014-07-11',\n",
       "   'studio': 'Chernin Entertainment',\n",
       "   'title': u'Dawn of the Planet of the Apes'}),\n",
       " (u\"Let's Be Cops\",\n",
       "  {'budget': '$17,000,000',\n",
       "   'duration': 'PT104M',\n",
       "   'genres': ['Comedy'],\n",
       "   'gross': '$82,389,560',\n",
       "   'metacritic': '30/100',\n",
       "   'opening': '$17,813,722        \\n\\n      (USA)',\n",
       "   'rating': 'R',\n",
       "   'release': '2014-08-13',\n",
       "   'studio': 'Genre Films',\n",
       "   'title': u\"Let's Be Cops\"}),\n",
       " (u'Annabelle',\n",
       "  {'budget': '$6,500,000',\n",
       "   'duration': 'PT99M',\n",
       "   'genres': ['Horror', 'Mystery'],\n",
       "   'gross': '$84,263,837',\n",
       "   'metacritic': '37/100',\n",
       "   'opening': '$37,134,255        \\n\\n      (USA)',\n",
       "   'rating': 'R',\n",
       "   'release': '2014-10-03',\n",
       "   'studio': 'New Line Cinema',\n",
       "   'title': u'Annabelle'}),\n",
       " (u'Paddington',\n",
       "  {'budget': '$55,000,000',\n",
       "   'duration': 'PT95M',\n",
       "   'genres': ['Comedy', 'Family'],\n",
       "   'gross': '$76,137,505',\n",
       "   'metacritic': '77/100',\n",
       "   'opening': '$25,205,000        \\n\\n      (USA)',\n",
       "   'rating': 'PG',\n",
       "   'release': '2015-01-16',\n",
       "   'studio': 'StudioCanal',\n",
       "   'title': u'Paddington'}),\n",
       " (u'American Sniper',\n",
       "  {'budget': '$58,800,000',\n",
       "   'duration': 'PT133M',\n",
       "   'genres': ['Action', 'Biography', 'Drama'],\n",
       "   'gross': '$350,123,553',\n",
       "   'metacritic': '72/100',\n",
       "   'opening': '$676,909        \\n\\n      (USA)',\n",
       "   'rating': 'R',\n",
       "   'release': '2015-01-16',\n",
       "   'studio': 'Warner Bros.',\n",
       "   'title': u'American Sniper'}),\n",
       " (u'Tammy',\n",
       "  {'budget': '$20,000,000',\n",
       "   'duration': 'PT97M',\n",
       "   'genres': ['Comedy'],\n",
       "   'gross': '$84,518,155',\n",
       "   'metacritic': '39/100',\n",
       "   'opening': '$21,577,049        \\n\\n      (USA)',\n",
       "   'rating': 'R',\n",
       "   'release': '2014-07-02',\n",
       "   'studio': 'Gary Sanchez Productions',\n",
       "   'title': u'Tammy'}),\n",
       " (u'X-Men: Days of Future Past',\n",
       "  {'budget': '$200,000,000',\n",
       "   'duration': 'PT132M',\n",
       "   'genres': ['Action', 'Adventure', 'Sci-Fi'],\n",
       "   'gross': '$233,914,986',\n",
       "   'metacritic': '74/100',\n",
       "   'opening': '$111,000,000        \\n\\n      (USA)',\n",
       "   'rating': 'PG-13',\n",
       "   'release': '2014-05-23',\n",
       "   'studio': 'Twentieth Century Fox Film Corporation',\n",
       "   'title': u'X-Men: Days of Future Past'}),\n",
       " (u'Night at the Museum: Secret of the Tomb',\n",
       "  {'budget': '$127,000,000',\n",
       "   'duration': 'PT98M',\n",
       "   'genres': ['Adventure', 'Comedy', 'Family'],\n",
       "   'gross': '$113,733,726',\n",
       "   'metacritic': '47/100',\n",
       "   'opening': '$17,100,520        \\n\\n      (USA)',\n",
       "   'rating': 'PG',\n",
       "   'release': '2014-12-19',\n",
       "   'studio': 'Twentieth Century Fox Film Corporation',\n",
       "   'title': u'Night at the Museum: Secret of the Tomb'}),\n",
       " (u'The Maze Runner',\n",
       "  {'budget': '$34,000,000',\n",
       "   'duration': 'PT113M',\n",
       "   'genres': ['Action', 'Mystery', 'Sci-Fi'],\n",
       "   'gross': '$102,413,606',\n",
       "   'metacritic': '56/100',\n",
       "   'opening': '$32,512,804        \\n\\n      (USA)',\n",
       "   'rating': 'PG-13',\n",
       "   'release': '2014-09-19',\n",
       "   'studio': 'Twentieth Century Fox Film Corporation',\n",
       "   'title': u'The Maze Runner'}),\n",
       " (u'The Hunger Games: Mockingjay - Part 1',\n",
       "  {'budget': '$125,000,000',\n",
       "   'duration': 'PT123M',\n",
       "   'genres': ['Action', 'Adventure', 'Sci-Fi'],\n",
       "   'gross': '$337,103,873',\n",
       "   'metacritic': '64/100',\n",
       "   'opening': '$121,897,634        \\n\\n      (USA)',\n",
       "   'rating': 'PG-13',\n",
       "   'release': '2014-11-21',\n",
       "   'studio': 'Color Force',\n",
       "   'title': u'The Hunger Games: Mockingjay - Part 1'}),\n",
       " (u'The Monuments Men',\n",
       "  {'budget': '$70,000,000',\n",
       "   'duration': 'PT118M',\n",
       "   'genres': ['Drama', 'War'],\n",
       "   'gross': '$78,031,620',\n",
       "   'metacritic': '52/100',\n",
       "   'opening': '$22,003,433        \\n\\n      (USA)',\n",
       "   'rating': 'PG-13',\n",
       "   'release': '2014-02-07',\n",
       "   'studio': 'Columbia Pictures',\n",
       "   'title': u'The Monuments Men'}),\n",
       " (u'Lucy',\n",
       "  {'budget': '$40,000,000',\n",
       "   'duration': 'PT89M',\n",
       "   'genres': ['Action', 'Sci-Fi', 'Thriller'],\n",
       "   'gross': '$126,546,825',\n",
       "   'metacritic': '61/100',\n",
       "   'opening': '$43,899,340        \\n\\n      (USA)',\n",
       "   'rating': 'R',\n",
       "   'release': '2014-07-25',\n",
       "   'studio': 'Canal+',\n",
       "   'title': u'Lucy'}),\n",
       " (u'Taken 3',\n",
       "  {'budget': '$48,000,000',\n",
       "   'duration': 'PT109M',\n",
       "   'genres': ['Action', 'Thriller'],\n",
       "   'gross': '$89,253,340',\n",
       "   'metacritic': '26/100',\n",
       "   'opening': '$39,201,657        \\n\\n      (USA)',\n",
       "   'rating': 'PG-13',\n",
       "   'release': '2015-01-09',\n",
       "   'studio': 'EuropaCorp',\n",
       "   'title': u'Taken 3'}),\n",
       " (u'Into the Woods',\n",
       "  {'budget': '$50,000,000',\n",
       "   'duration': 'PT125M',\n",
       "   'genres': ['Adventure', 'Fantasy', 'Musical'],\n",
       "   'gross': '$127,997,349',\n",
       "   'metacritic': '69/100',\n",
       "   'opening': '$31,021,000        \\n\\n      (USA)',\n",
       "   'rating': 'PG',\n",
       "   'release': '2014-12-25',\n",
       "   'studio': 'Lucamar Productions',\n",
       "   'title': u'Into the Woods'}),\n",
       " (u'The Hobbit: The Battle of the Five Armies',\n",
       "  {'budget': '$250,000,000',\n",
       "   'duration': 'PT144M',\n",
       "   'genres': ['Adventure', 'Fantasy'],\n",
       "   'gross': '$255,108,370',\n",
       "   'metacritic': '59/100',\n",
       "   'opening': '$54,724,334        \\n\\n      (USA)',\n",
       "   'rating': 'PG-13',\n",
       "   'release': '2014-12-17',\n",
       "   'studio': 'New Line Cinema',\n",
       "   'title': u'The Hobbit: The Battle of the Five Armies'}),\n",
       " (u'Rio 2',\n",
       "  {'budget': '$103,000,000',\n",
       "   'duration': 'PT101M',\n",
       "   'genres': ['Animation', 'Adventure', 'Comedy'],\n",
       "   'gross': '$131,536,019',\n",
       "   'metacritic': '49/100',\n",
       "   'opening': '$39,327,869        \\n\\n      (USA)',\n",
       "   'rating': 'G',\n",
       "   'release': '2014-04-11',\n",
       "   'studio': 'Twentieth Century Fox Animation',\n",
       "   'title': u'Rio 2'}),\n",
       " (u'The Other Woman',\n",
       "  {'budget': '$40,000,000',\n",
       "   'duration': 'PT109M',\n",
       "   'genres': ['Comedy', 'Romance'],\n",
       "   'gross': '$83,906,114',\n",
       "   'metacritic': '39/100',\n",
       "   'opening': '$24,763,752        \\n\\n      (USA)',\n",
       "   'rating': 'PG-13',\n",
       "   'release': '2014-04-25',\n",
       "   'studio': 'Twentieth Century Fox Film Corporation',\n",
       "   'title': u'The Other Woman'}),\n",
       " (u'22 Jump Street',\n",
       "  {'budget': '$50,000,000',\n",
       "   'duration': 'PT112M',\n",
       "   'genres': ['Action', 'Comedy', 'Crime'],\n",
       "   'gross': '$191,616,238',\n",
       "   'metacritic': '71/100',\n",
       "   'opening': '$57,071,445        \\n\\n      (USA)',\n",
       "   'rating': 'R',\n",
       "   'release': '2014-06-13',\n",
       "   'studio': 'Columbia Pictures',\n",
       "   'title': u'22 Jump Street'}),\n",
       " (u'Dumb and Dumber To',\n",
       "  {'budget': '$35,000,000',\n",
       "   'duration': 'PT109M',\n",
       "   'genres': ['Comedy'],\n",
       "   'gross': '$86,193,650',\n",
       "   'metacritic': '36/100',\n",
       "   'opening': '$38,053,000        \\n\\n      (USA)',\n",
       "   'rating': 'PG-13',\n",
       "   'release': '2014-11-14',\n",
       "   'studio': 'Universal Pictures',\n",
       "   'title': u'Dumb and Dumber To'}),\n",
       " (u'Neighbors',\n",
       "  {'budget': '$18,000,000',\n",
       "   'duration': 'PT97M',\n",
       "   'genres': ['Comedy'],\n",
       "   'gross': '$150,056,505',\n",
       "   'metacritic': '68/100',\n",
       "   'opening': '$49,033,915        \\n\\n      (USA)',\n",
       "   'rating': 'R',\n",
       "   'release': '2014-05-09',\n",
       "   'studio': 'Good Universe',\n",
       "   'title': u'Neighbors'}),\n",
       " (u'Noah',\n",
       "  {'budget': '$125,000,000',\n",
       "   'duration': 'PT138M',\n",
       "   'genres': ['Action', 'Adventure', 'Drama'],\n",
       "   'gross': '$101,160,529',\n",
       "   'metacritic': '68/100',\n",
       "   'opening': '$43,720,472        \\n\\n      (USA)',\n",
       "   'rating': 'PG-13',\n",
       "   'release': '2014-03-28',\n",
       "   'studio': 'Paramount Pictures',\n",
       "   'title': u'Noah'}),\n",
       " (u'Fury',\n",
       "  {'budget': '$68,000,000',\n",
       "   'duration': 'PT134M',\n",
       "   'genres': ['Action', 'Drama', 'War'],\n",
       "   'gross': '$85,707,116',\n",
       "   'metacritic': '64/100',\n",
       "   'opening': '$23,702,421        \\n\\n      (USA)',\n",
       "   'rating': 'R',\n",
       "   'release': '2014-10-17',\n",
       "   'studio': 'Columbia Pictures',\n",
       "   'title': u'Fury'}),\n",
       " (u'The Equalizer',\n",
       "  {'budget': '$55,000,000',\n",
       "   'duration': 'PT132M',\n",
       "   'genres': ['Action', 'Crime', 'Thriller'],\n",
       "   'gross': '$101,530,738',\n",
       "   'metacritic': '57/100',\n",
       "   'opening': '$34,137,828        \\n\\n      (USA)',\n",
       "   'rating': 'R',\n",
       "   'release': '2014-09-26',\n",
       "   'studio': 'Columbia Pictures',\n",
       "   'title': u'The Equalizer'}),\n",
       " (u'Interstellar',\n",
       "  {'budget': '$165,000,000',\n",
       "   'duration': 'PT169M',\n",
       "   'genres': ['Adventure', 'Drama', 'Sci-Fi'],\n",
       "   'gross': '$187,991,439',\n",
       "   'metacritic': '74/100',\n",
       "   'opening': '$47,510,360        \\n\\n      (USA)',\n",
       "   'rating': 'PG-13',\n",
       "   'release': '2014-11-07',\n",
       "   'studio': 'Paramount Pictures',\n",
       "   'title': u'Interstellar'}),\n",
       " (u'Non-Stop',\n",
       "  {'budget': '$50,000,000',\n",
       "   'duration': 'PT106M',\n",
       "   'genres': ['Action', 'Mystery', 'Thriller'],\n",
       "   'gross': '$91,439,400',\n",
       "   'metacritic': '56/100',\n",
       "   'opening': '$28,875,635        \\n\\n      (USA)',\n",
       "   'rating': 'PG-13',\n",
       "   'release': '2014-02-28',\n",
       "   'studio': 'StudioCanal',\n",
       "   'title': u'Non-Stop'}),\n",
       " (u'Penguins of Madagascar',\n",
       "  {'budget': '$132,000,000',\n",
       "   'duration': 'PT92M',\n",
       "   'genres': ['Animation', 'Adventure', 'Comedy'],\n",
       "   'gross': '$83,348,920',\n",
       "   'metacritic': '53/100',\n",
       "   'opening': '$25,447,444        \\n\\n      (USA)',\n",
       "   'rating': 'PG',\n",
       "   'release': '2014-11-26',\n",
       "   'studio': 'DreamWorks Animation',\n",
       "   'title': u'Penguins of Madagascar'}),\n",
       " (u'Hercules',\n",
       "  {'budget': '$100,000,000',\n",
       "   'duration': 'PT98M',\n",
       "   'genres': ['Action', 'Adventure'],\n",
       "   'gross': '$72,660,029',\n",
       "   'metacritic': '47/100',\n",
       "   'opening': '$29,800,263        \\n\\n      (USA)',\n",
       "   'rating': 'PG-13',\n",
       "   'release': '2014-07-25',\n",
       "   'studio': 'Paramount Pictures',\n",
       "   'title': u'Hercules'}),\n",
       " (u'Mr. Peabody & Sherman',\n",
       "  {'budget': '$145,000,000',\n",
       "   'duration': 'PT92M',\n",
       "   'genres': ['Animation', 'Adventure', 'Comedy'],\n",
       "   'gross': '$111,505,642',\n",
       "   'metacritic': '59/100',\n",
       "   'opening': '$32,207,057        \\n\\n      (USA)',\n",
       "   'rating': 'PG',\n",
       "   'release': '2014-03-07',\n",
       "   'studio': 'DreamWorks Animation',\n",
       "   'title': u'Mr. Peabody & Sherman'}),\n",
       " (u'Captain America: The Winter Soldier',\n",
       "  {'budget': '$170,000,000',\n",
       "   'duration': 'PT136M',\n",
       "   'genres': ['Action', 'Adventure', 'Sci-Fi'],\n",
       "   'gross': '$259,746,958',\n",
       "   'metacritic': '70/100',\n",
       "   'opening': '$95,023,721        \\n\\n      (USA)',\n",
       "   'rating': 'PG-13',\n",
       "   'release': '2014-04-04',\n",
       "   'studio': 'Marvel Entertainment',\n",
       "   'title': u'Captain America: The Winter Soldier'}),\n",
       " (u'Maleficent',\n",
       "  {'budget': '$180,000,000',\n",
       "   'duration': 'PT97M',\n",
       "   'genres': ['Action', 'Adventure', 'Family'],\n",
       "   'gross': '$241,407,328',\n",
       "   'metacritic': '56/100',\n",
       "   'opening': '$69,431,298        \\n\\n      (USA)',\n",
       "   'rating': 'PG',\n",
       "   'release': '2014-05-30',\n",
       "   'studio': 'Roth Films',\n",
       "   'title': u'Maleficent'}),\n",
       " (u'The Purge: Anarchy',\n",
       "  {'budget': '$9,000,000',\n",
       "   'duration': 'PT103M',\n",
       "   'genres': ['Action', 'Horror', 'Sci-Fi'],\n",
       "   'gross': '$71,519,230',\n",
       "   'metacritic': '50/100',\n",
       "   'opening': '$29,816,675        \\n\\n      (USA)',\n",
       "   'rating': 'R',\n",
       "   'release': '2014-07-18',\n",
       "   'studio': '5150 Action',\n",
       "   'title': u'The Purge: Anarchy'}),\n",
       " (u'Edge of Tomorrow',\n",
       "  {'budget': '$178,000,000',\n",
       "   'duration': 'PT113M',\n",
       "   'genres': ['Action', 'Adventure', 'Mystery'],\n",
       "   'gross': '$100,189,501',\n",
       "   'metacritic': '71/100',\n",
       "   'opening': '$28,760,246        \\n\\n      (USA)',\n",
       "   'rating': 'PG-13',\n",
       "   'release': '2014-06-06',\n",
       "   'studio': 'Warner Bros.',\n",
       "   'title': u'Edge of Tomorrow'})]"
      ]
     },
     "execution_count": 102,
     "metadata": {},
     "output_type": "execute_result"
    }
   ],
   "source": [
    "movies_dct.items()"
   ]
  },
  {
   "cell_type": "markdown",
   "metadata": {},
   "source": [
    "### MISC JUNK"
   ]
  },
  {
   "cell_type": "code",
   "execution_count": 5,
   "metadata": {
    "collapsed": false
   },
   "outputs": [],
   "source": [
    "url_page = 'http://www.imdb.com/' + '/title/tt2267998/'\n",
    "\n",
    "response2 = requests.get(url_page)\n",
    "page2 = response2.text\n",
    "soup2 = BeautifulSoup(page2)"
   ]
  },
  {
   "cell_type": "code",
   "execution_count": 103,
   "metadata": {
    "collapsed": true
   },
   "outputs": [],
   "source": [
    "#soup2.prettify()"
   ]
  },
  {
   "cell_type": "code",
   "execution_count": 7,
   "metadata": {
    "collapsed": false
   },
   "outputs": [
    {
     "data": {
      "text/plain": [
       "u'Gone Girl'"
      ]
     },
     "execution_count": 7,
     "metadata": {},
     "output_type": "execute_result"
    }
   ],
   "source": [
    "soup2.find(itemprop = \"name\").text"
   ]
  },
  {
   "cell_type": "code",
   "execution_count": 16,
   "metadata": {
    "collapsed": false
   },
   "outputs": [
    {
     "data": {
      "text/plain": [
       "'79/100'"
      ]
     },
     "execution_count": 16,
     "metadata": {},
     "output_type": "execute_result"
    }
   ],
   "source": [
    "str(soup2.find(attrs={\"href\" : re.compile(\"criticreviews?\")}).text.strip())"
   ]
  },
  {
   "cell_type": "code",
   "execution_count": 17,
   "metadata": {
    "collapsed": true
   },
   "outputs": [],
   "source": [
    "info = soup2.find(class_ = 'infobar')"
   ]
  },
  {
   "cell_type": "code",
   "execution_count": 54,
   "metadata": {
    "collapsed": false
   },
   "outputs": [
    {
     "data": {
      "text/plain": [
       "'R'"
      ]
     },
     "execution_count": 54,
     "metadata": {},
     "output_type": "execute_result"
    }
   ],
   "source": [
    "info.find('meta').attrs['content']"
   ]
  },
  {
   "cell_type": "code",
   "execution_count": 57,
   "metadata": {
    "collapsed": false
   },
   "outputs": [],
   "source": [
    "meta = info.find_all('meta')"
   ]
  },
  {
   "cell_type": "code",
   "execution_count": 62,
   "metadata": {
    "collapsed": false
   },
   "outputs": [
    {
     "data": {
      "text/plain": [
       "'2014-10-03'"
      ]
     },
     "execution_count": 62,
     "metadata": {},
     "output_type": "execute_result"
    }
   ],
   "source": [
    "meta[1].attrs['content']"
   ]
  },
  {
   "cell_type": "code",
   "execution_count": 67,
   "metadata": {
    "collapsed": false
   },
   "outputs": [
    {
     "data": {
      "text/plain": [
       "'PT149M'"
      ]
     },
     "execution_count": 67,
     "metadata": {},
     "output_type": "execute_result"
    }
   ],
   "source": [
    "info.find(itemprop='duration').attrs['datetime']"
   ]
  },
  {
   "cell_type": "code",
   "execution_count": 83,
   "metadata": {
    "collapsed": false
   },
   "outputs": [
    {
     "data": {
      "text/plain": [
       "'$37,513,109        \\n\\n      (USA)'"
      ]
     },
     "execution_count": 83,
     "metadata": {},
     "output_type": "execute_result"
    }
   ],
   "source": [
    "str(soup2.find(text=re.compile(\"Opening Weekend:\")).next.strip())"
   ]
  },
  {
   "cell_type": "code",
   "execution_count": 79,
   "metadata": {
    "collapsed": false
   },
   "outputs": [
    {
     "data": {
      "text/plain": [
       "'Twentieth Century Fox Film Corporation'"
      ]
     },
     "execution_count": 79,
     "metadata": {},
     "output_type": "execute_result"
    }
   ],
   "source": [
    "str(soup2.find(attrs={\"href\" : re.compile(\"/company/\")}).text.strip())"
   ]
  },
  {
   "cell_type": "code",
   "execution_count": 86,
   "metadata": {
    "collapsed": false
   },
   "outputs": [
    {
     "data": {
      "text/plain": [
       "{u'Gone Girl': {'budget': '$61,000,000',\n",
       "  'duration': 'PT149M',\n",
       "  'genres': [u'Drama', u'Mystery', u'Thriller'],\n",
       "  'gross': '$167,735,396',\n",
       "  'metacritic': '79/100',\n",
       "  'opening': '$37,513,109        \\n\\n      (USA)',\n",
       "  'rating': 'R',\n",
       "  'release': '2014-10-03',\n",
       "  'studio': 'Twentieth Century Fox Film Corporation',\n",
       "  'title': u'Gone Girl'}}"
      ]
     },
     "execution_count": 86,
     "metadata": {},
     "output_type": "execute_result"
    }
   ],
   "source": [
    "add_movie_to_data(soup2)\n",
    "movies_dct"
   ]
  },
  {
   "cell_type": "code",
   "execution_count": null,
   "metadata": {
    "collapsed": true
   },
   "outputs": [],
   "source": []
  }
 ],
 "metadata": {
  "kernelspec": {
   "display_name": "Python 2",
   "language": "python",
   "name": "python2"
  },
  "language_info": {
   "codemirror_mode": {
    "name": "ipython",
    "version": 2
   },
   "file_extension": ".py",
   "mimetype": "text/x-python",
   "name": "python",
   "nbconvert_exporter": "python",
   "pygments_lexer": "ipython2",
   "version": "2.7.10"
  }
 },
 "nbformat": 4,
 "nbformat_minor": 0
}
