{
 "cells": [
  {
   "cell_type": "code",
   "execution_count": 1,
   "metadata": {
    "collapsed": true
   },
   "outputs": [],
   "source": [
    "import requests\n",
    "from bs4 import BeautifulSoup\n",
    "import re\n",
    "from time import sleep\n",
    "from __future__ import division\n",
    "import pickle\n",
    "import random"
   ]
  },
  {
   "cell_type": "markdown",
   "metadata": {},
   "source": [
    "### Get list of movies\n",
    "\n",
    "Find 300 top grossing movies per year for 2004 - 2014"
   ]
  },
  {
   "cell_type": "code",
   "execution_count": 2,
   "metadata": {
    "collapsed": false
   },
   "outputs": [],
   "source": [
    "url_base = 'http://www.imdb.com/search/title?at=0&sort=boxoffice_gross_us&start=' \n",
    "url_feat = '&title_type=feature&year='"
   ]
  },
  {
   "cell_type": "code",
   "execution_count": 179,
   "metadata": {
    "collapsed": true
   },
   "outputs": [],
   "source": [
    "titles = {}\n",
    "counts = [i for i in range(1,300,50)]"
   ]
  },
  {
   "cell_type": "code",
   "execution_count": 180,
   "metadata": {
    "collapsed": false
   },
   "outputs": [
    {
     "name": "stdout",
     "output_type": "stream",
     "text": [
      "Getting data 1 for 2000\n",
      "Getting data 51 for 2000\n",
      "Getting data 101 for 2000\n",
      "Getting data 151 for 2000\n",
      "Getting data 201 for 2000\n",
      "Getting data 251 for 2000\n"
     ]
    }
   ],
   "source": [
    "year = 2000\n",
    "\n",
    "for count in counts:\n",
    "    start = count\n",
    "    url = url_base + str(start) + url_feat + str(year)\n",
    "    print \"Getting data \" + str(start) + \" for \" + str(year)\n",
    "    response = requests.get(url)\n",
    "    page = response.text\n",
    "    soup = BeautifulSoup(page)\n",
    "\n",
    "    lst = soup.find_all(attrs={\"href\" : re.compile(\"/title/\")})\n",
    "    for link in lst:\n",
    "        if len(link.text) > 0 and link.text != 'X':\n",
    "            titles[link.attrs['href']] = link.text"
   ]
  },
  {
   "cell_type": "code",
   "execution_count": 181,
   "metadata": {
    "collapsed": false
   },
   "outputs": [
    {
     "data": {
      "text/plain": [
       "[u'102 Dalmatians',\n",
       " u'28 Days',\n",
       " u'3 Strikes',\n",
       " u'A Time for Drunken Horses',\n",
       " u'Aberdeen',\n",
       " u'About Adam',\n",
       " u'All the Pretty Horses',\n",
       " u'Almost Famous',\n",
       " u'American Psycho',\n",
       " u'Amores Perros']"
      ]
     },
     "execution_count": 181,
     "metadata": {},
     "output_type": "execute_result"
    }
   ],
   "source": [
    "sorted(titles.values())[:10]"
   ]
  },
  {
   "cell_type": "code",
   "execution_count": 182,
   "metadata": {
    "collapsed": false,
    "scrolled": true
   },
   "outputs": [
    {
     "data": {
      "text/plain": [
       "300"
      ]
     },
     "execution_count": 182,
     "metadata": {},
     "output_type": "execute_result"
    }
   ],
   "source": [
    "len(titles.items())"
   ]
  },
  {
   "cell_type": "code",
   "execution_count": 183,
   "metadata": {
    "collapsed": false
   },
   "outputs": [
    {
     "data": {
      "text/plain": [
       "4124"
      ]
     },
     "execution_count": 183,
     "metadata": {},
     "output_type": "execute_result"
    }
   ],
   "source": [
    "len(movies_dct.items())"
   ]
  },
  {
   "cell_type": "code",
   "execution_count": 60,
   "metadata": {
    "collapsed": true
   },
   "outputs": [],
   "source": [
    "# movies_dct = {}"
   ]
  },
  {
   "cell_type": "code",
   "execution_count": 71,
   "metadata": {
    "collapsed": false
   },
   "outputs": [],
   "source": [
    "def add_movie_to_data(soup2, href):\n",
    "    title = soup2.find(itemprop = \"name\").text\n",
    "    metacritic = str(soup2.find(attrs={\"href\" : re.compile(\"criticreviews?\")}).text.strip())\n",
    "    info = soup2.find(class_ = 'infobar')\n",
    "    meta = info.find_all('meta')\n",
    "    \n",
    "    genres = []\n",
    "    genres2 = info.find_all(itemprop='genre')\n",
    "    for genre in genres2:\n",
    "        genres.append(str(genre.text))\n",
    "    duration = info.find(itemprop='duration').attrs['datetime']\n",
    "    opening = soup2.find(text=re.compile(\"Opening Weekend:\")).next.strip()\n",
    "    studio = soup2.find(attrs={\"href\" : re.compile(\"/company/\")}).text.strip()\n",
    "    \n",
    "    try:\n",
    "        rating = info.find(itemprop='contentRating')['content']\n",
    "    except TypeError:\n",
    "        rating = 'UNKNOWN'\n",
    "    \n",
    "    try:\n",
    "        release = info.find(itemprop='datePublished')['content']\n",
    "    except TypeError:\n",
    "        release = 0\n",
    "    \n",
    "    # get correct gross\n",
    "    url_bus = url_page + 'business?ref_=tt_dt_bus'\n",
    "    response3 = requests.get(url_bus)\n",
    "    page3 = response3.text\n",
    "    soup3 = BeautifulSoup(page3)\n",
    "    \n",
    "    try:\n",
    "        gross = soup3.find(text=re.compile(\"Gross\")).next.strip().split()[0]\n",
    "    except AttributeError:\n",
    "        gross = soup2.find(text=re.compile(\"Gross:\")).next.strip()\n",
    "    \n",
    "    movies_dct[href] = {'title': title,\n",
    "                         'metacritic': metacritic,\n",
    "                         'rating': rating,\n",
    "                         'genres': genres,\n",
    "                         'release': release,\n",
    "                         'duration': duration,\n",
    "                         'studio': studio,\n",
    "                         'gross': gross,\n",
    "                         'opening': opening\n",
    "                        }\n",
    "    if len(movies_dct.items()) % 50 == 0:\n",
    "        with open('my_data_partial.pkl', 'w') as picklefile:\n",
    "            pickle.dump(movies_dct.items(), picklefile)\n",
    "            print \"dumped \" + str(len(movies_dct.items()))\n",
    "    return movies_dct"
   ]
  },
  {
   "cell_type": "code",
   "execution_count": 184,
   "metadata": {
    "collapsed": false
   },
   "outputs": [
    {
     "name": "stdout",
     "output_type": "stream",
     "text": [
      "dumped 4150\n",
      "Raju Chacha did not load\n",
      "Chal Mere Bhai did not load\n",
      "dumped 4200\n",
      "Refugee did not load\n",
      "dumped 4250\n",
      "One Week did not load\n",
      "Phir Bhi Dil Hai Hindustani did not load\n",
      "Khauff did not load\n",
      "dumped 4300\n",
      "dumped 4350\n",
      "Kahin Pyaar Na Ho Jaaye did not load\n",
      "Hadh Kar Di Aapne did not load\n",
      "Mela did not load\n",
      "dumped 4400\n"
     ]
    }
   ],
   "source": [
    "for href, title in titles.items():\n",
    "    url_page = 'http://www.imdb.com/' + href\n",
    "\n",
    "    try:\n",
    "        response2 = requests.get(url_page)\n",
    "        page2 = response2.text\n",
    "        soup2 = BeautifulSoup(page2)\n",
    "        add_movie_to_data(soup2, href)\n",
    "        sleep(0.4)\n",
    "\n",
    "    except AttributeError:\n",
    "        print title + ' did not load'\n",
    "        sleep(0.2)"
   ]
  },
  {
   "cell_type": "code",
   "execution_count": 191,
   "metadata": {
    "collapsed": false
   },
   "outputs": [
    {
     "data": {
      "text/plain": [
       "4415"
      ]
     },
     "execution_count": 191,
     "metadata": {},
     "output_type": "execute_result"
    }
   ],
   "source": [
    "len(movies_dct.items())"
   ]
  },
  {
   "cell_type": "code",
   "execution_count": 192,
   "metadata": {
    "collapsed": false
   },
   "outputs": [
    {
     "data": {
      "text/plain": [
       "0.97"
      ]
     },
     "execution_count": 192,
     "metadata": {},
     "output_type": "execute_result"
    }
   ],
   "source": [
    "(len(movies_dct.items())-4124)/len(titles.items())"
   ]
  },
  {
   "cell_type": "code",
   "execution_count": 193,
   "metadata": {
    "collapsed": false
   },
   "outputs": [
    {
     "data": {
      "text/plain": [
       "[('/title/tt0388838/',\n",
       "  {'duration': 'PT90M',\n",
       "   'genres': ['Drama', 'Music'],\n",
       "   'gross': u'$136,007',\n",
       "   'metacritic': '75/100',\n",
       "   'opening': u'$5,700        \\n\\n      (Hong Kong)',\n",
       "   'rating': 'R',\n",
       "   'release': '2004-09-01',\n",
       "   'studio': u'Rectangle Productions',\n",
       "   'title': u'Clean'}),\n",
       " ('/title/tt0368794/',\n",
       "  {'duration': 'PT135M',\n",
       "   'genres': ['Biography', 'Drama', 'Music'],\n",
       "   'gross': u'$4,017,609',\n",
       "   'metacritic': '73/100',\n",
       "   'opening': u'$730,819        \\n\\n      (USA)',\n",
       "   'rating': 'R',\n",
       "   'release': '2007-12-07',\n",
       "   'studio': u'Killer Films',\n",
       "   'title': u\"I'm Not There.\"}),\n",
       " ('/title/tt0203540/',\n",
       "  {'duration': 'PT91M',\n",
       "   'genres': ['Comedy', 'Crime', 'Romance'],\n",
       "   'gross': u'$1,439,287',\n",
       "   'metacritic': '46/100',\n",
       "   'opening': u'$65,584        \\n\\n      (USA)',\n",
       "   'rating': 'R',\n",
       "   'release': '2001-09-14',\n",
       "   'studio': u'Boneyard Entertainment',\n",
       "   'title': u'Greenfingers'}),\n",
       " ('/title/tt1433905/',\n",
       "  {'duration': 'PT144M',\n",
       "   'genres': ['Action', 'Comedy', 'Drama'],\n",
       "   'gross': u'$96,054',\n",
       "   'metacritic': 'Metacritic Reviews',\n",
       "   'opening': u'$96,054        \\n\\n      (USA)',\n",
       "   'rating': 'UNKNOWN',\n",
       "   'release': '2009-10-16',\n",
       "   'studio': u'Cinema Capital',\n",
       "   'title': u'All the Best: Fun Begins'})]"
      ]
     },
     "execution_count": 193,
     "metadata": {},
     "output_type": "execute_result"
    }
   ],
   "source": [
    "movies_dct.items()[:4]"
   ]
  },
  {
   "cell_type": "code",
   "execution_count": 188,
   "metadata": {
    "collapsed": false,
    "scrolled": true
   },
   "outputs": [],
   "source": [
    "with open('my_data_2000_2014.pkl', 'w') as picklefile:\n",
    "    pickle.dump(movies_dct.items(), picklefile)"
   ]
  },
  {
   "cell_type": "code",
   "execution_count": 194,
   "metadata": {
    "collapsed": false
   },
   "outputs": [
    {
     "name": "stdout",
     "output_type": "stream",
     "text": [
      "317\n"
     ]
    }
   ],
   "source": [
    "count = 0\n",
    "for i in range(len(movies_dct.items())):\n",
    "    if (movies_dct.items()[i][1]['metacritic'] == 'Metacritic Reviews'):\n",
    "        count += 1\n",
    "        \n",
    "print count"
   ]
  },
  {
   "cell_type": "code",
   "execution_count": 190,
   "metadata": {
    "collapsed": false
   },
   "outputs": [
    {
     "data": {
      "text/plain": [
       "0.07180067950169876"
      ]
     },
     "execution_count": 190,
     "metadata": {},
     "output_type": "execute_result"
    }
   ],
   "source": [
    "count / len(movies_dct.items())"
   ]
  },
  {
   "cell_type": "markdown",
   "metadata": {},
   "source": [
    "### MISC JUNK"
   ]
  },
  {
   "cell_type": "code",
   "execution_count": 44,
   "metadata": {
    "collapsed": false
   },
   "outputs": [],
   "source": [
    "url_page = 'http://www.imdb.com/title/tt3093546/'\n",
    "\n",
    "response2 = requests.get(url_page)\n",
    "page2 = response2.text\n",
    "soup2 = BeautifulSoup(page2)"
   ]
  },
  {
   "cell_type": "code",
   "execution_count": null,
   "metadata": {
    "collapsed": true
   },
   "outputs": [],
   "source": [
    "#soup2.prettify()"
   ]
  },
  {
   "cell_type": "code",
   "execution_count": 45,
   "metadata": {
    "collapsed": false
   },
   "outputs": [
    {
     "data": {
      "text/plain": [
       "u'Listen Up Philip'"
      ]
     },
     "execution_count": 45,
     "metadata": {},
     "output_type": "execute_result"
    }
   ],
   "source": [
    "soup2.find(itemprop = \"name\").text"
   ]
  },
  {
   "cell_type": "code",
   "execution_count": 46,
   "metadata": {
    "collapsed": false
   },
   "outputs": [
    {
     "data": {
      "text/plain": [
       "'76/100'"
      ]
     },
     "execution_count": 46,
     "metadata": {},
     "output_type": "execute_result"
    }
   ],
   "source": [
    "str(soup2.find(attrs={\"href\" : re.compile(\"criticreviews?\")}).text.strip())"
   ]
  },
  {
   "cell_type": "code",
   "execution_count": 47,
   "metadata": {
    "collapsed": true
   },
   "outputs": [],
   "source": [
    "info = soup2.find(class_ = 'infobar')"
   ]
  },
  {
   "cell_type": "code",
   "execution_count": 48,
   "metadata": {
    "collapsed": false
   },
   "outputs": [
    {
     "data": {
      "text/plain": [
       "13"
      ]
     },
     "execution_count": 48,
     "metadata": {},
     "output_type": "execute_result"
    }
   ],
   "source": [
    "len(info)"
   ]
  },
  {
   "cell_type": "code",
   "execution_count": 49,
   "metadata": {
    "collapsed": false
   },
   "outputs": [
    {
     "ename": "TypeError",
     "evalue": "'NoneType' object has no attribute '__getitem__'",
     "output_type": "error",
     "traceback": [
      "\u001b[0;31m---------------------------------------------------------------------------\u001b[0m",
      "\u001b[0;31mTypeError\u001b[0m                                 Traceback (most recent call last)",
      "\u001b[0;32m<ipython-input-49-8153fd539164>\u001b[0m in \u001b[0;36m<module>\u001b[0;34m()\u001b[0m\n\u001b[0;32m----> 1\u001b[0;31m \u001b[0minfo\u001b[0m\u001b[0;34m.\u001b[0m\u001b[0mfind\u001b[0m\u001b[0;34m(\u001b[0m\u001b[0mitemprop\u001b[0m\u001b[0;34m=\u001b[0m\u001b[0;34m'contentRating'\u001b[0m\u001b[0;34m)\u001b[0m\u001b[0;34m[\u001b[0m\u001b[0;34m'content'\u001b[0m\u001b[0;34m]\u001b[0m\u001b[0;34m\u001b[0m\u001b[0m\n\u001b[0m",
      "\u001b[0;31mTypeError\u001b[0m: 'NoneType' object has no attribute '__getitem__'"
     ]
    }
   ],
   "source": [
    "info.find(itemprop='contentRating')['content']"
   ]
  },
  {
   "cell_type": "code",
   "execution_count": 50,
   "metadata": {
    "collapsed": false
   },
   "outputs": [],
   "source": [
    "meta = info.find_all('meta')"
   ]
  },
  {
   "cell_type": "code",
   "execution_count": 51,
   "metadata": {
    "collapsed": false
   },
   "outputs": [
    {
     "data": {
      "text/plain": [
       "[<meta content=\"2014-10-21\" itemprop=\"datePublished\"/>]"
      ]
     },
     "execution_count": 51,
     "metadata": {},
     "output_type": "execute_result"
    }
   ],
   "source": [
    "meta"
   ]
  },
  {
   "cell_type": "code",
   "execution_count": 52,
   "metadata": {
    "collapsed": false
   },
   "outputs": [
    {
     "data": {
      "text/plain": [
       "'PT108M'"
      ]
     },
     "execution_count": 52,
     "metadata": {},
     "output_type": "execute_result"
    }
   ],
   "source": [
    "info.find(itemprop='duration').attrs['datetime']"
   ]
  },
  {
   "cell_type": "code",
   "execution_count": 53,
   "metadata": {
    "collapsed": false
   },
   "outputs": [
    {
     "data": {
      "text/plain": [
       "'$23,284        \\n\\n      (USA)'"
      ]
     },
     "execution_count": 53,
     "metadata": {},
     "output_type": "execute_result"
    }
   ],
   "source": [
    "str(soup2.find(text=re.compile(\"Opening Weekend:\")).next.strip())"
   ]
  },
  {
   "cell_type": "code",
   "execution_count": 54,
   "metadata": {
    "collapsed": false
   },
   "outputs": [
    {
     "data": {
      "text/plain": [
       "'Sailor Bear'"
      ]
     },
     "execution_count": 54,
     "metadata": {},
     "output_type": "execute_result"
    }
   ],
   "source": [
    "str(soup2.find(attrs={\"href\" : re.compile(\"/company/\")}).text.strip())"
   ]
  },
  {
   "cell_type": "code",
   "execution_count": 55,
   "metadata": {
    "collapsed": false
   },
   "outputs": [
    {
     "data": {
      "text/plain": [
       "'21 October 2014 (USA)'"
      ]
     },
     "execution_count": 55,
     "metadata": {},
     "output_type": "execute_result"
    }
   ],
   "source": [
    "str(soup2.find(text=re.compile(\"Release Date:\")).next.strip())"
   ]
  },
  {
   "cell_type": "code",
   "execution_count": 56,
   "metadata": {
    "collapsed": false
   },
   "outputs": [],
   "source": [
    "url_bus = url_page + 'business?ref_=tt_dt_bus'\n",
    "response3 = requests.get(url_bus)\n",
    "page3 = response3.text\n",
    "soup3 = BeautifulSoup(page3)"
   ]
  },
  {
   "cell_type": "code",
   "execution_count": 57,
   "metadata": {
    "collapsed": false
   },
   "outputs": [
    {
     "data": {
      "text/plain": [
       "'http://www.imdb.com/title/tt3093546/business?ref_=tt_dt_bus'"
      ]
     },
     "execution_count": 57,
     "metadata": {},
     "output_type": "execute_result"
    }
   ],
   "source": [
    "url_bus"
   ]
  },
  {
   "cell_type": "code",
   "execution_count": 58,
   "metadata": {
    "collapsed": false,
    "scrolled": true
   },
   "outputs": [
    {
     "ename": "AttributeError",
     "evalue": "'NoneType' object has no attribute 'next'",
     "output_type": "error",
     "traceback": [
      "\u001b[0;31m---------------------------------------------------------------------------\u001b[0m",
      "\u001b[0;31mAttributeError\u001b[0m                            Traceback (most recent call last)",
      "\u001b[0;32m<ipython-input-58-0e8f113018f6>\u001b[0m in \u001b[0;36m<module>\u001b[0;34m()\u001b[0m\n\u001b[0;32m----> 1\u001b[0;31m \u001b[0msoup3\u001b[0m\u001b[0;34m.\u001b[0m\u001b[0mfind\u001b[0m\u001b[0;34m(\u001b[0m\u001b[0mtext\u001b[0m\u001b[0;34m=\u001b[0m\u001b[0mre\u001b[0m\u001b[0;34m.\u001b[0m\u001b[0mcompile\u001b[0m\u001b[0;34m(\u001b[0m\u001b[0;34m\"Gross\"\u001b[0m\u001b[0;34m)\u001b[0m\u001b[0;34m)\u001b[0m\u001b[0;34m.\u001b[0m\u001b[0mnext\u001b[0m\u001b[0;34m.\u001b[0m\u001b[0mstrip\u001b[0m\u001b[0;34m(\u001b[0m\u001b[0;34m)\u001b[0m\u001b[0;34m.\u001b[0m\u001b[0msplit\u001b[0m\u001b[0;34m(\u001b[0m\u001b[0;34m)\u001b[0m\u001b[0;34m[\u001b[0m\u001b[0;36m0\u001b[0m\u001b[0;34m]\u001b[0m\u001b[0;34m\u001b[0m\u001b[0m\n\u001b[0m",
      "\u001b[0;31mAttributeError\u001b[0m: 'NoneType' object has no attribute 'next'"
     ]
    }
   ],
   "source": [
    "soup3.find(text=re.compile(\"Gross\")).next.strip().split()[0]"
   ]
  },
  {
   "cell_type": "code",
   "execution_count": null,
   "metadata": {
    "collapsed": true
   },
   "outputs": [],
   "source": []
  }
 ],
 "metadata": {
  "kernelspec": {
   "display_name": "Python 2",
   "language": "python",
   "name": "python2"
  },
  "language_info": {
   "codemirror_mode": {
    "name": "ipython",
    "version": 2
   },
   "file_extension": ".py",
   "mimetype": "text/x-python",
   "name": "python",
   "nbconvert_exporter": "python",
   "pygments_lexer": "ipython2",
   "version": "2.7.10"
  }
 },
 "nbformat": 4,
 "nbformat_minor": 0
}
