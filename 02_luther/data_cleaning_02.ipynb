{
 "cells": [
  {
   "cell_type": "code",
   "execution_count": 1,
   "metadata": {
    "collapsed": true
   },
   "outputs": [],
   "source": [
    "%matplotlib inline\n",
    "import pickle\n",
    "from __future__ import division\n",
    "import pandas as pd\n",
    "import numpy as np"
   ]
  },
  {
   "cell_type": "code",
   "execution_count": 2,
   "metadata": {
    "collapsed": true
   },
   "outputs": [],
   "source": [
    "with open(\"my_data_2000_2014_02.pkl\", 'r') as picklefile: \n",
    "    raw_data = pickle.load(picklefile)"
   ]
  },
  {
   "cell_type": "code",
   "execution_count": 3,
   "metadata": {
    "collapsed": false
   },
   "outputs": [],
   "source": [
    "data = pd.DataFrame(raw_data)\n",
    "data = pd.DataFrame.transpose(data)"
   ]
  },
  {
   "cell_type": "code",
   "execution_count": 4,
   "metadata": {
    "collapsed": false
   },
   "outputs": [
    {
     "data": {
      "text/plain": [
       "4415"
      ]
     },
     "execution_count": 4,
     "metadata": {},
     "output_type": "execute_result"
    }
   ],
   "source": [
    "len(data)"
   ]
  },
  {
   "cell_type": "code",
   "execution_count": 5,
   "metadata": {
    "collapsed": false
   },
   "outputs": [
    {
     "data": {
      "text/html": [
       "<div>\n",
       "<table border=\"1\" class=\"dataframe\">\n",
       "  <thead>\n",
       "    <tr style=\"text-align: right;\">\n",
       "      <th></th>\n",
       "      <th>country</th>\n",
       "      <th>director</th>\n",
       "      <th>duration</th>\n",
       "      <th>genres</th>\n",
       "      <th>gross</th>\n",
       "      <th>language</th>\n",
       "      <th>lead</th>\n",
       "      <th>metacritic</th>\n",
       "      <th>num_reviews</th>\n",
       "      <th>num_users</th>\n",
       "      <th>opening</th>\n",
       "      <th>rating</th>\n",
       "      <th>release</th>\n",
       "      <th>studio</th>\n",
       "      <th>title</th>\n",
       "      <th>user_score</th>\n",
       "    </tr>\n",
       "  </thead>\n",
       "  <tbody>\n",
       "    <tr>\n",
       "      <th>/title/tt0035423/</th>\n",
       "      <td>USA</td>\n",
       "      <td>James Mangold</td>\n",
       "      <td>PT118M</td>\n",
       "      <td>[Comedy, Fantasy, Romance]</td>\n",
       "      <td>$47,095,453</td>\n",
       "      <td>English</td>\n",
       "      <td>Meg Ryan</td>\n",
       "      <td>44/100</td>\n",
       "      <td>311</td>\n",
       "      <td>59,283</td>\n",
       "      <td>$2,562,448        \\n\\n      (USA)</td>\n",
       "      <td>PG-13</td>\n",
       "      <td>2001-12-25</td>\n",
       "      <td>Konrad Pictures</td>\n",
       "      <td>Kate &amp; Leopold</td>\n",
       "      <td>6.3</td>\n",
       "    </tr>\n",
       "    <tr>\n",
       "      <th>/title/tt0116282/</th>\n",
       "      <td>NaN</td>\n",
       "      <td>NaN</td>\n",
       "      <td>PT98M</td>\n",
       "      <td>[Crime, Drama, Thriller]</td>\n",
       "      <td>$24,611,975</td>\n",
       "      <td>NaN</td>\n",
       "      <td>NaN</td>\n",
       "      <td>85/100</td>\n",
       "      <td>NaN</td>\n",
       "      <td>NaN</td>\n",
       "      <td>$137,301        \\n\\n      (USA)</td>\n",
       "      <td>R</td>\n",
       "      <td>1996-04-05</td>\n",
       "      <td>PolyGram Filmed Entertainment</td>\n",
       "      <td>Fargo</td>\n",
       "      <td>NaN</td>\n",
       "    </tr>\n",
       "    <tr>\n",
       "      <th>/title/tt0118589/</th>\n",
       "      <td>USA</td>\n",
       "      <td>Vondie Curtis-Hall</td>\n",
       "      <td>PT104M</td>\n",
       "      <td>[Drama, Music, Romance]</td>\n",
       "      <td>$4,273,372</td>\n",
       "      <td>English</td>\n",
       "      <td>Mariah Carey</td>\n",
       "      <td>14/100</td>\n",
       "      <td>305</td>\n",
       "      <td>18,755</td>\n",
       "      <td>$2,414,596        \\n\\n      (USA)</td>\n",
       "      <td>PG-13</td>\n",
       "      <td>2001-09-21</td>\n",
       "      <td>Twentieth Century Fox Film Corporation</td>\n",
       "      <td>Glitter</td>\n",
       "      <td>2.1</td>\n",
       "    </tr>\n",
       "    <tr>\n",
       "      <th>/title/tt0118694/</th>\n",
       "      <td>Hong Kong</td>\n",
       "      <td>Kar Wai Wong</td>\n",
       "      <td>PT98M</td>\n",
       "      <td>[Drama, Romance]</td>\n",
       "      <td>$2,734,044</td>\n",
       "      <td>Cantonese</td>\n",
       "      <td>Tony Chiu Wai Leung</td>\n",
       "      <td>85/100</td>\n",
       "      <td>342</td>\n",
       "      <td>66,416</td>\n",
       "      <td>£92,227        \\n\\n      (UK)</td>\n",
       "      <td>PG</td>\n",
       "      <td>2001-03-09</td>\n",
       "      <td>Block 2 Pictures</td>\n",
       "      <td>In the Mood for Love</td>\n",
       "      <td>8.1</td>\n",
       "    </tr>\n",
       "    <tr>\n",
       "      <th>/title/tt0118926/</th>\n",
       "      <td>Spain</td>\n",
       "      <td>John Malkovich</td>\n",
       "      <td>PT132M</td>\n",
       "      <td>[Drama, Thriller, Crime]</td>\n",
       "      <td>$2,377,348</td>\n",
       "      <td>English</td>\n",
       "      <td>Javier Bardem</td>\n",
       "      <td>64/100</td>\n",
       "      <td>71</td>\n",
       "      <td>5,333</td>\n",
       "      <td>£61,622        \\n\\n      (UK)</td>\n",
       "      <td>R</td>\n",
       "      <td>2003-05-23</td>\n",
       "      <td>Fox Searchlight Pictures</td>\n",
       "      <td>The Dancer Upstairs</td>\n",
       "      <td>7</td>\n",
       "    </tr>\n",
       "  </tbody>\n",
       "</table>\n",
       "</div>"
      ],
      "text/plain": [
       "                     country            director duration  \\\n",
       "/title/tt0035423/        USA       James Mangold   PT118M   \n",
       "/title/tt0116282/        NaN                 NaN    PT98M   \n",
       "/title/tt0118589/        USA  Vondie Curtis-Hall   PT104M   \n",
       "/title/tt0118694/  Hong Kong        Kar Wai Wong    PT98M   \n",
       "/title/tt0118926/      Spain      John Malkovich   PT132M   \n",
       "\n",
       "                                       genres        gross   language  \\\n",
       "/title/tt0035423/  [Comedy, Fantasy, Romance]  $47,095,453    English   \n",
       "/title/tt0116282/    [Crime, Drama, Thriller]  $24,611,975        NaN   \n",
       "/title/tt0118589/     [Drama, Music, Romance]   $4,273,372    English   \n",
       "/title/tt0118694/            [Drama, Romance]   $2,734,044  Cantonese   \n",
       "/title/tt0118926/    [Drama, Thriller, Crime]   $2,377,348    English   \n",
       "\n",
       "                                  lead metacritic num_reviews num_users  \\\n",
       "/title/tt0035423/             Meg Ryan     44/100         311    59,283   \n",
       "/title/tt0116282/                  NaN     85/100         NaN       NaN   \n",
       "/title/tt0118589/         Mariah Carey     14/100         305    18,755   \n",
       "/title/tt0118694/  Tony Chiu Wai Leung     85/100         342    66,416   \n",
       "/title/tt0118926/        Javier Bardem     64/100          71     5,333   \n",
       "\n",
       "                                             opening rating     release  \\\n",
       "/title/tt0035423/  $2,562,448        \\n\\n      (USA)  PG-13  2001-12-25   \n",
       "/title/tt0116282/    $137,301        \\n\\n      (USA)      R  1996-04-05   \n",
       "/title/tt0118589/  $2,414,596        \\n\\n      (USA)  PG-13  2001-09-21   \n",
       "/title/tt0118694/      £92,227        \\n\\n      (UK)     PG  2001-03-09   \n",
       "/title/tt0118926/      £61,622        \\n\\n      (UK)      R  2003-05-23   \n",
       "\n",
       "                                                   studio  \\\n",
       "/title/tt0035423/                         Konrad Pictures   \n",
       "/title/tt0116282/           PolyGram Filmed Entertainment   \n",
       "/title/tt0118589/  Twentieth Century Fox Film Corporation   \n",
       "/title/tt0118694/                        Block 2 Pictures   \n",
       "/title/tt0118926/                Fox Searchlight Pictures   \n",
       "\n",
       "                                  title user_score  \n",
       "/title/tt0035423/        Kate & Leopold        6.3  \n",
       "/title/tt0116282/                 Fargo        NaN  \n",
       "/title/tt0118589/               Glitter        2.1  \n",
       "/title/tt0118694/  In the Mood for Love        8.1  \n",
       "/title/tt0118926/   The Dancer Upstairs          7  "
      ]
     },
     "execution_count": 5,
     "metadata": {},
     "output_type": "execute_result"
    }
   ],
   "source": [
    "data.head()"
   ]
  },
  {
   "cell_type": "code",
   "execution_count": 30,
   "metadata": {
    "collapsed": false
   },
   "outputs": [],
   "source": [
    "data = data[data['metacritic'] != 'Metacritic Reviews']"
   ]
  },
  {
   "cell_type": "code",
   "execution_count": 31,
   "metadata": {
    "collapsed": false
   },
   "outputs": [
    {
     "data": {
      "text/plain": [
       "3818"
      ]
     },
     "execution_count": 31,
     "metadata": {},
     "output_type": "execute_result"
    }
   ],
   "source": [
    "len(data)"
   ]
  },
  {
   "cell_type": "code",
   "execution_count": 10,
   "metadata": {
    "collapsed": true
   },
   "outputs": [],
   "source": [
    "data['duration'] = data['duration'].map(lambda x: x.encode('ascii'))\n",
    "data['duration'] = data['duration'].map(lambda x: int(x.replace('P', '').replace('T', '').replace('M', '')))"
   ]
  },
  {
   "cell_type": "code",
   "execution_count": 12,
   "metadata": {
    "collapsed": false
   },
   "outputs": [
    {
     "name": "stdout",
     "output_type": "stream",
     "text": [
      "dols: 4413, pds: 1, oth: 1\n"
     ]
    }
   ],
   "source": [
    "dols = 0\n",
    "pds = 0\n",
    "oth = 0\n",
    "\n",
    "for gross in data['gross']:\n",
    "    if gross[0] == u'$':\n",
    "        dols += 1\n",
    "    elif gross[0] == u'£':\n",
    "        pds += 1\n",
    "    else:\n",
    "        oth += 1\n",
    "        \n",
    "print \"dols: %d, pds: %d, oth: %d\" % (dols, pds, oth)\n",
    "\n",
    "# gross - dols: 4096, pds: 1, oth: 1\n",
    "# opening - dols: 3651, pds: 444, oth: 3"
   ]
  },
  {
   "cell_type": "code",
   "execution_count": 13,
   "metadata": {
    "collapsed": false
   },
   "outputs": [],
   "source": [
    "data = data[data['gross'].str.contains(u'\\$')]"
   ]
  },
  {
   "cell_type": "code",
   "execution_count": 14,
   "metadata": {
    "collapsed": false
   },
   "outputs": [
    {
     "data": {
      "text/plain": [
       "4413"
      ]
     },
     "execution_count": 14,
     "metadata": {},
     "output_type": "execute_result"
    }
   ],
   "source": [
    "len(data)"
   ]
  },
  {
   "cell_type": "code",
   "execution_count": 15,
   "metadata": {
    "collapsed": true
   },
   "outputs": [],
   "source": [
    "data['gross'] = data['gross'].map(lambda x: int(x.replace('$', '').replace(',', '')))"
   ]
  },
  {
   "cell_type": "code",
   "execution_count": 16,
   "metadata": {
    "collapsed": false
   },
   "outputs": [],
   "source": [
    "data['opening'] = data['opening'].map(lambda x: x.split()[0])"
   ]
  },
  {
   "cell_type": "code",
   "execution_count": 17,
   "metadata": {
    "collapsed": true
   },
   "outputs": [],
   "source": [
    "data = data[data['opening'].str.contains(\"[u\\$\\£]\")]"
   ]
  },
  {
   "cell_type": "code",
   "execution_count": 18,
   "metadata": {
    "collapsed": false
   },
   "outputs": [
    {
     "data": {
      "text/plain": [
       "4409"
      ]
     },
     "execution_count": 18,
     "metadata": {},
     "output_type": "execute_result"
    }
   ],
   "source": [
    "len(data)"
   ]
  },
  {
   "cell_type": "code",
   "execution_count": 19,
   "metadata": {
    "collapsed": false
   },
   "outputs": [
    {
     "name": "stdout",
     "output_type": "stream",
     "text": [
      "/title/tt0035423/     $2,562,448\n",
      "/title/tt0116282/       $137,301\n",
      "/title/tt0118589/     $2,414,596\n",
      "/title/tt0118694/        £92,227\n",
      "/title/tt0118926/        £61,622\n",
      "/title/tt0120202/       $580,163\n",
      "/title/tt0120630/    $17,506,162\n",
      "/title/tt0120667/     $2,815,167\n",
      "/title/tt0120679/       $205,996\n",
      "/title/tt0120681/    $11,014,818\n",
      "Name: opening, dtype: object\n",
      "<class 'pandas.core.series.Series'>\n",
      "[2562448, 137301, 2414596, 138340.5, 92433.0, 580163, 17506162, 2815167, 205996, 11014818]\n"
     ]
    }
   ],
   "source": [
    "opening = data['opening']\n",
    "\n",
    "print opening[:10]\n",
    "print type(opening)\n",
    "\n",
    "def convert_pounds(lst):\n",
    "    newlst = []\n",
    "    for item in lst:\n",
    "        item = item.encode('ascii', 'ignore')\n",
    "        if item[0] == u'$':\n",
    "            item = int(item.replace('$', '').replace(',', ''))\n",
    "            newlst.append(item)\n",
    "        else:\n",
    "            item = int(item.replace('£', '').replace(',', '')) * 1.5\n",
    "            newlst.append(item)\n",
    "    return newlst\n",
    "\n",
    "opening2 = convert_pounds(opening)\n",
    "print opening2[:10]\n",
    "\n",
    "data['opening'] = opening2"
   ]
  },
  {
   "cell_type": "code",
   "execution_count": 20,
   "metadata": {
    "collapsed": false
   },
   "outputs": [
    {
     "data": {
      "text/html": [
       "<div>\n",
       "<table border=\"1\" class=\"dataframe\">\n",
       "  <thead>\n",
       "    <tr style=\"text-align: right;\">\n",
       "      <th></th>\n",
       "      <th>country</th>\n",
       "      <th>director</th>\n",
       "      <th>duration</th>\n",
       "      <th>genres</th>\n",
       "      <th>gross</th>\n",
       "      <th>language</th>\n",
       "      <th>lead</th>\n",
       "      <th>metacritic</th>\n",
       "      <th>num_reviews</th>\n",
       "      <th>num_users</th>\n",
       "      <th>opening</th>\n",
       "      <th>rating</th>\n",
       "      <th>release</th>\n",
       "      <th>studio</th>\n",
       "      <th>title</th>\n",
       "      <th>user_score</th>\n",
       "    </tr>\n",
       "  </thead>\n",
       "  <tbody>\n",
       "    <tr>\n",
       "      <th>/title/tt0035423/</th>\n",
       "      <td>USA</td>\n",
       "      <td>James Mangold</td>\n",
       "      <td>118</td>\n",
       "      <td>[Comedy, Fantasy, Romance]</td>\n",
       "      <td>47095453</td>\n",
       "      <td>English</td>\n",
       "      <td>Meg Ryan</td>\n",
       "      <td>44/100</td>\n",
       "      <td>311</td>\n",
       "      <td>59,283</td>\n",
       "      <td>2562448.0</td>\n",
       "      <td>PG-13</td>\n",
       "      <td>2001-12-25</td>\n",
       "      <td>Konrad Pictures</td>\n",
       "      <td>Kate &amp; Leopold</td>\n",
       "      <td>6.3</td>\n",
       "    </tr>\n",
       "    <tr>\n",
       "      <th>/title/tt0116282/</th>\n",
       "      <td>NaN</td>\n",
       "      <td>NaN</td>\n",
       "      <td>98</td>\n",
       "      <td>[Crime, Drama, Thriller]</td>\n",
       "      <td>24611975</td>\n",
       "      <td>NaN</td>\n",
       "      <td>NaN</td>\n",
       "      <td>85/100</td>\n",
       "      <td>NaN</td>\n",
       "      <td>NaN</td>\n",
       "      <td>137301.0</td>\n",
       "      <td>R</td>\n",
       "      <td>1996-04-05</td>\n",
       "      <td>PolyGram Filmed Entertainment</td>\n",
       "      <td>Fargo</td>\n",
       "      <td>NaN</td>\n",
       "    </tr>\n",
       "    <tr>\n",
       "      <th>/title/tt0118589/</th>\n",
       "      <td>USA</td>\n",
       "      <td>Vondie Curtis-Hall</td>\n",
       "      <td>104</td>\n",
       "      <td>[Drama, Music, Romance]</td>\n",
       "      <td>4273372</td>\n",
       "      <td>English</td>\n",
       "      <td>Mariah Carey</td>\n",
       "      <td>14/100</td>\n",
       "      <td>305</td>\n",
       "      <td>18,755</td>\n",
       "      <td>2414596.0</td>\n",
       "      <td>PG-13</td>\n",
       "      <td>2001-09-21</td>\n",
       "      <td>Twentieth Century Fox Film Corporation</td>\n",
       "      <td>Glitter</td>\n",
       "      <td>2.1</td>\n",
       "    </tr>\n",
       "    <tr>\n",
       "      <th>/title/tt0118694/</th>\n",
       "      <td>Hong Kong</td>\n",
       "      <td>Kar Wai Wong</td>\n",
       "      <td>98</td>\n",
       "      <td>[Drama, Romance]</td>\n",
       "      <td>2734044</td>\n",
       "      <td>Cantonese</td>\n",
       "      <td>Tony Chiu Wai Leung</td>\n",
       "      <td>85/100</td>\n",
       "      <td>342</td>\n",
       "      <td>66,416</td>\n",
       "      <td>138340.5</td>\n",
       "      <td>PG</td>\n",
       "      <td>2001-03-09</td>\n",
       "      <td>Block 2 Pictures</td>\n",
       "      <td>In the Mood for Love</td>\n",
       "      <td>8.1</td>\n",
       "    </tr>\n",
       "    <tr>\n",
       "      <th>/title/tt0118926/</th>\n",
       "      <td>Spain</td>\n",
       "      <td>John Malkovich</td>\n",
       "      <td>132</td>\n",
       "      <td>[Drama, Thriller, Crime]</td>\n",
       "      <td>2377348</td>\n",
       "      <td>English</td>\n",
       "      <td>Javier Bardem</td>\n",
       "      <td>64/100</td>\n",
       "      <td>71</td>\n",
       "      <td>5,333</td>\n",
       "      <td>92433.0</td>\n",
       "      <td>R</td>\n",
       "      <td>2003-05-23</td>\n",
       "      <td>Fox Searchlight Pictures</td>\n",
       "      <td>The Dancer Upstairs</td>\n",
       "      <td>7</td>\n",
       "    </tr>\n",
       "  </tbody>\n",
       "</table>\n",
       "</div>"
      ],
      "text/plain": [
       "                     country            director  duration  \\\n",
       "/title/tt0035423/        USA       James Mangold       118   \n",
       "/title/tt0116282/        NaN                 NaN        98   \n",
       "/title/tt0118589/        USA  Vondie Curtis-Hall       104   \n",
       "/title/tt0118694/  Hong Kong        Kar Wai Wong        98   \n",
       "/title/tt0118926/      Spain      John Malkovich       132   \n",
       "\n",
       "                                       genres     gross   language  \\\n",
       "/title/tt0035423/  [Comedy, Fantasy, Romance]  47095453    English   \n",
       "/title/tt0116282/    [Crime, Drama, Thriller]  24611975        NaN   \n",
       "/title/tt0118589/     [Drama, Music, Romance]   4273372    English   \n",
       "/title/tt0118694/            [Drama, Romance]   2734044  Cantonese   \n",
       "/title/tt0118926/    [Drama, Thriller, Crime]   2377348    English   \n",
       "\n",
       "                                  lead metacritic num_reviews num_users  \\\n",
       "/title/tt0035423/             Meg Ryan     44/100         311    59,283   \n",
       "/title/tt0116282/                  NaN     85/100         NaN       NaN   \n",
       "/title/tt0118589/         Mariah Carey     14/100         305    18,755   \n",
       "/title/tt0118694/  Tony Chiu Wai Leung     85/100         342    66,416   \n",
       "/title/tt0118926/        Javier Bardem     64/100          71     5,333   \n",
       "\n",
       "                     opening rating     release  \\\n",
       "/title/tt0035423/  2562448.0  PG-13  2001-12-25   \n",
       "/title/tt0116282/   137301.0      R  1996-04-05   \n",
       "/title/tt0118589/  2414596.0  PG-13  2001-09-21   \n",
       "/title/tt0118694/   138340.5     PG  2001-03-09   \n",
       "/title/tt0118926/    92433.0      R  2003-05-23   \n",
       "\n",
       "                                                   studio  \\\n",
       "/title/tt0035423/                         Konrad Pictures   \n",
       "/title/tt0116282/           PolyGram Filmed Entertainment   \n",
       "/title/tt0118589/  Twentieth Century Fox Film Corporation   \n",
       "/title/tt0118694/                        Block 2 Pictures   \n",
       "/title/tt0118926/                Fox Searchlight Pictures   \n",
       "\n",
       "                                  title user_score  \n",
       "/title/tt0035423/        Kate & Leopold        6.3  \n",
       "/title/tt0116282/                 Fargo        NaN  \n",
       "/title/tt0118589/               Glitter        2.1  \n",
       "/title/tt0118694/  In the Mood for Love        8.1  \n",
       "/title/tt0118926/   The Dancer Upstairs          7  "
      ]
     },
     "execution_count": 20,
     "metadata": {},
     "output_type": "execute_result"
    }
   ],
   "source": [
    "data.head()"
   ]
  },
  {
   "cell_type": "code",
   "execution_count": 21,
   "metadata": {
    "collapsed": false,
    "scrolled": false
   },
   "outputs": [
    {
     "data": {
      "text/plain": [
       "country         object\n",
       "director        object\n",
       "duration         int64\n",
       "genres          object\n",
       "gross            int64\n",
       "language        object\n",
       "lead            object\n",
       "metacritic      object\n",
       "num_reviews     object\n",
       "num_users       object\n",
       "opening        float64\n",
       "rating          object\n",
       "release         object\n",
       "studio          object\n",
       "title           object\n",
       "user_score      object\n",
       "dtype: object"
      ]
     },
     "execution_count": 21,
     "metadata": {},
     "output_type": "execute_result"
    }
   ],
   "source": [
    "data.dtypes"
   ]
  },
  {
   "cell_type": "code",
   "execution_count": 22,
   "metadata": {
    "collapsed": true
   },
   "outputs": [],
   "source": [
    "data['user_score'] = data['user_score'].map(lambda x: float(str(x)))"
   ]
  },
  {
   "cell_type": "code",
   "execution_count": 27,
   "metadata": {
    "collapsed": false
   },
   "outputs": [
    {
     "data": {
      "text/html": [
       "<div>\n",
       "<table border=\"1\" class=\"dataframe\">\n",
       "  <thead>\n",
       "    <tr style=\"text-align: right;\">\n",
       "      <th></th>\n",
       "      <th>country</th>\n",
       "      <th>director</th>\n",
       "      <th>duration</th>\n",
       "      <th>genres</th>\n",
       "      <th>gross</th>\n",
       "      <th>language</th>\n",
       "      <th>lead</th>\n",
       "      <th>metacritic</th>\n",
       "      <th>num_reviews</th>\n",
       "      <th>num_users</th>\n",
       "      <th>opening</th>\n",
       "      <th>rating</th>\n",
       "      <th>release</th>\n",
       "      <th>studio</th>\n",
       "      <th>title</th>\n",
       "      <th>user_score</th>\n",
       "    </tr>\n",
       "  </thead>\n",
       "  <tbody>\n",
       "    <tr>\n",
       "      <th>/title/tt0035423/</th>\n",
       "      <td>USA</td>\n",
       "      <td>James Mangold</td>\n",
       "      <td>118</td>\n",
       "      <td>[Comedy, Fantasy, Romance]</td>\n",
       "      <td>47095453</td>\n",
       "      <td>English</td>\n",
       "      <td>Meg Ryan</td>\n",
       "      <td>44/100</td>\n",
       "      <td>311</td>\n",
       "      <td>59,283</td>\n",
       "      <td>2562448.0</td>\n",
       "      <td>PG-13</td>\n",
       "      <td>2001-12-25</td>\n",
       "      <td>Konrad Pictures</td>\n",
       "      <td>Kate &amp; Leopold</td>\n",
       "      <td>6.3</td>\n",
       "    </tr>\n",
       "    <tr>\n",
       "      <th>/title/tt0118589/</th>\n",
       "      <td>USA</td>\n",
       "      <td>Vondie Curtis-Hall</td>\n",
       "      <td>104</td>\n",
       "      <td>[Drama, Music, Romance]</td>\n",
       "      <td>4273372</td>\n",
       "      <td>English</td>\n",
       "      <td>Mariah Carey</td>\n",
       "      <td>14/100</td>\n",
       "      <td>305</td>\n",
       "      <td>18,755</td>\n",
       "      <td>2414596.0</td>\n",
       "      <td>PG-13</td>\n",
       "      <td>2001-09-21</td>\n",
       "      <td>Twentieth Century Fox Film Corporation</td>\n",
       "      <td>Glitter</td>\n",
       "      <td>2.1</td>\n",
       "    </tr>\n",
       "    <tr>\n",
       "      <th>/title/tt0118694/</th>\n",
       "      <td>Hong Kong</td>\n",
       "      <td>Kar Wai Wong</td>\n",
       "      <td>98</td>\n",
       "      <td>[Drama, Romance]</td>\n",
       "      <td>2734044</td>\n",
       "      <td>Cantonese</td>\n",
       "      <td>Tony Chiu Wai Leung</td>\n",
       "      <td>85/100</td>\n",
       "      <td>342</td>\n",
       "      <td>66,416</td>\n",
       "      <td>138340.5</td>\n",
       "      <td>PG</td>\n",
       "      <td>2001-03-09</td>\n",
       "      <td>Block 2 Pictures</td>\n",
       "      <td>In the Mood for Love</td>\n",
       "      <td>8.1</td>\n",
       "    </tr>\n",
       "    <tr>\n",
       "      <th>/title/tt0118926/</th>\n",
       "      <td>Spain</td>\n",
       "      <td>John Malkovich</td>\n",
       "      <td>132</td>\n",
       "      <td>[Drama, Thriller, Crime]</td>\n",
       "      <td>2377348</td>\n",
       "      <td>English</td>\n",
       "      <td>Javier Bardem</td>\n",
       "      <td>64/100</td>\n",
       "      <td>71</td>\n",
       "      <td>5,333</td>\n",
       "      <td>92433.0</td>\n",
       "      <td>R</td>\n",
       "      <td>2003-05-23</td>\n",
       "      <td>Fox Searchlight Pictures</td>\n",
       "      <td>The Dancer Upstairs</td>\n",
       "      <td>7.0</td>\n",
       "    </tr>\n",
       "    <tr>\n",
       "      <th>/title/tt0120202/</th>\n",
       "      <td>France</td>\n",
       "      <td>David Mamet</td>\n",
       "      <td>105</td>\n",
       "      <td>[Comedy, Drama]</td>\n",
       "      <td>6920692</td>\n",
       "      <td>English</td>\n",
       "      <td>Philip Seymour Hoffman</td>\n",
       "      <td>75/100</td>\n",
       "      <td>169</td>\n",
       "      <td>17,670</td>\n",
       "      <td>580163.0</td>\n",
       "      <td>R</td>\n",
       "      <td>2001-01-12</td>\n",
       "      <td>Filmtown Entertainment</td>\n",
       "      <td>State and Main</td>\n",
       "      <td>6.8</td>\n",
       "    </tr>\n",
       "  </tbody>\n",
       "</table>\n",
       "</div>"
      ],
      "text/plain": [
       "                     country            director  duration  \\\n",
       "/title/tt0035423/        USA       James Mangold       118   \n",
       "/title/tt0118589/        USA  Vondie Curtis-Hall       104   \n",
       "/title/tt0118694/  Hong Kong        Kar Wai Wong        98   \n",
       "/title/tt0118926/      Spain      John Malkovich       132   \n",
       "/title/tt0120202/     France         David Mamet       105   \n",
       "\n",
       "                                       genres     gross   language  \\\n",
       "/title/tt0035423/  [Comedy, Fantasy, Romance]  47095453    English   \n",
       "/title/tt0118589/     [Drama, Music, Romance]   4273372    English   \n",
       "/title/tt0118694/            [Drama, Romance]   2734044  Cantonese   \n",
       "/title/tt0118926/    [Drama, Thriller, Crime]   2377348    English   \n",
       "/title/tt0120202/             [Comedy, Drama]   6920692    English   \n",
       "\n",
       "                                     lead metacritic num_reviews num_users  \\\n",
       "/title/tt0035423/                Meg Ryan     44/100         311    59,283   \n",
       "/title/tt0118589/            Mariah Carey     14/100         305    18,755   \n",
       "/title/tt0118694/     Tony Chiu Wai Leung     85/100         342    66,416   \n",
       "/title/tt0118926/           Javier Bardem     64/100          71     5,333   \n",
       "/title/tt0120202/  Philip Seymour Hoffman     75/100         169    17,670   \n",
       "\n",
       "                     opening rating     release  \\\n",
       "/title/tt0035423/  2562448.0  PG-13  2001-12-25   \n",
       "/title/tt0118589/  2414596.0  PG-13  2001-09-21   \n",
       "/title/tt0118694/   138340.5     PG  2001-03-09   \n",
       "/title/tt0118926/    92433.0      R  2003-05-23   \n",
       "/title/tt0120202/   580163.0      R  2001-01-12   \n",
       "\n",
       "                                                   studio  \\\n",
       "/title/tt0035423/                         Konrad Pictures   \n",
       "/title/tt0118589/  Twentieth Century Fox Film Corporation   \n",
       "/title/tt0118694/                        Block 2 Pictures   \n",
       "/title/tt0118926/                Fox Searchlight Pictures   \n",
       "/title/tt0120202/                  Filmtown Entertainment   \n",
       "\n",
       "                                  title  user_score  \n",
       "/title/tt0035423/        Kate & Leopold         6.3  \n",
       "/title/tt0118589/               Glitter         2.1  \n",
       "/title/tt0118694/  In the Mood for Love         8.1  \n",
       "/title/tt0118926/   The Dancer Upstairs         7.0  \n",
       "/title/tt0120202/        State and Main         6.8  "
      ]
     },
     "execution_count": 27,
     "metadata": {},
     "output_type": "execute_result"
    }
   ],
   "source": [
    "data.head()"
   ]
  },
  {
   "cell_type": "code",
   "execution_count": 26,
   "metadata": {
    "collapsed": false
   },
   "outputs": [],
   "source": [
    "data = data[data['user_score'] >= 0]"
   ]
  },
  {
   "cell_type": "code",
   "execution_count": 28,
   "metadata": {
    "collapsed": false
   },
   "outputs": [
    {
     "data": {
      "text/plain": [
       "4112"
      ]
     },
     "execution_count": 28,
     "metadata": {},
     "output_type": "execute_result"
    }
   ],
   "source": [
    "len(data)"
   ]
  },
  {
   "cell_type": "code",
   "execution_count": 32,
   "metadata": {
    "collapsed": false
   },
   "outputs": [],
   "source": [
    "data['metacritic'] = data['metacritic'].map(lambda x: int(x.split('/')[0]))"
   ]
  },
  {
   "cell_type": "code",
   "execution_count": 33,
   "metadata": {
    "collapsed": false
   },
   "outputs": [
    {
     "data": {
      "text/plain": [
       "country                      USA\n",
       "director       Richard Linklater\n",
       "duration                     165\n",
       "genres                   [Drama]\n",
       "gross                   25359200\n",
       "language                 English\n",
       "lead              Ellar Coltrane\n",
       "metacritic                   100\n",
       "num_reviews                  762\n",
       "num_users                214,868\n",
       "opening                   387618\n",
       "rating                         R\n",
       "release               2014-08-15\n",
       "studio           IFC Productions\n",
       "title                    Boyhood\n",
       "user_score                     8\n",
       "Name: /title/tt1065073/, dtype: object"
      ]
     },
     "execution_count": 33,
     "metadata": {},
     "output_type": "execute_result"
    }
   ],
   "source": [
    "data.loc[data['metacritic'].idxmax()]"
   ]
  },
  {
   "cell_type": "code",
   "execution_count": 34,
   "metadata": {
    "collapsed": false,
    "scrolled": true
   },
   "outputs": [
    {
     "data": {
      "text/plain": [
       "country                                           USA\n",
       "director                                James Cameron\n",
       "duration                                          162\n",
       "genres                   [Action, Adventure, Fantasy]\n",
       "gross                                       760507625\n",
       "language                                      English\n",
       "lead                                  Sam Worthington\n",
       "metacritic                                         83\n",
       "num_reviews                                     3,020\n",
       "num_users                                     797,901\n",
       "opening                                  1.276358e+07\n",
       "rating                                          PG-13\n",
       "release                                    2009-12-18\n",
       "studio         Twentieth Century Fox Film Corporation\n",
       "title                                          Avatar\n",
       "user_score                                        7.9\n",
       "Name: /title/tt0499549/, dtype: object"
      ]
     },
     "execution_count": 34,
     "metadata": {},
     "output_type": "execute_result"
    }
   ],
   "source": [
    "data.loc[data['gross'].idxmax()]"
   ]
  },
  {
   "cell_type": "code",
   "execution_count": 35,
   "metadata": {
    "collapsed": true
   },
   "outputs": [],
   "source": [
    "high = data[data['metacritic'] > 90]"
   ]
  },
  {
   "cell_type": "code",
   "execution_count": 36,
   "metadata": {
    "collapsed": false,
    "scrolled": true
   },
   "outputs": [
    {
     "data": {
      "text/html": [
       "<div>\n",
       "<table border=\"1\" class=\"dataframe\">\n",
       "  <thead>\n",
       "    <tr style=\"text-align: right;\">\n",
       "      <th></th>\n",
       "      <th>country</th>\n",
       "      <th>director</th>\n",
       "      <th>duration</th>\n",
       "      <th>genres</th>\n",
       "      <th>gross</th>\n",
       "      <th>language</th>\n",
       "      <th>lead</th>\n",
       "      <th>metacritic</th>\n",
       "      <th>num_reviews</th>\n",
       "      <th>num_users</th>\n",
       "      <th>opening</th>\n",
       "      <th>rating</th>\n",
       "      <th>release</th>\n",
       "      <th>studio</th>\n",
       "      <th>title</th>\n",
       "      <th>user_score</th>\n",
       "    </tr>\n",
       "  </thead>\n",
       "  <tbody>\n",
       "    <tr>\n",
       "      <th>/title/tt1065073/</th>\n",
       "      <td>USA</td>\n",
       "      <td>Richard Linklater</td>\n",
       "      <td>165</td>\n",
       "      <td>[Drama]</td>\n",
       "      <td>25359200</td>\n",
       "      <td>English</td>\n",
       "      <td>Ellar Coltrane</td>\n",
       "      <td>100</td>\n",
       "      <td>762</td>\n",
       "      <td>214,868</td>\n",
       "      <td>387618</td>\n",
       "      <td>R</td>\n",
       "      <td>2014-08-15</td>\n",
       "      <td>IFC Productions</td>\n",
       "      <td>Boyhood</td>\n",
       "      <td>8.0</td>\n",
       "    </tr>\n",
       "    <tr>\n",
       "      <th>/title/tt0457430/</th>\n",
       "      <td>Spain</td>\n",
       "      <td>Guillermo del Toro</td>\n",
       "      <td>118</td>\n",
       "      <td>[Drama, Fantasy, War]</td>\n",
       "      <td>37623143</td>\n",
       "      <td>Spanish</td>\n",
       "      <td>Ivana Baquero</td>\n",
       "      <td>98</td>\n",
       "      <td>1,056</td>\n",
       "      <td>413,099</td>\n",
       "      <td>501691</td>\n",
       "      <td>R</td>\n",
       "      <td>2007-01-19</td>\n",
       "      <td>Estudios Picasso</td>\n",
       "      <td>Pan's Labyrinth</td>\n",
       "      <td>8.3</td>\n",
       "    </tr>\n",
       "    <tr>\n",
       "      <th>/title/tt1032846/</th>\n",
       "      <td>Romania</td>\n",
       "      <td>Cristian Mungiu</td>\n",
       "      <td>113</td>\n",
       "      <td>[Drama]</td>\n",
       "      <td>1185783</td>\n",
       "      <td>Romanian</td>\n",
       "      <td>Anamaria Marinca</td>\n",
       "      <td>97</td>\n",
       "      <td>171</td>\n",
       "      <td>42,166</td>\n",
       "      <td>51712</td>\n",
       "      <td>NOT RATED</td>\n",
       "      <td>2007-09-14</td>\n",
       "      <td>Mobra Films</td>\n",
       "      <td>4 Months, 3 Weeks and 2 Days</td>\n",
       "      <td>7.9</td>\n",
       "    </tr>\n",
       "    <tr>\n",
       "      <th>/title/tt2024544/</th>\n",
       "      <td>USA</td>\n",
       "      <td>Steve McQueen</td>\n",
       "      <td>134</td>\n",
       "      <td>[Biography, Drama, History]</td>\n",
       "      <td>56667870</td>\n",
       "      <td>English</td>\n",
       "      <td>Chiwetel Ejiofor</td>\n",
       "      <td>97</td>\n",
       "      <td>637</td>\n",
       "      <td>353,468</td>\n",
       "      <td>923715</td>\n",
       "      <td>R</td>\n",
       "      <td>2013-11-08</td>\n",
       "      <td>Regency Enterprises</td>\n",
       "      <td>12 Years a Slave</td>\n",
       "      <td>8.1</td>\n",
       "    </tr>\n",
       "    <tr>\n",
       "      <th>/title/tt1454468/</th>\n",
       "      <td>USA</td>\n",
       "      <td>Alfonso Cuarón</td>\n",
       "      <td>91</td>\n",
       "      <td>[Sci-Fi, Thriller]</td>\n",
       "      <td>274086615</td>\n",
       "      <td>English</td>\n",
       "      <td>Sandra Bullock</td>\n",
       "      <td>96</td>\n",
       "      <td>1,826</td>\n",
       "      <td>510,236</td>\n",
       "      <td>55785112</td>\n",
       "      <td>PG-13</td>\n",
       "      <td>2013-10-04</td>\n",
       "      <td>Warner Bros.</td>\n",
       "      <td>Gravity</td>\n",
       "      <td>7.9</td>\n",
       "    </tr>\n",
       "  </tbody>\n",
       "</table>\n",
       "</div>"
      ],
      "text/plain": [
       "                   country            director  duration  \\\n",
       "/title/tt1065073/      USA   Richard Linklater       165   \n",
       "/title/tt0457430/    Spain  Guillermo del Toro       118   \n",
       "/title/tt1032846/  Romania     Cristian Mungiu       113   \n",
       "/title/tt2024544/      USA       Steve McQueen       134   \n",
       "/title/tt1454468/      USA      Alfonso Cuarón        91   \n",
       "\n",
       "                                        genres      gross  language  \\\n",
       "/title/tt1065073/                      [Drama]   25359200   English   \n",
       "/title/tt0457430/        [Drama, Fantasy, War]   37623143   Spanish   \n",
       "/title/tt1032846/                      [Drama]    1185783  Romanian   \n",
       "/title/tt2024544/  [Biography, Drama, History]   56667870   English   \n",
       "/title/tt1454468/           [Sci-Fi, Thriller]  274086615   English   \n",
       "\n",
       "                               lead  metacritic num_reviews num_users  \\\n",
       "/title/tt1065073/    Ellar Coltrane         100         762   214,868   \n",
       "/title/tt0457430/     Ivana Baquero          98       1,056   413,099   \n",
       "/title/tt1032846/  Anamaria Marinca          97         171    42,166   \n",
       "/title/tt2024544/  Chiwetel Ejiofor          97         637   353,468   \n",
       "/title/tt1454468/    Sandra Bullock          96       1,826   510,236   \n",
       "\n",
       "                    opening     rating     release               studio  \\\n",
       "/title/tt1065073/    387618          R  2014-08-15      IFC Productions   \n",
       "/title/tt0457430/    501691          R  2007-01-19     Estudios Picasso   \n",
       "/title/tt1032846/     51712  NOT RATED  2007-09-14          Mobra Films   \n",
       "/title/tt2024544/    923715          R  2013-11-08  Regency Enterprises   \n",
       "/title/tt1454468/  55785112      PG-13  2013-10-04         Warner Bros.   \n",
       "\n",
       "                                          title  user_score  \n",
       "/title/tt1065073/                       Boyhood         8.0  \n",
       "/title/tt0457430/               Pan's Labyrinth         8.3  \n",
       "/title/tt1032846/  4 Months, 3 Weeks and 2 Days         7.9  \n",
       "/title/tt2024544/              12 Years a Slave         8.1  \n",
       "/title/tt1454468/                       Gravity         7.9  "
      ]
     },
     "execution_count": 36,
     "metadata": {},
     "output_type": "execute_result"
    }
   ],
   "source": [
    "high.sort(['metacritic'], ascending=False).head()"
   ]
  },
  {
   "cell_type": "code",
   "execution_count": 37,
   "metadata": {
    "collapsed": false
   },
   "outputs": [
    {
     "data": {
      "text/plain": [
       "54.806181246726034"
      ]
     },
     "execution_count": 37,
     "metadata": {},
     "output_type": "execute_result"
    }
   ],
   "source": [
    "data.metacritic.mean()"
   ]
  },
  {
   "cell_type": "code",
   "execution_count": 38,
   "metadata": {
    "collapsed": false
   },
   "outputs": [],
   "source": [
    "low_gross = data[data['gross'] < 150000]"
   ]
  },
  {
   "cell_type": "code",
   "execution_count": 39,
   "metadata": {
    "collapsed": false
   },
   "outputs": [
    {
     "data": {
      "text/plain": [
       "57.592841163310965"
      ]
     },
     "execution_count": 39,
     "metadata": {},
     "output_type": "execute_result"
    }
   ],
   "source": [
    "low_gross.metacritic.mean()"
   ]
  },
  {
   "cell_type": "code",
   "execution_count": 40,
   "metadata": {
    "collapsed": true
   },
   "outputs": [],
   "source": [
    "data['release'] = pd.to_datetime(data['release'])"
   ]
  },
  {
   "cell_type": "code",
   "execution_count": 41,
   "metadata": {
    "collapsed": true
   },
   "outputs": [],
   "source": [
    "data = data[data['release'] >= '2000-01-10 00:00:00']"
   ]
  },
  {
   "cell_type": "code",
   "execution_count": 42,
   "metadata": {
    "collapsed": true
   },
   "outputs": [],
   "source": [
    "data = data[data['duration'] >= 80]"
   ]
  },
  {
   "cell_type": "code",
   "execution_count": 43,
   "metadata": {
    "collapsed": false
   },
   "outputs": [
    {
     "data": {
      "text/plain": [
       "3778"
      ]
     },
     "execution_count": 43,
     "metadata": {},
     "output_type": "execute_result"
    }
   ],
   "source": [
    "len(data)"
   ]
  },
  {
   "cell_type": "code",
   "execution_count": 44,
   "metadata": {
    "collapsed": false
   },
   "outputs": [],
   "source": [
    "data['month'] = data['release'].map(lambda x: x.month)"
   ]
  },
  {
   "cell_type": "code",
   "execution_count": 45,
   "metadata": {
    "collapsed": false,
    "scrolled": true
   },
   "outputs": [
    {
     "data": {
      "text/plain": [
       "country                object\n",
       "director               object\n",
       "duration                int64\n",
       "genres                 object\n",
       "gross                   int64\n",
       "language               object\n",
       "lead                   object\n",
       "metacritic              int64\n",
       "num_reviews            object\n",
       "num_users              object\n",
       "opening               float64\n",
       "rating                 object\n",
       "release        datetime64[ns]\n",
       "studio                 object\n",
       "title                  object\n",
       "user_score            float64\n",
       "month                   int64\n",
       "dtype: object"
      ]
     },
     "execution_count": 45,
     "metadata": {},
     "output_type": "execute_result"
    }
   ],
   "source": [
    "data.dtypes"
   ]
  },
  {
   "cell_type": "code",
   "execution_count": 46,
   "metadata": {
    "collapsed": false
   },
   "outputs": [
    {
     "data": {
      "text/plain": [
       "R            1701\n",
       "PG-13        1277\n",
       "PG            398\n",
       "UNKNOWN       152\n",
       "NOT RATED     113\n",
       "UNRATED        83\n",
       "G              41\n",
       "NC-17          13\n",
       "dtype: int64"
      ]
     },
     "execution_count": 46,
     "metadata": {},
     "output_type": "execute_result"
    }
   ],
   "source": [
    "data['rating'].value_counts()"
   ]
  },
  {
   "cell_type": "code",
   "execution_count": 47,
   "metadata": {
    "collapsed": false
   },
   "outputs": [
    {
     "name": "stderr",
     "output_type": "stream",
     "text": [
      "/Users/emilyschuch/anaconda/lib/python2.7/site-packages/IPython/kernel/__main__.py:2: SettingWithCopyWarning: \n",
      "A value is trying to be set on a copy of a slice from a DataFrame\n",
      "\n",
      "See the the caveats in the documentation: http://pandas.pydata.org/pandas-docs/stable/indexing.html#indexing-view-versus-copy\n",
      "  from IPython.kernel.zmq import kernelapp as app\n",
      "/Users/emilyschuch/anaconda/lib/python2.7/site-packages/IPython/kernel/__main__.py:5: SettingWithCopyWarning: \n",
      "A value is trying to be set on a copy of a slice from a DataFrame\n",
      "\n",
      "See the the caveats in the documentation: http://pandas.pydata.org/pandas-docs/stable/indexing.html#indexing-view-versus-copy\n"
     ]
    },
    {
     "data": {
      "text/plain": [
       "R          1701\n",
       "PG-13      1277\n",
       "PG          398\n",
       "UNRATED     348\n",
       "G            41\n",
       "NC-17        13\n",
       "dtype: int64"
      ]
     },
     "execution_count": 47,
     "metadata": {},
     "output_type": "execute_result"
    }
   ],
   "source": [
    "not_rated = data['rating'] == 'NOT RATED'\n",
    "data['rating'][not_rated] = 'UNRATED'\n",
    "\n",
    "unknown = data['rating'] == 'UNKNOWN'\n",
    "data['rating'][unknown] = 'UNRATED'\n",
    "\n",
    "data['rating'].value_counts()"
   ]
  },
  {
   "cell_type": "code",
   "execution_count": 48,
   "metadata": {
    "collapsed": false,
    "scrolled": true
   },
   "outputs": [
    {
     "name": "stdout",
     "output_type": "stream",
     "text": [
      "Universal Pictures\n",
      "Warner Bros.\n",
      "Paramount Pictures\n",
      "Twentieth Century Fox Film Corporation\n",
      "New Line Cinema\n",
      "Columbia Pictures\n",
      "Columbia Pictures Corporation\n",
      "DreamWorks SKG\n",
      "Walt Disney Pictures\n",
      "Touchstone Pictures\n",
      "Fox Searchlight Pictures\n",
      "Metro-Goldwyn-Mayer (MGM)\n",
      "Screen Gems\n",
      "Miramax\n",
      "Fox 2000 Pictures\n",
      "Dimension Films\n",
      "Lionsgate\n",
      "Revolution Studios\n",
      "Focus Features\n",
      "Summit Entertainment\n"
     ]
    }
   ],
   "source": [
    "studios = data.groupby(['studio'])\n",
    "\n",
    "studios_freq = studios.filter(lambda x: len(x) > 10)\n",
    "top_studios = studios_freq.groupby(['studio']).size().order(ascending=False)[:20]\n",
    "\n",
    "\n",
    "for studio in top_studios.index:\n",
    "    print studio"
   ]
  },
  {
   "cell_type": "code",
   "execution_count": 49,
   "metadata": {
    "collapsed": false
   },
   "outputs": [],
   "source": [
    "all_genres = set(data['genres'].sum())"
   ]
  },
  {
   "cell_type": "code",
   "execution_count": 50,
   "metadata": {
    "collapsed": false,
    "scrolled": true
   },
   "outputs": [
    {
     "data": {
      "text/plain": [
       "{'Action',\n",
       " 'Adventure',\n",
       " 'Animation',\n",
       " 'Biography',\n",
       " 'Comedy',\n",
       " 'Crime',\n",
       " 'Drama',\n",
       " 'Family',\n",
       " 'Fantasy',\n",
       " 'History',\n",
       " 'Horror',\n",
       " 'Music',\n",
       " 'Musical',\n",
       " 'Mystery',\n",
       " 'Romance',\n",
       " 'Sci-Fi',\n",
       " 'Sport',\n",
       " 'Thriller',\n",
       " 'War',\n",
       " 'Western'}"
      ]
     },
     "execution_count": 50,
     "metadata": {},
     "output_type": "execute_result"
    }
   ],
   "source": [
    "all_genres"
   ]
  },
  {
   "cell_type": "code",
   "execution_count": 51,
   "metadata": {
    "collapsed": true
   },
   "outputs": [],
   "source": [
    "data['genres'] = data['genres'].map(lambda x: '_'.join(x))"
   ]
  },
  {
   "cell_type": "code",
   "execution_count": 52,
   "metadata": {
    "collapsed": false,
    "scrolled": true
   },
   "outputs": [
    {
     "data": {
      "text/html": [
       "<div>\n",
       "<table border=\"1\" class=\"dataframe\">\n",
       "  <thead>\n",
       "    <tr style=\"text-align: right;\">\n",
       "      <th></th>\n",
       "      <th>country</th>\n",
       "      <th>director</th>\n",
       "      <th>duration</th>\n",
       "      <th>genres</th>\n",
       "      <th>gross</th>\n",
       "      <th>language</th>\n",
       "      <th>lead</th>\n",
       "      <th>metacritic</th>\n",
       "      <th>num_reviews</th>\n",
       "      <th>num_users</th>\n",
       "      <th>opening</th>\n",
       "      <th>rating</th>\n",
       "      <th>release</th>\n",
       "      <th>studio</th>\n",
       "      <th>title</th>\n",
       "      <th>user_score</th>\n",
       "      <th>month</th>\n",
       "    </tr>\n",
       "  </thead>\n",
       "  <tbody>\n",
       "    <tr>\n",
       "      <th>/title/tt0035423/</th>\n",
       "      <td>USA</td>\n",
       "      <td>James Mangold</td>\n",
       "      <td>118</td>\n",
       "      <td>Comedy_Fantasy_Romance</td>\n",
       "      <td>47095453</td>\n",
       "      <td>English</td>\n",
       "      <td>Meg Ryan</td>\n",
       "      <td>44</td>\n",
       "      <td>311</td>\n",
       "      <td>59,283</td>\n",
       "      <td>2562448.0</td>\n",
       "      <td>PG-13</td>\n",
       "      <td>2001-12-25</td>\n",
       "      <td>Konrad Pictures</td>\n",
       "      <td>Kate &amp; Leopold</td>\n",
       "      <td>6.3</td>\n",
       "      <td>12</td>\n",
       "    </tr>\n",
       "    <tr>\n",
       "      <th>/title/tt0118589/</th>\n",
       "      <td>USA</td>\n",
       "      <td>Vondie Curtis-Hall</td>\n",
       "      <td>104</td>\n",
       "      <td>Drama_Music_Romance</td>\n",
       "      <td>4273372</td>\n",
       "      <td>English</td>\n",
       "      <td>Mariah Carey</td>\n",
       "      <td>14</td>\n",
       "      <td>305</td>\n",
       "      <td>18,755</td>\n",
       "      <td>2414596.0</td>\n",
       "      <td>PG-13</td>\n",
       "      <td>2001-09-21</td>\n",
       "      <td>Twentieth Century Fox Film Corporation</td>\n",
       "      <td>Glitter</td>\n",
       "      <td>2.1</td>\n",
       "      <td>9</td>\n",
       "    </tr>\n",
       "    <tr>\n",
       "      <th>/title/tt0118694/</th>\n",
       "      <td>Hong Kong</td>\n",
       "      <td>Kar Wai Wong</td>\n",
       "      <td>98</td>\n",
       "      <td>Drama_Romance</td>\n",
       "      <td>2734044</td>\n",
       "      <td>Cantonese</td>\n",
       "      <td>Tony Chiu Wai Leung</td>\n",
       "      <td>85</td>\n",
       "      <td>342</td>\n",
       "      <td>66,416</td>\n",
       "      <td>138340.5</td>\n",
       "      <td>PG</td>\n",
       "      <td>2001-03-09</td>\n",
       "      <td>Block 2 Pictures</td>\n",
       "      <td>In the Mood for Love</td>\n",
       "      <td>8.1</td>\n",
       "      <td>3</td>\n",
       "    </tr>\n",
       "    <tr>\n",
       "      <th>/title/tt0118926/</th>\n",
       "      <td>Spain</td>\n",
       "      <td>John Malkovich</td>\n",
       "      <td>132</td>\n",
       "      <td>Drama_Thriller_Crime</td>\n",
       "      <td>2377348</td>\n",
       "      <td>English</td>\n",
       "      <td>Javier Bardem</td>\n",
       "      <td>64</td>\n",
       "      <td>71</td>\n",
       "      <td>5,333</td>\n",
       "      <td>92433.0</td>\n",
       "      <td>R</td>\n",
       "      <td>2003-05-23</td>\n",
       "      <td>Fox Searchlight Pictures</td>\n",
       "      <td>The Dancer Upstairs</td>\n",
       "      <td>7.0</td>\n",
       "      <td>5</td>\n",
       "    </tr>\n",
       "    <tr>\n",
       "      <th>/title/tt0120202/</th>\n",
       "      <td>France</td>\n",
       "      <td>David Mamet</td>\n",
       "      <td>105</td>\n",
       "      <td>Comedy_Drama</td>\n",
       "      <td>6920692</td>\n",
       "      <td>English</td>\n",
       "      <td>Philip Seymour Hoffman</td>\n",
       "      <td>75</td>\n",
       "      <td>169</td>\n",
       "      <td>17,670</td>\n",
       "      <td>580163.0</td>\n",
       "      <td>R</td>\n",
       "      <td>2001-01-12</td>\n",
       "      <td>Filmtown Entertainment</td>\n",
       "      <td>State and Main</td>\n",
       "      <td>6.8</td>\n",
       "      <td>1</td>\n",
       "    </tr>\n",
       "  </tbody>\n",
       "</table>\n",
       "</div>"
      ],
      "text/plain": [
       "                     country            director  duration  \\\n",
       "/title/tt0035423/        USA       James Mangold       118   \n",
       "/title/tt0118589/        USA  Vondie Curtis-Hall       104   \n",
       "/title/tt0118694/  Hong Kong        Kar Wai Wong        98   \n",
       "/title/tt0118926/      Spain      John Malkovich       132   \n",
       "/title/tt0120202/     France         David Mamet       105   \n",
       "\n",
       "                                   genres     gross   language  \\\n",
       "/title/tt0035423/  Comedy_Fantasy_Romance  47095453    English   \n",
       "/title/tt0118589/     Drama_Music_Romance   4273372    English   \n",
       "/title/tt0118694/           Drama_Romance   2734044  Cantonese   \n",
       "/title/tt0118926/    Drama_Thriller_Crime   2377348    English   \n",
       "/title/tt0120202/            Comedy_Drama   6920692    English   \n",
       "\n",
       "                                     lead  metacritic num_reviews num_users  \\\n",
       "/title/tt0035423/                Meg Ryan          44         311    59,283   \n",
       "/title/tt0118589/            Mariah Carey          14         305    18,755   \n",
       "/title/tt0118694/     Tony Chiu Wai Leung          85         342    66,416   \n",
       "/title/tt0118926/           Javier Bardem          64          71     5,333   \n",
       "/title/tt0120202/  Philip Seymour Hoffman          75         169    17,670   \n",
       "\n",
       "                     opening rating    release  \\\n",
       "/title/tt0035423/  2562448.0  PG-13 2001-12-25   \n",
       "/title/tt0118589/  2414596.0  PG-13 2001-09-21   \n",
       "/title/tt0118694/   138340.5     PG 2001-03-09   \n",
       "/title/tt0118926/    92433.0      R 2003-05-23   \n",
       "/title/tt0120202/   580163.0      R 2001-01-12   \n",
       "\n",
       "                                                   studio  \\\n",
       "/title/tt0035423/                         Konrad Pictures   \n",
       "/title/tt0118589/  Twentieth Century Fox Film Corporation   \n",
       "/title/tt0118694/                        Block 2 Pictures   \n",
       "/title/tt0118926/                Fox Searchlight Pictures   \n",
       "/title/tt0120202/                  Filmtown Entertainment   \n",
       "\n",
       "                                  title  user_score  month  \n",
       "/title/tt0035423/        Kate & Leopold         6.3     12  \n",
       "/title/tt0118589/               Glitter         2.1      9  \n",
       "/title/tt0118694/  In the Mood for Love         8.1      3  \n",
       "/title/tt0118926/   The Dancer Upstairs         7.0      5  \n",
       "/title/tt0120202/        State and Main         6.8      1  "
      ]
     },
     "execution_count": 52,
     "metadata": {},
     "output_type": "execute_result"
    }
   ],
   "source": [
    "data.head()"
   ]
  },
  {
   "cell_type": "code",
   "execution_count": 53,
   "metadata": {
    "collapsed": false
   },
   "outputs": [
    {
     "data": {
      "text/plain": [
       "English           3140\n",
       "French             191\n",
       "Spanish             75\n",
       "Mandarin            43\n",
       "German              36\n",
       "Italian             33\n",
       "Japanese            31\n",
       "Hindi               30\n",
       "Korean              20\n",
       "Swedish             15\n",
       "Persian             15\n",
       "Hebrew              14\n",
       "Portuguese          13\n",
       "Danish              12\n",
       "Cantonese           10\n",
       "Arabic              10\n",
       "Russian              9\n",
       "Norwegian            8\n",
       "Thai                 7\n",
       "Czech                6\n",
       "Dutch                5\n",
       "Romanian             4\n",
       "Hungarian            4\n",
       "Filipino             3\n",
       "Vietnamese           3\n",
       "Polish               3\n",
       "Icelandic            2\n",
       "Mongolian            2\n",
       "Dari                 2\n",
       "Finnish              2\n",
       "Turkish              2\n",
       "Georgian             2\n",
       "Bosnian              2\n",
       "Indonesian           2\n",
       "Kurdish              2\n",
       "Aboriginal           2\n",
       "Swiss German         1\n",
       "Sign Languages       1\n",
       "Bambara              1\n",
       "Albanian             1\n",
       "Maya                 1\n",
       "Armenian             1\n",
       "Saami                1\n",
       "Chechen              1\n",
       "Zulu                 1\n",
       "Kazakh               1\n",
       "Aramaic              1\n",
       "Neapolitan           1\n",
       "Greek                1\n",
       "Dzongkha             1\n",
       "Inuktitut            1\n",
       "Southern Sotho       1\n",
       "Catalan              1\n",
       "Estonian             1\n",
       "dtype: int64"
      ]
     },
     "execution_count": 53,
     "metadata": {},
     "output_type": "execute_result"
    }
   ],
   "source": [
    "data['language'].value_counts()"
   ]
  },
  {
   "cell_type": "code",
   "execution_count": 54,
   "metadata": {
    "collapsed": false
   },
   "outputs": [
    {
     "data": {
      "text/html": [
       "<div>\n",
       "<table border=\"1\" class=\"dataframe\">\n",
       "  <thead>\n",
       "    <tr style=\"text-align: right;\">\n",
       "      <th></th>\n",
       "      <th>Action</th>\n",
       "      <th>Adventure</th>\n",
       "      <th>Animation</th>\n",
       "      <th>Biography</th>\n",
       "      <th>Comedy</th>\n",
       "      <th>Crime</th>\n",
       "      <th>Drama</th>\n",
       "      <th>Family</th>\n",
       "      <th>Fantasy</th>\n",
       "      <th>History</th>\n",
       "      <th>Horror</th>\n",
       "      <th>Music</th>\n",
       "      <th>Musical</th>\n",
       "      <th>Mystery</th>\n",
       "      <th>Romance</th>\n",
       "      <th>Sci-Fi</th>\n",
       "      <th>Sport</th>\n",
       "      <th>Thriller</th>\n",
       "      <th>War</th>\n",
       "      <th>Western</th>\n",
       "    </tr>\n",
       "  </thead>\n",
       "  <tbody>\n",
       "    <tr>\n",
       "      <th>/title/tt0035423/</th>\n",
       "      <td>0</td>\n",
       "      <td>0</td>\n",
       "      <td>0</td>\n",
       "      <td>0</td>\n",
       "      <td>1</td>\n",
       "      <td>0</td>\n",
       "      <td>0</td>\n",
       "      <td>0</td>\n",
       "      <td>1</td>\n",
       "      <td>0</td>\n",
       "      <td>0</td>\n",
       "      <td>0</td>\n",
       "      <td>0</td>\n",
       "      <td>0</td>\n",
       "      <td>1</td>\n",
       "      <td>0</td>\n",
       "      <td>0</td>\n",
       "      <td>0</td>\n",
       "      <td>0</td>\n",
       "      <td>0</td>\n",
       "    </tr>\n",
       "    <tr>\n",
       "      <th>/title/tt0118589/</th>\n",
       "      <td>0</td>\n",
       "      <td>0</td>\n",
       "      <td>0</td>\n",
       "      <td>0</td>\n",
       "      <td>0</td>\n",
       "      <td>0</td>\n",
       "      <td>1</td>\n",
       "      <td>0</td>\n",
       "      <td>0</td>\n",
       "      <td>0</td>\n",
       "      <td>0</td>\n",
       "      <td>1</td>\n",
       "      <td>0</td>\n",
       "      <td>0</td>\n",
       "      <td>1</td>\n",
       "      <td>0</td>\n",
       "      <td>0</td>\n",
       "      <td>0</td>\n",
       "      <td>0</td>\n",
       "      <td>0</td>\n",
       "    </tr>\n",
       "    <tr>\n",
       "      <th>/title/tt0118694/</th>\n",
       "      <td>0</td>\n",
       "      <td>0</td>\n",
       "      <td>0</td>\n",
       "      <td>0</td>\n",
       "      <td>0</td>\n",
       "      <td>0</td>\n",
       "      <td>1</td>\n",
       "      <td>0</td>\n",
       "      <td>0</td>\n",
       "      <td>0</td>\n",
       "      <td>0</td>\n",
       "      <td>0</td>\n",
       "      <td>0</td>\n",
       "      <td>0</td>\n",
       "      <td>1</td>\n",
       "      <td>0</td>\n",
       "      <td>0</td>\n",
       "      <td>0</td>\n",
       "      <td>0</td>\n",
       "      <td>0</td>\n",
       "    </tr>\n",
       "    <tr>\n",
       "      <th>/title/tt0118926/</th>\n",
       "      <td>0</td>\n",
       "      <td>0</td>\n",
       "      <td>0</td>\n",
       "      <td>0</td>\n",
       "      <td>0</td>\n",
       "      <td>1</td>\n",
       "      <td>1</td>\n",
       "      <td>0</td>\n",
       "      <td>0</td>\n",
       "      <td>0</td>\n",
       "      <td>0</td>\n",
       "      <td>0</td>\n",
       "      <td>0</td>\n",
       "      <td>0</td>\n",
       "      <td>0</td>\n",
       "      <td>0</td>\n",
       "      <td>0</td>\n",
       "      <td>1</td>\n",
       "      <td>0</td>\n",
       "      <td>0</td>\n",
       "    </tr>\n",
       "    <tr>\n",
       "      <th>/title/tt0120202/</th>\n",
       "      <td>0</td>\n",
       "      <td>0</td>\n",
       "      <td>0</td>\n",
       "      <td>0</td>\n",
       "      <td>1</td>\n",
       "      <td>0</td>\n",
       "      <td>1</td>\n",
       "      <td>0</td>\n",
       "      <td>0</td>\n",
       "      <td>0</td>\n",
       "      <td>0</td>\n",
       "      <td>0</td>\n",
       "      <td>0</td>\n",
       "      <td>0</td>\n",
       "      <td>0</td>\n",
       "      <td>0</td>\n",
       "      <td>0</td>\n",
       "      <td>0</td>\n",
       "      <td>0</td>\n",
       "      <td>0</td>\n",
       "    </tr>\n",
       "    <tr>\n",
       "      <th>/title/tt0120667/</th>\n",
       "      <td>1</td>\n",
       "      <td>1</td>\n",
       "      <td>0</td>\n",
       "      <td>0</td>\n",
       "      <td>0</td>\n",
       "      <td>0</td>\n",
       "      <td>0</td>\n",
       "      <td>0</td>\n",
       "      <td>0</td>\n",
       "      <td>0</td>\n",
       "      <td>0</td>\n",
       "      <td>0</td>\n",
       "      <td>0</td>\n",
       "      <td>0</td>\n",
       "      <td>0</td>\n",
       "      <td>1</td>\n",
       "      <td>0</td>\n",
       "      <td>0</td>\n",
       "      <td>0</td>\n",
       "      <td>0</td>\n",
       "    </tr>\n",
       "    <tr>\n",
       "      <th>/title/tt0120679/</th>\n",
       "      <td>0</td>\n",
       "      <td>0</td>\n",
       "      <td>0</td>\n",
       "      <td>1</td>\n",
       "      <td>0</td>\n",
       "      <td>0</td>\n",
       "      <td>1</td>\n",
       "      <td>0</td>\n",
       "      <td>0</td>\n",
       "      <td>0</td>\n",
       "      <td>0</td>\n",
       "      <td>0</td>\n",
       "      <td>0</td>\n",
       "      <td>0</td>\n",
       "      <td>1</td>\n",
       "      <td>0</td>\n",
       "      <td>0</td>\n",
       "      <td>0</td>\n",
       "      <td>0</td>\n",
       "      <td>0</td>\n",
       "    </tr>\n",
       "    <tr>\n",
       "      <th>/title/tt0120737/</th>\n",
       "      <td>0</td>\n",
       "      <td>1</td>\n",
       "      <td>0</td>\n",
       "      <td>0</td>\n",
       "      <td>0</td>\n",
       "      <td>0</td>\n",
       "      <td>0</td>\n",
       "      <td>0</td>\n",
       "      <td>1</td>\n",
       "      <td>0</td>\n",
       "      <td>0</td>\n",
       "      <td>0</td>\n",
       "      <td>0</td>\n",
       "      <td>0</td>\n",
       "      <td>0</td>\n",
       "      <td>0</td>\n",
       "      <td>0</td>\n",
       "      <td>0</td>\n",
       "      <td>0</td>\n",
       "      <td>0</td>\n",
       "    </tr>\n",
       "    <tr>\n",
       "      <th>/title/tt0120753/</th>\n",
       "      <td>0</td>\n",
       "      <td>0</td>\n",
       "      <td>0</td>\n",
       "      <td>0</td>\n",
       "      <td>0</td>\n",
       "      <td>0</td>\n",
       "      <td>1</td>\n",
       "      <td>0</td>\n",
       "      <td>0</td>\n",
       "      <td>0</td>\n",
       "      <td>0</td>\n",
       "      <td>0</td>\n",
       "      <td>0</td>\n",
       "      <td>1</td>\n",
       "      <td>0</td>\n",
       "      <td>0</td>\n",
       "      <td>0</td>\n",
       "      <td>1</td>\n",
       "      <td>0</td>\n",
       "      <td>0</td>\n",
       "    </tr>\n",
       "    <tr>\n",
       "      <th>/title/tt0120804/</th>\n",
       "      <td>1</td>\n",
       "      <td>0</td>\n",
       "      <td>0</td>\n",
       "      <td>0</td>\n",
       "      <td>0</td>\n",
       "      <td>0</td>\n",
       "      <td>0</td>\n",
       "      <td>0</td>\n",
       "      <td>1</td>\n",
       "      <td>0</td>\n",
       "      <td>1</td>\n",
       "      <td>0</td>\n",
       "      <td>0</td>\n",
       "      <td>0</td>\n",
       "      <td>0</td>\n",
       "      <td>0</td>\n",
       "      <td>0</td>\n",
       "      <td>0</td>\n",
       "      <td>0</td>\n",
       "      <td>0</td>\n",
       "    </tr>\n",
       "  </tbody>\n",
       "</table>\n",
       "</div>"
      ],
      "text/plain": [
       "                   Action  Adventure  Animation  Biography  Comedy  Crime  \\\n",
       "/title/tt0035423/       0          0          0          0       1      0   \n",
       "/title/tt0118589/       0          0          0          0       0      0   \n",
       "/title/tt0118694/       0          0          0          0       0      0   \n",
       "/title/tt0118926/       0          0          0          0       0      1   \n",
       "/title/tt0120202/       0          0          0          0       1      0   \n",
       "/title/tt0120667/       1          1          0          0       0      0   \n",
       "/title/tt0120679/       0          0          0          1       0      0   \n",
       "/title/tt0120737/       0          1          0          0       0      0   \n",
       "/title/tt0120753/       0          0          0          0       0      0   \n",
       "/title/tt0120804/       1          0          0          0       0      0   \n",
       "\n",
       "                   Drama  Family  Fantasy  History  Horror  Music  Musical  \\\n",
       "/title/tt0035423/      0       0        1        0       0      0        0   \n",
       "/title/tt0118589/      1       0        0        0       0      1        0   \n",
       "/title/tt0118694/      1       0        0        0       0      0        0   \n",
       "/title/tt0118926/      1       0        0        0       0      0        0   \n",
       "/title/tt0120202/      1       0        0        0       0      0        0   \n",
       "/title/tt0120667/      0       0        0        0       0      0        0   \n",
       "/title/tt0120679/      1       0        0        0       0      0        0   \n",
       "/title/tt0120737/      0       0        1        0       0      0        0   \n",
       "/title/tt0120753/      1       0        0        0       0      0        0   \n",
       "/title/tt0120804/      0       0        1        0       1      0        0   \n",
       "\n",
       "                   Mystery  Romance  Sci-Fi  Sport  Thriller  War  Western  \n",
       "/title/tt0035423/        0        1       0      0         0    0        0  \n",
       "/title/tt0118589/        0        1       0      0         0    0        0  \n",
       "/title/tt0118694/        0        1       0      0         0    0        0  \n",
       "/title/tt0118926/        0        0       0      0         1    0        0  \n",
       "/title/tt0120202/        0        0       0      0         0    0        0  \n",
       "/title/tt0120667/        0        0       1      0         0    0        0  \n",
       "/title/tt0120679/        0        1       0      0         0    0        0  \n",
       "/title/tt0120737/        0        0       0      0         0    0        0  \n",
       "/title/tt0120753/        1        0       0      0         1    0        0  \n",
       "/title/tt0120804/        0        0       0      0         0    0        0  "
      ]
     },
     "execution_count": 54,
     "metadata": {},
     "output_type": "execute_result"
    }
   ],
   "source": [
    "df = data['genres'].str.get_dummies(sep='_')\n",
    "df.head(10)"
   ]
  },
  {
   "cell_type": "code",
   "execution_count": 55,
   "metadata": {
    "collapsed": true
   },
   "outputs": [],
   "source": [
    "data = data.join(df)"
   ]
  },
  {
   "cell_type": "code",
   "execution_count": 59,
   "metadata": {
    "collapsed": false
   },
   "outputs": [
    {
     "data": {
      "text/html": [
       "<div>\n",
       "<table border=\"1\" class=\"dataframe\">\n",
       "  <thead>\n",
       "    <tr style=\"text-align: right;\">\n",
       "      <th></th>\n",
       "      <th>country</th>\n",
       "      <th>director</th>\n",
       "      <th>duration</th>\n",
       "      <th>gross</th>\n",
       "      <th>language</th>\n",
       "      <th>lead</th>\n",
       "      <th>metacritic</th>\n",
       "      <th>num_reviews</th>\n",
       "      <th>num_users</th>\n",
       "      <th>opening</th>\n",
       "      <th>...</th>\n",
       "      <th>Horror</th>\n",
       "      <th>Music</th>\n",
       "      <th>Musical</th>\n",
       "      <th>Mystery</th>\n",
       "      <th>Romance</th>\n",
       "      <th>Sci-Fi</th>\n",
       "      <th>Sport</th>\n",
       "      <th>Thriller</th>\n",
       "      <th>War</th>\n",
       "      <th>Western</th>\n",
       "    </tr>\n",
       "  </thead>\n",
       "  <tbody>\n",
       "    <tr>\n",
       "      <th>/title/tt0035423/</th>\n",
       "      <td>USA</td>\n",
       "      <td>James Mangold</td>\n",
       "      <td>118</td>\n",
       "      <td>47095453</td>\n",
       "      <td>English</td>\n",
       "      <td>Meg Ryan</td>\n",
       "      <td>44</td>\n",
       "      <td>311</td>\n",
       "      <td>59283</td>\n",
       "      <td>2562448.0</td>\n",
       "      <td>...</td>\n",
       "      <td>0</td>\n",
       "      <td>0</td>\n",
       "      <td>0</td>\n",
       "      <td>0</td>\n",
       "      <td>1</td>\n",
       "      <td>0</td>\n",
       "      <td>0</td>\n",
       "      <td>0</td>\n",
       "      <td>0</td>\n",
       "      <td>0</td>\n",
       "    </tr>\n",
       "    <tr>\n",
       "      <th>/title/tt0118589/</th>\n",
       "      <td>USA</td>\n",
       "      <td>Vondie Curtis-Hall</td>\n",
       "      <td>104</td>\n",
       "      <td>4273372</td>\n",
       "      <td>English</td>\n",
       "      <td>Mariah Carey</td>\n",
       "      <td>14</td>\n",
       "      <td>305</td>\n",
       "      <td>18755</td>\n",
       "      <td>2414596.0</td>\n",
       "      <td>...</td>\n",
       "      <td>0</td>\n",
       "      <td>1</td>\n",
       "      <td>0</td>\n",
       "      <td>0</td>\n",
       "      <td>1</td>\n",
       "      <td>0</td>\n",
       "      <td>0</td>\n",
       "      <td>0</td>\n",
       "      <td>0</td>\n",
       "      <td>0</td>\n",
       "    </tr>\n",
       "    <tr>\n",
       "      <th>/title/tt0118694/</th>\n",
       "      <td>Hong Kong</td>\n",
       "      <td>Kar Wai Wong</td>\n",
       "      <td>98</td>\n",
       "      <td>2734044</td>\n",
       "      <td>Cantonese</td>\n",
       "      <td>Tony Chiu Wai Leung</td>\n",
       "      <td>85</td>\n",
       "      <td>342</td>\n",
       "      <td>66416</td>\n",
       "      <td>138340.5</td>\n",
       "      <td>...</td>\n",
       "      <td>0</td>\n",
       "      <td>0</td>\n",
       "      <td>0</td>\n",
       "      <td>0</td>\n",
       "      <td>1</td>\n",
       "      <td>0</td>\n",
       "      <td>0</td>\n",
       "      <td>0</td>\n",
       "      <td>0</td>\n",
       "      <td>0</td>\n",
       "    </tr>\n",
       "    <tr>\n",
       "      <th>/title/tt0118926/</th>\n",
       "      <td>Spain</td>\n",
       "      <td>John Malkovich</td>\n",
       "      <td>132</td>\n",
       "      <td>2377348</td>\n",
       "      <td>English</td>\n",
       "      <td>Javier Bardem</td>\n",
       "      <td>64</td>\n",
       "      <td>71</td>\n",
       "      <td>5333</td>\n",
       "      <td>92433.0</td>\n",
       "      <td>...</td>\n",
       "      <td>0</td>\n",
       "      <td>0</td>\n",
       "      <td>0</td>\n",
       "      <td>0</td>\n",
       "      <td>0</td>\n",
       "      <td>0</td>\n",
       "      <td>0</td>\n",
       "      <td>1</td>\n",
       "      <td>0</td>\n",
       "      <td>0</td>\n",
       "    </tr>\n",
       "    <tr>\n",
       "      <th>/title/tt0120202/</th>\n",
       "      <td>France</td>\n",
       "      <td>David Mamet</td>\n",
       "      <td>105</td>\n",
       "      <td>6920692</td>\n",
       "      <td>English</td>\n",
       "      <td>Philip Seymour Hoffman</td>\n",
       "      <td>75</td>\n",
       "      <td>169</td>\n",
       "      <td>17670</td>\n",
       "      <td>580163.0</td>\n",
       "      <td>...</td>\n",
       "      <td>0</td>\n",
       "      <td>0</td>\n",
       "      <td>0</td>\n",
       "      <td>0</td>\n",
       "      <td>0</td>\n",
       "      <td>0</td>\n",
       "      <td>0</td>\n",
       "      <td>0</td>\n",
       "      <td>0</td>\n",
       "      <td>0</td>\n",
       "    </tr>\n",
       "  </tbody>\n",
       "</table>\n",
       "<p>5 rows × 36 columns</p>\n",
       "</div>"
      ],
      "text/plain": [
       "                     country            director  duration     gross  \\\n",
       "/title/tt0035423/        USA       James Mangold       118  47095453   \n",
       "/title/tt0118589/        USA  Vondie Curtis-Hall       104   4273372   \n",
       "/title/tt0118694/  Hong Kong        Kar Wai Wong        98   2734044   \n",
       "/title/tt0118926/      Spain      John Malkovich       132   2377348   \n",
       "/title/tt0120202/     France         David Mamet       105   6920692   \n",
       "\n",
       "                    language                    lead  metacritic num_reviews  \\\n",
       "/title/tt0035423/    English                Meg Ryan          44         311   \n",
       "/title/tt0118589/    English            Mariah Carey          14         305   \n",
       "/title/tt0118694/  Cantonese     Tony Chiu Wai Leung          85         342   \n",
       "/title/tt0118926/    English           Javier Bardem          64          71   \n",
       "/title/tt0120202/    English  Philip Seymour Hoffman          75         169   \n",
       "\n",
       "                   num_users    opening   ...    Horror Music Musical Mystery  \\\n",
       "/title/tt0035423/      59283  2562448.0   ...         0     0       0       0   \n",
       "/title/tt0118589/      18755  2414596.0   ...         0     1       0       0   \n",
       "/title/tt0118694/      66416   138340.5   ...         0     0       0       0   \n",
       "/title/tt0118926/       5333    92433.0   ...         0     0       0       0   \n",
       "/title/tt0120202/      17670   580163.0   ...         0     0       0       0   \n",
       "\n",
       "                   Romance  Sci-Fi  Sport  Thriller  War  Western  \n",
       "/title/tt0035423/        1       0      0         0    0        0  \n",
       "/title/tt0118589/        1       0      0         0    0        0  \n",
       "/title/tt0118694/        1       0      0         0    0        0  \n",
       "/title/tt0118926/        0       0      0         1    0        0  \n",
       "/title/tt0120202/        0       0      0         0    0        0  \n",
       "\n",
       "[5 rows x 36 columns]"
      ]
     },
     "execution_count": 59,
     "metadata": {},
     "output_type": "execute_result"
    }
   ],
   "source": [
    "data.head()"
   ]
  },
  {
   "cell_type": "code",
   "execution_count": 57,
   "metadata": {
    "collapsed": true
   },
   "outputs": [],
   "source": [
    "data = data.drop('genres', axis=1)"
   ]
  },
  {
   "cell_type": "code",
   "execution_count": 58,
   "metadata": {
    "collapsed": true
   },
   "outputs": [],
   "source": [
    "data['num_users'] = data['num_users'].map(lambda x: int(x.replace(',', '')))"
   ]
  },
  {
   "cell_type": "code",
   "execution_count": 61,
   "metadata": {
    "collapsed": true
   },
   "outputs": [],
   "source": [
    "data['num_reviews'] = data['num_reviews'].map(lambda x: int(x.replace(',', '')))"
   ]
  },
  {
   "cell_type": "code",
   "execution_count": 62,
   "metadata": {
    "collapsed": true
   },
   "outputs": [],
   "source": [
    "with open('movie_data_02.pkl', 'w') as picklefile:\n",
    "    pickle.dump(data, picklefile)"
   ]
  },
  {
   "cell_type": "code",
   "execution_count": null,
   "metadata": {
    "collapsed": false
   },
   "outputs": [],
   "source": []
  },
  {
   "cell_type": "code",
   "execution_count": null,
   "metadata": {
    "collapsed": true
   },
   "outputs": [],
   "source": []
  }
 ],
 "metadata": {
  "kernelspec": {
   "display_name": "Python 2",
   "language": "python",
   "name": "python2"
  },
  "language_info": {
   "codemirror_mode": {
    "name": "ipython",
    "version": 2
   },
   "file_extension": ".py",
   "mimetype": "text/x-python",
   "name": "python",
   "nbconvert_exporter": "python",
   "pygments_lexer": "ipython2",
   "version": "2.7.10"
  }
 },
 "nbformat": 4,
 "nbformat_minor": 0
}
